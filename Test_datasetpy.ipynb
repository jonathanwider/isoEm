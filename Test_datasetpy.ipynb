{
 "cells": [
  {
   "cell_type": "code",
   "execution_count": 1,
   "id": "8ebb889d",
   "metadata": {},
   "outputs": [],
   "source": [
    "# test dataset creation functions."
   ]
  },
  {
   "cell_type": "code",
   "execution_count": 1,
   "id": "d18035a4",
   "metadata": {},
   "outputs": [],
   "source": [
    "from datasets import *"
   ]
  },
  {
   "cell_type": "markdown",
   "id": "018d2290",
   "metadata": {},
   "source": [
    "# Create precip weighted dataset"
   ]
  },
  {
   "cell_type": "code",
   "execution_count": 2,
   "id": "9c24e2ed",
   "metadata": {},
   "outputs": [],
   "source": [
    "base_folder = \"Datasets\"\n",
    "output_folder = \"Output/\"\n",
    "\n",
    "description = {}\n",
    "\n",
    "description[\"DATASETS_USED\"] = [\"isotopes\", \n",
    "                                \"tsurf\", \n",
    "                                \"prec\"]\n",
    "\n",
    "description[\"PREDICTOR_VARIABLES\"] = {\"tsurf\": [\"tsurf\"],\n",
    "                                      \"prec\": [\"prec\"]}\n",
    "\n",
    "description[\"TARGET_VARIABLES\"] = {\"isotopes\": [\"d18O\"]}\n",
    "\n",
    "description[\"DATASETS_NO_GAPS\"] = [\"isotopes\", \n",
    "                                   \"tsurf\", \n",
    "                                   \"prec\", \n",
    "                                   \"slp\"]\n",
    "\n",
    "description[\"CLIMATE_MODEL\"] = \"iHadCM3\"\n",
    "description[\"GRID_TYPE\"] = \"Flat\"\n",
    "\n",
    "description[\"START_YEAR\"] = 850\n",
    "description[\"END_YEAR\"] = 1850\n",
    "description[\"LATITUDES_SLICE\"] = [1,-1]\n",
    "\n",
    "description[\"TEST_FRACTION\"] = 0.1\n",
    "description[\"DO_SHUFFLE\"] = False\n",
    "description[\"PRECIP_WEIGHTING\"] = True\n",
    "\n",
    "\n",
    "description[\"TIMESCALE\"] = \"YEARLY\""
   ]
  },
  {
   "cell_type": "code",
   "execution_count": 3,
   "id": "42bec90b",
   "metadata": {
    "scrolled": true
   },
   "outputs": [
    {
     "name": "stdout",
     "output_type": "stream",
     "text": [
      "loading variables\n",
      "<class 'numpy.ndarray'>\n",
      "[[[255.59442937 255.79211294 256.04323453 ... 255.73234555 255.57750095\n",
      "   255.44744868]\n",
      "  [257.42848132 257.67195761 257.81079129 ... 257.42825099 257.0696142\n",
      "   257.12159663]\n",
      "  [259.63124018 261.45520849 261.81820364 ... 257.45569485 257.64225941\n",
      "   258.57005659]\n",
      "  ...\n",
      "  [  3.65416972   3.60684598   3.67096424 ...   5.10680472   4.27090768\n",
      "     3.83490616]\n",
      "  [  2.90607263   2.55909791   2.40761043 ...   4.14451261   3.67233291\n",
      "     3.24862759]\n",
      "  [  2.47389888   2.36554042   2.26726948 ...   2.68620003   2.54943953\n",
      "     2.49279515]]\n",
      "\n",
      " [[254.53524458 254.50213704 254.55649744 ... 254.66126037 254.60173288\n",
      "   254.56945482]\n",
      "  [258.10614293 258.17947051 258.25549025 ... 257.14082485 257.11623704\n",
      "   257.6593984 ]\n",
      "  [263.40492295 264.60228208 264.7929061  ... 260.08330095 260.89219784\n",
      "   262.22960981]\n",
      "  ...\n",
      "  [  3.35653875   3.36168351   3.52868653 ...   5.39233257   4.28932433\n",
      "     3.58708171]\n",
      "  [  3.1888782    2.90338117   2.7760283  ...   4.23068375   3.83474949\n",
      "     3.45967654]\n",
      "  [  2.5800679    2.46164926   2.3852348  ...   2.70229997   2.55989135\n",
      "     2.53461004]]\n",
      "\n",
      " [[263.36058647 263.42850414 263.62656287 ... 262.98037644 263.08339194\n",
      "   263.26400795]\n",
      "  [264.38221955 264.33367978 264.2970167  ... 263.97605566 264.38398581\n",
      "   264.67628569]\n",
      "  [266.96983483 267.73647279 267.00310169 ... 262.23498257 263.1167946\n",
      "   264.48703405]\n",
      "  ...\n",
      "  [  3.76367808   3.4959536    3.47043168 ...   6.68383135   5.20661569\n",
      "     4.25392313]\n",
      "  [  3.02050346   2.63450239   2.51303281 ...   4.3961092    3.87781991\n",
      "     3.41253854]\n",
      "  [  2.20786463   2.12814448   2.04243525 ...   2.3232565    2.20934424\n",
      "     2.18656445]]\n",
      "\n",
      " ...\n",
      "\n",
      " [[257.69060824 257.76006341 257.65582747 ... 257.38450251 257.23707856\n",
      "   257.43399588]\n",
      "  [260.52144505 260.22770083 259.67095647 ... 259.44986249 260.32697311\n",
      "   260.56426758]\n",
      "  [264.7937561  264.8257591  263.40291837 ... 256.71515662 258.79454868\n",
      "   261.94731123]\n",
      "  ...\n",
      "  [  3.78716625   3.92472897   4.11076268 ...   5.30208141   4.48827244\n",
      "     3.92052654]\n",
      "  [  3.14920251   2.81913602   2.70416627 ...   4.39548988   3.90580389\n",
      "     3.45919181]\n",
      "  [  2.67315414   2.59754848   2.51363976 ...   2.74962956   2.61507404\n",
      "     2.61290774]]\n",
      "\n",
      " [[258.8566349  258.82105838 258.74664594 ... 258.59932811 258.66035081\n",
      "   258.72806033]\n",
      "  [260.12731325 260.54744667 260.6484802  ... 258.1232503  258.95343016\n",
      "   259.34514959]\n",
      "  [263.10089936 264.07826985 264.32218443 ... 257.53997693 259.43020293\n",
      "   260.15631545]\n",
      "  ...\n",
      "  [  2.88602559   3.04475673   3.27523897 ...   4.37385567   3.47093419\n",
      "     2.98577904]\n",
      "  [  2.70964561   2.37623706   2.31221961 ...   3.71904103   3.3612945\n",
      "     2.98001407]\n",
      "  [  2.11769636   2.03110044   1.96839331 ...   2.2189359    2.09458338\n",
      "     2.09911509]]\n",
      "\n",
      " [[261.43311831 261.43594403 261.44398019 ... 261.26353484 261.36872639\n",
      "   261.51073548]\n",
      "  [261.02377791 260.92569914 260.85250261 ... 259.93087702 260.5815018\n",
      "   260.94432372]\n",
      "  [263.68994647 263.43761044 262.74470012 ... 257.07994266 260.32898084\n",
      "   263.24929208]\n",
      "  ...\n",
      "  [  2.73031833   2.78085462   2.97391912 ...   3.90064581   3.20266227\n",
      "     2.82719483]\n",
      "  [  2.27192773   2.05963161   2.01306553 ...   2.97038011   2.71402407\n",
      "     2.44751785]\n",
      "  [  1.6729582    1.62502552   1.58026493 ...   1.7406645    1.64803768\n",
      "     1.64486285]]]\n",
      "<class 'numpy.ndarray'>\n",
      "[[[-15.59596781 -15.37241984 -15.08829436 ... -14.79379922 -15.06103164\n",
      "   -15.74050429]\n",
      "  [-14.30920559 -14.18990179 -14.07908572 ... -14.47062513 -14.49464348\n",
      "   -14.45915675]\n",
      "  [-12.97720223 -12.57017696 -12.39059874 ... -14.51053449 -14.07233075\n",
      "   -13.34883641]\n",
      "  ...\n",
      "  [-53.36803567 -55.00008106 -56.60637167 ... -51.87858685 -52.71964632\n",
      "   -52.93949563]\n",
      "  [-57.93408147 -59.09678245 -60.33742568 ... -55.68017121 -56.3888475\n",
      "   -57.04122605]\n",
      "  [-59.51693233 -60.13604775 -60.83649677 ... -59.03899003 -58.90243879\n",
      "   -59.02559889]]\n",
      "\n",
      " [[-15.26244117 -15.16352215 -15.08391835 ... -14.70038231 -14.88706094\n",
      "   -15.08753047]\n",
      "  [-12.60811566 -12.44677645 -12.15491749 ... -13.30369143 -13.10003279\n",
      "   -12.81987708]\n",
      "  [-11.62241397 -11.15213549 -10.88550145 ... -12.68581975 -12.25621527\n",
      "   -11.90487499]\n",
      "  ...\n",
      "  [-48.54096852 -50.03231333 -51.46020082 ... -46.67110764 -47.36132309\n",
      "   -47.83315555]\n",
      "  [-51.40897003 -52.27290092 -53.70132546 ... -50.24035624 -50.47175756\n",
      "   -50.70216462]\n",
      "  [-53.74301622 -54.20641509 -54.90925476 ... -53.20681423 -53.3279801\n",
      "   -53.45111447]]\n",
      "\n",
      " [[-13.26934031 -13.43038114 -13.14332666 ... -12.64992698 -13.12333278\n",
      "   -13.01073949]\n",
      "  [-12.86602926 -12.84915235 -12.31754625 ... -12.86207577 -12.47317001\n",
      "   -12.68592971]\n",
      "  [-11.48219898 -10.89642971 -11.03274405 ... -13.14159476 -12.52473511\n",
      "   -12.42797997]\n",
      "  ...\n",
      "  [-51.46776509 -53.67212121 -55.3902199  ... -48.5156191  -49.52571351\n",
      "   -50.32829167]\n",
      "  [-54.89036639 -56.57443837 -58.26021214 ... -51.73262585 -52.5701505\n",
      "   -53.61199933]\n",
      "  [-57.31235025 -58.21733251 -59.3851647  ... -55.98915495 -56.11940578\n",
      "   -56.592953  ]]\n",
      "\n",
      " ...\n",
      "\n",
      " [[-15.54627911 -15.34018999 -15.42326746 ... -15.45854891 -15.75103246\n",
      "   -15.59805455]\n",
      "  [-13.76668836 -13.65311161 -13.79358042 ... -14.11537613 -13.73994261\n",
      "   -13.87925809]\n",
      "  [-11.74323563 -11.16318939 -10.98618381 ... -13.36424492 -12.99587573\n",
      "   -12.5160151 ]\n",
      "  ...\n",
      "  [-49.81459207 -51.29453772 -53.13255398 ... -49.50402724 -49.77335679\n",
      "   -49.42025188]\n",
      "  [-52.64988002 -53.15032142 -53.82137659 ... -52.69870839 -52.61554749\n",
      "   -52.57770467]\n",
      "  [-55.64038102 -55.83302338 -55.99501696 ... -55.87361669 -55.57283834\n",
      "   -55.57664747]]\n",
      "\n",
      " [[-14.23820362 -14.19923987 -14.23679263 ... -13.71784066 -13.75633419\n",
      "   -14.05964943]\n",
      "  [-12.88703961 -12.64164026 -12.62540804 ... -13.66840901 -13.2664165\n",
      "   -13.32840066]\n",
      "  [-11.52610322 -11.27687259 -11.17598583 ... -12.72429718 -12.26974908\n",
      "   -12.14410096]\n",
      "  ...\n",
      "  [-52.42937643 -53.52837452 -54.95403207 ... -51.81455922 -52.14435059\n",
      "   -51.92770724]\n",
      "  [-55.86997588 -57.60472665 -59.23903992 ... -53.73179369 -54.62416246\n",
      "   -55.35081677]\n",
      "  [-60.80025218 -61.49243256 -62.48004249 ... -58.97306987 -59.48648864\n",
      "   -60.29801662]]\n",
      "\n",
      " [[-15.61038953 -15.54958538 -15.32444173 ... -14.83960462 -15.20641209\n",
      "   -15.24975151]\n",
      "  [-14.01678813 -14.06044809 -14.14192667 ... -15.5023838  -14.40640558\n",
      "   -14.22965204]\n",
      "  [-12.20187455 -12.44979784 -12.66415654 ... -14.76458348 -13.26135182\n",
      "   -12.56011298]\n",
      "  ...\n",
      "  [-49.53174566 -51.71622528 -54.17532611 ... -48.72806245 -49.07741201\n",
      "   -48.90378677]\n",
      "  [-57.38916776 -58.87024473 -60.27157695 ... -54.56539314 -55.57966015\n",
      "   -56.49309   ]\n",
      "  [-57.38131301 -57.71417065 -58.54262215 ... -57.47166915 -57.60033194\n",
      "   -57.3972089 ]]]\n",
      "<class 'numpy.ndarray'>\n",
      "[  0   1   2   3   4   5   6   7   8   9  10  11  12  13  14  15  16  17\n",
      "  18  19  20  21  22  23  24  25  26  27  28  29  30  31  32  33  34  35\n",
      "  36  37  38  39  40  41  42  43  44  45  46  47  48  49  50  51  52  53\n",
      "  54  55  56  57  58  59  60  61  62  63  64  65  66  67  68  69  70  71\n",
      "  72  73  74  75  76  77  78  79  80  81  82  83  84  85  86  87  88  89\n",
      "  90  91  92  93  94  95  96  97  98  99 100 101 102 103 104 105 106 107\n",
      " 108 109 110 111 112 113 114 115 116 117 118 119 120 121 122 123 124 125\n",
      " 126 127 128 129 130 131 132 133 134 135 136 137 138 139 140 141 142 143\n",
      " 144 145 146 147 148 149 150 151 152 153 154 155 156 157 158 159 160 161\n",
      " 162 163 164 165 166 167 168 169 170 171 172 173 174 175 176 177 178 179\n",
      " 180 181 182 183 184 185 186 187 188 189 190 191 192 193 194 195 196 197\n",
      " 198 199 200 201 202 203 204 205 206 207 208 209 210 211 212 213 214 215\n",
      " 216 217 218 219 220 221 222 223 224 225 226 227 228 229 230 231 232 233\n",
      " 234 235 236 237 238 239 240 241 242 243 244 245 246 247 248 249 250 251\n",
      " 252 253 254 255 256 257 258 259 260 261 262 263 264 265 266 267 268 269\n",
      " 270 271 272 273 274 275 276 277 278 279 280 281 282 283 284 285 286 287\n",
      " 288 289 290 291 292 293 294 295 296 297 298 299 300 301 302 303 304 305\n",
      " 306 307 308 309 310 311 312 313 314 315 316 317 318 319 320 321 322 323\n",
      " 324 325 326 327 328 329 330 331 332 333 334 335 336 337 338 339 340 341\n",
      " 342 343 344 345 346 347 348 349 350 351 352 353 354 355 356 357 358 359\n",
      " 360 361 362 363 364 365 366 367 368 369 370 371 372 373 374 375 376 377\n",
      " 378 379 380 381 382 383 384 385 386 387 388 389 390 391 392 393 394 395\n",
      " 396 397 398 399 400 401 402 403 404 405 406 407 408 409 410 411 412 413\n",
      " 414 415 416 417 418 419 420 421 422 423 424 425 426 427 428 429 430 431\n",
      " 432 433 434 435 436 437 438 439 440 441 442 443 444 445 446 447 448 449\n",
      " 450 451 452 453 454 455 456 457 458 459 460 461 462 463 464 465 466 467\n",
      " 468 469 470 471 472 473 474 475 476 477 478 479 480 481 482 483 484 485\n",
      " 486 487 488 489 490 491 492 493 494 495 496 497 498 499 500 501 502 503\n",
      " 504 505 506 507 508 509 510 511 512 513 514 515 516 517 518 519 520 521\n",
      " 522 523 524 525 526 527 528 529 530 531 532 533 534 535 536 537 538 539\n",
      " 540 541 542 543 544 545 546 547 548 549 550 551 552 553 554 555 556 557\n",
      " 558 559 560 561 562 563 564 565 566 567 568 569 570 571 572 573 574 575\n",
      " 576 577 578 579 580 581 582 583 584 585 586 587 588 589 590 591 592 593\n",
      " 594 595 596 597 598 599 600 601 602 603 604 605 606 607 608 609 610 611\n",
      " 612 613 614 615 616 617 618 619 620 621 622 623 624 625 626 627 628 629\n",
      " 630 631 632 633 634 635 636 637 638 639 640 641 642 643 644 645 646 647\n",
      " 648 649 650 651 652 653 654 655 656 657 658 659 660 661 662 663 664 665\n",
      " 666 667 668 669 670 671 672 673 674 675 676 677 678 679 680 681 682 683\n",
      " 684 685 686 687 688 689 690 691 692 693 694 695 696 697 698 699 700 701\n",
      " 702 703 704 705 706 707 708 709 710 711 712 713 714 715 716 717 718 719\n",
      " 720 721 722 723 724 725 726 727 728 729 730 731 732 733 734 735 736 737\n",
      " 738 739 740 741 742 743 744 745 746 747 748 749 750 751 752 753 754 755\n",
      " 756 757 758 759 760 761 762 763 764 765 766 767 768 769 770 771 772 773\n",
      " 774 775 776 777 778 779 780 781 782 783 784 785 786 787 788 789 790 791\n",
      " 792 793 794 795 796 797 798 799 800 801 802 803 804 805 806 807 808 809\n",
      " 810 811 812 813 814 815 816 817 818 819 820 821 822 823 824 825 826 827\n",
      " 828 829 830 831 832 833 834 835 836 837 838 839 840 841 842 843 844 845\n",
      " 846 847 848 849 850 851 852 853 854 855 856 857 858 859 860 861 862 863\n",
      " 864 865 866 867 868 869 870 871 872 873 874 875 876 877 878 879 880 881\n",
      " 882 883 884 885 886 887 888 889 890 891 892 893 894 895 896 897 898 899\n",
      " 900 901 902 903 904 905 906 907 908 909 910 911 912 913 914 915 916 917\n",
      " 918 919 920 921 922 923 924 925 926 927 928 929 930 931 932 933 934 935\n",
      " 936 937 938 939 940 941 942 943 944 945 946 947 948 949 950 951 952 953\n",
      " 954 955 956 957 958 959 960 961 962 963 964 965 966 967 968 969 970 971\n",
      " 972 973 974 975 976 977 978 979 980 981 982 983 984 985 986 987 988 989\n",
      " 990 991 992 993 994 995 996 997 998]\n",
      "<class 'numpy.ndarray'>\n",
      "[ 851.  852.  853.  854.  855.  856.  857.  858.  859.  860.  861.  862.\n",
      "  863.  864.  865.  866.  867.  868.  869.  870.  871.  872.  873.  874.\n",
      "  875.  876.  877.  878.  879.  880.  881.  882.  883.  884.  885.  886.\n",
      "  887.  888.  889.  890.  891.  892.  893.  894.  895.  896.  897.  898.\n",
      "  899.  900.  901.  902.  903.  904.  905.  906.  907.  908.  909.  910.\n",
      "  911.  912.  913.  914.  915.  916.  917.  918.  919.  920.  921.  922.\n",
      "  923.  924.  925.  926.  927.  928.  929.  930.  931.  932.  933.  934.\n",
      "  935.  936.  937.  938.  939.  940.  941.  942.  943.  944.  945.  946.\n",
      "  947.  948.  949.  950.  951.  952.  953.  954.  955.  956.  957.  958.\n",
      "  959.  960.  961.  962.  963.  964.  965.  966.  967.  968.  969.  970.\n",
      "  971.  972.  973.  974.  975.  976.  977.  978.  979.  980.  981.  982.\n",
      "  983.  984.  985.  986.  987.  988.  989.  990.  991.  992.  993.  994.\n",
      "  995.  996.  997.  998.  999. 1000. 1001. 1002. 1003. 1004. 1005. 1006.\n",
      " 1007. 1008. 1009. 1010. 1011. 1012. 1013. 1014. 1015. 1016. 1017. 1018.\n",
      " 1019. 1020. 1021. 1022. 1023. 1024. 1025. 1026. 1027. 1028. 1029. 1030.\n",
      " 1031. 1032. 1033. 1034. 1035. 1036. 1037. 1038. 1039. 1040. 1041. 1042.\n",
      " 1043. 1044. 1045. 1046. 1047. 1048. 1049. 1050. 1051. 1052. 1053. 1054.\n",
      " 1055. 1056. 1057. 1058. 1059. 1060. 1061. 1062. 1063. 1064. 1065. 1066.\n",
      " 1067. 1068. 1069. 1070. 1071. 1072. 1073. 1074. 1075. 1076. 1077. 1078.\n",
      " 1079. 1080. 1081. 1082. 1083. 1084. 1085. 1086. 1087. 1088. 1089. 1090.\n",
      " 1091. 1092. 1093. 1094. 1095. 1096. 1097. 1098. 1099. 1100. 1101. 1102.\n",
      " 1103. 1104. 1105. 1106. 1107. 1108. 1109. 1110. 1111. 1112. 1113. 1114.\n",
      " 1115. 1116. 1117. 1118. 1119. 1120. 1121. 1122. 1123. 1124. 1125. 1126.\n",
      " 1127. 1128. 1129. 1130. 1131. 1132. 1133. 1134. 1135. 1136. 1137. 1138.\n",
      " 1139. 1140. 1141. 1142. 1143. 1144. 1145. 1146. 1147. 1148. 1149. 1150.\n",
      " 1151. 1152. 1153. 1154. 1155. 1156. 1157. 1158. 1159. 1160. 1161. 1162.\n",
      " 1163. 1164. 1165. 1166. 1167. 1168. 1169. 1170. 1171. 1172. 1173. 1174.\n",
      " 1175. 1176. 1177. 1178. 1179. 1180. 1181. 1182. 1183. 1184. 1185. 1186.\n",
      " 1187. 1188. 1189. 1190. 1191. 1192. 1193. 1194. 1195. 1196. 1197. 1198.\n",
      " 1199. 1200. 1201. 1202. 1203. 1204. 1205. 1206. 1207. 1208. 1209. 1210.\n",
      " 1211. 1212. 1213. 1214. 1215. 1216. 1217. 1218. 1219. 1220. 1221. 1222.\n",
      " 1223. 1224. 1225. 1226. 1227. 1228. 1229. 1230. 1231. 1232. 1233. 1234.\n",
      " 1235. 1236. 1237. 1238. 1239. 1240. 1241. 1242. 1243. 1244. 1245. 1246.\n",
      " 1247. 1248. 1249. 1250. 1251. 1252. 1253. 1254. 1255. 1256. 1257. 1258.\n",
      " 1259. 1260. 1261. 1262. 1263. 1264. 1265. 1266. 1267. 1268. 1269. 1270.\n",
      " 1271. 1272. 1273. 1274. 1275. 1276. 1277. 1278. 1279. 1280. 1281. 1282.\n",
      " 1283. 1284. 1285. 1286. 1287. 1288. 1289. 1290. 1291. 1292. 1293. 1294.\n",
      " 1295. 1296. 1297. 1298. 1299. 1300. 1301. 1302. 1303. 1304. 1305. 1306.\n",
      " 1307. 1308. 1309. 1310. 1311. 1312. 1313. 1314. 1315. 1316. 1317. 1318.\n",
      " 1319. 1320. 1321. 1322. 1323. 1324. 1325. 1326. 1327. 1328. 1329. 1330.\n",
      " 1331. 1332. 1333. 1334. 1335. 1336. 1337. 1338. 1339. 1340. 1341. 1342.\n",
      " 1343. 1344. 1345. 1346. 1347. 1348. 1349. 1350. 1351. 1352. 1353. 1354.\n",
      " 1355. 1356. 1357. 1358. 1359. 1360. 1361. 1362. 1363. 1364. 1365. 1366.\n",
      " 1367. 1368. 1369. 1370. 1371. 1372. 1373. 1374. 1375. 1376. 1377. 1378.\n",
      " 1379. 1380. 1381. 1382. 1383. 1384. 1385. 1386. 1387. 1388. 1389. 1390.\n",
      " 1391. 1392. 1393. 1394. 1395. 1396. 1397. 1398. 1399. 1400. 1401. 1402.\n",
      " 1403. 1404. 1405. 1406. 1407. 1408. 1409. 1410. 1411. 1412. 1413. 1414.\n",
      " 1415. 1416. 1417. 1418. 1419. 1420. 1421. 1422. 1423. 1424. 1425. 1426.\n",
      " 1427. 1428. 1429. 1430. 1431. 1432. 1433. 1434. 1435. 1436. 1437. 1438.\n",
      " 1439. 1440. 1441. 1442. 1443. 1444. 1445. 1446. 1447. 1448. 1449. 1450.\n",
      " 1451. 1452. 1453. 1454. 1455. 1456. 1457. 1458. 1459. 1460. 1461. 1462.\n",
      " 1463. 1464. 1465. 1466. 1467. 1468. 1469. 1470. 1471. 1472. 1473. 1474.\n",
      " 1475. 1476. 1477. 1478. 1479. 1480. 1481. 1482. 1483. 1484. 1485. 1486.\n",
      " 1487. 1488. 1489. 1490. 1491. 1492. 1493. 1494. 1495. 1496. 1497. 1498.\n",
      " 1499. 1500. 1501. 1502. 1503. 1504. 1505. 1506. 1507. 1508. 1509. 1510.\n",
      " 1511. 1512. 1513. 1514. 1515. 1516. 1517. 1518. 1519. 1520. 1521. 1522.\n",
      " 1523. 1524. 1525. 1526. 1527. 1528. 1529. 1530. 1531. 1532. 1533. 1534.\n",
      " 1535. 1536. 1537. 1538. 1539. 1540. 1541. 1542. 1543. 1544. 1545. 1546.\n",
      " 1547. 1548. 1549. 1550. 1551. 1552. 1553. 1554. 1555. 1556. 1557. 1558.\n",
      " 1559. 1560. 1561. 1562. 1563. 1564. 1565. 1566. 1567. 1568. 1569. 1570.\n",
      " 1571. 1572. 1573. 1574. 1575. 1576. 1577. 1578. 1579. 1580. 1581. 1582.\n",
      " 1583. 1584. 1585. 1586. 1587. 1588. 1589. 1590. 1591. 1592. 1593. 1594.\n",
      " 1595. 1596. 1597. 1598. 1599. 1600. 1601. 1602. 1603. 1604. 1605. 1606.\n",
      " 1607. 1608. 1609. 1610. 1611. 1612. 1613. 1614. 1615. 1616. 1617. 1618.\n",
      " 1619. 1620. 1621. 1622. 1623. 1624. 1625. 1626. 1627. 1628. 1629. 1630.\n",
      " 1631. 1632. 1633. 1634. 1635. 1636. 1637. 1638. 1639. 1640. 1641. 1642.\n",
      " 1643. 1644. 1645. 1646. 1647. 1648. 1649. 1650. 1651. 1652. 1653. 1654.\n",
      " 1655. 1656. 1657. 1658. 1659. 1660. 1661. 1662. 1663. 1664. 1665. 1666.\n",
      " 1667. 1668. 1669. 1670. 1671. 1672. 1673. 1674. 1675. 1676. 1677. 1678.\n",
      " 1679. 1680. 1681. 1682. 1683. 1684. 1685. 1686. 1687. 1688. 1689. 1690.\n",
      " 1691. 1692. 1693. 1694. 1695. 1696. 1697. 1698. 1699. 1700. 1701. 1702.\n",
      " 1703. 1704. 1705. 1706. 1707. 1708. 1709. 1710. 1711. 1712. 1713. 1714.\n",
      " 1715. 1716. 1717. 1718. 1719. 1720. 1721. 1722. 1723. 1724. 1725. 1726.\n",
      " 1727. 1728. 1729. 1730. 1731. 1732. 1733. 1734. 1735. 1736. 1737. 1738.\n",
      " 1739. 1740. 1741. 1742. 1743. 1744. 1745. 1746. 1747. 1748. 1749. 1750.\n",
      " 1751. 1752. 1753. 1754. 1755. 1756. 1757. 1758. 1759. 1760. 1761. 1762.\n",
      " 1763. 1764. 1765. 1766. 1767. 1768. 1769. 1770. 1771. 1772. 1773. 1774.\n",
      " 1775. 1776. 1777. 1778. 1779. 1780. 1781. 1782. 1783. 1784. 1785. 1786.\n",
      " 1787. 1788. 1789. 1790. 1791. 1792. 1793. 1794. 1795. 1796. 1797. 1798.\n",
      " 1799. 1800. 1801. 1802. 1803. 1804. 1805. 1806. 1807. 1808. 1809. 1810.\n",
      " 1811. 1812. 1813. 1814. 1815. 1816. 1817. 1818. 1819. 1820. 1821. 1822.\n",
      " 1823. 1824. 1825. 1826. 1827. 1828. 1829. 1830. 1831. 1832. 1833. 1834.\n",
      " 1835. 1836. 1837. 1838. 1839. 1840. 1841. 1842. 1843. 1844. 1845. 1846.\n",
      " 1847. 1848. 1849.]\n",
      "<class 'numpy.ndarray'>\n",
      "[[[False False False ... False False False]\n",
      "  [False False False ... False False False]\n",
      "  [False False False ... False False False]\n",
      "  ...\n",
      "  [False False False ... False False False]\n",
      "  [False False False ... False False False]\n",
      "  [False False False ... False False False]]\n",
      "\n",
      " [[False False False ... False False False]\n",
      "  [False False False ... False False False]\n",
      "  [False False False ... False False False]\n",
      "  ...\n",
      "  [False False False ... False False False]\n",
      "  [False False False ... False False False]\n",
      "  [False False False ... False False False]]\n",
      "\n",
      " [[False False False ... False False False]\n",
      "  [False False False ... False False False]\n",
      "  [False False False ... False False False]\n",
      "  ...\n",
      "  [False False False ... False False False]\n",
      "  [False False False ... False False False]\n",
      "  [False False False ... False False False]]\n",
      "\n",
      " ...\n",
      "\n",
      " [[False False False ... False False False]\n",
      "  [False False False ... False False False]\n",
      "  [False False False ... False False False]\n",
      "  ...\n",
      "  [False False False ... False False False]\n",
      "  [False False False ... False False False]\n",
      "  [False False False ... False False False]]\n",
      "\n",
      " [[False False False ... False False False]\n",
      "  [False False False ... False False False]\n",
      "  [False False False ... False False False]\n",
      "  ...\n",
      "  [False False False ... False False False]\n",
      "  [False False False ... False False False]\n",
      "  [False False False ... False False False]]\n",
      "\n",
      " [[False False False ... False False False]\n",
      "  [False False False ... False False False]\n",
      "  [False False False ... False False False]\n",
      "  ...\n",
      "  [False False False ... False False False]\n",
      "  [False False False ... False False False]\n",
      "  [False False False ... False False False]]]\n",
      "writing pickle\n"
     ]
    },
    {
     "name": "stdout",
     "output_type": "stream",
     "text": [
      "done\n",
      "writing dataset description\n",
      "done\n"
     ]
    }
   ],
   "source": [
    "create_precip_weighted_dataset(description, base_folder, output_folder)"
   ]
  },
  {
   "cell_type": "code",
   "execution_count": 4,
   "id": "3831dd70",
   "metadata": {},
   "outputs": [],
   "source": [
    "import gzip\n",
    "import pickle"
   ]
  },
  {
   "cell_type": "code",
   "execution_count": 5,
   "id": "339d1b66",
   "metadata": {},
   "outputs": [],
   "source": [
    "with gzip.open(\"Output/dset_-0x69a7426d2797ee9b/dataset.gz\", 'r') as f:\n",
    "    a = pickle.load(f)"
   ]
  },
  {
   "cell_type": "code",
   "execution_count": 18,
   "id": "92bc1595",
   "metadata": {},
   "outputs": [
    {
     "data": {
      "text/plain": [
       "<matplotlib.image.AxesImage at 0x1fdbf2a3d00>"
      ]
     },
     "execution_count": 18,
     "metadata": {},
     "output_type": "execute_result"
    },
    {
     "data": {
      "image/png": "[encoded data removed]",
      "text/plain": [
       "<Figure size 432x288 with 1 Axes>"
      ]
     },
     "metadata": {
      "needs_background": "light"
     },
     "output_type": "display_data"
    }
   ],
   "source": [
    "import matplotlib.pyplot as plt\n",
    "plt.imshow(np.mean(a[\"train\"][\"targets\"][:,0,...],axis=0))"
   ]
  },
  {
   "cell_type": "code",
   "execution_count": 13,
   "id": "91acf569",
   "metadata": {},
   "outputs": [
    {
     "data": {
      "text/plain": [
       "(899, 2, 71, 96)"
      ]
     },
     "execution_count": 13,
     "metadata": {},
     "output_type": "execute_result"
    }
   ],
   "source": [
    "a[\"train\"][\"predictors\"].shape"
   ]
  },
  {
   "cell_type": "markdown",
   "id": "74ff4723",
   "metadata": {},
   "source": [
    "# Create yearly dataset"
   ]
  },
  {
   "cell_type": "code",
   "execution_count": 2,
   "id": "e1f593ee",
   "metadata": {},
   "outputs": [],
   "source": [
    "base_folder = \"Datasets_old\"\n",
    "output_folder = \"Output\"\n",
    "\n",
    "description = {}\n",
    "\n",
    "description[\"DATASETS_USED\"] = [\"isotopes\", \n",
    "                                \"temp\", \n",
    "                                \"precip\"]\n",
    "\n",
    "description[\"PREDICTOR_VARIABLES\"] = {\"temp\": [\"temp_1\"],\n",
    "                                      \"precip\": [\"precip\"]}\n",
    "\n",
    "description[\"TARGET_VARIABLES\"] = {\"isotopes\": [\"dO18\"]}\n",
    "\n",
    "description[\"DATASETS_NO_GAPS\"] = [\"isotopes\", \n",
    "                                   \"temp\", \n",
    "                                   \"precip\", \n",
    "                                   \"slp\"]\n",
    "\n",
    "description[\"CLIMATE_MODEL\"] = \"iHadCM3\"\n",
    "description[\"GRID_TYPE\"] = \"Flat\"\n",
    "\n",
    "description[\"START_YEAR\"] = 850\n",
    "description[\"END_YEAR\"] = 1850\n",
    "description[\"LATITUDES_SLICE\"] = [1, -1] # slicing array. To use no slice, use [None, None]. Otherwise sth like [1,-1]\n",
    "\n",
    "description[\"TEST_FRACTION\"] = 0.1\n",
    "description[\"DO_SHUFFLE\"] = False\n",
    "description[\"PRECIP_WEIGHTING\"] = False\n",
    "\n",
    "\"\"\"\n",
    "description[\"RESOLUTION\"] = 5\n",
    "description[\"INTERPOLATE_CORNERS\"] = True\n",
    "description[\"INTERPOLATION\"] = \"cons1\"\n",
    "\"\"\"\n",
    "\n",
    "\n",
    "description[\"TIMESCALE\"] = \"YEARLY\""
   ]
  },
  {
   "cell_type": "code",
   "execution_count": 3,
   "id": "14f19f3e",
   "metadata": {
    "scrolled": true
   },
   "outputs": [
    {
     "name": "stdout",
     "output_type": "stream",
     "text": [
      "loading variables\n",
      "False\n",
      "True\n",
      "True\n",
      "writing pickle\n",
      "done\n",
      "writing dataset description\n",
      "done\n"
     ]
    }
   ],
   "source": [
    "create_yearly_dataset(description, base_folder, output_folder)"
   ]
  },
  {
   "cell_type": "code",
   "execution_count": 4,
   "id": "72114dda",
   "metadata": {},
   "outputs": [],
   "source": [
    "with gzip.open(\"Output/dset_-0x55c035d15248163f/dataset.gz\", 'r') as f:\n",
    "    a = pickle.load(f)"
   ]
  },
  {
   "cell_type": "code",
   "execution_count": 11,
   "id": "7310a80f",
   "metadata": {},
   "outputs": [
    {
     "data": {
      "text/plain": [
       "False"
      ]
     },
     "execution_count": 11,
     "metadata": {},
     "output_type": "execute_result"
    }
   ],
   "source": [
    "(a[\"train\"][\"masks\"] == True).any()"
   ]
  },
  {
   "cell_type": "markdown",
   "id": "5a56e1a3",
   "metadata": {},
   "source": [
    "## Create yearly dataset - new climate model data"
   ]
  },
  {
   "cell_type": "code",
   "execution_count": 11,
   "id": "5ab97dd6",
   "metadata": {},
   "outputs": [],
   "source": [
    "#new hadcm3\n",
    "base_folder = \"Datasets\"\n",
    "output_folder = \"Output\"\n",
    "\n",
    "description = {}\n",
    "\n",
    "description[\"DATASETS_USED\"] = [\"isotopes\", \n",
    "                                \"tsurf\", \n",
    "                                \"prec\"]\n",
    "\n",
    "description[\"PREDICTOR_VARIABLES\"] = {\"tsurf\": [\"tsurf\"],\n",
    "                                      \"prec\": [\"prec\"]}\n",
    "\n",
    "description[\"TARGET_VARIABLES\"] = {\"isotopes\": [\"d18O\"]}\n",
    "\n",
    "description[\"DATASETS_NO_GAPS\"] = [\"isotopes\", \n",
    "                                   \"tsurf\", \n",
    "                                   \"prec\",\n",
    "                                   ] # \"slp\"\n",
    "\n",
    "description[\"CLIMATE_MODEL\"] = \"isoGSM\"\n",
    "description[\"GRID_TYPE\"] = \"Flat\"\n",
    "\n",
    "description[\"START_YEAR\"] = 850\n",
    "description[\"END_YEAR\"] = 1850\n",
    "description[\"LATITUDES_SLICE\"] = [None, None]\n",
    "\n",
    "description[\"TEST_FRACTION\"] = 0.1\n",
    "description[\"DO_SHUFFLE\"] = False\n",
    "description[\"PRECIP_WEIGHTING\"] = False\n",
    "\n",
    "\"\"\"\n",
    "description[\"RESOLUTION\"] = 5\n",
    "description[\"INTERPOLATE_CORNERS\"] = True\n",
    "description[\"INTERPOLATION\"] = \"cons1\"\n",
    "\"\"\"\n",
    "\n",
    "\n",
    "description[\"TIMESCALE\"] = \"YEARLY\""
   ]
  },
  {
   "cell_type": "code",
   "execution_count": 12,
   "id": "36577abb",
   "metadata": {
    "scrolled": true
   },
   "outputs": [
    {
     "name": "stdout",
     "output_type": "stream",
     "text": [
      "loading variables\n",
      "Datasets\\isoGSM\\Original\\isotopes_yearly.nc\n",
      "Datasets\\isoGSM\\Original\\tsurf_yearly.nc\n",
      "Datasets\\isoGSM\\Original\\prec_yearly.nc\n",
      "writing pickle\n",
      "done\n",
      "writing dataset description\n",
      "done\n"
     ]
    }
   ],
   "source": [
    "create_yearly_dataset(description, base_folder, output_folder)"
   ]
  },
  {
   "cell_type": "code",
   "execution_count": 20,
   "id": "1878b8cd",
   "metadata": {},
   "outputs": [
    {
     "data": {
      "text/plain": [
       "(900, 2, 73, 96)"
      ]
     },
     "execution_count": 20,
     "metadata": {},
     "output_type": "execute_result"
    }
   ],
   "source": [
    "import gzip\n",
    "import pickle\n",
    "with gzip.open(\"Output/dset_0x71bc56597708c9bc/dataset.gz\", 'r') as f:\n",
    "    a = pickle.load(f)\n",
    "    \n",
    "a[\"train\"][\"predictors\"].shape"
   ]
  },
  {
   "cell_type": "code",
   "execution_count": 10,
   "id": "edb27ee2",
   "metadata": {},
   "outputs": [],
   "source": [
    "#new other models\n",
    "base_folder = \"Datasets\"\n",
    "output_folder = \"Output\"\n",
    "\n",
    "description = {}\n",
    "\n",
    "description[\"DATASETS_USED\"] = [\"isotopes\", \n",
    "                                \"tsurf\", \n",
    "                                \"prec\"]\n",
    "\n",
    "description[\"PREDICTOR_VARIABLES\"] = {\"tsurf\": [\"tsurf\"],\n",
    "                                      \"prec\": [\"prec\"]}\n",
    "\n",
    "description[\"TARGET_VARIABLES\"] = {\"isotopes\": [\"d18O\"]}\n",
    "\n",
    "description[\"DATASETS_NO_GAPS\"] = [\"isotopes\", \n",
    "                                   \"tsurf\", \n",
    "                                   \"prec\",\n",
    "                                   ] # \"slp\"\n",
    "\n",
    "description[\"CLIMATE_MODEL\"] = \"ECHAM5\"\n",
    "description[\"GRID_TYPE\"] = \"Flat\"\n",
    "\n",
    "description[\"START_YEAR\"] = 850\n",
    "description[\"END_YEAR\"] = 1850\n",
    "description[\"LATITUDES_SLICE\"] = [None, None]\n",
    "\n",
    "description[\"TEST_FRACTION\"] = 0.1\n",
    "description[\"DO_SHUFFLE\"] = False\n",
    "description[\"PRECIP_WEIGHTING\"] = False\n",
    "\n",
    "\"\"\"\n",
    "description[\"RESOLUTION\"] = 5\n",
    "description[\"INTERPOLATE_CORNERS\"] = True\n",
    "description[\"INTERPOLATION\"] = \"cons1\"\n",
    "\"\"\"\n",
    "\n",
    "\n",
    "description[\"TIMESCALE\"] = \"YEARLY\""
   ]
  },
  {
   "cell_type": "code",
   "execution_count": 23,
   "id": "bee6bc5e",
   "metadata": {},
   "outputs": [
    {
     "data": {
      "text/plain": [
       "(900, 1, 73, 96)"
      ]
     },
     "execution_count": 23,
     "metadata": {},
     "output_type": "execute_result"
    }
   ],
   "source": [
    "a[\"train\"][\"targets\"].shape"
   ]
  },
  {
   "cell_type": "code",
   "execution_count": 11,
   "id": "c599b48d",
   "metadata": {},
   "outputs": [
    {
     "name": "stdout",
     "output_type": "stream",
     "text": [
      "loading variables\n",
      "writing pickle\n",
      "done\n",
      "writing dataset description\n",
      "done\n"
     ]
    }
   ],
   "source": [
    "create_yearly_dataset(description, base_folder, output_folder)"
   ]
  },
  {
   "cell_type": "code",
   "execution_count": 24,
   "id": "7245160f",
   "metadata": {},
   "outputs": [
    {
     "data": {
      "text/plain": [
       "(1000, 1, 73, 96)"
      ]
     },
     "execution_count": 24,
     "metadata": {},
     "output_type": "execute_result"
    }
   ],
   "source": [
    "d.shape"
   ]
  },
  {
   "cell_type": "markdown",
   "id": "f9144845",
   "metadata": {},
   "source": [
    "# Create monthly dataset"
   ]
  },
  {
   "cell_type": "code",
   "execution_count": 22,
   "id": "848e6475",
   "metadata": {},
   "outputs": [],
   "source": [
    "from datasets import *"
   ]
  },
  {
   "cell_type": "code",
   "execution_count": 23,
   "id": "8da7ab19",
   "metadata": {},
   "outputs": [],
   "source": [
    "base_folder = \"Datasets\"\n",
    "output_folder = \"Output\"\n",
    "\n",
    "description = {}\n",
    "\n",
    "description[\"DATASETS_USED\"] = [\"isotopes\", \n",
    "                                \"tsurf\", \n",
    "                                \"prec\"]\n",
    "\n",
    "description[\"PREDICTOR_VARIABLES\"] = {\"tsurf\": [\"tsurf\"],\n",
    "                                      \"prec\": [\"prec\"]}\n",
    "\n",
    "description[\"TARGET_VARIABLES\"] = {\"isotopes\": [\"d18O\"]}\n",
    "\n",
    "description[\"DATASETS_NO_GAPS\"] = [\"isotopes\", \n",
    "                                   \"tsurf\", \n",
    "                                   \"prec\", \n",
    "                                   \"slp\"]\n",
    "\n",
    "description[\"CLIMATE_MODEL\"] = \"iHadCM3\"\n",
    "description[\"GRID_TYPE\"] = \"Flat\"\n",
    "\n",
    "description[\"START_YEAR\"] = 850\n",
    "description[\"END_YEAR\"] = 1850\n",
    "description[\"LATITUDES_SLICE\"] = [1,-1]\n",
    "\n",
    "description[\"TEST_FRACTION\"] = 0.1\n",
    "description[\"DO_SHUFFLE\"] = False\n",
    "\n",
    "description[\"PRECIP_WEIGHTING\"] = False\n",
    "\n",
    "description[\"TIMESCALE\"] = \"MONTHLY\"\n",
    "description[\"MONTHS_USED\"] = np.sort([0,1,2,3,4,5,6,7,8,9,10,11]).tolist()\n",
    "description[\"MONTHS_USED_IN_PREDICTION\"] = np.sort([0,-1]).tolist()"
   ]
  },
  {
   "cell_type": "code",
   "execution_count": null,
   "id": "f0df202a",
   "metadata": {
    "scrolled": true
   },
   "outputs": [
    {
     "name": "stdout",
     "output_type": "stream",
     "text": [
      "loading variables\n",
      "Datasets\\iHadCM3\\Original\\isotopes.nc\n",
      "Datasets\\iHadCM3\\Original\\tsurf.nc\n",
      "Datasets\\iHadCM3\\Original\\prec.nc\n",
      "dict_keys(['d18O'])\n",
      "writing pickle\n"
     ]
    }
   ],
   "source": [
    "create_monthly_dataset(description, base_folder, output_folder)"
   ]
  }
 ],
 "metadata": {
  "kernelspec": {
   "display_name": "Python 3 (ipykernel)",
   "language": "python",
   "name": "python3"
  },
  "language_info": {
   "codemirror_mode": {
    "name": "ipython",
    "version": 3
   },
   "file_extension": ".py",
   "mimetype": "text/x-python",
   "name": "python",
   "nbconvert_exporter": "python",
   "pygments_lexer": "ipython3",
   "version": "3.8.0"
  }
 },
 "nbformat": 4,
 "nbformat_minor": 5
}
