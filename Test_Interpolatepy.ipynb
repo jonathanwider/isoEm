{
 "cells": [
  {
   "cell_type": "code",
   "execution_count": 1,
   "id": "8b10dd0a",
   "metadata": {},
   "outputs": [],
   "source": [
    "from interpolate import *\n",
    "from evaluate import *"
   ]
  },
  {
   "cell_type": "code",
   "execution_count": 2,
   "id": "232a22eb",
   "metadata": {},
   "outputs": [],
   "source": [
    "conditions = {\n",
    "    \"DATASET_DESCRIPTION\": {},\n",
    "    \"MODEL_TRAINING_DESCRIPTION\": {\"MODEL_TYPE\": \"UNet_Flat\",\n",
    "                                   \"USE_COORD_CONV\": False, \n",
    "                                   \"USE_CYLINDRICAL_PADDING\": False,\n",
    "                                   \"LOSS\": \"MSELoss\",\n",
    "                                   \"RUN_NR\": 0}\n",
    "}\n",
    "\n",
    "base_folder = \"Output/Reproduce\"\n",
    "output_folder = \"Scripts/\""
   ]
  },
  {
   "cell_type": "code",
   "execution_count": 3,
   "id": "dbea7f38",
   "metadata": {},
   "outputs": [
    {
     "name": "stdout",
     "output_type": "stream",
     "text": [
      "1 matching runs found\n"
     ]
    }
   ],
   "source": [
    "predictions_list, descriptions_list = load_compatible_available_runs(base_folder, conditions)"
   ]
  },
  {
   "cell_type": "code",
   "execution_count": 4,
   "id": "1beabc84",
   "metadata": {},
   "outputs": [
    {
     "name": "stdout",
     "output_type": "stream",
     "text": [
      "\n"
     ]
    },
    {
     "name": "stderr",
     "output_type": "stream",
     "text": [
      "cdo gencon: SCRIP first order conservative weights from lonlat (96x73) to unstructured (10230) grid, with source mask (6816)\n",
      "cdo gencon: Processed 7008 values from 1 variable over 1 timestep [0.45s 55MB]\n",
      "cdo gencon: SCRIP first order conservative weights from lonlat (96x73) to unstructured (10) grid, with source mask (6816)\n",
      "cdo gencon: Processed 7008 values from 1 variable over 1 timestep [0.03s 49MB]\n"
     ]
    },
    {
     "name": "stdout",
     "output_type": "stream",
     "text": [
      "done\n"
     ]
    },
    {
     "name": "stderr",
     "output_type": "stream",
     "text": [
      "cdo remap: Processed 700800 values from 1 variable over 100 timesteps [0.14s 58MB]\n",
      "cdo remap: Processed 700800 values from 1 variable over 100 timesteps [0.03s 53MB]\n"
     ]
    }
   ],
   "source": [
    "interpolate_predictions(descriptions_list[0], predictions_list[0], output_folder)"
   ]
  },
  {
   "cell_type": "code",
   "execution_count": 2,
   "id": "4a6b4d87",
   "metadata": {},
   "outputs": [
    {
     "name": "stdout",
     "output_type": "stream",
     "text": [
      "\n",
      "./Scripts/grid_description_r_5_nbs_6_ico.txt ./Datasets/iHadCM3/Original/isotopes.nc\n"
     ]
    },
    {
     "name": "stderr",
     "output_type": "stream",
     "text": [
      "cdo gencon: SCRIP first order conservative weights from lonlat (96x73) to unstructured (10230) grid\n",
      "cdo gencon: Processed 7008 values from 3 variables over 1 timestep [0.45s 55MB]\n",
      "cdo gencon: SCRIP first order conservative weights from lonlat (96x73) to unstructured (10) grid\n",
      "cdo gencon: Processed 7008 values from 3 variables over 1 timestep [0.02s 48MB]\n"
     ]
    },
    {
     "name": "stdout",
     "output_type": "stream",
     "text": [
      "./Scripts/grid_description_r_5_nbs_5_ico.txt ./Datasets/iHadCM3/Original/isotopes.nc\n",
      "done\n"
     ]
    },
    {
     "name": "stderr",
     "output_type": "stream",
     "text": [
      "cdo remap: SCRIP first order conservative weights from lonlat (96x73) to unstructured (10230) grid, with source mask (6800)\n",
      "cdo remap: SCRIP first order conservative weights from lonlat (96x73) to unstructured (10230) grid, with source mask (6816)\n",
      "cdo remap: SCRIP first order conservative weights from lonlat (96x73) to unstructured (10230) grid, with source mask (6813)\n",
      "cdo remap: SCRIP first order conservative weights from lonlat (96x73) to unstructured (10230) grid, with source mask (6815)\n",
      "cdo remap: Processed 24240672 values from 3 variables over 1153 timesteps [2.97s 65MB]\n",
      "cdo remap: SCRIP first order conservative weights from lonlat (96x73) to unstructured (10) grid, with source mask (6800)\n",
      "cdo remap: SCRIP first order conservative weights from lonlat (96x73) to unstructured (10) grid, with source mask (6816)\n",
      "cdo remap: SCRIP first order conservative weights from lonlat (96x73) to unstructured (10) grid, with source mask (6813)\n",
      "cdo remap: SCRIP first order conservative weights from lonlat (96x73) to unstructured (10) grid, with source mask (6815)\n",
      "cdo remap: Processed 24240672 values from 3 variables over 1153 timesteps [0.28s 51MB]\n"
     ]
    }
   ],
   "source": [
    "interpolate_climate_model_data_to_ico_grid(model_name=\"iHadCM3\", variable_name=\"isotopes\", script_folder=\"Scripts/\",\n",
    "                                               dataset_folder=\"Datasets/\", resolution=5, interpolation=\"cons1\")"
   ]
  },
  {
   "cell_type": "code",
   "execution_count": null,
   "id": "35878a01",
   "metadata": {},
   "outputs": [],
   "source": []
  }
 ],
 "metadata": {
  "kernelspec": {
   "display_name": "Python 3 (ipykernel)",
   "language": "python",
   "name": "python3"
  },
  "language_info": {
   "codemirror_mode": {
    "name": "ipython",
    "version": 3
   },
   "file_extension": ".py",
   "mimetype": "text/x-python",
   "name": "python",
   "nbconvert_exporter": "python",
   "pygments_lexer": "ipython3",
   "version": "3.10.6"
  }
 },
 "nbformat": 4,
 "nbformat_minor": 5
}
