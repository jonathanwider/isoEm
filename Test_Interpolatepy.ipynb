{
 "cells": [
  {
   "cell_type": "code",
   "execution_count": 1,
   "id": "8b10dd0a",
   "metadata": {},
   "outputs": [],
   "source": [
    "from interpolate import *\n",
    "from evaluate import *"
   ]
  },
  {
   "cell_type": "code",
   "execution_count": 2,
   "id": "232a22eb",
   "metadata": {},
   "outputs": [],
   "source": [
    "conditions = {\n",
    "    \"DATASET_DESCRIPTION\": {},\n",
    "    \"MODEL_TRAINING_DESCRIPTION\": {\"MODEL_TYPE\": \"UNet_Flat\",\n",
    "                                   \"USE_COORD_CONV\": False, \n",
    "                                   \"USE_CYLINDRICAL_PADDING\": False,\n",
    "                                   \"LOSS\": \"MSELoss\",\n",
    "                                   \"RUN_NR\": 0}\n",
    "}\n",
    "\n",
    "base_folder = \"Output/Reproduce\"\n",
    "output_folder = \"Scripts/\""
   ]
  },
  {
   "cell_type": "code",
   "execution_count": 3,
   "id": "dbea7f38",
   "metadata": {},
   "outputs": [
    {
     "name": "stdout",
     "output_type": "stream",
     "text": [
      "1 matching runs found\n"
     ]
    }
   ],
   "source": [
    "predictions_list, descriptions_list = load_compatible_available_runs(base_folder, conditions)"
   ]
  },
  {
   "cell_type": "code",
   "execution_count": 4,
   "id": "1beabc84",
   "metadata": {},
   "outputs": [
    {
     "name": "stdout",
     "output_type": "stream",
     "text": [
      "[558930. 559290. 559650. 560010. 560370. 560730. 561090. 561450. 561810.\n",
      " 562170. 562530. 562890. 563250. 563610. 563970. 564330. 564690. 565050.\n",
      " 565410. 565770. 566130. 566490. 566850. 567210. 567570. 567930. 568290.\n",
      " 568650. 569010. 569370. 569730. 570090. 570450. 570810. 571170. 571530.\n",
      " 571890. 572250. 572610. 572970. 573330. 573690. 574050. 574410. 574770.\n",
      " 575130. 575490. 575850. 576210. 576570. 576930. 577290. 577650. 578010.\n",
      " 578370. 578730. 579090. 579450. 579810. 580170. 580530. 580890. 581250.\n",
      " 581610. 581970. 582330. 582690. 583050. 583410. 583770. 584130. 584490.\n",
      " 584850. 585210. 585570. 585930. 586290. 587010. 587370. 587730. 588090.\n",
      " 588450. 588810. 589170. 589530. 589890. 590250. 590610. 590970. 591330.\n",
      " 591690. 592050. 592410. 592770. 593130. 593490. 593850. 594210. 594570.\n",
      " 594930.]\n",
      "[[558765. 559095.]\n",
      " [559125. 559455.]\n",
      " [559485. 559815.]\n",
      " [559845. 560175.]\n",
      " [560205. 560535.]\n",
      " [560565. 560895.]\n",
      " [560925. 561255.]\n",
      " [561285. 561615.]\n",
      " [561645. 561975.]\n",
      " [562005. 562335.]\n",
      " [562365. 562695.]\n",
      " [562725. 563055.]\n",
      " [563085. 563415.]\n",
      " [563445. 563775.]\n",
      " [563805. 564135.]\n",
      " [564165. 564495.]\n",
      " [564525. 564855.]\n",
      " [564885. 565215.]\n",
      " [565245. 565575.]\n",
      " [565605. 565935.]\n",
      " [565965. 566295.]\n",
      " [566325. 566655.]\n",
      " [566685. 567015.]\n",
      " [567045. 567375.]\n",
      " [567405. 567735.]\n",
      " [567765. 568095.]\n",
      " [568125. 568455.]\n",
      " [568485. 568815.]\n",
      " [568845. 569175.]\n",
      " [569205. 569535.]\n",
      " [569565. 569895.]\n",
      " [569925. 570255.]\n",
      " [570285. 570615.]\n",
      " [570645. 570975.]\n",
      " [571005. 571335.]\n",
      " [571365. 571695.]\n",
      " [571725. 572055.]\n",
      " [572085. 572415.]\n",
      " [572445. 572775.]\n",
      " [572805. 573135.]\n",
      " [573165. 573495.]\n",
      " [573525. 573855.]\n",
      " [573885. 574215.]\n",
      " [574245. 574575.]\n",
      " [574605. 574935.]\n",
      " [574965. 575295.]\n",
      " [575325. 575655.]\n",
      " [575685. 576015.]\n",
      " [576045. 576375.]\n",
      " [576405. 576735.]\n",
      " [576765. 577095.]\n",
      " [577125. 577455.]\n",
      " [577485. 577815.]\n",
      " [577845. 578175.]\n",
      " [578205. 578535.]\n",
      " [578565. 578895.]\n",
      " [578925. 579255.]\n",
      " [579285. 579615.]\n",
      " [579645. 579975.]\n",
      " [580005. 580335.]\n",
      " [580365. 580695.]\n",
      " [580725. 581055.]\n",
      " [581085. 581415.]\n",
      " [581445. 581775.]\n",
      " [581805. 582135.]\n",
      " [582165. 582495.]\n",
      " [582525. 582855.]\n",
      " [582885. 583215.]\n",
      " [583245. 583575.]\n",
      " [583605. 583935.]\n",
      " [583965. 584295.]\n",
      " [584325. 584655.]\n",
      " [584685. 585015.]\n",
      " [585045. 585375.]\n",
      " [585405. 585735.]\n",
      " [585765. 586095.]\n",
      " [586125. 586455.]\n",
      " [586845. 587175.]\n",
      " [587205. 587535.]\n",
      " [587565. 587895.]\n",
      " [587925. 588255.]\n",
      " [588285. 588615.]\n",
      " [588645. 588975.]\n",
      " [589005. 589335.]\n",
      " [589365. 589695.]\n",
      " [589725. 590055.]\n",
      " [590085. 590415.]\n",
      " [590445. 590775.]\n",
      " [590805. 591135.]\n",
      " [591165. 591495.]\n",
      " [591525. 591855.]\n",
      " [591885. 592215.]\n",
      " [592245. 592575.]\n",
      " [592605. 592935.]\n",
      " [592965. 593295.]\n",
      " [593325. 593655.]\n",
      " [593685. 594015.]\n",
      " [594045. 594375.]\n",
      " [594405. 594735.]\n",
      " [594765. 595095.]]\n",
      "\n",
      "./Scripts/grid_description_r_5_nbs_6_ico.txt ./Scripts/tmp.nc\n"
     ]
    },
    {
     "name": "stderr",
     "output_type": "stream",
     "text": [
      "cdo gencon: SCRIP first order conservative weights from lonlat (96x73) to unstructured (10230) grid, with source mask (6816)\n",
      "cdo gencon: Processed 7008 values from 1 variable over 1 timestep [0.47s 56MB]\n",
      "cdo gencon: SCRIP first order conservative weights from lonlat (96x73) to unstructured (10) grid, with source mask (6816)\n",
      "cdo gencon: Processed 7008 values from 1 variable over 1 timestep [0.03s 49MB]\n"
     ]
    },
    {
     "name": "stdout",
     "output_type": "stream",
     "text": [
      "./Scripts/grid_description_r_5_nbs_5_ico.txt ./Scripts/tmp.nc\n",
      "done\n"
     ]
    },
    {
     "name": "stderr",
     "output_type": "stream",
     "text": [
      "cdo remap: Processed 700800 values from 1 variable over 100 timesteps [0.14s 57MB]\n",
      "cdo remap: Processed 700800 values from 1 variable over 100 timesteps [0.03s 53MB]\n"
     ]
    }
   ],
   "source": [
    "interpolate_predictions(descriptions_list[0], predictions_list[0], output_folder)"
   ]
  },
  {
   "cell_type": "code",
   "execution_count": null,
   "id": "4a6b4d87",
   "metadata": {},
   "outputs": [],
   "source": []
  }
 ],
 "metadata": {
  "kernelspec": {
   "display_name": "Python 3 (ipykernel)",
   "language": "python",
   "name": "python3"
  },
  "language_info": {
   "codemirror_mode": {
    "name": "ipython",
    "version": 3
   },
   "file_extension": ".py",
   "mimetype": "text/x-python",
   "name": "python",
   "nbconvert_exporter": "python",
   "pygments_lexer": "ipython3",
   "version": "3.10.6"
  }
 },
 "nbformat": 4,
 "nbformat_minor": 5
}
