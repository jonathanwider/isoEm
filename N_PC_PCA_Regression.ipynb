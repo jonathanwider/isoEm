{
 "cells": [
  {
   "cell_type": "code",
   "execution_count": 1,
   "id": "7d276c79",
   "metadata": {},
   "outputs": [],
   "source": [
    "from train import *\n",
    "from predict import *\n",
    "from evaluate import *\n",
    "from train_tune_pca import train_tune_pca"
   ]
  },
  {
   "cell_type": "code",
   "execution_count": 2,
   "id": "8a5c218d",
   "metadata": {},
   "outputs": [
    {
     "data": {
      "text/plain": [
       "'\\ndescription[\"RESOLUTION\"] = 5\\ndescription[\"INTERPOLATE_CORNERS\"] = True\\ndescription[\"INTERPOLATION\"] = \"cons1\"\\n'"
      ]
     },
     "execution_count": 2,
     "metadata": {},
     "output_type": "execute_result"
    }
   ],
   "source": [
    "base_folder = \"Output/\"  # folder in which we search for datasets\n",
    "output_folder = \"Output/N_PC/\" # folder in which we store model\n",
    "\n",
    "description = {}\n",
    "\n",
    "description[\"CLIMATE_MODEL\"] = \"iHadCM3\"\n",
    "description[\"START_YEAR\"] = 654\n",
    "description[\"END_YEAR\"] = 1654\n",
    "description[\"LATITUDES_SLICE\"] = [1,-1]\n",
    "\n",
    "description[\"TIMESCALE\"] = \"YEARLY\"\n",
    "\n",
    "description[\"DATASETS_USED\"] = [\"isotopes\", \n",
    "                                \"temp\", \n",
    "                                \"precip\"]\n",
    "\n",
    "description[\"PREDICTOR_VARIABLES\"] = {\"temp\": [\"temp_1\"],\n",
    "                                      \"precip\": [\"precip\"]}\n",
    "\n",
    "description[\"TARGET_VARIABLES\"] = {\"isotopes\": [\"dO18\"]}\n",
    "\n",
    "description[\"DATASETS_NO_GAPS\"] = [\"isotopes\", \n",
    "                                   \"temp\", \n",
    "                                   \"precip\", \n",
    "                                   \"slp\"]\n",
    "\n",
    "description[\"GRID_TYPE\"] = \"Flat\"\n",
    "description[\"GRID_SHAPE\"] = (71, 96)\n",
    "\n",
    "description[\"TEST_FRACTION\"] = 0.1\n",
    "description[\"DO_SHUFFLE\"] = False\n",
    "\n",
    "\n",
    "\"\"\"\n",
    "description[\"RESOLUTION\"] = 5\n",
    "description[\"INTERPOLATE_CORNERS\"] = True\n",
    "description[\"INTERPOLATION\"] = \"cons1\"\n",
    "\"\"\""
   ]
  },
  {
   "cell_type": "code",
   "execution_count": 3,
   "id": "40596ae6",
   "metadata": {},
   "outputs": [],
   "source": [
    "model_training_description = {}\n",
    "model_training_description[\"S_MODE_PREDICTORS\"] = [\"Pixelwise\",\"Pixelwise\"] # how to standardize the given variables\n",
    "model_training_description[\"S_MODE_TARGETS\"] = [\"Pixelwise\"]\n",
    "\n",
    "model_training_description[\"DATASET_FOLDER\"] = base_folder\n",
    "\n",
    "model_training_description[\"REGTYPE\"] = \"linreg\"\n",
    "\n",
    "model_training_description[\"MODEL_TYPE\"] = \"PCA_Flat\""
   ]
  },
  {
   "cell_type": "code",
   "execution_count": 4,
   "id": "1a868d3f",
   "metadata": {},
   "outputs": [],
   "source": [
    "n_pc_in = (1.5*np.logspace(np.log10(3), np.log10(500), 30)).astype(\"int\")\n",
    "n_pc_out = np.logspace(np.log10(3), np.log10(500), 30).astype(\"int\")"
   ]
  },
  {
   "cell_type": "code",
   "execution_count": 5,
   "id": "e3964893",
   "metadata": {},
   "outputs": [
    {
     "name": "stdout",
     "output_type": "stream",
     "text": [
      "N_PC_IN: 4 N_PC_OUT: 3, R2, weighted mean: [0.02172785]\n",
      "N_PC_IN: 5 N_PC_OUT: 3, R2, weighted mean: [0.02324112]\n",
      "N_PC_IN: 6 N_PC_OUT: 4, R2, weighted mean: [0.03541952]\n",
      "N_PC_IN: 7 N_PC_OUT: 5, R2, weighted mean: [0.04796151]\n",
      "N_PC_IN: 9 N_PC_OUT: 6, R2, weighted mean: [0.05604619]\n",
      "N_PC_IN: 10 N_PC_OUT: 7, R2, weighted mean: [0.06067735]\n",
      "N_PC_IN: 12 N_PC_OUT: 8, R2, weighted mean: [0.06423137]\n",
      "N_PC_IN: 15 N_PC_OUT: 10, R2, weighted mean: [0.07527734]\n",
      "N_PC_IN: 18 N_PC_OUT: 12, R2, weighted mean: [0.08227897]\n",
      "N_PC_IN: 22 N_PC_OUT: 14, R2, weighted mean: [0.08876918]\n",
      "N_PC_IN: 26 N_PC_OUT: 17, R2, weighted mean: [0.09657569]\n",
      "N_PC_IN: 31 N_PC_OUT: 20, R2, weighted mean: [0.10633688]\n",
      "N_PC_IN: 37 N_PC_OUT: 24, R2, weighted mean: [0.11429171]\n",
      "N_PC_IN: 44 N_PC_OUT: 29, R2, weighted mean: [0.12221986]\n",
      "N_PC_IN: 53 N_PC_OUT: 35, R2, weighted mean: [0.12960827]\n",
      "N_PC_IN: 63 N_PC_OUT: 42, R2, weighted mean: [0.13646531]\n",
      "N_PC_IN: 75 N_PC_OUT: 50, R2, weighted mean: [0.14317602]\n",
      "N_PC_IN: 90 N_PC_OUT: 60, R2, weighted mean: [0.14962984]\n",
      "N_PC_IN: 107 N_PC_OUT: 71, R2, weighted mean: [0.15637309]\n",
      "N_PC_IN: 128 N_PC_OUT: 85, R2, weighted mean: [0.16131878]\n",
      "N_PC_IN: 153 N_PC_OUT: 102, R2, weighted mean: [0.16548013]\n",
      "N_PC_IN: 182 N_PC_OUT: 121, R2, weighted mean: [0.16859384]\n",
      "N_PC_IN: 218 N_PC_OUT: 145, R2, weighted mean: [0.16978523]\n",
      "N_PC_IN: 260 N_PC_OUT: 173, R2, weighted mean: [0.16847933]\n",
      "N_PC_IN: 310 N_PC_OUT: 206, R2, weighted mean: [0.16692107]\n",
      "N_PC_IN: 370 N_PC_OUT: 246, R2, weighted mean: [0.16261649]\n",
      "N_PC_IN: 441 N_PC_OUT: 294, R2, weighted mean: [0.15773846]\n",
      "N_PC_IN: 527 N_PC_OUT: 351, R2, weighted mean: [0.14754914]\n",
      "N_PC_IN: 628 N_PC_OUT: 419, R2, weighted mean: [0.13228858]\n",
      "N_PC_IN: 749 N_PC_OUT: 499, R2, weighted mean: [0.10958561]\n",
      "Best results: N_PC_IN: 218 N_PC_OUT: 145, R2_mean, validationset: [0.16978523]\n",
      "Retrain including validation set.\n",
      "Result on test set: [0.18932511]\n"
     ]
    }
   ],
   "source": [
    "model_training_description[\"CREATE_VALIDATIONSET\"] = True\n",
    "model_training_description[\"SHUFFLE_VALIDATIONSET\"] = False\n",
    "\n",
    "pca_targets, pca_predictors, model = train_tune_pca(description, model_training_description, base_folder, \\\n",
    "                                                    n_pc_in=n_pc_in, n_pc_out=n_pc_out)"
   ]
  }
 ],
 "metadata": {
  "kernelspec": {
   "display_name": "Python 3 (ipykernel)",
   "language": "python",
   "name": "python3"
  },
  "language_info": {
   "codemirror_mode": {
    "name": "ipython",
    "version": 3
   },
   "file_extension": ".py",
   "mimetype": "text/x-python",
   "name": "python",
   "nbconvert_exporter": "python",
   "pygments_lexer": "ipython3",
   "version": "3.8.0"
  }
 },
 "nbformat": 4,
 "nbformat_minor": 5
}
