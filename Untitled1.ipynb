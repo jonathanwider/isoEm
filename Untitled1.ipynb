{
 "cells": [
  {
   "cell_type": "code",
   "execution_count": 18,
   "id": "b8a03737",
   "metadata": {},
   "outputs": [],
   "source": [
    "import netCDF4 as nc\n",
    "import os\n",
    "import re\n",
    "import numpy as np\n",
    "from datetime import datetime\n",
    "import matplotlib.pyplot as plt\n",
    "\n",
    "from util import get_year_mon_day_from_timesteps"
   ]
  },
  {
   "cell_type": "code",
   "execution_count": 19,
   "id": "0f9af67f",
   "metadata": {},
   "outputs": [],
   "source": [
    "old_dataset_dir = \"Datasets_old/\"\n",
    "new_dataset_dir  = \"Datasets/\"\n",
    "\n",
    "\n",
    "new_folder_iHadCM3 = os.path.join(new_dataset_dir, \"iHadCM3/\", \"Original/\")\n",
    "new_folder_GISS = os.path.join(new_dataset_dir, \"GISS/\", \"Original/\")\n",
    "new_folder_ECHAM5 = os.path.join(new_dataset_dir, \"ECHAM5/\", \"Original/\")\n",
    "new_folder_iCESM = os.path.join(new_dataset_dir, \"iCESM/\", \"Original/\")\n",
    "new_folder_isoGSM = os.path.join(new_dataset_dir, \"isoGSM/\", \"Original/\")\n",
    "\n",
    "old_folder = os.path.join(old_dataset_dir, \"iHadCM3/\", \"Original/\")"
   ]
  },
  {
   "cell_type": "code",
   "execution_count": 20,
   "id": "4a9c6666",
   "metadata": {},
   "outputs": [],
   "source": [
    "iso_new_iHadCM3 = nc.Dataset(os.path.join(new_folder_iHadCM3, \"isotopes_vrg.nc\"))\n",
    "iso_new_GISS = nc.Dataset(os.path.join(new_folder_GISS, \"isotopes_vrg.nc\"))\n",
    "iso_new_ECHAM5 = nc.Dataset(os.path.join(new_folder_ECHAM5, \"isotopes_vrg.nc\"))\n",
    "iso_new_iCESM = nc.Dataset(os.path.join(new_folder_iCESM, \"isotopes_vrg.nc\"))\n",
    "iso_new_isoGSM = nc.Dataset(os.path.join(new_folder_isoGSM, \"isotopes_vrg.nc\"))\n",
    "\n",
    "ns_iso_new_iHadCM3 = nc.Dataset(os.path.join(new_folder_iHadCM3, \"isotopes.nc\"))\n",
    "ns_iso_new_GISS = nc.Dataset(os.path.join(new_folder_GISS, \"isotopes.nc\"))\n",
    "ns_iso_new_ECHAM5 = nc.Dataset(os.path.join(new_folder_ECHAM5, \"isotopes.nc\"))\n",
    "ns_iso_new_iCESM = nc.Dataset(os.path.join(new_folder_iCESM, \"isotopes.nc\"))\n",
    "ns_iso_new_isoGSM = nc.Dataset(os.path.join(new_folder_isoGSM, \"isotopes.nc\"))\n",
    "\n",
    "tsurf_new_iHadCM3 = nc.Dataset(os.path.join(new_folder_iHadCM3, \"tsurf.nc\"))\n",
    "tsurf_new_GISS = nc.Dataset(os.path.join(new_folder_GISS, \"tsurf.nc\"))\n",
    "tsurf_new_ECHAM5 = nc.Dataset(os.path.join(new_folder_ECHAM5, \"tsurf.nc\"))\n",
    "tsurf_new_iCESM = nc.Dataset(os.path.join(new_folder_iCESM, \"tsurf.nc\"))\n",
    "tsurf_new_isoGSM = nc.Dataset(os.path.join(new_folder_isoGSM, \"tsurf.nc\"))\n",
    "\n",
    "prec_new_iHadCM3 = nc.Dataset(os.path.join(new_folder_iHadCM3, \"prec.nc\"))\n",
    "prec_new_GISS = nc.Dataset(os.path.join(new_folder_GISS, \"prec.nc\"))\n",
    "prec_new_ECHAM5 = nc.Dataset(os.path.join(new_folder_ECHAM5, \"prec.nc\"))\n",
    "prec_new_iCESM = nc.Dataset(os.path.join(new_folder_iCESM, \"prec.nc\"))\n",
    "prec_new_isoGSM = nc.Dataset(os.path.join(new_folder_isoGSM, \"prec.nc\"))\n",
    "\n",
    "iso_old = nc.Dataset(os.path.join(old_folder, \"isotopes.nc\"))\n",
    "tsurf_old = nc.Dataset(os.path.join(old_folder, \"temp.nc\"))\n",
    "prec_old = nc.Dataset(os.path.join(old_folder, \"precip.nc\"))\n",
    "oro_old = nc.Dataset(os.path.join(old_folder, \"oro.nc\"))\n",
    "\n",
    "\n",
    "y_iso_new_iHadCM3 = nc.Dataset(os.path.join(new_folder_iHadCM3, \"isotopes_yearly.nc\"))\n",
    "y_iso_new_GISS = nc.Dataset(os.path.join(new_folder_GISS, \"isotopes_yearly.nc\"))\n",
    "y_iso_new_ECHAM5 = nc.Dataset(os.path.join(new_folder_ECHAM5, \"isotopes_yearly.nc\"))\n",
    "y_iso_new_iCESM = nc.Dataset(os.path.join(new_folder_iCESM, \"isotopes_yearly.nc\"))\n",
    "y_iso_new_isoGSM = nc.Dataset(os.path.join(new_folder_isoGSM, \"isotopes_yearly.nc\"))\n",
    "\n",
    "y_tsurf_new_iHadCM3 = nc.Dataset(os.path.join(new_folder_iHadCM3, \"tsurf_yearly.nc\"))\n",
    "y_tsurf_new_GISS = nc.Dataset(os.path.join(new_folder_GISS, \"tsurf_yearly.nc\"))\n",
    "y_tsurf_new_ECHAM5 = nc.Dataset(os.path.join(new_folder_ECHAM5, \"tsurf_yearly.nc\"))\n",
    "y_tsurf_new_iCESM = nc.Dataset(os.path.join(new_folder_iCESM, \"tsurf_yearly.nc\"))\n",
    "y_tsurf_new_isoGSM = nc.Dataset(os.path.join(new_folder_isoGSM, \"tsurf_yearly.nc\"))\n",
    "\n",
    "y_prec_new_iHadCM3 = nc.Dataset(os.path.join(new_folder_iHadCM3, \"prec_yearly.nc\"))\n",
    "y_prec_new_GISS = nc.Dataset(os.path.join(new_folder_GISS, \"prec_yearly.nc\"))\n",
    "y_prec_new_ECHAM5 = nc.Dataset(os.path.join(new_folder_ECHAM5, \"prec_yearly.nc\"))\n",
    "y_prec_new_iCESM = nc.Dataset(os.path.join(new_folder_iCESM, \"prec_yearly.nc\"))\n",
    "y_prec_new_isoGSM = nc.Dataset(os.path.join(new_folder_isoGSM, \"prec_yearly.nc\"))\n",
    "\n",
    "y_iso_old = nc.Dataset(os.path.join(old_folder, \"isotopes_yearly.nc\"))\n",
    "y_tsurf_old = nc.Dataset(os.path.join(old_folder, \"temp_yearly.nc\"))\n",
    "y_prec_old = nc.Dataset(os.path.join(old_folder, \"precip_yearly.nc\"))\n",
    "y_oro_old = nc.Dataset(os.path.join(old_folder, \"oro_yearly.nc\"))"
   ]
  },
  {
   "cell_type": "markdown",
   "id": "cfa7f20f",
   "metadata": {},
   "source": [
    "# Calendars / time units"
   ]
  },
  {
   "cell_type": "code",
   "execution_count": 4,
   "id": "4a1d16fd",
   "metadata": {},
   "outputs": [],
   "source": [
    "files_monthly = [iso_new_iHadCM3, iso_new_GISS, iso_new_ECHAM5, iso_new_iCESM, iso_new_isoGSM,\n",
    "                 tsurf_new_iHadCM3, tsurf_new_GISS, tsurf_new_ECHAM5, tsurf_new_iCESM, tsurf_new_isoGSM,\n",
    "                 prec_new_iHadCM3, prec_new_GISS, prec_new_ECHAM5, prec_new_iCESM, prec_new_isoGSM,\n",
    "                 iso_old, tsurf_old, prec_old, oro_old]\n",
    "\n",
    "files_yearly = [y_iso_new_iHadCM3, y_iso_new_GISS, y_iso_new_ECHAM5, y_iso_new_iCESM, y_iso_new_isoGSM,\n",
    "                y_tsurf_new_iHadCM3, y_tsurf_new_GISS, y_tsurf_new_ECHAM5, y_tsurf_new_iCESM, y_tsurf_new_isoGSM,\n",
    "                y_prec_new_iHadCM3, y_prec_new_GISS, y_prec_new_ECHAM5, y_prec_new_iCESM, y_prec_new_isoGSM,\n",
    "                y_iso_old, y_tsurf_old, y_prec_old, y_oro_old]"
   ]
  },
  {
   "cell_type": "code",
   "execution_count": 5,
   "id": "d80009c5",
   "metadata": {},
   "outputs": [
    {
     "name": "stdout",
     "output_type": "stream",
     "text": [
      "months since 801-1-15 00:00:00\n",
      "month as %Y%m.%f\n",
      "day as %Y%m%d.%f\n",
      "months since 850-1-15 00:00:00\n",
      "months since 850-1-15 00:00:00\n",
      "months since 801-1-15 00:00:00\n",
      "month as %Y%m.%f\n",
      "day as %Y%m%d.%f\n",
      "days since 0850-01-01 00:00:00\n",
      "months since 850-1-15 00:00:00\n",
      "months since 801-1-15 00:00:00\n",
      "month as %Y%m.%f\n",
      "month as %Y%m.%f\n",
      "days since 0850-01-01 00:00:00\n",
      "months since 850-1-15 00:00:00\n",
      "days since 2350-12-01 00:00:00\n",
      "days since 2350-12-01 00:00:00\n",
      "days since 2350-12-01 00:00:00\n",
      "days since 0000-01-01 00:00:00\n",
      "\n",
      "months since 801-1-15 00:00:00\n",
      "month as %Y%m.%f\n",
      "day as %Y%m%d.%f\n",
      "months since 850-1-15 00:00:00\n",
      "months since 850-1-15 00:00:00\n",
      "months since 801-1-15 00:00:00\n",
      "month as %Y%m.%f\n",
      "day as %Y%m%d.%f\n",
      "days since 0850-01-01 00:00:00\n",
      "months since 850-1-15 00:00:00\n",
      "months since 801-1-15 00:00:00\n",
      "month as %Y%m.%f\n",
      "month as %Y%m.%f\n",
      "days since 0850-01-01 00:00:00\n",
      "months since 850-1-15 00:00:00\n",
      "days since 2350-12-01 00:00:00\n",
      "days since 2350-12-01 00:00:00\n",
      "days since 2350-12-01 00:00:00\n",
      "days since 0000-01-01 00:00:00\n"
     ]
    },
    {
     "name": "stderr",
     "output_type": "stream",
     "text": [
      "C:\\Users\\49159\\AppData\\Local\\Temp/ipykernel_15708/2606936519.py:3: DeprecationWarning: tostring() is deprecated. Use tobytes() instead.\n",
      "  print(f.variables[\"t\"].units)\n",
      "C:\\Users\\49159\\AppData\\Local\\Temp/ipykernel_15708/2606936519.py:5: DeprecationWarning: tostring() is deprecated. Use tobytes() instead.\n",
      "  print(f.variables[\"time\"].units)\n",
      "C:\\Users\\49159\\AppData\\Local\\Temp/ipykernel_15708/2606936519.py:10: DeprecationWarning: tostring() is deprecated. Use tobytes() instead.\n",
      "  print(f.variables[\"t\"].units)\n",
      "C:\\Users\\49159\\AppData\\Local\\Temp/ipykernel_15708/2606936519.py:12: DeprecationWarning: tostring() is deprecated. Use tobytes() instead.\n",
      "  print(f.variables[\"time\"].units)\n"
     ]
    }
   ],
   "source": [
    "for f in files_monthly:\n",
    "    try:\n",
    "        print(f.variables[\"t\"].units)\n",
    "    except:\n",
    "        print(f.variables[\"time\"].units)        \n",
    "        \n",
    "print()\n",
    "for f in files_yearly:\n",
    "    try:\n",
    "        print(f.variables[\"t\"].units)\n",
    "    except:\n",
    "        print(f.variables[\"time\"].units)        "
   ]
  },
  {
   "cell_type": "code",
   "execution_count": 6,
   "id": "a58e35fb",
   "metadata": {},
   "outputs": [],
   "source": [
    "def get_years_months(t, units, calendar):\n",
    "    \"\"\"\n",
    "    \"\"\"\n",
    "    if units == \"months since 801-1-15 00:00:00\":\n",
    "        years = 801 + t // 12\n",
    "        months = 0 + t % 12\n",
    "    elif units == \"month as %Y%m.%f\":\n",
    "        timesteps = [t_.split(\".\")[0] for t_ in t.astype(str)]\n",
    "        years = [int(t_[:-2]) for t_ in timesteps]\n",
    "        months = [int(t_[-2:])-1 for t_ in timesteps]  # want months to start with zero instead of one\n",
    "    elif units == \"day as %Y%m%d.%f\":\n",
    "        timesteps = [t_.split(\".\")[0] for t_ in t.astype(str)]\n",
    "        years = [int(t_[:-4]) for t_ in timesteps]\n",
    "        months = [int(t_[-4:-2])-1 for t_ in timesteps]  # want months to start with zero instead of one   \n",
    "    elif units == \"months since 850-1-15 00:00:00\":\n",
    "        years = 850 + t // 12\n",
    "        months = 0 + t % 12        \n",
    "    elif units == \"days since 0850-01-01 00:00:00\":\n",
    "        if calendar == \"365_day\":\n",
    "            years = 850 + t // 365\n",
    "            ds = [31,59,90,120,151,181,212,243,273,304,334,0]\n",
    "            months = [np.argmin(np.abs(ds - t_%365)) for t_ in t] \n",
    "    elif units == \"days since 2350-12-01 00:00:00\":\n",
    "        if calendar == \"360_day\":\n",
    "            y_ref = 654\n",
    "            m_ref = 11\n",
    "            years = - (y_ref) + 850 + (t // 360)  # in the dataset the year (2954) corresponds to year 850\n",
    "            months = (t+m_ref*30) % 360 // 30\n",
    "    elif units == \"days since 0000-01-01 00:00:00\":\n",
    "        return None, None\n",
    "    return years, months"
   ]
  },
  {
   "cell_type": "code",
   "execution_count": 7,
   "id": "bbc634f0",
   "metadata": {},
   "outputs": [
    {
     "name": "stderr",
     "output_type": "stream",
     "text": [
      "C:\\Users\\49159\\AppData\\Local\\Temp/ipykernel_15708/1841478533.py:3: DeprecationWarning: tostring() is deprecated. Use tobytes() instead.\n",
      "  units = f.variables[\"t\"].units\n",
      "C:\\Users\\49159\\AppData\\Local\\Temp/ipykernel_15708/1841478533.py:4: DeprecationWarning: tostring() is deprecated. Use tobytes() instead.\n",
      "  cal = f.variables[\"t\"].calendar\n"
     ]
    },
    {
     "name": "stdout",
     "output_type": "stream",
     "text": [
      "[850. 850. 850. 850. 850. 850. 850. 850. 850. 850.]\n",
      "[0. 1. 2. 3. 4. 5. 6. 7. 8. 9.]\n",
      "[1849. 1849. 1849. 1849. 1849. 1849. 1849. 1849. 1849. 1849.]\n",
      "[ 2.  3.  4.  5.  6.  7.  8.  9. 10. 11.]\n",
      "\n"
     ]
    },
    {
     "name": "stderr",
     "output_type": "stream",
     "text": [
      "C:\\Users\\49159\\AppData\\Local\\Temp/ipykernel_15708/1841478533.py:7: DeprecationWarning: tostring() is deprecated. Use tobytes() instead.\n",
      "  units = f.variables[\"time\"].units\n",
      "C:\\Users\\49159\\AppData\\Local\\Temp/ipykernel_15708/1841478533.py:8: DeprecationWarning: tostring() is deprecated. Use tobytes() instead.\n",
      "  cal = f.variables[\"time\"].calendar\n"
     ]
    },
    {
     "name": "stdout",
     "output_type": "stream",
     "text": [
      "[850, 850, 850, 850, 850, 850, 850, 850, 850, 850]\n",
      "[0, 1, 2, 3, 4, 5, 6, 7, 8, 9]\n",
      "[1849, 1849, 1849, 1849, 1849, 1849, 1849, 1849, 1849, 1849]\n",
      "[2, 3, 4, 5, 6, 7, 8, 9, 10, 11]\n",
      "\n",
      "[850, 850, 850, 850, 850, 850, 850, 850, 850, 850]\n",
      "[0, 1, 2, 3, 4, 5, 6, 7, 8, 9]\n",
      "[1849, 1849, 1849, 1849, 1849, 1849, 1849, 1849, 1849, 1849]\n",
      "[2, 3, 4, 5, 6, 7, 8, 9, 10, 11]\n",
      "\n",
      "[850. 850. 850. 850. 850. 850. 850. 850. 850. 850.]\n",
      "[0. 1. 2. 3. 4. 5. 6. 7. 8. 9.]\n",
      "[1849. 1849. 1849. 1849. 1849. 1849. 1849. 1849. 1849. 1849.]\n",
      "[ 2.  3.  4.  5.  6.  7.  8.  9. 10. 11.]\n",
      "\n",
      "[850. 850. 850. 850. 850. 850. 850. 850. 850. 850.]\n",
      "[0. 1. 2. 3. 4. 5. 6. 7. 8. 9.]\n",
      "[1849. 1849. 1849. 1849. 1849. 1849. 1849. 1849. 1849. 1849.]\n",
      "[ 2.  3.  4.  5.  6.  7.  8.  9. 10. 11.]\n",
      "\n",
      "[850. 850. 850. 850. 850. 850. 850. 850. 850. 850.]\n",
      "[0. 1. 2. 3. 4. 5. 6. 7. 8. 9.]\n",
      "[1849. 1849. 1849. 1849. 1849. 1849. 1849. 1849. 1849. 1849.]\n",
      "[ 2.  3.  4.  5.  6.  7.  8.  9. 10. 11.]\n",
      "\n",
      "[850, 850, 850, 850, 850, 850, 850, 850, 850, 850]\n",
      "[0, 1, 2, 3, 4, 5, 6, 7, 8, 9]\n",
      "[1849, 1849, 1849, 1849, 1849, 1849, 1849, 1849, 1849, 1849]\n",
      "[2, 3, 4, 5, 6, 7, 8, 9, 10, 11]\n",
      "\n",
      "[850, 850, 850, 850, 850, 850, 850, 850, 850, 850]\n",
      "[0, 1, 2, 3, 4, 5, 6, 7, 8, 9]\n",
      "[1849, 1849, 1849, 1849, 1849, 1849, 1849, 1849, 1849, 1849]\n",
      "[2, 3, 4, 5, 6, 7, 8, 9, 10, 11]\n",
      "\n",
      "[850. 850. 850. 850. 850. 850. 850. 850. 850. 850.]\n",
      "[0, 1, 2, 3, 4, 5, 6, 7, 8, 9]\n",
      "[1849. 1849. 1849. 1849. 1849. 1849. 1849. 1849. 1849. 1850.]\n",
      "[2, 3, 4, 5, 6, 7, 8, 9, 10, 11]\n",
      "\n",
      "[850. 850. 850. 850. 850. 850. 850. 850. 850. 850.]\n",
      "[0. 1. 2. 3. 4. 5. 6. 7. 8. 9.]\n",
      "[1849. 1849. 1849. 1849. 1849. 1849. 1849. 1849. 1849. 1849.]\n",
      "[ 2.  3.  4.  5.  6.  7.  8.  9. 10. 11.]\n",
      "\n",
      "[850. 850. 850. 850. 850. 850. 850. 850. 850. 850.]\n",
      "[0. 1. 2. 3. 4. 5. 6. 7. 8. 9.]\n",
      "[1849. 1849. 1849. 1849. 1849. 1849. 1849. 1849. 1849. 1849.]\n",
      "[ 2.  3.  4.  5.  6.  7.  8.  9. 10. 11.]\n",
      "\n",
      "[850, 850, 850, 850, 850, 850, 850, 850, 850, 850]\n",
      "[0, 1, 2, 3, 4, 5, 6, 7, 8, 9]\n",
      "[1849, 1849, 1849, 1849, 1849, 1849, 1849, 1849, 1849, 1849]\n",
      "[2, 3, 4, 5, 6, 7, 8, 9, 10, 11]\n",
      "\n",
      "[850, 850, 850, 850, 850, 850, 850, 850, 850, 850]\n",
      "[0, 1, 2, 3, 4, 5, 6, 7, 8, 9]\n",
      "[1849, 1849, 1849, 1849, 1849, 1849, 1849, 1849, 1849, 1849]\n",
      "[2, 3, 4, 5, 6, 7, 8, 9, 10, 11]\n",
      "\n",
      "[850. 850. 850. 850. 850. 850. 850. 850. 850. 850.]\n",
      "[0, 1, 2, 3, 4, 5, 6, 7, 8, 9]\n",
      "[1849. 1849. 1849. 1849. 1849. 1849. 1849. 1849. 1849. 1850.]\n",
      "[2, 3, 4, 5, 6, 7, 8, 9, 10, 11]\n",
      "\n",
      "[850. 850. 850. 850. 850. 850. 850. 850. 850. 850.]\n",
      "[0. 1. 2. 3. 4. 5. 6. 7. 8. 9.]\n",
      "[1849. 1849. 1849. 1849. 1849. 1849. 1849. 1849. 1849. 1849.]\n",
      "[ 2.  3.  4.  5.  6.  7.  8.  9. 10. 11.]\n",
      "\n",
      "[797. 797. 797. 797. 797. 797. 797. 797. 797. 797.]\n",
      "[11.  0.  1.  2.  3.  4.  5.  6.  7.  8.]\n",
      "[1948. 1948. 1948. 1948. 1948. 1948. 1948. 1948. 1948. 1948.]\n",
      "[11.  0.  1.  2.  3.  4.  5.  6.  7.  8.]\n",
      "\n",
      "[797. 797. 797. 797. 797. 797. 797. 797. 797. 797.]\n",
      "[11.  0.  1.  2.  3.  4.  5.  6.  7.  8.]\n",
      "[1948. 1948. 1948. 1948. 1948. 1948. 1948. 1948. 1948. 1948.]\n",
      "[11.  0.  1.  2.  3.  4.  5.  6.  7.  8.]\n",
      "\n",
      "[797. 797. 797. 797. 797. 797. 797. 797. 797. 797.]\n",
      "[11.  0.  1.  2.  3.  4.  5.  6.  7.  8.]\n",
      "[1948. 1948. 1948. 1948. 1948. 1948. 1948. 1948. 1948. 1948.]\n",
      "[11.  0.  1.  2.  3.  4.  5.  6.  7.  8.]\n",
      "\n",
      "\n",
      "[850. 851. 852. 853. 854. 855. 856. 857. 858. 859.]\n",
      "[5.5 5.5 5.5 5.5 5.5 5.5 5.5 5.5 5.5 5.5]\n",
      "[1840. 1841. 1842. 1843. 1844. 1845. 1846. 1847. 1848. 1849.]\n",
      "[5.5 5.5 5.5 5.5 5.5 5.5 5.5 5.5 5.5 5.5]\n",
      "\n"
     ]
    },
    {
     "name": "stderr",
     "output_type": "stream",
     "text": [
      "C:\\Users\\49159\\AppData\\Local\\Temp/ipykernel_15708/1841478533.py:23: DeprecationWarning: tostring() is deprecated. Use tobytes() instead.\n",
      "  units = f.variables[\"t\"].units\n",
      "C:\\Users\\49159\\AppData\\Local\\Temp/ipykernel_15708/1841478533.py:24: DeprecationWarning: tostring() is deprecated. Use tobytes() instead.\n",
      "  cal = f.variables[\"t\"].calendar\n",
      "C:\\Users\\49159\\AppData\\Local\\Temp/ipykernel_15708/1841478533.py:27: DeprecationWarning: tostring() is deprecated. Use tobytes() instead.\n",
      "  units = f.variables[\"time\"].units\n",
      "C:\\Users\\49159\\AppData\\Local\\Temp/ipykernel_15708/1841478533.py:28: DeprecationWarning: tostring() is deprecated. Use tobytes() instead.\n",
      "  cal = f.variables[\"time\"].calendar\n"
     ]
    },
    {
     "name": "stdout",
     "output_type": "stream",
     "text": [
      "[850, 851, 852, 853, 854, 855, 856, 857, 858, 859]\n",
      "[5, 5, 5, 5, 5, 5, 5, 5, 5, 5]\n",
      "[1840, 1841, 1842, 1843, 1844, 1845, 1846, 1847, 1848, 1849]\n",
      "[5, 5, 5, 5, 5, 5, 5, 5, 5, 5]\n",
      "\n",
      "[850, 851, 852, 853, 854, 855, 856, 857, 858, 859]\n",
      "[5, 5, 5, 5, 5, 5, 5, 5, 5, 5]\n",
      "[1840, 1841, 1842, 1843, 1844, 1845, 1846, 1847, 1848, 1849]\n",
      "[5, 5, 5, 5, 5, 5, 5, 5, 5, 5]\n",
      "\n",
      "[850. 851. 852. 853. 854. 855. 856. 857. 858. 859.]\n",
      "[5.48387097 5.48387097 5.48387097 5.48387097 5.48387097 5.48387097\n",
      " 5.48387097 5.48387097 5.48387097 5.48387097]\n",
      "[1840. 1841. 1842. 1843. 1844. 1845. 1846. 1847. 1848. 1849.]\n",
      "[5.48387097 5.48387097 5.48387097 5.48387097 5.48387097 5.48387097\n",
      " 5.48387097 5.48387097 5.48387097 5.48387097]\n",
      "\n",
      "[850. 851. 852. 853. 854. 855. 856. 857. 858. 859.]\n",
      "[5.48387097 5.48387097 5.48387097 5.48387097 5.48387097 5.48387097\n",
      " 5.48387097 5.48387097 5.48387097 5.48387097]\n",
      "[1840. 1841. 1842. 1843. 1844. 1845. 1846. 1847. 1848. 1849.]\n",
      "[5.48387097 5.48387097 5.48387097 5.48387097 5.48387097 5.48387097\n",
      " 5.48387097 5.48387097 5.48387097 5.48387097]\n",
      "\n",
      "[850. 851. 852. 853. 854. 855. 856. 857. 858. 859.]\n",
      "[5.5 5.5 5.5 5.5 5.5 5.5 5.5 5.5 5.5 5.5]\n",
      "[1840. 1841. 1842. 1843. 1844. 1845. 1846. 1847. 1848. 1849.]\n",
      "[5.5 5.5 5.5 5.5 5.5 5.5 5.5 5.5 5.5 5.5]\n",
      "\n",
      "[850, 851, 852, 853, 854, 855, 856, 857, 858, 859]\n",
      "[5, 5, 5, 5, 5, 5, 5, 5, 5, 5]\n",
      "[1840, 1841, 1842, 1843, 1844, 1845, 1846, 1847, 1848, 1849]\n",
      "[5, 5, 5, 5, 5, 5, 5, 5, 5, 5]\n",
      "\n",
      "[850, 851, 852, 853, 854, 855, 856, 857, 858, 859]\n",
      "[6, 6, 6, 6, 6, 6, 6, 6, 6, 6]\n",
      "[1840, 1841, 1842, 1843, 1844, 1845, 1846, 1847, 1848, 1849]\n",
      "[6, 6, 6, 6, 6, 6, 6, 6, 6, 6]\n",
      "\n",
      "[850. 851. 852. 853. 854. 855. 856. 857. 858. 859.]\n",
      "[5, 4, 4, 4, 4, 4, 4, 4, 4, 4]\n",
      "[1841. 1842. 1843. 1844. 1845. 1846. 1847. 1848. 1849. 1850.]\n",
      "[4, 4, 4, 4, 4, 4, 4, 4, 4, 11]\n",
      "\n",
      "[850. 851. 852. 853. 854. 855. 856. 857. 858. 859.]\n",
      "[5.48387097 5.48387097 5.48387097 5.48387097 5.48387097 5.48387097\n",
      " 5.48387097 5.48387097 5.48387097 5.48387097]\n",
      "[1840. 1841. 1842. 1843. 1844. 1845. 1846. 1847. 1848. 1849.]\n",
      "[5.48387097 5.48387097 5.48387097 5.48387097 5.48387097 5.48387097\n",
      " 5.48387097 5.48387097 5.48387097 5.48387097]\n",
      "\n",
      "[850. 851. 852. 853. 854. 855. 856. 857. 858. 859.]\n",
      "[5.5 5.5 5.5 5.5 5.5 5.5 5.5 5.5 5.5 5.5]\n",
      "[1840. 1841. 1842. 1843. 1844. 1845. 1846. 1847. 1848. 1849.]\n",
      "[5.5 5.5 5.5 5.5 5.5 5.5 5.5 5.5 5.5 5.5]\n",
      "\n",
      "[850, 851, 852, 853, 854, 855, 856, 857, 858, 859]\n",
      "[5, 5, 5, 5, 5, 5, 5, 5, 5, 5]\n",
      "[1840, 1841, 1842, 1843, 1844, 1845, 1846, 1847, 1848, 1849]\n",
      "[5, 5, 5, 5, 5, 5, 5, 5, 5, 5]\n",
      "\n",
      "[850, 851, 852, 853, 854, 855, 856, 857, 858, 859]\n",
      "[5, 5, 5, 5, 5, 5, 5, 5, 5, 5]\n",
      "[1840, 1841, 1842, 1843, 1844, 1845, 1846, 1847, 1848, 1849]\n",
      "[5, 5, 5, 5, 5, 5, 5, 5, 5, 5]\n",
      "\n",
      "[850. 851. 852. 853. 854. 855. 856. 857. 858. 859.]\n",
      "[5, 4, 4, 4, 4, 4, 4, 4, 4, 4]\n",
      "[1841. 1842. 1843. 1844. 1845. 1846. 1847. 1848. 1849. 1850.]\n",
      "[4, 4, 4, 4, 4, 4, 4, 4, 4, 11]\n",
      "\n",
      "[850. 851. 852. 853. 854. 855. 856. 857. 858. 859.]\n",
      "[5.48387097 5.48387097 5.48387097 5.48387097 5.48387097 5.48387097\n",
      " 5.48387097 5.48387097 5.48387097 5.48387097]\n",
      "[1840. 1841. 1842. 1843. 1844. 1845. 1846. 1847. 1848. 1849.]\n",
      "[5.48387097 5.48387097 5.48387097 5.48387097 5.48387097 5.48387097\n",
      " 5.48387097 5.48387097 5.48387097 5.48387097]\n",
      "\n",
      "[797. 797. 798. 799. 800. 801. 802. 803. 804. 805.]\n",
      "[11.  6.  6.  6.  6.  6.  6.  6.  6.  6.]\n",
      "[1939. 1940. 1941. 1942. 1943. 1944. 1945. 1946. 1947. 1948.]\n",
      "[6. 6. 6. 6. 6. 6. 6. 6. 6. 4.]\n",
      "\n",
      "[797. 797. 798. 799. 800. 801. 802. 803. 804. 805.]\n",
      "[11.  6.  6.  6.  6.  6.  6.  6.  6.  6.]\n",
      "[1939. 1940. 1941. 1942. 1943. 1944. 1945. 1946. 1947. 1948.]\n",
      "[6. 6. 6. 6. 6. 6. 6. 6. 6. 4.]\n",
      "\n",
      "[797. 797. 798. 799. 800. 801. 802. 803. 804. 805.]\n",
      "[11.  6.  6.  6.  6.  6.  6.  6.  6.  6.]\n",
      "[1939. 1940. 1941. 1942. 1943. 1944. 1945. 1946. 1947. 1948.]\n",
      "[6. 6. 6. 6. 6. 6. 6. 6. 6. 4.]\n",
      "\n"
     ]
    }
   ],
   "source": [
    "for f in files_monthly:\n",
    "    try:\n",
    "        units = f.variables[\"t\"].units\n",
    "        cal = f.variables[\"t\"].calendar\n",
    "        t = f.variables[\"t\"][:].data\n",
    "    except:\n",
    "        units = f.variables[\"time\"].units\n",
    "        cal = f.variables[\"time\"].calendar\n",
    "        t = f.variables[\"time\"][:].data\n",
    "        \n",
    "    years, months = get_years_months(t, units, cal) \n",
    "    if years is not None:\n",
    "        print(years[:10])\n",
    "        print(months[:10])\n",
    "        print(years[-10:])\n",
    "        print(months[-10:])\n",
    "        print()\n",
    "\n",
    "print()\n",
    "\n",
    "for f in files_yearly:\n",
    "    try:\n",
    "        units = f.variables[\"t\"].units\n",
    "        cal = f.variables[\"t\"].calendar\n",
    "        t = f.variables[\"t\"][:].data\n",
    "    except:\n",
    "        units = f.variables[\"time\"].units\n",
    "        cal = f.variables[\"time\"].calendar\n",
    "        t = f.variables[\"time\"][:].data\n",
    "        \n",
    "    years, months = get_years_months(t, units, cal)\n",
    "    if years is not None:\n",
    "        print(years[:10])\n",
    "        print(months[:10])\n",
    "        print(years[-10:])\n",
    "        print(months[-10:])\n",
    "        print()"
   ]
  },
  {
   "cell_type": "markdown",
   "id": "86cdcd81",
   "metadata": {},
   "source": [
    "# Histogram of isotopes"
   ]
  },
  {
   "cell_type": "code",
   "execution_count": 8,
   "id": "57a3997b",
   "metadata": {
    "scrolled": false
   },
   "outputs": [
    {
     "data": {
      "image/png": "[encoded data removed]",
      "text/plain": [
       "<Figure size 432x288 with 1 Axes>"
      ]
     },
     "metadata": {
      "needs_background": "light"
     },
     "output_type": "display_data"
    }
   ],
   "source": [
    "dold = iso_old[\"dO18\"][:][iso_old[\"dO18\"][:].mask == False].ravel()\n",
    "\n",
    "dnew_iHadCM3 = iso_new_iHadCM3[\"d18O\"][:][iso_new_iHadCM3[\"d18O\"][:].mask == False].ravel()\n",
    "dnew_GISS = iso_new_GISS[\"d18O\"][:][iso_new_GISS[\"d18O\"][:].mask == False].ravel()\n",
    "dnew_ECHAM5 = iso_new_ECHAM5[\"d18O\"][:][iso_new_ECHAM5[\"d18O\"][:].mask == False].ravel()\n",
    "dnew_iCESM = iso_new_iCESM[\"d18O\"][:][iso_new_iCESM[\"d18O\"][:].mask == False].ravel()\n",
    "dnew_isoGSM = iso_new_isoGSM[\"d18O\"][:][iso_new_isoGSM[\"d18O\"][:].mask == False].ravel()\n",
    "\n",
    "plt.hist([dnew_iHadCM3, dnew_GISS,dnew_ECHAM5,dnew_iCESM,dnew_isoGSM], density=True, label=['iHadCM3', 'GISS', 'ECHAM5', 'iCESM', 'isoGSM'])\n",
    "\n",
    "plt.legend()\n",
    "plt.yscale(\"log\")"
   ]
  },
  {
   "cell_type": "markdown",
   "id": "fd86d2af",
   "metadata": {},
   "source": [
    "# Missing values"
   ]
  },
  {
   "cell_type": "code",
   "execution_count": 9,
   "id": "d8db9187",
   "metadata": {},
   "outputs": [
    {
     "data": {
      "text/plain": [
       "<matplotlib.colorbar.Colorbar at 0x1c905900130>"
      ]
     },
     "execution_count": 9,
     "metadata": {},
     "output_type": "execute_result"
    },
    {
     "data": {
      "image/png": "[encoded data removed]",
      "text/plain": [
       "<Figure size 1152x648 with 6 Axes>"
      ]
     },
     "metadata": {
      "needs_background": "light"
     },
     "output_type": "display_data"
    }
   ],
   "source": [
    "fig, axes = plt.subplots(2, 3, figsize=(16,9))\n",
    "\n",
    "\n",
    "im1a = axes[0,0].pcolormesh(np.mean(iso_new_iHadCM3[\"d18O\"][:].mask, axis=(0,1)), cmap='magma', vmin=0, vmax=1)\n",
    "axes[0,0].set_title(\"iHadCM3\")\n",
    "axes[0,0].set_aspect(\"equal\")\n",
    "\n",
    "# giss has \"no missing values at all\" without preprocessing\n",
    "im1b = axes[0,1].pcolormesh(np.mean(iso_new_GISS[\"d18O\"][:].mask, axis=(0)), cmap='magma', vmin=0, vmax=1)\n",
    "# im1b = axes[0,1].pcolormesh(np.zeros_like(iso_new_GISS[\"d18O\"][:].data[0,...]), cmap='magma', vmin=0, vmax=1)\n",
    "axes[0,1].set_title(\"GISS\")\n",
    "axes[0,1].set_aspect(\"equal\")\n",
    "\n",
    "im1c = axes[0,2].pcolormesh(np.mean(iso_new_ECHAM5[\"d18O\"][:].mask, axis=(0,1)), cmap='magma', vmin=0, vmax=1)\n",
    "axes[0,2].set_title(\"ECHAM5\")\n",
    "axes[0,2].set_aspect(\"equal\")\n",
    "\n",
    "# icesm has \"no missing values at all\" without preprocessing\n",
    "im1d = axes[1,0].pcolormesh(np.mean(iso_new_iCESM[\"d18O\"][:].mask, axis=(0)), cmap='magma', vmin=0, vmax=1)\n",
    "# im1d = axes[1,0].pcolormesh(np.zeros_like(iso_new_iCESM[\"d18O\"][:].data[0,...]), cmap='magma', vmin=0, vmax=1)\n",
    "axes[1,0].set_title(\"iCESM\")\n",
    "axes[1,0].set_aspect(\"equal\")\n",
    "\n",
    "im1e = axes[1,1].pcolormesh(np.mean(iso_new_isoGSM[\"d18O\"][:].mask, axis=(0)), cmap='magma', vmin=0, vmax=1)\n",
    "axes[1,1].set_title(\"isoGSM\")\n",
    "axes[1,1].set_aspect(\"equal\")\n",
    "\n",
    "## access each axes object via axes.flat\n",
    "for ax in axes.flat:\n",
    "    ## check if something was plotted \n",
    "    if not bool(ax.has_data()):\n",
    "        fig.delaxes(ax) ## delete if nothing is plotted in the axes obj\n",
    "\n",
    "fig.tight_layout()\n",
    "\n",
    "fig.colorbar(im1a, ax=axes.ravel().tolist())"
   ]
  },
  {
   "cell_type": "markdown",
   "id": "dd63df23",
   "metadata": {},
   "source": [
    "# Missing values changes by setting range:"
   ]
  },
  {
   "cell_type": "code",
   "execution_count": 10,
   "id": "476f867b",
   "metadata": {},
   "outputs": [
    {
     "data": {
      "text/plain": [
       "<matplotlib.colorbar.Colorbar at 0x1c9059aa460>"
      ]
     },
     "execution_count": 10,
     "metadata": {},
     "output_type": "execute_result"
    },
    {
     "data": {
      "image/png": "[encoded data removed]",
      "text/plain": [
       "<Figure size 1152x648 with 6 Axes>"
      ]
     },
     "metadata": {
      "needs_background": "light"
     },
     "output_type": "display_data"
    }
   ],
   "source": [
    "fig, axes = plt.subplots(2, 3, figsize=(16,9))\n",
    "\n",
    "diff_iHadCM3 = np.mean(iso_new_iHadCM3[\"d18O\"][:].mask, axis=(0,1)) - np.mean(ns_iso_new_iHadCM3[\"d18O\"][:].mask, axis=(0,1))\n",
    "diff_GISS = np.mean(iso_new_GISS[\"d18O\"][:].mask, axis=(0)) - 0  # no nans in default case\n",
    "diff_ECHAM5 = np.mean(iso_new_ECHAM5[\"d18O\"][:].mask, axis=(0,1)) - np.mean(ns_iso_new_ECHAM5[\"d18O\"][:].mask, axis=(0,1))\n",
    "diff_iCESM = np.mean(iso_new_iCESM[\"d18O\"][:].mask, axis=(0)) - 0  # no nans in default case\n",
    "diff_isoGSM = np.mean(iso_new_isoGSM[\"d18O\"][:].mask, axis=(0)) - np.mean(ns_iso_new_isoGSM[\"d18O\"][:].mask, axis=(0))\n",
    "\n",
    "\n",
    "im1a = axes[0,0].pcolormesh(diff_iHadCM3, cmap='magma', vmin=0, vmax=0.2)\n",
    "axes[0,0].set_title(\"iHadCM3\")\n",
    "axes[0,0].set_aspect(\"equal\")\n",
    "\n",
    "# giss has \"no missing values at all\" without preprocessing\n",
    "im1b = axes[0,1].pcolormesh(diff_GISS, cmap='magma', vmin=0, vmax=0.2)\n",
    "# im1b = axes[0,1].pcolormesh(np.zeros_like(iso_new_GISS[\"d18O\"][:].data[0,...]), cmap='magma', vmin=0, vmax=1)\n",
    "axes[0,1].set_title(\"GISS\")\n",
    "axes[0,1].set_aspect(\"equal\")\n",
    "\n",
    "im1c = axes[0,2].pcolormesh(diff_ECHAM5, cmap='magma', vmin=0, vmax=0.2)\n",
    "axes[0,2].set_title(\"ECHAM5\")\n",
    "axes[0,2].set_aspect(\"equal\")\n",
    "\n",
    "# icesm has \"no missing values at all\" without preprocessing\n",
    "im1d = axes[1,0].pcolormesh(diff_iCESM, cmap='magma', vmin=0, vmax=0.2)\n",
    "# im1d = axes[1,0].pcolormesh(np.zeros_like(iso_new_iCESM[\"d18O\"][:].data[0,...]), cmap='magma', vmin=0, vmax=1)\n",
    "axes[1,0].set_title(\"iCESM\")\n",
    "axes[1,0].set_aspect(\"equal\")\n",
    "\n",
    "im1e = axes[1,1].pcolormesh(diff_isoGSM, cmap='magma', vmin=0, vmax=0.2)\n",
    "axes[1,1].set_title(\"isoGSM\")\n",
    "axes[1,1].set_aspect(\"equal\")\n",
    "\n",
    "## access each axes object via axes.flat\n",
    "for ax in axes.flat:\n",
    "    ## check if something was plotted \n",
    "    if not bool(ax.has_data()):\n",
    "        fig.delaxes(ax) ## delete if nothing is plotted in the axes obj\n",
    "\n",
    "fig.tight_layout()\n",
    "\n",
    "fig.colorbar(im1a, ax=axes.ravel().tolist())"
   ]
  },
  {
   "cell_type": "markdown",
   "id": "901548a8",
   "metadata": {},
   "source": [
    "# Latitudes and longitudes"
   ]
  },
  {
   "cell_type": "code",
   "execution_count": 11,
   "id": "62c1b399",
   "metadata": {},
   "outputs": [
    {
     "name": "stdout",
     "output_type": "stream",
     "text": [
      "dict_keys(['t', 'longitude', 'latitude', 'level-1_5', 'd18O'])\n",
      "dict_keys(['time', 'lon', 'lat', 'd18O'])\n",
      "dict_keys(['time', 'lon', 'lat', 'lev', 'hyai', 'hybi', 'hyam', 'hybm', 'd18O'])\n",
      "dict_keys(['time', 'lon', 'lat', 'd18O'])\n",
      "dict_keys(['time', 'longitude', 'latitude', 'd18O'])\n",
      "dict_keys(['t', 'longitude', 'latitude', 'surface', 'tsurf'])\n",
      "dict_keys(['time', 'lon', 'lat', 'tsurf'])\n",
      "dict_keys(['time', 'lon', 'lat', 'tsurf'])\n",
      "dict_keys(['time', 'time_bnds', 'lon', 'lat', 'tsurf'])\n",
      "dict_keys(['time', 'longitude', 'latitude', 'tsurf'])\n",
      "dict_keys(['t', 'longitude', 'latitude', 'surface', 'prec'])\n",
      "dict_keys(['time', 'lon', 'lat', 'prec'])\n",
      "dict_keys(['time', 'lon', 'lat', 'prec'])\n",
      "dict_keys(['time', 'time_bnds', 'lon', 'lat', 'prec'])\n",
      "dict_keys(['time', 'longitude', 'latitude', 'prec'])\n",
      "dict_keys(['t', 'longitude', 'latitude', 'level-1_4', 'level-1_5', 'level-1_6', 'h2o', 'dO18', 'dD'])\n",
      "dict_keys(['t', 'longitude', 'latitude', 'surface', 'temp_1', 'na_fill'])\n",
      "dict_keys(['t', 'longitude', 'latitude', 'surface', 'precip', 'na_fill'])\n",
      "dict_keys(['longitude', 'latitude', 'surface', 't', 'ht'])\n"
     ]
    }
   ],
   "source": [
    "for f in files_monthly:\n",
    "    print(f.variables.keys())"
   ]
  },
  {
   "cell_type": "markdown",
   "id": "1af3b0bd",
   "metadata": {},
   "source": [
    "# Missing values in predictor variables?"
   ]
  },
  {
   "cell_type": "code",
   "execution_count": 16,
   "id": "84fa853b",
   "metadata": {
    "scrolled": true
   },
   "outputs": [
    {
     "name": "stdout",
     "output_type": "stream",
     "text": [
      "112128\n",
      "0\n",
      "0\n",
      "0\n",
      "0\n",
      "\n",
      "112128\n",
      "0\n",
      "0\n",
      "0\n",
      "0\n",
      "\n",
      "0\n",
      "0\n",
      "0\n",
      "\n",
      "0\n",
      "0\n",
      "0\n",
      "0\n",
      "0\n",
      "\n",
      "0\n",
      "0\n",
      "0\n",
      "0\n",
      "0\n",
      "\n",
      "7008\n",
      "7008\n",
      "0\n",
      "0\n",
      "\n"
     ]
    }
   ],
   "source": [
    "tsurf_new_iHadCM3 = nc.Dataset(os.path.join(new_folder_iHadCM3, \"tsurf.nc\"))\n",
    "tsurf_new_GISS = nc.Dataset(os.path.join(new_folder_GISS, \"tsurf.nc\"))\n",
    "tsurf_new_ECHAM5 = nc.Dataset(os.path.join(new_folder_ECHAM5, \"tsurf.nc\"))\n",
    "tsurf_new_iCESM = nc.Dataset(os.path.join(new_folder_iCESM, \"tsurf.nc\"))\n",
    "tsurf_new_isoGSM = nc.Dataset(os.path.join(new_folder_isoGSM, \"tsurf.nc\"))\n",
    "\n",
    "prec_new_iHadCM3 = nc.Dataset(os.path.join(new_folder_iHadCM3, \"prec.nc\"))\n",
    "prec_new_GISS = nc.Dataset(os.path.join(new_folder_GISS, \"prec.nc\"))\n",
    "prec_new_ECHAM5 = nc.Dataset(os.path.join(new_folder_ECHAM5, \"prec.nc\"))\n",
    "prec_new_iCESM = nc.Dataset(os.path.join(new_folder_iCESM, \"prec.nc\"))\n",
    "prec_new_isoGSM = nc.Dataset(os.path.join(new_folder_isoGSM, \"prec.nc\"))\n",
    "\n",
    "tsurf_old = nc.Dataset(os.path.join(old_folder, \"temp.nc\"))\n",
    "prec_old = nc.Dataset(os.path.join(old_folder, \"precip.nc\"))\n",
    "slp_old = nc.Dataset(os.path.join(old_folder, \"slp_yearly.nc\"))\n",
    "oro_old = nc.Dataset(os.path.join(old_folder, \"oro.nc\"))\n",
    "\n",
    "print(np.sum(tsurf_new_iHadCM3.variables[\"tsurf\"][:].mask))\n",
    "print(np.sum(tsurf_new_GISS.variables[\"tsurf\"][:].mask))\n",
    "print(np.sum(tsurf_new_ECHAM5.variables[\"tsurf\"][:].mask))\n",
    "print(np.sum(tsurf_new_iCESM.variables[\"tsurf\"][:].mask))\n",
    "print(np.sum(tsurf_new_isoGSM.variables[\"tsurf\"][:].mask))\n",
    "print()\n",
    "\n",
    "print(np.sum(prec_new_iHadCM3.variables[\"prec\"][:].mask))\n",
    "print(np.sum(prec_new_GISS.variables[\"prec\"][:].mask))\n",
    "print(np.sum(prec_new_ECHAM5.variables[\"prec\"][:].mask))\n",
    "print(np.sum(prec_new_iCESM.variables[\"prec\"][:].mask))\n",
    "print(np.sum(prec_new_isoGSM.variables[\"prec\"][:].mask))\n",
    "print()\n",
    "\n",
    "print(np.sum(tsurf_old.variables[\"temp_1\"][:].mask))\n",
    "print(np.sum(prec_old.variables[\"precip\"][:].mask))\n",
    "print(np.sum(oro_old.variables[\"ht\"][:].mask))\n",
    "print()\n",
    "\n",
    "print(np.sum(y_tsurf_new_iHadCM3.variables[\"tsurf\"][:].mask))\n",
    "print(np.sum(y_tsurf_new_GISS.variables[\"tsurf\"][:].mask))\n",
    "print(np.sum(y_tsurf_new_ECHAM5.variables[\"tsurf\"][:].mask))\n",
    "print(np.sum(y_tsurf_new_iCESM.variables[\"tsurf\"][:].mask))\n",
    "print(np.sum(y_tsurf_new_isoGSM.variables[\"tsurf\"][:].mask))\n",
    "print()\n",
    "\n",
    "print(np.sum(y_prec_new_iHadCM3.variables[\"prec\"][:].mask))\n",
    "print(np.sum(y_prec_new_GISS.variables[\"prec\"][:].mask))\n",
    "print(np.sum(y_prec_new_ECHAM5.variables[\"prec\"][:].mask))\n",
    "print(np.sum(y_prec_new_iCESM.variables[\"prec\"][:].mask))\n",
    "print(np.sum(y_prec_new_isoGSM.variables[\"prec\"][:].mask))\n",
    "print()\n",
    "\n",
    "print(np.sum(y_tsurf_old.variables[\"temp_1\"][:].mask))\n",
    "print(np.sum(y_prec_old.variables[\"precip\"][:].mask))\n",
    "print(np.sum(y_oro_old.variables[\"ht\"][:].mask))\n",
    "print(np.sum(slp_old.variables[\"p\"][:].mask))\n",
    "print()"
   ]
  },
  {
   "cell_type": "code",
   "execution_count": 10,
   "id": "71cc9a6b",
   "metadata": {
    "scrolled": true
   },
   "outputs": [
    {
     "data": {
      "text/plain": [
       "<matplotlib.colorbar.Colorbar at 0x25f806d9d90>"
      ]
     },
     "execution_count": 10,
     "metadata": {},
     "output_type": "execute_result"
    },
    {
     "data": {
      "image/png": "[encoded data removed]",
      "text/plain": [
       "<Figure size 432x288 with 2 Axes>"
      ]
     },
     "metadata": {
      "needs_background": "light"
     },
     "output_type": "display_data"
    }
   ],
   "source": [
    "plt.imshow(np.average(tsurf_new_iHadCM3.variables[\"tsurf\"][:].mask, axis=(0,1)))\n",
    "plt.colorbar()"
   ]
  },
  {
   "cell_type": "markdown",
   "id": "134fb06f",
   "metadata": {},
   "source": [
    "# Missing pixels on yearly timescale?"
   ]
  },
  {
   "cell_type": "code",
   "execution_count": 24,
   "id": "3264542f",
   "metadata": {},
   "outputs": [
    {
     "data": {
      "text/plain": [
       "<matplotlib.colorbar.Colorbar at 0x25f80f372b0>"
      ]
     },
     "execution_count": 24,
     "metadata": {},
     "output_type": "execute_result"
    },
    {
     "data": {
      "image/png": "[encoded data removed]",
      "text/plain": [
       "<Figure size 1152x648 with 6 Axes>"
      ]
     },
     "metadata": {
      "needs_background": "light"
     },
     "output_type": "display_data"
    }
   ],
   "source": [
    "fig, axes = plt.subplots(2, 3, figsize=(16,9))\n",
    "\n",
    "\n",
    "im1a = axes[0,0].pcolormesh(np.mean(y_iso_new_iHadCM3[\"d18O\"][:].mask, axis=(0,1)), cmap='magma', vmin=0, vmax=1)\n",
    "axes[0,0].set_title(\"iHadCM3\")\n",
    "axes[0,0].set_aspect(\"equal\")\n",
    "\n",
    "# giss has \"no missing values at all\" without preprocessing\n",
    "im1b = axes[0,1].pcolormesh(np.mean(y_iso_new_GISS[\"d18O\"][:].mask, axis=(0)), cmap='magma', vmin=0, vmax=1)\n",
    "# im1b = axes[0,1].pcolormesh(np.zeros_like(iso_new_GISS[\"d18O\"][:].data[0,...]), cmap='magma', vmin=0, vmax=1)\n",
    "axes[0,1].set_title(\"GISS\")\n",
    "axes[0,1].set_aspect(\"equal\")\n",
    "\n",
    "im1c = axes[0,2].pcolormesh(np.mean(y_iso_new_ECHAM5[\"d18O\"][:].mask, axis=(0,1)), cmap='magma', vmin=0, vmax=1)\n",
    "axes[0,2].set_title(\"ECHAM5\")\n",
    "axes[0,2].set_aspect(\"equal\")\n",
    "\n",
    "# icesm has \"no missing values at all\" without preprocessing\n",
    "# im1d = axes[1,0].pcolormesh(np.mean(y_iso_new_iCESM[\"d18O\"][:].mask, axis=(0)), cmap='magma', vmin=0, vmax=1)\n",
    "im1d = axes[1,0].pcolormesh(np.zeros_like(iso_new_iCESM[\"d18O\"][:].data[0,...]), cmap='magma', vmin=0, vmax=1)\n",
    "axes[1,0].set_title(\"iCESM\")\n",
    "axes[1,0].set_aspect(\"equal\")\n",
    "\n",
    "im1e = axes[1,1].pcolormesh(np.mean(y_iso_new_isoGSM[\"d18O\"][:].mask, axis=(0)), cmap='magma', vmin=0, vmax=1)\n",
    "axes[1,1].set_title(\"isoGSM\")\n",
    "axes[1,1].set_aspect(\"equal\")\n",
    "\n",
    "## access each axes object via axes.flat\n",
    "for ax in axes.flat:\n",
    "    ## check if something was plotted \n",
    "    if not bool(ax.has_data()):\n",
    "        fig.delaxes(ax) ## delete if nothing is plotted in the axes obj\n",
    "\n",
    "fig.tight_layout()\n",
    "\n",
    "fig.colorbar(im1a, ax=axes.ravel().tolist())"
   ]
  },
  {
   "cell_type": "code",
   "execution_count": null,
   "id": "fb4518b8",
   "metadata": {},
   "outputs": [],
   "source": []
  }
 ],
 "metadata": {
  "kernelspec": {
   "display_name": "Python 3 (ipykernel)",
   "language": "python",
   "name": "python3"
  },
  "language_info": {
   "codemirror_mode": {
    "name": "ipython",
    "version": 3
   },
   "file_extension": ".py",
   "mimetype": "text/x-python",
   "name": "python",
   "nbconvert_exporter": "python",
   "pygments_lexer": "ipython3",
   "version": "3.8.0"
  }
 },
 "nbformat": 4,
 "nbformat_minor": 5
}
