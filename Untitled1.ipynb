{
 "cells": [
  {
   "cell_type": "code",
   "execution_count": 5,
   "id": "b8a03737",
   "metadata": {},
   "outputs": [],
   "source": [
    "import netCDF4 as nc\n",
    "import os\n",
    "import re\n",
    "import numpy as np\n",
    "from datetime import datetime\n",
    "import matplotlib.pyplot as plt\n",
    "\n",
    "from util import get_year_mon_day_from_timesteps"
   ]
  },
  {
   "cell_type": "code",
   "execution_count": 6,
   "id": "0f9af67f",
   "metadata": {},
   "outputs": [],
   "source": [
    "old_dataset_dir = \"Datasets_old/\"\n",
    "new_dataset_dir  = \"Datasets/\"\n",
    "\n",
    "\n",
    "new_folder_iHadCM3 = os.path.join(new_dataset_dir, \"iHadCM3/\", \"Original/\")\n",
    "new_folder_GISS = os.path.join(new_dataset_dir, \"GISS/\", \"Original/\")\n",
    "new_folder_ECHAM5 = os.path.join(new_dataset_dir, \"ECHAM5/\", \"Original/\")\n",
    "new_folder_iCESM = os.path.join(new_dataset_dir, \"iCESM/\", \"Original/\")\n",
    "new_folder_isoGSM = os.path.join(new_dataset_dir, \"isoGSM/\", \"Original/\")\n",
    "\n",
    "old_folder = os.path.join(old_dataset_dir, \"iHadCM3/\", \"Original/\")"
   ]
  },
  {
   "cell_type": "code",
   "execution_count": 213,
   "id": "4a9c6666",
   "metadata": {},
   "outputs": [],
   "source": [
    "iso_new_iHadCM3 = nc.Dataset(os.path.join(new_folder_iHadCM3, \"isotopes_vrg.nc\"))\n",
    "iso_new_GISS = nc.Dataset(os.path.join(new_folder_GISS, \"isotopes_vrg.nc\"))\n",
    "iso_new_ECHAM5 = nc.Dataset(os.path.join(new_folder_ECHAM5, \"isotopes_vrg.nc\"))\n",
    "iso_new_iCESM = nc.Dataset(os.path.join(new_folder_iCESM, \"isotopes_vrg.nc\"))\n",
    "iso_new_isoGSM = nc.Dataset(os.path.join(new_folder_isoGSM, \"isotopes_vrg.nc\"))\n",
    "\n",
    "tsurf_new_iHadCM3 = nc.Dataset(os.path.join(new_folder_iHadCM3, \"tsurf.nc\"))\n",
    "tsurf_new_GISS = nc.Dataset(os.path.join(new_folder_GISS, \"tsurf.nc\"))\n",
    "tsurf_new_ECHAM5 = nc.Dataset(os.path.join(new_folder_ECHAM5, \"tsurf.nc\"))\n",
    "tsurf_new_iCESM = nc.Dataset(os.path.join(new_folder_iCESM, \"tsurf.nc\"))\n",
    "tsurf_new_isoGSM = nc.Dataset(os.path.join(new_folder_isoGSM, \"tsurf.nc\"))\n",
    "\n",
    "prec_new_iHadCM3 = nc.Dataset(os.path.join(new_folder_iHadCM3, \"prec.nc\"))\n",
    "prec_new_GISS = nc.Dataset(os.path.join(new_folder_GISS, \"prec.nc\"))\n",
    "prec_new_ECHAM5 = nc.Dataset(os.path.join(new_folder_ECHAM5, \"prec.nc\"))\n",
    "prec_new_iCESM = nc.Dataset(os.path.join(new_folder_iCESM, \"prec.nc\"))\n",
    "prec_new_isoGSM = nc.Dataset(os.path.join(new_folder_isoGSM, \"prec.nc\"))\n",
    "\n",
    "iso_old = nc.Dataset(os.path.join(old_folder, \"isotopes_monthly.nc\"))\n",
    "tsurf_old = nc.Dataset(os.path.join(old_folder, \"temp_monthly.nc\"))\n",
    "prec_old = nc.Dataset(os.path.join(old_folder, \"precip_monthly.nc\"))\n",
    "oro_old = nc.Dataset(os.path.join(old_folder, \"oro_monthly.nc\"))\n",
    "\n",
    "\n",
    "y_iso_new_iHadCM3 = nc.Dataset(os.path.join(new_folder_iHadCM3, \"isotopes_yearly.nc\"))\n",
    "y_iso_new_GISS = nc.Dataset(os.path.join(new_folder_GISS, \"isotopes_yearly.nc\"))\n",
    "y_iso_new_ECHAM5 = nc.Dataset(os.path.join(new_folder_ECHAM5, \"isotopes_yearly.nc\"))\n",
    "y_iso_new_iCESM = nc.Dataset(os.path.join(new_folder_iCESM, \"isotopes_yearly.nc\"))\n",
    "y_iso_new_isoGSM = nc.Dataset(os.path.join(new_folder_isoGSM, \"isotopes_yearly.nc\"))\n",
    "\n",
    "y_tsurf_new_iHadCM3 = nc.Dataset(os.path.join(new_folder_iHadCM3, \"tsurf_yearly.nc\"))\n",
    "y_tsurf_new_GISS = nc.Dataset(os.path.join(new_folder_GISS, \"tsurf_yearly.nc\"))\n",
    "y_tsurf_new_ECHAM5 = nc.Dataset(os.path.join(new_folder_ECHAM5, \"tsurf_yearly.nc\"))\n",
    "y_tsurf_new_iCESM = nc.Dataset(os.path.join(new_folder_iCESM, \"tsurf_yearly.nc\"))\n",
    "y_tsurf_new_isoGSM = nc.Dataset(os.path.join(new_folder_isoGSM, \"tsurf_yearly.nc\"))\n",
    "\n",
    "y_prec_new_iHadCM3 = nc.Dataset(os.path.join(new_folder_iHadCM3, \"prec_yearly.nc\"))\n",
    "y_prec_new_GISS = nc.Dataset(os.path.join(new_folder_GISS, \"prec_yearly.nc\"))\n",
    "y_prec_new_ECHAM5 = nc.Dataset(os.path.join(new_folder_ECHAM5, \"prec_yearly.nc\"))\n",
    "y_prec_new_iCESM = nc.Dataset(os.path.join(new_folder_iCESM, \"prec_yearly.nc\"))\n",
    "y_prec_new_isoGSM = nc.Dataset(os.path.join(new_folder_isoGSM, \"prec_yearly.nc\"))\n",
    "\n",
    "y_iso_old = nc.Dataset(os.path.join(old_folder, \"isotopes.nc\"))\n",
    "y_tsurf_old = nc.Dataset(os.path.join(old_folder, \"temp.nc\"))\n",
    "y_prec_old = nc.Dataset(os.path.join(old_folder, \"precip.nc\"))\n",
    "y_oro_old = nc.Dataset(os.path.join(old_folder, \"oro.nc\"))"
   ]
  },
  {
   "cell_type": "code",
   "execution_count": 214,
   "id": "2057187c",
   "metadata": {},
   "outputs": [],
   "source": [
    "files_monthly = [iso_new_iHadCM3, iso_new_GISS, iso_new_ECHAM5, iso_new_iCESM, iso_new_isoGSM,\n",
    "                 tsurf_new_iHadCM3, tsurf_new_GISS, tsurf_new_ECHAM5, tsurf_new_iCESM, tsurf_new_isoGSM,\n",
    "                 prec_new_iHadCM3, prec_new_GISS, prec_new_ECHAM5, prec_new_iCESM, prec_new_isoGSM,\n",
    "                 iso_old, tsurf_old, prec_old, oro_old]\n",
    "\n",
    "files_yearly = [y_iso_new_iHadCM3, y_iso_new_GISS, y_iso_new_ECHAM5, y_iso_new_iCESM, y_iso_new_isoGSM,\n",
    "                y_tsurf_new_iHadCM3, y_tsurf_new_GISS, y_tsurf_new_ECHAM5, y_tsurf_new_iCESM, y_tsurf_new_isoGSM,\n",
    "                y_prec_new_iHadCM3, y_prec_new_GISS, y_prec_new_ECHAM5, y_prec_new_iCESM, y_prec_new_isoGSM,\n",
    "                y_iso_old, y_tsurf_old, y_prec_old, y_oro_old]"
   ]
  },
  {
   "cell_type": "code",
   "execution_count": 217,
   "id": "bbf1a174",
   "metadata": {},
   "outputs": [
    {
     "name": "stdout",
     "output_type": "stream",
     "text": [
      "months since 801-1-15 00:00:00\n",
      "month as %Y%m.%f\n",
      "day as %Y%m%d.%f\n",
      "months since 850-1-15 00:00:00\n",
      "months since 850-1-15 00:00:00\n",
      "months since 801-1-15 00:00:00\n",
      "month as %Y%m.%f\n",
      "day as %Y%m%d.%f\n",
      "days since 0850-01-01 00:00:00\n",
      "months since 850-1-15 00:00:00\n",
      "months since 801-1-15 00:00:00\n",
      "month as %Y%m.%f\n",
      "month as %Y%m.%f\n",
      "days since 0850-01-01 00:00:00\n",
      "months since 850-1-15 00:00:00\n",
      "days since 2350-12-01 00:00:00\n",
      "days since 2350-12-01 00:00:00\n",
      "days since 2350-12-01 00:00:00\n",
      "days since 0000-01-01 00:00:00\n",
      "\n",
      "months since 801-1-15 00:00:00\n",
      "month as %Y%m.%f\n",
      "day as %Y%m%d.%f\n",
      "months since 850-1-15 00:00:00\n",
      "months since 850-1-15 00:00:00\n",
      "months since 801-1-15 00:00:00\n",
      "month as %Y%m.%f\n",
      "day as %Y%m%d.%f\n",
      "days since 0850-01-01 00:00:00\n",
      "months since 850-1-15 00:00:00\n",
      "months since 801-1-15 00:00:00\n",
      "month as %Y%m.%f\n",
      "month as %Y%m.%f\n",
      "days since 0850-01-01 00:00:00\n",
      "months since 850-1-15 00:00:00\n",
      "days since 2350-12-01 00:00:00\n",
      "days since 2350-12-01 00:00:00\n",
      "days since 2350-12-01 00:00:00\n",
      "days since 0000-01-01 00:00:00\n"
     ]
    },
    {
     "name": "stderr",
     "output_type": "stream",
     "text": [
      "C:\\Users\\49159\\AppData\\Local\\Temp/ipykernel_17264/2606936519.py:3: DeprecationWarning: tostring() is deprecated. Use tobytes() instead.\n",
      "  print(f.variables[\"t\"].units)\n",
      "C:\\Users\\49159\\AppData\\Local\\Temp/ipykernel_17264/2606936519.py:5: DeprecationWarning: tostring() is deprecated. Use tobytes() instead.\n",
      "  print(f.variables[\"time\"].units)\n",
      "C:\\Users\\49159\\AppData\\Local\\Temp/ipykernel_17264/2606936519.py:10: DeprecationWarning: tostring() is deprecated. Use tobytes() instead.\n",
      "  print(f.variables[\"t\"].units)\n",
      "C:\\Users\\49159\\AppData\\Local\\Temp/ipykernel_17264/2606936519.py:12: DeprecationWarning: tostring() is deprecated. Use tobytes() instead.\n",
      "  print(f.variables[\"time\"].units)\n"
     ]
    }
   ],
   "source": [
    "for f in files_monthly:\n",
    "    try:\n",
    "        print(f.variables[\"t\"].units)\n",
    "    except:\n",
    "        print(f.variables[\"time\"].units)        \n",
    "        \n",
    "print()\n",
    "for f in files_yearly:\n",
    "    try:\n",
    "        print(f.variables[\"t\"].units)\n",
    "    except:\n",
    "        print(f.variables[\"time\"].units)        "
   ]
  },
  {
   "cell_type": "code",
   "execution_count": 225,
   "id": "00f8ae28",
   "metadata": {},
   "outputs": [],
   "source": [
    "def get_years_months(t, units, calendar):\n",
    "    \"\"\"\n",
    "    \"\"\"\n",
    "    if units == \"months since 801-1-15 00:00:00\":\n",
    "        years = 801 + t // 12\n",
    "        months = 0 + t % 12\n",
    "    elif units == \"month as %Y%m.%f\":\n",
    "        timesteps = [t_.split(\".\")[0] for t_ in t.astype(str)]\n",
    "        years = [int(t_[:-2]) for t_ in timesteps]\n",
    "        months = [int(t_[-2:])-1 for t_ in timesteps]  # want months to start with zero instead of one\n",
    "    elif units == \"day as %Y%m%d.%f\":\n",
    "        timesteps = [t_.split(\".\")[0] for t_ in t.astype(str)]\n",
    "        years = [int(t_[:-4]) for t_ in timesteps]\n",
    "        months = [int(t_[-4:-2])-1 for t_ in timesteps]  # want months to start with zero instead of one   \n",
    "    elif units == \"months since 850-1-15 00:00:00\":\n",
    "        years = 850 + t // 12\n",
    "        months = 0 + t % 12        \n",
    "    elif units == \"days since 0850-01-01 00:00:00\":\n",
    "        if calendar == \"365_day\":\n",
    "            years = 850 + t // 365\n",
    "            ds = [31,59,90,120,151,181,212,243,273,304,334,0]\n",
    "            months = [np.argmin(np.abs(ds - t_%365)) for t_ in t] \n",
    "    elif units == \"days since 2350-12-01 00:00:00\":\n",
    "        if calendar == \"360_day\":\n",
    "            y_ref = 654\n",
    "            m_ref = 11\n",
    "            years = - (y_ref) + 850 + (t // 360)  # in the dataset the year (2954) corresponds to year 850\n",
    "            months = (t+m_ref*30) % 360 // 30\n",
    "    elif units == \"days since 0000-01-01 00:00:00\":\n",
    "        return None, None\n",
    "    return years, months"
   ]
  },
  {
   "cell_type": "code",
   "execution_count": 226,
   "id": "0b70cea8",
   "metadata": {},
   "outputs": [
    {
     "name": "stderr",
     "output_type": "stream",
     "text": [
      "C:\\Users\\49159\\AppData\\Local\\Temp/ipykernel_17264/1841478533.py:3: DeprecationWarning: tostring() is deprecated. Use tobytes() instead.\n",
      "  units = f.variables[\"t\"].units\n",
      "C:\\Users\\49159\\AppData\\Local\\Temp/ipykernel_17264/1841478533.py:4: DeprecationWarning: tostring() is deprecated. Use tobytes() instead.\n",
      "  cal = f.variables[\"t\"].calendar\n",
      "C:\\Users\\49159\\AppData\\Local\\Temp/ipykernel_17264/1841478533.py:7: DeprecationWarning: tostring() is deprecated. Use tobytes() instead.\n",
      "  units = f.variables[\"time\"].units\n",
      "C:\\Users\\49159\\AppData\\Local\\Temp/ipykernel_17264/1841478533.py:8: DeprecationWarning: tostring() is deprecated. Use tobytes() instead.\n",
      "  cal = f.variables[\"time\"].calendar\n"
     ]
    },
    {
     "name": "stdout",
     "output_type": "stream",
     "text": [
      "[850. 850. 850. 850. 850. 850. 850. 850. 850. 850.]\n",
      "[0. 1. 2. 3. 4. 5. 6. 7. 8. 9.]\n",
      "[1849. 1849. 1849. 1849. 1849. 1849. 1849. 1849. 1849. 1849.]\n",
      "[ 2.  3.  4.  5.  6.  7.  8.  9. 10. 11.]\n",
      "\n",
      "[850, 850, 850, 850, 850, 850, 850, 850, 850, 850]\n",
      "[0, 1, 2, 3, 4, 5, 6, 7, 8, 9]\n",
      "[1849, 1849, 1849, 1849, 1849, 1849, 1849, 1849, 1849, 1849]\n",
      "[2, 3, 4, 5, 6, 7, 8, 9, 10, 11]\n",
      "\n",
      "[850, 850, 850, 850, 850, 850, 850, 850, 850, 850]\n",
      "[0, 1, 2, 3, 4, 5, 6, 7, 8, 9]\n",
      "[1849, 1849, 1849, 1849, 1849, 1849, 1849, 1849, 1849, 1849]\n",
      "[2, 3, 4, 5, 6, 7, 8, 9, 10, 11]\n",
      "\n",
      "[850. 850. 850. 850. 850. 850. 850. 850. 850. 850.]\n",
      "[0. 1. 2. 3. 4. 5. 6. 7. 8. 9.]\n",
      "[1849. 1849. 1849. 1849. 1849. 1849. 1849. 1849. 1849. 1849.]\n",
      "[ 2.  3.  4.  5.  6.  7.  8.  9. 10. 11.]\n",
      "\n",
      "[850. 850. 850. 850. 850. 850. 850. 850. 850. 850.]\n",
      "[0. 1. 2. 3. 4. 5. 6. 7. 8. 9.]\n",
      "[1849. 1849. 1849. 1849. 1849. 1849. 1849. 1849. 1849. 1849.]\n",
      "[ 2.  3.  4.  5.  6.  7.  8.  9. 10. 11.]\n",
      "\n",
      "[850. 850. 850. 850. 850. 850. 850. 850. 850. 850.]\n",
      "[0. 1. 2. 3. 4. 5. 6. 7. 8. 9.]\n",
      "[1849. 1849. 1849. 1849. 1849. 1849. 1849. 1849. 1849. 1849.]\n",
      "[ 2.  3.  4.  5.  6.  7.  8.  9. 10. 11.]\n",
      "\n",
      "[850, 850, 850, 850, 850, 850, 850, 850, 850, 850]\n",
      "[0, 1, 2, 3, 4, 5, 6, 7, 8, 9]\n",
      "[1849, 1849, 1849, 1849, 1849, 1849, 1849, 1849, 1849, 1849]\n",
      "[2, 3, 4, 5, 6, 7, 8, 9, 10, 11]\n",
      "\n",
      "[850, 850, 850, 850, 850, 850, 850, 850, 850, 850]\n",
      "[0, 1, 2, 3, 4, 5, 6, 7, 8, 9]\n",
      "[1849, 1849, 1849, 1849, 1849, 1849, 1849, 1849, 1849, 1849]\n",
      "[2, 3, 4, 5, 6, 7, 8, 9, 10, 11]\n",
      "\n",
      "[850. 850. 850. 850. 850. 850. 850. 850. 850. 850.]\n",
      "[0, 1, 2, 3, 4, 5, 6, 7, 8, 9]\n",
      "[1849. 1849. 1849. 1849. 1849. 1849. 1849. 1849. 1849. 1850.]\n",
      "[2, 3, 4, 5, 6, 7, 8, 9, 10, 11]\n",
      "\n",
      "[850. 850. 850. 850. 850. 850. 850. 850. 850. 850.]\n",
      "[0. 1. 2. 3. 4. 5. 6. 7. 8. 9.]\n",
      "[1849. 1849. 1849. 1849. 1849. 1849. 1849. 1849. 1849. 1849.]\n",
      "[ 2.  3.  4.  5.  6.  7.  8.  9. 10. 11.]\n",
      "\n",
      "[850. 850. 850. 850. 850. 850. 850. 850. 850. 850.]\n",
      "[0. 1. 2. 3. 4. 5. 6. 7. 8. 9.]\n",
      "[1849. 1849. 1849. 1849. 1849. 1849. 1849. 1849. 1849. 1849.]\n",
      "[ 2.  3.  4.  5.  6.  7.  8.  9. 10. 11.]\n",
      "\n",
      "[850, 850, 850, 850, 850, 850, 850, 850, 850, 850]\n",
      "[0, 1, 2, 3, 4, 5, 6, 7, 8, 9]\n",
      "[1849, 1849, 1849, 1849, 1849, 1849, 1849, 1849, 1849, 1849]\n",
      "[2, 3, 4, 5, 6, 7, 8, 9, 10, 11]\n",
      "\n",
      "[850, 850, 850, 850, 850, 850, 850, 850, 850, 850]\n",
      "[0, 1, 2, 3, 4, 5, 6, 7, 8, 9]\n",
      "[1849, 1849, 1849, 1849, 1849, 1849, 1849, 1849, 1849, 1849]\n",
      "[2, 3, 4, 5, 6, 7, 8, 9, 10, 11]\n",
      "\n",
      "[850. 850. 850. 850. 850. 850. 850. 850. 850. 850.]\n",
      "[0, 1, 2, 3, 4, 5, 6, 7, 8, 9]\n",
      "[1849. 1849. 1849. 1849. 1849. 1849. 1849. 1849. 1849. 1850.]\n",
      "[2, 3, 4, 5, 6, 7, 8, 9, 10, 11]\n",
      "\n",
      "[850. 850. 850. 850. 850. 850. 850. 850. 850. 850.]\n",
      "[0. 1. 2. 3. 4. 5. 6. 7. 8. 9.]\n",
      "[1849. 1849. 1849. 1849. 1849. 1849. 1849. 1849. 1849. 1849.]\n",
      "[ 2.  3.  4.  5.  6.  7.  8.  9. 10. 11.]\n",
      "\n",
      "[797. 797. 797. 797. 797. 797. 797. 797. 797. 797.]\n",
      "[11.  0.  1.  2.  3.  4.  5.  6.  7.  8.]\n",
      "[1948. 1948. 1948. 1948. 1948. 1948. 1948. 1948. 1948. 1948.]\n",
      "[11.  0.  1.  2.  3.  4.  5.  6.  7.  8.]\n",
      "\n",
      "[797. 797. 797. 797. 797. 797. 797. 797. 797. 797.]\n",
      "[11.  0.  1.  2.  3.  4.  5.  6.  7.  8.]\n",
      "[1948. 1948. 1948. 1948. 1948. 1948. 1948. 1948. 1948. 1948.]\n",
      "[11.  0.  1.  2.  3.  4.  5.  6.  7.  8.]\n",
      "\n",
      "[797. 797. 797. 797. 797. 797. 797. 797. 797. 797.]\n",
      "[11.  0.  1.  2.  3.  4.  5.  6.  7.  8.]\n",
      "[1948. 1948. 1948. 1948. 1948. 1948. 1948. 1948. 1948. 1948.]\n",
      "[11.  0.  1.  2.  3.  4.  5.  6.  7.  8.]\n",
      "\n",
      "\n",
      "[850. 851. 852. 853. 854. 855. 856. 857. 858. 859.]\n",
      "[5.5 5.5 5.5 5.5 5.5 5.5 5.5 5.5 5.5 5.5]\n",
      "[1840. 1841. 1842. 1843. 1844. 1845. 1846. 1847. 1848. 1849.]\n",
      "[5.5 5.5 5.5 5.5 5.5 5.5 5.5 5.5 5.5 5.5]\n",
      "\n",
      "[850, 851, 852, 853, 854, 855, 856, 857, 858, 859]\n",
      "[5, 5, 5, 5, 5, 5, 5, 5, 5, 5]\n",
      "[1840, 1841, 1842, 1843, 1844, 1845, 1846, 1847, 1848, 1849]\n",
      "[5, 5, 5, 5, 5, 5, 5, 5, 5, 5]\n",
      "\n",
      "[850, 851, 852, 853, 854, 855, 856, 857, 858, 859]\n",
      "[5, 5, 5, 5, 5, 5, 5, 5, 5, 5]\n",
      "[1840, 1841, 1842, 1843, 1844, 1845, 1846, 1847, 1848, 1849]\n",
      "[5, 5, 5, 5, 5, 5, 5, 5, 5, 5]\n",
      "\n",
      "[850. 851. 852. 853. 854. 855. 856. 857. 858. 859.]\n",
      "[5.48387097 5.48387097 5.48387097 5.48387097 5.48387097 5.48387097\n",
      " 5.48387097 5.48387097 5.48387097 5.48387097]\n",
      "[1840. 1841. 1842. 1843. 1844. 1845. 1846. 1847. 1848. 1849.]\n",
      "[5.48387097 5.48387097 5.48387097 5.48387097 5.48387097 5.48387097\n",
      " 5.48387097 5.48387097 5.48387097 5.48387097]\n",
      "\n",
      "[850. 851. 852. 853. 854. 855. 856. 857. 858. 859.]\n",
      "[5.48387097 5.48387097 5.48387097 5.48387097 5.48387097 5.48387097\n",
      " 5.48387097 5.48387097 5.48387097 5.48387097]\n",
      "[1840. 1841. 1842. 1843. 1844. 1845. 1846. 1847. 1848. 1849.]\n",
      "[5.48387097 5.48387097 5.48387097 5.48387097 5.48387097 5.48387097\n",
      " 5.48387097 5.48387097 5.48387097 5.48387097]\n",
      "\n",
      "[850. 851. 852. 853. 854. 855. 856. 857. 858. 859.]\n",
      "[5.5 5.5 5.5 5.5 5.5 5.5 5.5 5.5 5.5 5.5]\n",
      "[1840. 1841. 1842. 1843. 1844. 1845. 1846. 1847. 1848. 1849.]\n",
      "[5.5 5.5 5.5 5.5 5.5 5.5 5.5 5.5 5.5 5.5]\n",
      "\n",
      "[850, 851, 852, 853, 854, 855, 856, 857, 858, 859]\n",
      "[5, 5, 5, 5, 5, 5, 5, 5, 5, 5]\n",
      "[1840, 1841, 1842, 1843, 1844, 1845, 1846, 1847, 1848, 1849]\n",
      "[5, 5, 5, 5, 5, 5, 5, 5, 5, 5]\n",
      "\n",
      "[850, 851, 852, 853, 854, 855, 856, 857, 858, 859]\n",
      "[6, 6, 6, 6, 6, 6, 6, 6, 6, 6]\n",
      "[1840, 1841, 1842, 1843, 1844, 1845, 1846, 1847, 1848, 1849]\n",
      "[6, 6, 6, 6, 6, 6, 6, 6, 6, 6]\n",
      "\n",
      "[850. 851. 852. 853. 854. 855. 856. 857. 858. 859.]\n",
      "[5, 4, 4, 4, 4, 4, 4, 4, 4, 4]\n",
      "[1841. 1842. 1843. 1844. 1845. 1846. 1847. 1848. 1849. 1850.]\n",
      "[4, 4, 4, 4, 4, 4, 4, 4, 4, 11]\n",
      "\n",
      "[850. 851. 852. 853. 854. 855. 856. 857. 858. 859.]\n",
      "[5.48387097 5.48387097 5.48387097 5.48387097 5.48387097 5.48387097\n",
      " 5.48387097 5.48387097 5.48387097 5.48387097]\n",
      "[1840. 1841. 1842. 1843. 1844. 1845. 1846. 1847. 1848. 1849.]\n",
      "[5.48387097 5.48387097 5.48387097 5.48387097 5.48387097 5.48387097\n",
      " 5.48387097 5.48387097 5.48387097 5.48387097]\n",
      "\n"
     ]
    },
    {
     "name": "stderr",
     "output_type": "stream",
     "text": [
      "C:\\Users\\49159\\AppData\\Local\\Temp/ipykernel_17264/1841478533.py:23: DeprecationWarning: tostring() is deprecated. Use tobytes() instead.\n",
      "  units = f.variables[\"t\"].units\n",
      "C:\\Users\\49159\\AppData\\Local\\Temp/ipykernel_17264/1841478533.py:24: DeprecationWarning: tostring() is deprecated. Use tobytes() instead.\n",
      "  cal = f.variables[\"t\"].calendar\n",
      "C:\\Users\\49159\\AppData\\Local\\Temp/ipykernel_17264/1841478533.py:27: DeprecationWarning: tostring() is deprecated. Use tobytes() instead.\n",
      "  units = f.variables[\"time\"].units\n",
      "C:\\Users\\49159\\AppData\\Local\\Temp/ipykernel_17264/1841478533.py:28: DeprecationWarning: tostring() is deprecated. Use tobytes() instead.\n",
      "  cal = f.variables[\"time\"].calendar\n"
     ]
    },
    {
     "name": "stdout",
     "output_type": "stream",
     "text": [
      "[850. 851. 852. 853. 854. 855. 856. 857. 858. 859.]\n",
      "[5.5 5.5 5.5 5.5 5.5 5.5 5.5 5.5 5.5 5.5]\n",
      "[1840. 1841. 1842. 1843. 1844. 1845. 1846. 1847. 1848. 1849.]\n",
      "[5.5 5.5 5.5 5.5 5.5 5.5 5.5 5.5 5.5 5.5]\n",
      "\n",
      "[850, 851, 852, 853, 854, 855, 856, 857, 858, 859]\n",
      "[5, 5, 5, 5, 5, 5, 5, 5, 5, 5]\n",
      "[1840, 1841, 1842, 1843, 1844, 1845, 1846, 1847, 1848, 1849]\n",
      "[5, 5, 5, 5, 5, 5, 5, 5, 5, 5]\n",
      "\n",
      "[850, 851, 852, 853, 854, 855, 856, 857, 858, 859]\n",
      "[5, 5, 5, 5, 5, 5, 5, 5, 5, 5]\n",
      "[1840, 1841, 1842, 1843, 1844, 1845, 1846, 1847, 1848, 1849]\n",
      "[5, 5, 5, 5, 5, 5, 5, 5, 5, 5]\n",
      "\n",
      "[850. 851. 852. 853. 854. 855. 856. 857. 858. 859.]\n",
      "[5, 4, 4, 4, 4, 4, 4, 4, 4, 4]\n",
      "[1841. 1842. 1843. 1844. 1845. 1846. 1847. 1848. 1849. 1850.]\n",
      "[4, 4, 4, 4, 4, 4, 4, 4, 4, 11]\n",
      "\n",
      "[850. 851. 852. 853. 854. 855. 856. 857. 858. 859.]\n",
      "[5.48387097 5.48387097 5.48387097 5.48387097 5.48387097 5.48387097\n",
      " 5.48387097 5.48387097 5.48387097 5.48387097]\n",
      "[1840. 1841. 1842. 1843. 1844. 1845. 1846. 1847. 1848. 1849.]\n",
      "[5.48387097 5.48387097 5.48387097 5.48387097 5.48387097 5.48387097\n",
      " 5.48387097 5.48387097 5.48387097 5.48387097]\n",
      "\n",
      "[797. 797. 798. 799. 800. 801. 802. 803. 804. 805.]\n",
      "[11.  6.  6.  6.  6.  6.  6.  6.  6.  6.]\n",
      "[1939. 1940. 1941. 1942. 1943. 1944. 1945. 1946. 1947. 1948.]\n",
      "[6. 6. 6. 6. 6. 6. 6. 6. 6. 4.]\n",
      "\n",
      "[797. 797. 798. 799. 800. 801. 802. 803. 804. 805.]\n",
      "[11.  6.  6.  6.  6.  6.  6.  6.  6.  6.]\n",
      "[1939. 1940. 1941. 1942. 1943. 1944. 1945. 1946. 1947. 1948.]\n",
      "[6. 6. 6. 6. 6. 6. 6. 6. 6. 4.]\n",
      "\n",
      "[797. 797. 798. 799. 800. 801. 802. 803. 804. 805.]\n",
      "[11.  6.  6.  6.  6.  6.  6.  6.  6.  6.]\n",
      "[1939. 1940. 1941. 1942. 1943. 1944. 1945. 1946. 1947. 1948.]\n",
      "[6. 6. 6. 6. 6. 6. 6. 6. 6. 4.]\n",
      "\n"
     ]
    }
   ],
   "source": [
    "for f in files_monthly:\n",
    "    try:\n",
    "        units = f.variables[\"t\"].units\n",
    "        cal = f.variables[\"t\"].calendar\n",
    "        t = f.variables[\"t\"][:].data\n",
    "    except:\n",
    "        units = f.variables[\"time\"].units\n",
    "        cal = f.variables[\"time\"].calendar\n",
    "        t = f.variables[\"time\"][:].data\n",
    "        \n",
    "    years, months = get_years_months(t, units, cal) \n",
    "    if years is not None:\n",
    "        print(years[:10])\n",
    "        print(months[:10])\n",
    "        print(years[-10:])\n",
    "        print(months[-10:])\n",
    "        print()\n",
    "\n",
    "print()\n",
    "\n",
    "for f in files_yearly:\n",
    "    try:\n",
    "        units = f.variables[\"t\"].units\n",
    "        cal = f.variables[\"t\"].calendar\n",
    "        t = f.variables[\"t\"][:].data\n",
    "    except:\n",
    "        units = f.variables[\"time\"].units\n",
    "        cal = f.variables[\"time\"].calendar\n",
    "        t = f.variables[\"time\"][:].data\n",
    "        \n",
    "    years, months = get_years_months(t, units, cal)\n",
    "    if years is not None:\n",
    "        print(years[:10])\n",
    "        print(months[:10])\n",
    "        print(years[-10:])\n",
    "        print(months[-10:])\n",
    "        print()"
   ]
  },
  {
   "cell_type": "code",
   "execution_count": null,
   "id": "6bc9358e",
   "metadata": {
    "scrolled": true
   },
   "outputs": [],
   "source": []
  },
  {
   "cell_type": "code",
   "execution_count": 227,
   "id": "20f3fb21",
   "metadata": {},
   "outputs": [
    {
     "data": {
      "text/plain": [
       "'days since 0000-01-01 00:00:00'"
      ]
     },
     "execution_count": 227,
     "metadata": {},
     "output_type": "execute_result"
    }
   ],
   "source": [
    "units"
   ]
  },
  {
   "cell_type": "code",
   "execution_count": 228,
   "id": "e4431258",
   "metadata": {},
   "outputs": [
    {
     "data": {
      "text/plain": [
       "'360_day'"
      ]
     },
     "execution_count": 228,
     "metadata": {},
     "output_type": "execute_result"
    }
   ],
   "source": [
    "cal"
   ]
  },
  {
   "cell_type": "code",
   "execution_count": 205,
   "id": "2eccd79a",
   "metadata": {},
   "outputs": [
    {
     "data": {
      "text/plain": [
       "array([0.], dtype=float32)"
      ]
     },
     "execution_count": 205,
     "metadata": {},
     "output_type": "execute_result"
    }
   ],
   "source": [
    "t // 360"
   ]
  },
  {
   "cell_type": "code",
   "execution_count": 206,
   "id": "b7a286e7",
   "metadata": {
    "scrolled": true
   },
   "outputs": [],
   "source": [
    "years, months = get_years_months(t, units, cal)"
   ]
  },
  {
   "cell_type": "code",
   "execution_count": 207,
   "id": "c2543c3b",
   "metadata": {},
   "outputs": [],
   "source": [
    "years"
   ]
  },
  {
   "cell_type": "code",
   "execution_count": 208,
   "id": "47444c7a",
   "metadata": {},
   "outputs": [],
   "source": [
    "months"
   ]
  },
  {
   "cell_type": "markdown",
   "id": "86cdcd81",
   "metadata": {},
   "source": [
    "# Histogram of isotopes"
   ]
  },
  {
   "cell_type": "code",
   "execution_count": 97,
   "id": "57a3997b",
   "metadata": {
    "scrolled": false
   },
   "outputs": [
    {
     "data": {
      "image/png": "[encoded data removed]",
      "text/plain": [
       "<Figure size 432x288 with 1 Axes>"
      ]
     },
     "metadata": {
      "needs_background": "light"
     },
     "output_type": "display_data"
    }
   ],
   "source": [
    "dold = iso_old[\"dO18\"][:][iso_old[\"dO18\"][:].mask == False].ravel()\n",
    "\n",
    "dnew_iHadCM3 = iso_new_iHadCM3[\"d18O\"][:][iso_new_iHadCM3[\"d18O\"][:].mask == False].ravel()\n",
    "dnew_GISS = iso_new_GISS[\"d18O\"][:][iso_new_GISS[\"d18O\"][:].mask == False].ravel()\n",
    "dnew_ECHAM5 = iso_new_ECHAM5[\"d18O\"][:][iso_new_ECHAM5[\"d18O\"][:].mask == False].ravel()\n",
    "dnew_iCESM = iso_new_iCESM[\"d18O\"][:][iso_new_iCESM[\"d18O\"][:].mask == False].ravel()\n",
    "dnew_isoGSM = iso_new_isoGSM[\"d18O\"][:][iso_new_isoGSM[\"d18O\"][:].mask == False].ravel()\n",
    "\n",
    "plt.hist([dnew_iHadCM3, dnew_GISS,dnew_ECHAM5,dnew_iCESM,dnew_isoGSM], density=True, label=['iHadCM3', 'GISS', 'ECHAM5', 'iCESM', 'isoGSM'])\n",
    "\n",
    "plt.legend()\n",
    "plt.yscale(\"log\")"
   ]
  },
  {
   "cell_type": "markdown",
   "id": "fd86d2af",
   "metadata": {},
   "source": [
    "# Missing values"
   ]
  },
  {
   "cell_type": "code",
   "execution_count": 98,
   "id": "d8db9187",
   "metadata": {},
   "outputs": [
    {
     "data": {
      "text/plain": [
       "<matplotlib.colorbar.Colorbar at 0x2170abfe2b0>"
      ]
     },
     "execution_count": 98,
     "metadata": {},
     "output_type": "execute_result"
    },
    {
     "data": {
      "image/png": "[encoded data removed]",
      "text/plain": [
       "<Figure size 1152x648 with 6 Axes>"
      ]
     },
     "metadata": {
      "needs_background": "light"
     },
     "output_type": "display_data"
    }
   ],
   "source": [
    "fig, axes = plt.subplots(2, 3, figsize=(16,9))\n",
    "\n",
    "\n",
    "im1a = axes[0,0].pcolormesh(np.mean(iso_new_iHadCM3[\"d18O\"][:].mask, axis=(0,1)), cmap='magma', vmin=0, vmax=1)\n",
    "axes[0,0].set_title(\"iHadCM3\")\n",
    "axes[0,0].set_aspect(\"equal\")\n",
    "\n",
    "# giss has \"no missing values at all\" without preprocessing\n",
    "im1b = axes[0,1].pcolormesh(np.mean(iso_new_GISS[\"d18O\"][:].mask, axis=(0)), cmap='magma', vmin=0, vmax=1)\n",
    "# im1b = axes[0,1].pcolormesh(np.zeros_like(iso_new_GISS[\"d18O\"][:].data[0,...]), cmap='magma', vmin=0, vmax=1)\n",
    "axes[0,1].set_title(\"GISS\")\n",
    "axes[0,1].set_aspect(\"equal\")\n",
    "\n",
    "im1c = axes[0,2].pcolormesh(np.mean(iso_new_ECHAM5[\"d18O\"][:].mask, axis=(0,1)), cmap='magma', vmin=0, vmax=1)\n",
    "axes[0,2].set_title(\"ECHAM5\")\n",
    "axes[0,2].set_aspect(\"equal\")\n",
    "\n",
    "# icesm has \"no missing values at all\" without preprocessing\n",
    "im1d = axes[1,0].pcolormesh(np.mean(iso_new_iCESM[\"d18O\"][:].mask, axis=(0)), cmap='magma', vmin=0, vmax=1)\n",
    "# im1d = axes[1,0].pcolormesh(np.zeros_like(iso_new_iCESM[\"d18O\"][:].data[0,...]), cmap='magma', vmin=0, vmax=1)\n",
    "axes[1,0].set_title(\"iCESM\")\n",
    "axes[1,0].set_aspect(\"equal\")\n",
    "\n",
    "im1e = axes[1,1].pcolormesh(np.mean(iso_new_isoGSM[\"d18O\"][:].mask, axis=(0)), cmap='magma', vmin=0, vmax=1)\n",
    "axes[1,1].set_title(\"isoGSM\")\n",
    "axes[1,1].set_aspect(\"equal\")\n",
    "\n",
    "## access each axes object via axes.flat\n",
    "for ax in axes.flat:\n",
    "    ## check if something was plotted \n",
    "    if not bool(ax.has_data()):\n",
    "        fig.delaxes(ax) ## delete if nothing is plotted in the axes obj\n",
    "\n",
    "fig.tight_layout()\n",
    "\n",
    "fig.colorbar(im1a, ax=axes.ravel().tolist())"
   ]
  },
  {
   "cell_type": "code",
   "execution_count": null,
   "id": "b70623e4",
   "metadata": {},
   "outputs": [],
   "source": []
  },
  {
   "cell_type": "code",
   "execution_count": null,
   "id": "c36883b2",
   "metadata": {},
   "outputs": [],
   "source": [
    "(dnew_GISS == dnew).all()"
   ]
  },
  {
   "cell_type": "code",
   "execution_count": null,
   "id": "15c4931c",
   "metadata": {
    "scrolled": true
   },
   "outputs": [],
   "source": [
    "d18O_new = iso_new.variables[\"d18O\"][:]\n",
    "d18O_old = iso_old.variables[\"dO18\"][:]\n",
    "\n",
    "t_new = iso_new.variables[\"t\"][:].data\n",
    "t_old = iso_old.variables[\"t\"][:].data\n",
    "t_old\n",
    "\n",
    "units_new = iso_new.variables[\"t\"].units\n",
    "units_old = iso_old.variables[\"t\"].units"
   ]
  },
  {
   "cell_type": "code",
   "execution_count": null,
   "id": "fa897b60",
   "metadata": {},
   "outputs": [],
   "source": [
    "units_new"
   ]
  },
  {
   "cell_type": "code",
   "execution_count": 133,
   "id": "ebdc93bb",
   "metadata": {},
   "outputs": [
    {
     "data": {
      "text/plain": [
       "'days since 2350-12-01 00:00:00'"
      ]
     },
     "execution_count": 133,
     "metadata": {},
     "output_type": "execute_result"
    }
   ],
   "source": [
    "units_old"
   ]
  },
  {
   "cell_type": "code",
   "execution_count": 134,
   "id": "388cf28e",
   "metadata": {},
   "outputs": [
    {
     "data": {
      "text/plain": [
       "<re.Match object; span=(13, 21), match='801-1-15'>"
      ]
     },
     "execution_count": 134,
     "metadata": {},
     "output_type": "execute_result"
    }
   ],
   "source": [
    "re.search(r'\\d{3}-\\d{1}-\\d{2}', units_new)"
   ]
  },
  {
   "cell_type": "code",
   "execution_count": 152,
   "id": "4cc90c91",
   "metadata": {},
   "outputs": [],
   "source": [
    "# extract reference date from calendar in dataset\n",
    "match_new = re.search(r'\\d{3}-\\d{1}-\\d{2}', units_new)\n",
    "match_old = re.search(r'\\d{4}-\\d{2}-\\d{2}', units_old)\n",
    "if match_new is None or match_old is None:\n",
    "    raise ValueError(\"No date following the YYYY-MM-DD convention found\")\n",
    "    \n",
    "start_year = 654\n",
    "end_year = 1654\n",
    "ref_date_new = datetime.strptime(\"0801-1-15\", '%Y-%m-%d').date()  # hardcoded because datetime needs leading zero\n",
    "ref_date_old = datetime.strptime(match_old.group(), '%Y-%m-%d').date()\n",
    "\n",
    "\n",
    "years_old, _, _ = get_year_mon_day_from_timesteps(t_old, ref_date_old)\n",
    "rel_years_old = years_old - ref_date_old.year"
   ]
  },
  {
   "cell_type": "code",
   "execution_count": 153,
   "id": "7f34808d",
   "metadata": {},
   "outputs": [],
   "source": [
    "# mask data by timesteps\n",
    "mask_old = np.logical_and(rel_years_old >= start_year, rel_years_old < end_year)"
   ]
  },
  {
   "cell_type": "code",
   "execution_count": 161,
   "id": "a3b7e51f",
   "metadata": {},
   "outputs": [],
   "source": [
    "# mask by value\n",
    "mask_new = np.logical_or(d18O_new >= 100, d18O_new <= -100)"
   ]
  },
  {
   "cell_type": "code",
   "execution_count": 162,
   "id": "c569c069",
   "metadata": {},
   "outputs": [],
   "source": [
    "d18O_old_filtered = d18O_old[mask_old,...]\n",
    "d18O_new.mask[mask_new] = True"
   ]
  },
  {
   "cell_type": "code",
   "execution_count": 163,
   "id": "a6284caa",
   "metadata": {},
   "outputs": [
    {
     "data": {
      "text/plain": [
       "[<matplotlib.lines.Line2D at 0x2038a0953d0>]"
      ]
     },
     "execution_count": 163,
     "metadata": {},
     "output_type": "execute_result"
    },
    {
     "data": {
      "image/png": "[encoded data removed]",
      "text/plain": [
       "<Figure size 432x288 with 1 Axes>"
      ]
     },
     "metadata": {
      "needs_background": "light"
     },
     "output_type": "display_data"
    }
   ],
   "source": [
    "plt.plot(np.nanmean(d18O_old_filtered,axis=(0,1,2)))\n",
    "plt.plot(np.nanmean(d18O_new,axis=(0,1,2)))"
   ]
  },
  {
   "cell_type": "code",
   "execution_count": 49,
   "id": "41b1209e",
   "metadata": {},
   "outputs": [
    {
     "data": {
      "text/plain": [
       "[<matplotlib.lines.Line2D at 0x20390c27fd0>]"
      ]
     },
     "execution_count": 49,
     "metadata": {},
     "output_type": "execute_result"
    },
    {
     "data": {
      "image/png": "[encoded data removed]",
      "text/plain": [
       "<Figure size 432x288 with 1 Axes>"
      ]
     },
     "metadata": {
      "needs_background": "light"
     },
     "output_type": "display_data"
    }
   ],
   "source": [
    "plt.plot(t_new[1:] - t_new[:-1])\n",
    "plt.plot(t_old[1:]/30 - t_old[:-1]/30)"
   ]
  },
  {
   "cell_type": "code",
   "execution_count": 38,
   "id": "89c48851",
   "metadata": {},
   "outputs": [
    {
     "data": {
      "text/plain": [
       "[<matplotlib.lines.Line2D at 0x20389bffb20>]"
      ]
     },
     "execution_count": 38,
     "metadata": {},
     "output_type": "execute_result"
    },
    {
     "data": {
      "image/png": "[encoded data removed]",
      "text/plain": [
       "<Figure size 432x288 with 1 Axes>"
      ]
     },
     "metadata": {
      "needs_background": "light"
     },
     "output_type": "display_data"
    }
   ],
   "source": [
    "plt.plot(np.mean(d18O_old,axis=(1,2,3)))\n",
    "plt.plot(np.mean(d18O_new,axis=(1,2,3)))"
   ]
  },
  {
   "cell_type": "code",
   "execution_count": null,
   "id": "e40a12e2",
   "metadata": {},
   "outputs": [],
   "source": [
    "plt.imshow(d18O_new[0,0,...])"
   ]
  }
 ],
 "metadata": {
  "kernelspec": {
   "display_name": "Python 3 (ipykernel)",
   "language": "python",
   "name": "python3"
  },
  "language_info": {
   "codemirror_mode": {
    "name": "ipython",
    "version": 3
   },
   "file_extension": ".py",
   "mimetype": "text/x-python",
   "name": "python",
   "nbconvert_exporter": "python",
   "pygments_lexer": "ipython3",
   "version": "3.8.0"
  }
 },
 "nbformat": 4,
 "nbformat_minor": 5
}
