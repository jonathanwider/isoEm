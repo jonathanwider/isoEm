{
 "cells": [
  {
   "cell_type": "code",
   "execution_count": 1,
   "id": "b8a03737",
   "metadata": {},
   "outputs": [],
   "source": [
    "import netCDF4 as nc\n",
    "import os\n",
    "import re\n",
    "import numpy as np\n",
    "from datetime import datetime\n",
    "import matplotlib.pyplot as plt\n",
    "\n",
    "from util import get_year_mon_day_from_timesteps"
   ]
  },
  {
   "cell_type": "code",
   "execution_count": 2,
   "id": "0f9af67f",
   "metadata": {},
   "outputs": [],
   "source": [
    "old_dataset_dir = \"Datasets/\"\n",
    "new_dataset_dir  = \"Datasets_test/\"\n",
    "new_folder = os.path.join(new_dataset_dir, \"iHadCM3/\", \"Original/\")\n",
    "old_folder = os.path.join(old_dataset_dir, \"iHadCM3/\", \"Original/\")"
   ]
  },
  {
   "cell_type": "code",
   "execution_count": 14,
   "id": "4a9c6666",
   "metadata": {},
   "outputs": [],
   "source": [
    "iso_new = nc.Dataset(os.path.join(new_folder, \"isotopes.nc\"))\n",
    "iso_old = nc.Dataset(os.path.join(old_folder, \"isotopes_monthly.nc\"))"
   ]
  },
  {
   "cell_type": "code",
   "execution_count": 17,
   "id": "57a3997b",
   "metadata": {},
   "outputs": [
    {
     "data": {
      "image/png": "[encoded data removed]",
      "text/plain": [
       "<Figure size 432x288 with 1 Axes>"
      ]
     },
     "metadata": {
      "needs_background": "light"
     },
     "output_type": "display_data"
    }
   ],
   "source": [
    "plt.hist(iso_old[\"dO18\"][:][iso_old[\"dO18\"][:].mask == False].ravel())\n",
    "# plt.hist(iso_new[\"d18O\"][:][iso_new[\"d18O\"][:].mask == False].ravel())\n",
    "plt.yscale(\"log\")"
   ]
  },
  {
   "cell_type": "code",
   "execution_count": 18,
   "id": "15c4931c",
   "metadata": {
    "scrolled": true
   },
   "outputs": [
    {
     "name": "stderr",
     "output_type": "stream",
     "text": [
      "C:\\Users\\49159\\AppData\\Local\\Temp/ipykernel_18508/2832400561.py:8: DeprecationWarning: tostring() is deprecated. Use tobytes() instead.\n",
      "  units_new = iso_new.variables[\"t\"].units\n",
      "C:\\Users\\49159\\AppData\\Local\\Temp/ipykernel_18508/2832400561.py:9: DeprecationWarning: tostring() is deprecated. Use tobytes() instead.\n",
      "  units_old = iso_old.variables[\"t\"].units\n"
     ]
    }
   ],
   "source": [
    "d18O_new = iso_new.variables[\"d18O\"][:]\n",
    "d18O_old = iso_old.variables[\"dO18\"][:]\n",
    "\n",
    "t_new = iso_new.variables[\"t\"][:].data\n",
    "t_old = iso_old.variables[\"t\"][:].data\n",
    "t_old\n",
    "\n",
    "units_new = iso_new.variables[\"t\"].units\n",
    "units_old = iso_old.variables[\"t\"].units"
   ]
  },
  {
   "cell_type": "code",
   "execution_count": 132,
   "id": "fa897b60",
   "metadata": {},
   "outputs": [
    {
     "data": {
      "text/plain": [
       "'months since 801-1-15 00:00:00'"
      ]
     },
     "execution_count": 132,
     "metadata": {},
     "output_type": "execute_result"
    }
   ],
   "source": [
    "units_new"
   ]
  },
  {
   "cell_type": "code",
   "execution_count": 133,
   "id": "ebdc93bb",
   "metadata": {},
   "outputs": [
    {
     "data": {
      "text/plain": [
       "'days since 2350-12-01 00:00:00'"
      ]
     },
     "execution_count": 133,
     "metadata": {},
     "output_type": "execute_result"
    }
   ],
   "source": [
    "units_old"
   ]
  },
  {
   "cell_type": "code",
   "execution_count": 134,
   "id": "388cf28e",
   "metadata": {},
   "outputs": [
    {
     "data": {
      "text/plain": [
       "<re.Match object; span=(13, 21), match='801-1-15'>"
      ]
     },
     "execution_count": 134,
     "metadata": {},
     "output_type": "execute_result"
    }
   ],
   "source": [
    "re.search(r'\\d{3}-\\d{1}-\\d{2}', units_new)"
   ]
  },
  {
   "cell_type": "code",
   "execution_count": 152,
   "id": "4cc90c91",
   "metadata": {},
   "outputs": [],
   "source": [
    "# extract reference date from calendar in dataset\n",
    "match_new = re.search(r'\\d{3}-\\d{1}-\\d{2}', units_new)\n",
    "match_old = re.search(r'\\d{4}-\\d{2}-\\d{2}', units_old)\n",
    "if match_new is None or match_old is None:\n",
    "    raise ValueError(\"No date following the YYYY-MM-DD convention found\")\n",
    "    \n",
    "start_year = 654\n",
    "end_year = 1654\n",
    "ref_date_new = datetime.strptime(\"0801-1-15\", '%Y-%m-%d').date()  # hardcoded because datetime needs leading zero\n",
    "ref_date_old = datetime.strptime(match_old.group(), '%Y-%m-%d').date()\n",
    "\n",
    "\n",
    "years_old, _, _ = get_year_mon_day_from_timesteps(t_old, ref_date_old)\n",
    "rel_years_old = years_old - ref_date_old.year"
   ]
  },
  {
   "cell_type": "code",
   "execution_count": 153,
   "id": "7f34808d",
   "metadata": {},
   "outputs": [],
   "source": [
    "# mask data by timesteps\n",
    "mask_old = np.logical_and(rel_years_old >= start_year, rel_years_old < end_year)"
   ]
  },
  {
   "cell_type": "code",
   "execution_count": 161,
   "id": "a3b7e51f",
   "metadata": {},
   "outputs": [],
   "source": [
    "# mask by value\n",
    "mask_new = np.logical_or(d18O_new >= 100, d18O_new <= -100)"
   ]
  },
  {
   "cell_type": "code",
   "execution_count": 162,
   "id": "c569c069",
   "metadata": {},
   "outputs": [],
   "source": [
    "d18O_old_filtered = d18O_old[mask_old,...]\n",
    "d18O_new.mask[mask_new] = True"
   ]
  },
  {
   "cell_type": "code",
   "execution_count": 163,
   "id": "a6284caa",
   "metadata": {},
   "outputs": [
    {
     "data": {
      "text/plain": [
       "[<matplotlib.lines.Line2D at 0x2038a0953d0>]"
      ]
     },
     "execution_count": 163,
     "metadata": {},
     "output_type": "execute_result"
    },
    {
     "data": {
      "image/png": "[encoded data removed]",
      "text/plain": [
       "<Figure size 432x288 with 1 Axes>"
      ]
     },
     "metadata": {
      "needs_background": "light"
     },
     "output_type": "display_data"
    }
   ],
   "source": [
    "plt.plot(np.nanmean(d18O_old_filtered,axis=(0,1,2)))\n",
    "plt.plot(np.nanmean(d18O_new,axis=(0,1,2)))"
   ]
  },
  {
   "cell_type": "code",
   "execution_count": 49,
   "id": "41b1209e",
   "metadata": {},
   "outputs": [
    {
     "data": {
      "text/plain": [
       "[<matplotlib.lines.Line2D at 0x20390c27fd0>]"
      ]
     },
     "execution_count": 49,
     "metadata": {},
     "output_type": "execute_result"
    },
    {
     "data": {
      "image/png": "[encoded data removed]",
      "text/plain": [
       "<Figure size 432x288 with 1 Axes>"
      ]
     },
     "metadata": {
      "needs_background": "light"
     },
     "output_type": "display_data"
    }
   ],
   "source": [
    "plt.plot(t_new[1:] - t_new[:-1])\n",
    "plt.plot(t_old[1:]/30 - t_old[:-1]/30)"
   ]
  },
  {
   "cell_type": "code",
   "execution_count": 38,
   "id": "89c48851",
   "metadata": {},
   "outputs": [
    {
     "data": {
      "text/plain": [
       "[<matplotlib.lines.Line2D at 0x20389bffb20>]"
      ]
     },
     "execution_count": 38,
     "metadata": {},
     "output_type": "execute_result"
    },
    {
     "data": {
      "image/png": "[encoded data removed]",
      "text/plain": [
       "<Figure size 432x288 with 1 Axes>"
      ]
     },
     "metadata": {
      "needs_background": "light"
     },
     "output_type": "display_data"
    }
   ],
   "source": [
    "plt.plot(np.mean(d18O_old,axis=(1,2,3)))\n",
    "plt.plot(np.mean(d18O_new,axis=(1,2,3)))"
   ]
  },
  {
   "cell_type": "code",
   "execution_count": null,
   "id": "e40a12e2",
   "metadata": {},
   "outputs": [],
   "source": [
    "plt.imshow(d18O_new[0,0,...])"
   ]
  }
 ],
 "metadata": {
  "kernelspec": {
   "display_name": "Python 3 (ipykernel)",
   "language": "python",
   "name": "python3"
  },
  "language_info": {
   "codemirror_mode": {
    "name": "ipython",
    "version": 3
   },
   "file_extension": ".py",
   "mimetype": "text/x-python",
   "name": "python",
   "nbconvert_exporter": "python",
   "pygments_lexer": "ipython3",
   "version": "3.8.0"
  }
 },
 "nbformat": 4,
 "nbformat_minor": 5
}
