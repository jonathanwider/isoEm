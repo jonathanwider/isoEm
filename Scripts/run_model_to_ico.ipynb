{
 "cells": [
  {
   "cell_type": "markdown",
   "metadata": {},
   "source": [
    "Run the model_to_ico shell script for all files in the \"Scripts\" directory.\n",
    "\n",
    "For this to work, both the notebooks and the files we want to interpolate must be in the \"Scripts\" directory."
   ]
  },
  {
   "cell_type": "code",
   "execution_count": 1,
   "metadata": {},
   "outputs": [],
   "source": [
    "from subprocess import call\n",
    "\n",
    "# pylint: disable=E1101,R,C\n",
    "import numpy as np\n",
    "import gzip\n",
    "import netCDF4 as nc\n",
    "import matplotlib.pyplot as plt\n",
    "import pickle\n",
    "import numpy as np\n",
    "import os"
   ]
  },
  {
   "cell_type": "code",
   "execution_count": 2,
   "metadata": {},
   "outputs": [],
   "source": [
    "files = [f for f in os.listdir() if f.endswith(\"_flat.nc\")]\n",
    "files = \" \".join(files)"
   ]
  },
  {
   "cell_type": "code",
   "execution_count": 3,
   "metadata": {},
   "outputs": [
    {
     "name": "stdout",
     "output_type": "stream",
     "text": [
      "\n"
     ]
    },
    {
     "name": "stderr",
     "output_type": "stream",
     "text": [
      "cdo    gencon: YAC first order conservative weights from lonlat (96x73) to unstructured (10230) grid, with source mask (6816)\n",
      "cdo    gencon: Processed 7008 values from 2 variables over 1 timestep [0.76s 28MB].\n",
      "cdo    gencon: YAC first order conservative weights from lonlat (96x73) to unstructured (10) grid, with source mask (6816)\n",
      "cdo    gencon: Processed 7008 values from 2 variables over 1 timestep [0.02s 22MB].\n"
     ]
    },
    {
     "name": "stdout",
     "output_type": "stream",
     "text": [
      "done\n"
     ]
    },
    {
     "name": "stderr",
     "output_type": "stream",
     "text": [
      "cdo    remap: Processed 701000 values from 2 variables over 100 timesteps [0.17s 30MB].\n",
      "cdo    remap: Processed 701000 values from 2 variables over 100 timesteps [0.02s 26MB].\n",
      "cdo    remap: Processed 701000 values from 2 variables over 100 timesteps [0.17s 30MB].\n",
      "cdo    remap: Processed 701000 values from 2 variables over 100 timesteps [0.02s 26MB].\n",
      "cdo    remap: Processed 701000 values from 2 variables over 100 timesteps [0.17s 29MB].\n",
      "cdo    remap: Processed 701000 values from 2 variables over 100 timesteps [0.02s 26MB].\n",
      "cdo    remap: Processed 701000 values from 2 variables over 100 timesteps [0.17s 30MB].\n",
      "cdo    remap: Processed 701000 values from 2 variables over 100 timesteps [0.02s 26MB].\n",
      "cdo    remap: Processed 701000 values from 2 variables over 100 timesteps [0.17s 30MB].\n",
      "cdo    remap: Processed 701000 values from 2 variables over 100 timesteps [0.02s 26MB].\n",
      "cdo    remap: Processed 701000 values from 2 variables over 100 timesteps [0.17s 30MB].\n",
      "cdo    remap: Processed 701000 values from 2 variables over 100 timesteps [0.02s 26MB].\n",
      "cdo    remap: Processed 701000 values from 2 variables over 100 timesteps [0.17s 30MB].\n",
      "cdo    remap: Processed 701000 values from 2 variables over 100 timesteps [0.02s 26MB].\n",
      "cdo    remap: Processed 701000 values from 2 variables over 100 timesteps [0.17s 29MB].\n",
      "cdo    remap: Processed 701000 values from 2 variables over 100 timesteps [0.02s 26MB].\n",
      "cdo    remap: Processed 701000 values from 2 variables over 100 timesteps [0.18s 29MB].\n",
      "cdo    remap: Processed 701000 values from 2 variables over 100 timesteps [0.02s 26MB].\n",
      "cdo    remap: Processed 701000 values from 2 variables over 100 timesteps [0.17s 30MB].\n",
      "cdo    remap: Processed 701000 values from 2 variables over 100 timesteps [0.02s 26MB].\n",
      "cdo    remap: Processed 701000 values from 2 variables over 100 timesteps [0.17s 30MB].\n",
      "cdo    remap: Processed 701000 values from 2 variables over 100 timesteps [0.02s 26MB].\n",
      "cdo    remap: Processed 701000 values from 2 variables over 100 timesteps [0.18s 30MB].\n",
      "cdo    remap: Processed 701000 values from 2 variables over 100 timesteps [0.02s 26MB].\n",
      "cdo    remap: Processed 701000 values from 2 variables over 100 timesteps [0.18s 30MB].\n",
      "cdo    remap: Processed 701000 values from 2 variables over 100 timesteps [0.02s 26MB].\n",
      "cdo    remap: Processed 701000 values from 2 variables over 100 timesteps [0.17s 29MB].\n",
      "cdo    remap: Processed 701000 values from 2 variables over 100 timesteps [0.02s 26MB].\n",
      "cdo    remap: Processed 701000 values from 2 variables over 100 timesteps [0.17s 29MB].\n",
      "cdo    remap: Processed 701000 values from 2 variables over 100 timesteps [0.02s 26MB].\n",
      "cdo    remap: Processed 701000 values from 2 variables over 100 timesteps [0.18s 30MB].\n",
      "cdo    remap: Processed 701000 values from 2 variables over 100 timesteps [0.02s 26MB].\n",
      "cdo    remap: Processed 701000 values from 2 variables over 100 timesteps [0.18s 30MB].\n",
      "cdo    remap: Processed 701000 values from 2 variables over 100 timesteps [0.02s 26MB].\n",
      "cdo    remap: Processed 701000 values from 2 variables over 100 timesteps [0.17s 30MB].\n",
      "cdo    remap: Processed 701000 values from 2 variables over 100 timesteps [0.02s 26MB].\n",
      "cdo    remap: Processed 701000 values from 2 variables over 100 timesteps [0.17s 30MB].\n",
      "cdo    remap: Processed 701000 values from 2 variables over 100 timesteps [0.02s 26MB].\n",
      "cdo    remap: Processed 701000 values from 2 variables over 100 timesteps [0.18s 30MB].\n",
      "cdo    remap: Processed 701000 values from 2 variables over 100 timesteps [0.02s 26MB].\n",
      "cdo    remap: Processed 701000 values from 2 variables over 100 timesteps [0.17s 30MB].\n",
      "cdo    remap: Processed 701000 values from 2 variables over 100 timesteps [0.02s 26MB].\n",
      "cdo    remap: Processed 701000 values from 2 variables over 100 timesteps [0.17s 30MB].\n",
      "cdo    remap: Processed 701000 values from 2 variables over 100 timesteps [0.02s 26MB].\n",
      "cdo    remap: Processed 701000 values from 2 variables over 100 timesteps [0.17s 30MB].\n",
      "cdo    remap: Processed 701000 values from 2 variables over 100 timesteps [0.02s 26MB].\n",
      "cdo    remap: Processed 701000 values from 2 variables over 100 timesteps [0.17s 29MB].\n",
      "cdo    remap: Processed 701000 values from 2 variables over 100 timesteps [0.02s 26MB].\n",
      "cdo    remap: Processed 701000 values from 2 variables over 100 timesteps [0.17s 30MB].\n",
      "cdo    remap: Processed 701000 values from 2 variables over 100 timesteps [0.02s 26MB].\n",
      "cdo    remap: Processed 701000 values from 2 variables over 100 timesteps [0.17s 30MB].\n",
      "cdo    remap: Processed 701000 values from 2 variables over 100 timesteps [0.02s 26MB].\n",
      "cdo    remap: Processed 701000 values from 2 variables over 100 timesteps [0.17s 30MB].\n",
      "cdo    remap: Processed 701000 values from 2 variables over 100 timesteps [0.02s 26MB].\n",
      "cdo    remap: Processed 701000 values from 2 variables over 100 timesteps [0.18s 30MB].\n",
      "cdo    remap: Processed 701000 values from 2 variables over 100 timesteps [0.02s 26MB].\n",
      "cdo    remap: Processed 701000 values from 2 variables over 100 timesteps [0.18s 30MB].\n",
      "cdo    remap: Processed 701000 values from 2 variables over 100 timesteps [0.02s 26MB].\n",
      "cdo    remap: Processed 701000 values from 2 variables over 100 timesteps [0.17s 30MB].\n",
      "cdo    remap: Processed 701000 values from 2 variables over 100 timesteps [0.02s 26MB].\n",
      "cdo    remap: Processed 701000 values from 2 variables over 100 timesteps [0.18s 30MB].\n",
      "cdo    remap: Processed 701000 values from 2 variables over 100 timesteps [0.02s 26MB].\n"
     ]
    },
    {
     "data": {
      "text/plain": [
       "0"
      ]
     },
     "execution_count": 3,
     "metadata": {},
     "output_type": "execute_result"
    }
   ],
   "source": [
    "script = os.path.join(\"./model_to_ico.sh\")\n",
    "\n",
    "i_arg = \"cons1\"\n",
    "f_arg = files\n",
    "g_arg = \"grid_description_r_5_nbs_6_ico.txt grid_description_r_5_nbs_5_ico.txt\"\n",
    "call([script,\"-f\",files, \"-g\", g_arg, \"-i\", i_arg])"
   ]
  }
 ],
 "metadata": {
  "kernelspec": {
   "display_name": "Python 3 (ipykernel)",
   "language": "python",
   "name": "python3"
  },
  "language_info": {
   "codemirror_mode": {
    "name": "ipython",
    "version": 3
   },
   "file_extension": ".py",
   "mimetype": "text/x-python",
   "name": "python",
   "nbconvert_exporter": "python",
   "pygments_lexer": "ipython3",
   "version": "3.8.0"
  }
 },
 "nbformat": 4,
 "nbformat_minor": 4
}
