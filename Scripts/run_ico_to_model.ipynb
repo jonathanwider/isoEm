{
 "cells": [
  {
   "cell_type": "markdown",
   "metadata": {},
   "source": [
    "Run the ico_to_model shell script for all files in the \"scripts\" directory.\n",
    "\n",
    "For this to work, both the notebooks and the files we want to interpolate must be in the \"Scripts\" directory"
   ]
  },
  {
   "cell_type": "code",
   "execution_count": 1,
   "metadata": {},
   "outputs": [],
   "source": [
    "from subprocess import call\n",
    "\n",
    "# pylint: disable=E1101,R,C\n",
    "import numpy as np\n",
    "import gzip\n",
    "import netCDF4 as nc\n",
    "import matplotlib.pyplot as plt\n",
    "import pickle\n",
    "import numpy as np\n",
    "import os\n"
   ]
  },
  {
   "cell_type": "code",
   "execution_count": 4,
   "metadata": {},
   "outputs": [],
   "source": [
    "# files_5_nb = [f for f in os.listdir() if f.endswith(\"5_nbs.nc\")]\n",
    "# files_6_nb = [f for f in os.listdir() if f.endswith(\"6_nbs.nc\")]\n",
    "\n",
    "files_5_nb = [f for f in os.listdir() if f.endswith(\"nbs_5_cons1.nc\")]\n",
    "files_6_nb = [f for f in os.listdir() if f.endswith(\"nbs_6_cons1.nc\")]"
   ]
  },
  {
   "cell_type": "code",
   "execution_count": 6,
   "metadata": {},
   "outputs": [
    {
     "name": "stdout",
     "output_type": "stream",
     "text": [
      "\n"
     ]
    },
    {
     "name": "stderr",
     "output_type": "stream",
     "text": [
      "cdo(1) setgrid: Process started\n",
      "cdo    remapcon: YAC first order conservative weights from unstructured (10230) to lonlat (96x73) grid\n",
      "cdo(1) setgrid: Processed 1023200 values from 2 variables over 100 timesteps.\n",
      "cdo    remapcon: Processed 1023200 values from 2 variables over 100 timesteps [0.73s 42MB].\n",
      "cdo(1) setgrid: Process started\n",
      "cdo    remapcon: YAC first order conservative weights from unstructured (10230) to lonlat (96x73) grid\n"
     ]
    },
    {
     "name": "stdout",
     "output_type": "stream",
     "text": [
      "\n"
     ]
    },
    {
     "name": "stderr",
     "output_type": "stream",
     "text": [
      "cdo(1) setgrid: Processed 1023200 values from 2 variables over 100 timesteps.\n",
      "cdo    remapcon: Processed 1023200 values from 2 variables over 100 timesteps [0.74s 42MB].\n",
      "cdo(1) setgrid: Process started\n",
      "cdo    remapcon: YAC first order conservative weights from unstructured (10230) to lonlat (96x73) grid\n"
     ]
    },
    {
     "name": "stdout",
     "output_type": "stream",
     "text": [
      "\n"
     ]
    },
    {
     "name": "stderr",
     "output_type": "stream",
     "text": [
      "cdo(1) setgrid: Processed 1023200 values from 2 variables over 100 timesteps.\n",
      "cdo    remapcon: Processed 1023200 values from 2 variables over 100 timesteps [0.73s 42MB].\n",
      "cdo(1) setgrid: Process started\n",
      "cdo    remapcon: YAC first order conservative weights from unstructured (10230) to lonlat (96x73) grid\n"
     ]
    },
    {
     "name": "stdout",
     "output_type": "stream",
     "text": [
      "\n"
     ]
    },
    {
     "name": "stderr",
     "output_type": "stream",
     "text": [
      "cdo(1) setgrid: Processed 1023200 values from 2 variables over 100 timesteps.\n",
      "cdo    remapcon: Processed 1023200 values from 2 variables over 100 timesteps [0.73s 42MB].\n",
      "cdo(1) setgrid: Process started\n",
      "cdo    remapcon: YAC first order conservative weights from unstructured (10230) to lonlat (96x73) grid\n"
     ]
    },
    {
     "name": "stdout",
     "output_type": "stream",
     "text": [
      "\n"
     ]
    },
    {
     "name": "stderr",
     "output_type": "stream",
     "text": [
      "cdo(1) setgrid: Processed 1023200 values from 2 variables over 100 timesteps.\n",
      "cdo    remapcon: Processed 1023200 values from 2 variables over 100 timesteps [0.73s 42MB].\n",
      "cdo(1) setgrid: Process started\n",
      "cdo    remapcon: YAC first order conservative weights from unstructured (10230) to lonlat (96x73) grid\n"
     ]
    },
    {
     "name": "stdout",
     "output_type": "stream",
     "text": [
      "\n"
     ]
    },
    {
     "name": "stderr",
     "output_type": "stream",
     "text": [
      "cdo(1) setgrid: Processed 1023200 values from 2 variables over 100 timesteps.\n",
      "cdo    remapcon: Processed 1023200 values from 2 variables over 100 timesteps [0.72s 42MB].\n",
      "cdo(1) setgrid: Process started\n",
      "cdo    remapcon: YAC first order conservative weights from unstructured (10230) to lonlat (96x73) grid\n"
     ]
    },
    {
     "name": "stdout",
     "output_type": "stream",
     "text": [
      "\n"
     ]
    },
    {
     "name": "stderr",
     "output_type": "stream",
     "text": [
      "cdo(1) setgrid: Processed 1023200 values from 2 variables over 100 timesteps.\n",
      "cdo    remapcon: Processed 1023200 values from 2 variables over 100 timesteps [0.72s 42MB].\n",
      "cdo(1) setgrid: Process started\n",
      "cdo    remapcon: YAC first order conservative weights from unstructured (10230) to lonlat (96x73) grid\n"
     ]
    },
    {
     "name": "stdout",
     "output_type": "stream",
     "text": [
      "\n"
     ]
    },
    {
     "name": "stderr",
     "output_type": "stream",
     "text": [
      "cdo(1) setgrid: Processed 1023200 values from 2 variables over 100 timesteps.\n",
      "cdo    remapcon: Processed 1023200 values from 2 variables over 100 timesteps [0.72s 42MB].\n",
      "cdo(1) setgrid: Process started\n",
      "cdo    remapcon: YAC first order conservative weights from unstructured (10230) to lonlat (96x73) grid\n"
     ]
    },
    {
     "name": "stdout",
     "output_type": "stream",
     "text": [
      "\n"
     ]
    },
    {
     "name": "stderr",
     "output_type": "stream",
     "text": [
      "cdo(1) setgrid: Processed 1023200 values from 2 variables over 100 timesteps.\n",
      "cdo    remapcon: Processed 1023200 values from 2 variables over 100 timesteps [0.72s 42MB].\n",
      "cdo(1) setgrid: Process started\n",
      "cdo    remapcon: YAC first order conservative weights from unstructured (10230) to lonlat (96x73) grid\n"
     ]
    },
    {
     "name": "stdout",
     "output_type": "stream",
     "text": [
      "\n"
     ]
    },
    {
     "name": "stderr",
     "output_type": "stream",
     "text": [
      "cdo(1) setgrid: Processed 1023200 values from 2 variables over 100 timesteps.\n",
      "cdo    remapcon: Processed 1023200 values from 2 variables over 100 timesteps [0.73s 42MB].\n",
      "cdo(1) setgrid: Process started\n",
      "cdo    remapcon: YAC first order conservative weights from unstructured (10230) to lonlat (96x73) grid\n"
     ]
    },
    {
     "name": "stdout",
     "output_type": "stream",
     "text": [
      "\n"
     ]
    },
    {
     "name": "stderr",
     "output_type": "stream",
     "text": [
      "cdo(1) setgrid: Processed 1023200 values from 2 variables over 100 timesteps.\n",
      "cdo    remapcon: Processed 1023200 values from 2 variables over 100 timesteps [0.72s 42MB].\n",
      "cdo(1) setgrid: Process started\n",
      "cdo    remapcon: YAC first order conservative weights from unstructured (10230) to lonlat (96x73) grid\n"
     ]
    },
    {
     "name": "stdout",
     "output_type": "stream",
     "text": [
      "\n"
     ]
    },
    {
     "name": "stderr",
     "output_type": "stream",
     "text": [
      "cdo(1) setgrid: Processed 1023200 values from 2 variables over 100 timesteps.\n",
      "cdo    remapcon: Processed 1023200 values from 2 variables over 100 timesteps [0.72s 42MB].\n",
      "cdo(1) setgrid: Process started\n",
      "cdo    remapcon: YAC first order conservative weights from unstructured (10230) to lonlat (96x73) grid\n"
     ]
    },
    {
     "name": "stdout",
     "output_type": "stream",
     "text": [
      "\n"
     ]
    },
    {
     "name": "stderr",
     "output_type": "stream",
     "text": [
      "cdo(1) setgrid: Processed 1023200 values from 2 variables over 100 timesteps.\n",
      "cdo    remapcon: Processed 1023200 values from 2 variables over 100 timesteps [0.72s 42MB].\n",
      "cdo(1) setgrid: Process started\n",
      "cdo    remapcon: YAC first order conservative weights from unstructured (10230) to lonlat (96x73) grid\n"
     ]
    },
    {
     "name": "stdout",
     "output_type": "stream",
     "text": [
      "\n"
     ]
    },
    {
     "name": "stderr",
     "output_type": "stream",
     "text": [
      "cdo(1) setgrid: Processed 1023200 values from 2 variables over 100 timesteps.\n",
      "cdo    remapcon: Processed 1023200 values from 2 variables over 100 timesteps [0.73s 42MB].\n",
      "cdo(1) setgrid: Process started\n",
      "cdo    remapcon: YAC first order conservative weights from unstructured (10230) to lonlat (96x73) grid\n"
     ]
    },
    {
     "name": "stdout",
     "output_type": "stream",
     "text": [
      "\n"
     ]
    },
    {
     "name": "stderr",
     "output_type": "stream",
     "text": [
      "cdo(1) setgrid: Processed 1023200 values from 2 variables over 100 timesteps.\n",
      "cdo    remapcon: Processed 1023200 values from 2 variables over 100 timesteps [0.73s 42MB].\n",
      "cdo(1) setgrid: Process started\n",
      "cdo    remapcon: YAC first order conservative weights from unstructured (10230) to lonlat (96x73) grid\n"
     ]
    },
    {
     "name": "stdout",
     "output_type": "stream",
     "text": [
      "\n"
     ]
    },
    {
     "name": "stderr",
     "output_type": "stream",
     "text": [
      "cdo(1) setgrid: Processed 1023200 values from 2 variables over 100 timesteps.\n",
      "cdo    remapcon: Processed 1023200 values from 2 variables over 100 timesteps [0.72s 42MB].\n",
      "cdo(1) setgrid: Process started\n",
      "cdo    remapcon: YAC first order conservative weights from unstructured (10230) to lonlat (96x73) grid\n"
     ]
    },
    {
     "name": "stdout",
     "output_type": "stream",
     "text": [
      "\n"
     ]
    },
    {
     "name": "stderr",
     "output_type": "stream",
     "text": [
      "cdo(1) setgrid: Processed 1023200 values from 2 variables over 100 timesteps.\n",
      "cdo    remapcon: Processed 1023200 values from 2 variables over 100 timesteps [0.72s 42MB].\n",
      "cdo(1) setgrid: Process started\n",
      "cdo    remapcon: YAC first order conservative weights from unstructured (10230) to lonlat (96x73) grid\n"
     ]
    },
    {
     "name": "stdout",
     "output_type": "stream",
     "text": [
      "\n"
     ]
    },
    {
     "name": "stderr",
     "output_type": "stream",
     "text": [
      "cdo(1) setgrid: Processed 1023200 values from 2 variables over 100 timesteps.\n",
      "cdo    remapcon: Processed 1023200 values from 2 variables over 100 timesteps [0.72s 42MB].\n",
      "cdo(1) setgrid: Process started\n",
      "cdo    remapcon: YAC first order conservative weights from unstructured (10230) to lonlat (96x73) grid\n"
     ]
    },
    {
     "name": "stdout",
     "output_type": "stream",
     "text": [
      "\n"
     ]
    },
    {
     "name": "stderr",
     "output_type": "stream",
     "text": [
      "cdo(1) setgrid: Processed 1023200 values from 2 variables over 100 timesteps.\n",
      "cdo    remapcon: Processed 1023200 values from 2 variables over 100 timesteps [0.72s 42MB].\n",
      "cdo(1) setgrid: Process started\n",
      "cdo    remapcon: YAC first order conservative weights from unstructured (10230) to lonlat (96x73) grid\n"
     ]
    },
    {
     "name": "stdout",
     "output_type": "stream",
     "text": [
      "\n"
     ]
    },
    {
     "name": "stderr",
     "output_type": "stream",
     "text": [
      "cdo(1) setgrid: Processed 1023200 values from 2 variables over 100 timesteps.\n",
      "cdo    remapcon: Processed 1023200 values from 2 variables over 100 timesteps [0.72s 42MB].\n",
      "cdo(1) setgrid: Process started\n",
      "cdo    remapcon: YAC first order conservative weights from unstructured (10230) to lonlat (96x73) grid\n"
     ]
    },
    {
     "name": "stdout",
     "output_type": "stream",
     "text": [
      "\n"
     ]
    },
    {
     "name": "stderr",
     "output_type": "stream",
     "text": [
      "cdo(1) setgrid: Processed 1023200 values from 2 variables over 100 timesteps.\n",
      "cdo    remapcon: Processed 1023200 values from 2 variables over 100 timesteps [0.72s 42MB].\n",
      "cdo(1) setgrid: Process started\n",
      "cdo    remapcon: YAC first order conservative weights from unstructured (10230) to lonlat (96x73) grid\n"
     ]
    },
    {
     "name": "stdout",
     "output_type": "stream",
     "text": [
      "\n"
     ]
    },
    {
     "name": "stderr",
     "output_type": "stream",
     "text": [
      "cdo(1) setgrid: Processed 1023200 values from 2 variables over 100 timesteps.\n",
      "cdo    remapcon: Processed 1023200 values from 2 variables over 100 timesteps [0.73s 42MB].\n",
      "cdo(1) setgrid: Process started\n",
      "cdo    remapcon: YAC first order conservative weights from unstructured (10230) to lonlat (96x73) grid\n"
     ]
    },
    {
     "name": "stdout",
     "output_type": "stream",
     "text": [
      "\n"
     ]
    },
    {
     "name": "stderr",
     "output_type": "stream",
     "text": [
      "cdo(1) setgrid: Processed 1023200 values from 2 variables over 100 timesteps.\n",
      "cdo    remapcon: Processed 1023200 values from 2 variables over 100 timesteps [0.72s 42MB].\n",
      "cdo(1) setgrid: Process started\n",
      "cdo    remapcon: YAC first order conservative weights from unstructured (10230) to lonlat (96x73) grid\n"
     ]
    },
    {
     "name": "stdout",
     "output_type": "stream",
     "text": [
      "\n"
     ]
    },
    {
     "name": "stderr",
     "output_type": "stream",
     "text": [
      "cdo(1) setgrid: Processed 1023200 values from 2 variables over 100 timesteps.\n",
      "cdo    remapcon: Processed 1023200 values from 2 variables over 100 timesteps [0.72s 42MB].\n",
      "cdo(1) setgrid: Process started\n",
      "cdo    remapcon: YAC first order conservative weights from unstructured (10230) to lonlat (96x73) grid\n"
     ]
    },
    {
     "name": "stdout",
     "output_type": "stream",
     "text": [
      "\n"
     ]
    },
    {
     "name": "stderr",
     "output_type": "stream",
     "text": [
      "cdo(1) setgrid: Processed 1023200 values from 2 variables over 100 timesteps.\n",
      "cdo    remapcon: Processed 1023200 values from 2 variables over 100 timesteps [0.77s 42MB].\n",
      "cdo(1) setgrid: Process started\n",
      "cdo    remapcon: YAC first order conservative weights from unstructured (10230) to lonlat (96x73) grid\n"
     ]
    },
    {
     "name": "stdout",
     "output_type": "stream",
     "text": [
      "\n"
     ]
    },
    {
     "name": "stderr",
     "output_type": "stream",
     "text": [
      "cdo(1) setgrid: Processed 1023200 values from 2 variables over 100 timesteps.\n",
      "cdo    remapcon: Processed 1023200 values from 2 variables over 100 timesteps [0.72s 42MB].\n",
      "cdo(1) setgrid: Process started\n",
      "cdo    remapcon: YAC first order conservative weights from unstructured (10230) to lonlat (96x73) grid\n"
     ]
    },
    {
     "name": "stdout",
     "output_type": "stream",
     "text": [
      "\n"
     ]
    },
    {
     "name": "stderr",
     "output_type": "stream",
     "text": [
      "cdo(1) setgrid: Processed 1023200 values from 2 variables over 100 timesteps.\n",
      "cdo    remapcon: Processed 1023200 values from 2 variables over 100 timesteps [0.72s 42MB].\n",
      "cdo(1) setgrid: Process started\n",
      "cdo    remapcon: YAC first order conservative weights from unstructured (10230) to lonlat (96x73) grid\n"
     ]
    },
    {
     "name": "stdout",
     "output_type": "stream",
     "text": [
      "\n"
     ]
    },
    {
     "name": "stderr",
     "output_type": "stream",
     "text": [
      "cdo(1) setgrid: Processed 1023200 values from 2 variables over 100 timesteps.\n",
      "cdo    remapcon: Processed 1023200 values from 2 variables over 100 timesteps [0.72s 42MB].\n",
      "cdo(1) setgrid: Process started\n",
      "cdo    remapcon: YAC first order conservative weights from unstructured (10230) to lonlat (96x73) grid\n"
     ]
    },
    {
     "name": "stdout",
     "output_type": "stream",
     "text": [
      "\n"
     ]
    },
    {
     "name": "stderr",
     "output_type": "stream",
     "text": [
      "cdo(1) setgrid: Processed 1023200 values from 2 variables over 100 timesteps.\n",
      "cdo    remapcon: Processed 1023200 values from 2 variables over 100 timesteps [0.72s 42MB].\n",
      "cdo(1) setgrid: Process started\n",
      "cdo    remapcon: YAC first order conservative weights from unstructured (10230) to lonlat (96x73) grid\n"
     ]
    },
    {
     "name": "stdout",
     "output_type": "stream",
     "text": [
      "\n"
     ]
    },
    {
     "name": "stderr",
     "output_type": "stream",
     "text": [
      "cdo(1) setgrid: Processed 1023200 values from 2 variables over 100 timesteps.\n",
      "cdo    remapcon: Processed 1023200 values from 2 variables over 100 timesteps [0.73s 42MB].\n",
      "cdo(1) setgrid: Process started\n",
      "cdo    remapcon: YAC first order conservative weights from unstructured (10230) to lonlat (96x73) grid\n"
     ]
    },
    {
     "name": "stdout",
     "output_type": "stream",
     "text": [
      "\n"
     ]
    },
    {
     "name": "stderr",
     "output_type": "stream",
     "text": [
      "cdo(1) setgrid: Processed 1023200 values from 2 variables over 100 timesteps.\n",
      "cdo    remapcon: Processed 1023200 values from 2 variables over 100 timesteps [0.76s 42MB].\n",
      "cdo(1) setgrid: Process started\n",
      "cdo    remapcon: YAC first order conservative weights from unstructured (10) to lonlat (96x73) grid\n",
      "cdo(1) setgrid: Processed 1200 values from 2 variables over 100 timesteps.\n",
      "cdo    remapcon: Processed 1200 values from 2 variables over 100 timesteps [0.12s 21MB].\n",
      "cdo(1) setgrid: Process started\n",
      "cdo    remapcon: YAC first order conservative weights from unstructured (10) to lonlat (96x73) grid\n"
     ]
    },
    {
     "name": "stdout",
     "output_type": "stream",
     "text": [
      "\n",
      "\n"
     ]
    },
    {
     "name": "stderr",
     "output_type": "stream",
     "text": [
      "cdo(1) setgrid: Processed 1200 values from 2 variables over 100 timesteps.\n",
      "cdo    remapcon: Processed 1200 values from 2 variables over 100 timesteps [0.10s 21MB].\n",
      "cdo(1) setgrid: Process started\n",
      "cdo    remapcon: YAC first order conservative weights from unstructured (10) to lonlat (96x73) grid\n",
      "cdo(1) setgrid: Processed 1200 values from 2 variables over 100 timesteps.\n",
      "cdo    remapcon: Processed 1200 values from 2 variables over 100 timesteps [0.10s 21MB].\n",
      "cdo(1) setgrid: Process started\n",
      "cdo    remapcon: YAC first order conservative weights from unstructured (10) to lonlat (96x73) grid\n"
     ]
    },
    {
     "name": "stdout",
     "output_type": "stream",
     "text": [
      "\n",
      "\n"
     ]
    },
    {
     "name": "stderr",
     "output_type": "stream",
     "text": [
      "cdo(1) setgrid: Processed 1200 values from 2 variables over 100 timesteps.\n",
      "cdo    remapcon: Processed 1200 values from 2 variables over 100 timesteps [0.10s 21MB].\n",
      "cdo(1) setgrid: Process started\n",
      "cdo    remapcon: YAC first order conservative weights from unstructured (10) to lonlat (96x73) grid\n",
      "cdo(1) setgrid: Processed 1200 values from 2 variables over 100 timesteps.\n",
      "cdo    remapcon: Processed 1200 values from 2 variables over 100 timesteps [0.10s 21MB].\n",
      "cdo(1) setgrid: Process started\n",
      "cdo    remapcon: YAC first order conservative weights from unstructured (10) to lonlat (96x73) grid\n"
     ]
    },
    {
     "name": "stdout",
     "output_type": "stream",
     "text": [
      "\n",
      "\n"
     ]
    },
    {
     "name": "stderr",
     "output_type": "stream",
     "text": [
      "cdo(1) setgrid: Processed 1200 values from 2 variables over 100 timesteps.\n",
      "cdo    remapcon: Processed 1200 values from 2 variables over 100 timesteps [0.10s 21MB].\n",
      "cdo(1) setgrid: Process started\n",
      "cdo    remapcon: YAC first order conservative weights from unstructured (10) to lonlat (96x73) grid\n",
      "cdo(1) setgrid: Processed 1200 values from 2 variables over 100 timesteps.\n",
      "cdo    remapcon: Processed 1200 values from 2 variables over 100 timesteps [0.10s 21MB].\n",
      "cdo(1) setgrid: Process started\n",
      "cdo    remapcon: YAC first order conservative weights from unstructured (10) to lonlat (96x73) grid\n"
     ]
    },
    {
     "name": "stdout",
     "output_type": "stream",
     "text": [
      "\n",
      "\n"
     ]
    },
    {
     "name": "stderr",
     "output_type": "stream",
     "text": [
      "cdo(1) setgrid: Processed 1200 values from 2 variables over 100 timesteps.\n",
      "cdo    remapcon: Processed 1200 values from 2 variables over 100 timesteps [0.10s 21MB].\n",
      "cdo(1) setgrid: Process started\n",
      "cdo    remapcon: YAC first order conservative weights from unstructured (10) to lonlat (96x73) grid\n",
      "cdo(1) setgrid: Processed 1200 values from 2 variables over 100 timesteps.\n",
      "cdo    remapcon: Processed 1200 values from 2 variables over 100 timesteps [0.10s 21MB].\n",
      "cdo(1) setgrid: Process started\n",
      "cdo    remapcon: YAC first order conservative weights from unstructured (10) to lonlat (96x73) grid\n"
     ]
    },
    {
     "name": "stdout",
     "output_type": "stream",
     "text": [
      "\n",
      "\n"
     ]
    },
    {
     "name": "stderr",
     "output_type": "stream",
     "text": [
      "cdo(1) setgrid: Processed 1200 values from 2 variables over 100 timesteps.\n",
      "cdo    remapcon: Processed 1200 values from 2 variables over 100 timesteps [0.10s 21MB].\n",
      "cdo(1) setgrid: Process started\n",
      "cdo    remapcon: YAC first order conservative weights from unstructured (10) to lonlat (96x73) grid\n",
      "cdo(1) setgrid: Processed 1200 values from 2 variables over 100 timesteps.\n",
      "cdo    remapcon: Processed 1200 values from 2 variables over 100 timesteps [0.10s 21MB].\n",
      "cdo(1) setgrid: Process started\n",
      "cdo    remapcon: YAC first order conservative weights from unstructured (10) to lonlat (96x73) grid\n"
     ]
    },
    {
     "name": "stdout",
     "output_type": "stream",
     "text": [
      "\n",
      "\n"
     ]
    },
    {
     "name": "stderr",
     "output_type": "stream",
     "text": [
      "cdo(1) setgrid: Processed 1200 values from 2 variables over 100 timesteps.\n",
      "cdo    remapcon: Processed 1200 values from 2 variables over 100 timesteps [0.11s 21MB].\n",
      "cdo(1) setgrid: Process started\n",
      "cdo    remapcon: YAC first order conservative weights from unstructured (10) to lonlat (96x73) grid\n",
      "cdo(1) setgrid: Processed 1200 values from 2 variables over 100 timesteps.\n",
      "cdo    remapcon: Processed 1200 values from 2 variables over 100 timesteps [0.10s 21MB].\n",
      "cdo(1) setgrid: Process started\n",
      "cdo    remapcon: YAC first order conservative weights from unstructured (10) to lonlat (96x73) grid\n"
     ]
    },
    {
     "name": "stdout",
     "output_type": "stream",
     "text": [
      "\n",
      "\n"
     ]
    },
    {
     "name": "stderr",
     "output_type": "stream",
     "text": [
      "cdo(1) setgrid: Processed 1200 values from 2 variables over 100 timesteps.\n",
      "cdo    remapcon: Processed 1200 values from 2 variables over 100 timesteps [0.10s 21MB].\n",
      "cdo(1) setgrid: Process started\n",
      "cdo    remapcon: YAC first order conservative weights from unstructured (10) to lonlat (96x73) grid\n",
      "cdo(1) setgrid: Processed 1200 values from 2 variables over 100 timesteps.\n",
      "cdo    remapcon: Processed 1200 values from 2 variables over 100 timesteps [0.10s 21MB].\n",
      "cdo(1) setgrid: Process started\n",
      "cdo    remapcon: YAC first order conservative weights from unstructured (10) to lonlat (96x73) grid\n"
     ]
    },
    {
     "name": "stdout",
     "output_type": "stream",
     "text": [
      "\n",
      "\n"
     ]
    },
    {
     "name": "stderr",
     "output_type": "stream",
     "text": [
      "cdo(1) setgrid: Processed 1200 values from 2 variables over 100 timesteps.\n",
      "cdo    remapcon: Processed 1200 values from 2 variables over 100 timesteps [0.10s 21MB].\n",
      "cdo(1) setgrid: Process started\n",
      "cdo    remapcon: YAC first order conservative weights from unstructured (10) to lonlat (96x73) grid\n",
      "cdo(1) setgrid: Processed 1200 values from 2 variables over 100 timesteps.\n",
      "cdo    remapcon: Processed 1200 values from 2 variables over 100 timesteps [0.13s 21MB].\n",
      "cdo(1) setgrid: Process started\n",
      "cdo    remapcon: YAC first order conservative weights from unstructured (10) to lonlat (96x73) grid\n"
     ]
    },
    {
     "name": "stdout",
     "output_type": "stream",
     "text": [
      "\n",
      "\n"
     ]
    },
    {
     "name": "stderr",
     "output_type": "stream",
     "text": [
      "cdo(1) setgrid: Processed 1200 values from 2 variables over 100 timesteps.\n",
      "cdo    remapcon: Processed 1200 values from 2 variables over 100 timesteps [0.10s 21MB].\n",
      "cdo(1) setgrid: Process started\n",
      "cdo    remapcon: YAC first order conservative weights from unstructured (10) to lonlat (96x73) grid\n",
      "cdo(1) setgrid: Processed 1200 values from 2 variables over 100 timesteps.\n",
      "cdo    remapcon: Processed 1200 values from 2 variables over 100 timesteps [0.10s 21MB].\n",
      "cdo(1) setgrid: Process started\n",
      "cdo    remapcon: YAC first order conservative weights from unstructured (10) to lonlat (96x73) grid\n"
     ]
    },
    {
     "name": "stdout",
     "output_type": "stream",
     "text": [
      "\n",
      "\n"
     ]
    },
    {
     "name": "stderr",
     "output_type": "stream",
     "text": [
      "cdo(1) setgrid: Processed 1200 values from 2 variables over 100 timesteps.\n",
      "cdo    remapcon: Processed 1200 values from 2 variables over 100 timesteps [0.10s 21MB].\n",
      "cdo(1) setgrid: Process started\n",
      "cdo    remapcon: YAC first order conservative weights from unstructured (10) to lonlat (96x73) grid\n",
      "cdo(1) setgrid: Processed 1200 values from 2 variables over 100 timesteps.\n",
      "cdo    remapcon: Processed 1200 values from 2 variables over 100 timesteps [0.10s 21MB].\n",
      "cdo(1) setgrid: Process started\n",
      "cdo    remapcon: YAC first order conservative weights from unstructured (10) to lonlat (96x73) grid\n"
     ]
    },
    {
     "name": "stdout",
     "output_type": "stream",
     "text": [
      "\n",
      "\n"
     ]
    },
    {
     "name": "stderr",
     "output_type": "stream",
     "text": [
      "cdo(1) setgrid: Processed 1200 values from 2 variables over 100 timesteps.\n",
      "cdo    remapcon: Processed 1200 values from 2 variables over 100 timesteps [0.10s 21MB].\n",
      "cdo(1) setgrid: Process started\n",
      "cdo    remapcon: YAC first order conservative weights from unstructured (10) to lonlat (96x73) grid\n",
      "cdo(1) setgrid: Processed 1200 values from 2 variables over 100 timesteps.\n",
      "cdo    remapcon: Processed 1200 values from 2 variables over 100 timesteps [0.10s 21MB].\n",
      "cdo(1) setgrid: Process started\n",
      "cdo    remapcon: YAC first order conservative weights from unstructured (10) to lonlat (96x73) grid\n"
     ]
    },
    {
     "name": "stdout",
     "output_type": "stream",
     "text": [
      "\n",
      "\n"
     ]
    },
    {
     "name": "stderr",
     "output_type": "stream",
     "text": [
      "cdo(1) setgrid: Processed 1200 values from 2 variables over 100 timesteps.\n",
      "cdo    remapcon: Processed 1200 values from 2 variables over 100 timesteps [0.10s 21MB].\n",
      "cdo(1) setgrid: Process started\n",
      "cdo    remapcon: YAC first order conservative weights from unstructured (10) to lonlat (96x73) grid\n",
      "cdo(1) setgrid: Processed 1200 values from 2 variables over 100 timesteps.\n",
      "cdo    remapcon: Processed 1200 values from 2 variables over 100 timesteps [0.10s 21MB].\n",
      "cdo(1) setgrid: Process started\n",
      "cdo    remapcon: YAC first order conservative weights from unstructured (10) to lonlat (96x73) grid\n"
     ]
    },
    {
     "name": "stdout",
     "output_type": "stream",
     "text": [
      "\n",
      "\n"
     ]
    },
    {
     "name": "stderr",
     "output_type": "stream",
     "text": [
      "cdo(1) setgrid: Processed 1200 values from 2 variables over 100 timesteps.\n",
      "cdo    remapcon: Processed 1200 values from 2 variables over 100 timesteps [0.10s 21MB].\n",
      "cdo(1) setgrid: Process started\n",
      "cdo    remapcon: YAC first order conservative weights from unstructured (10) to lonlat (96x73) grid\n",
      "cdo(1) setgrid: Processed 1200 values from 2 variables over 100 timesteps.\n",
      "cdo    remapcon: Processed 1200 values from 2 variables over 100 timesteps [0.10s 21MB].\n",
      "cdo(1) setgrid: Process started\n",
      "cdo    remapcon: YAC first order conservative weights from unstructured (10) to lonlat (96x73) grid\n"
     ]
    },
    {
     "name": "stdout",
     "output_type": "stream",
     "text": [
      "\n",
      "\n"
     ]
    },
    {
     "name": "stderr",
     "output_type": "stream",
     "text": [
      "cdo(1) setgrid: Processed 1200 values from 2 variables over 100 timesteps.\n",
      "cdo    remapcon: Processed 1200 values from 2 variables over 100 timesteps [0.10s 21MB].\n",
      "cdo(1) setgrid: Process started\n",
      "cdo    remapcon: YAC first order conservative weights from unstructured (10) to lonlat (96x73) grid\n",
      "cdo(1) setgrid: Processed 1200 values from 2 variables over 100 timesteps.\n",
      "cdo    remapcon: Processed 1200 values from 2 variables over 100 timesteps [0.10s 21MB].\n",
      "cdo(1) setgrid: Process started\n",
      "cdo    remapcon: YAC first order conservative weights from unstructured (10) to lonlat (96x73) grid\n"
     ]
    },
    {
     "name": "stdout",
     "output_type": "stream",
     "text": [
      "\n",
      "\n",
      "\n"
     ]
    },
    {
     "name": "stderr",
     "output_type": "stream",
     "text": [
      "cdo(1) setgrid: Processed 1200 values from 2 variables over 100 timesteps.\n",
      "cdo    remapcon: Processed 1200 values from 2 variables over 100 timesteps [0.10s 21MB].\n",
      "cdo(1) setgrid: Process started\n",
      "cdo    remapcon: YAC first order conservative weights from unstructured (10) to lonlat (96x73) grid\n",
      "cdo(1) setgrid: Processed 1200 values from 2 variables over 100 timesteps.\n",
      "cdo    remapcon: Processed 1200 values from 2 variables over 100 timesteps [0.10s 21MB].\n"
     ]
    }
   ],
   "source": [
    "script = os.path.join(\"./ico_to_model.sh\")\n",
    "\n",
    "o_arg = \"default_grid.txt\"\n",
    "i_arg = \"cons1\"\n",
    "\n",
    "\n",
    "for f in files_6_nb:\n",
    "    f_arg = os.path.basename(f)\n",
    "    g_arg = \"grid_description_r_5_nbs_6_ico.txt\"\n",
    "    call([script,\"-f\",f_arg, \"-g\", g_arg, \"-o\", o_arg, \"-i\", i_arg])\n",
    "\n",
    "for f in files_5_nb:\n",
    "    f_arg = os.path.basename(f)\n",
    "    g_arg = \"grid_description_r_5_nbs_5_ico.txt\"\n",
    "    call([script,\"-f\",f_arg, \"-g\", g_arg, \"-o\", o_arg, \"-i\", i_arg])"
   ]
  }
 ],
 "metadata": {
  "kernelspec": {
   "display_name": "Python 3 (ipykernel)",
   "language": "python",
   "name": "python3"
  },
  "language_info": {
   "codemirror_mode": {
    "name": "ipython",
    "version": 3
   },
   "file_extension": ".py",
   "mimetype": "text/x-python",
   "name": "python",
   "nbconvert_exporter": "python",
   "pygments_lexer": "ipython3",
   "version": "3.8.0"
  }
 },
 "nbformat": 4,
 "nbformat_minor": 4
}
