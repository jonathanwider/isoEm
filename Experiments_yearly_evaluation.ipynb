{
 "cells": [
  {
   "cell_type": "code",
   "execution_count": 1,
   "id": "a667537d",
   "metadata": {},
   "outputs": [],
   "source": [
    "from evaluate import *\n",
    "from interpolate import *"
   ]
  },
  {
   "cell_type": "code",
   "execution_count": 2,
   "id": "621aba20",
   "metadata": {},
   "outputs": [],
   "source": [
    "base_folder = \"Output/Reproduce_new\""
   ]
  },
  {
   "cell_type": "markdown",
   "id": "123c8a1e",
   "metadata": {},
   "source": [
    "# Testing the effect of modifications to flat UNet"
   ]
  },
  {
   "cell_type": "code",
   "execution_count": null,
   "id": "5258775b",
   "metadata": {
    "scrolled": true
   },
   "outputs": [
    {
     "name": "stdout",
     "output_type": "stream",
     "text": [
      "10 matching runs found\n",
      "Loss: Masked_MSELoss, CoordConv: True, CylindricalPadding: True, R2 = 0.375 +/- 0.005\n",
      "10 matching runs found\n",
      "Loss: Masked_MSELoss, CoordConv: True, CylindricalPadding: False, R2 = 0.367 +/- 0.010\n",
      "10 matching runs found\n"
     ]
    }
   ],
   "source": [
    "for loss in [\"Masked_MSELoss\", \"Masked_AreaWeightedMSELoss\"]:\n",
    "    for use_coord_conv in [True, False]:\n",
    "        for use_cylindrical_padding in [True, False]:\n",
    "            conditions = {\n",
    "                \"DATASET_DESCRIPTION\": {\"PREDICTOR_VARIABLES\" : {\"tsurf\": [\"tsurf\"],\n",
    "                                                                 \"prec\": [\"prec\"]},\n",
    "                                        \"GRID_TYPE\": \"Flat\",\n",
    "                                        \"PRECIP_WEIGHTING\" : False\n",
    "                                       },\n",
    "                \"MODEL_TRAINING_DESCRIPTION\": {\"MODEL_TYPE\": \"UNet_Flat\",\n",
    "                                              \"USE_COORD_CONV\": use_coord_conv,\n",
    "                                              \"USE_CYLINDRICAL_PADDING\": use_cylindrical_padding,\n",
    "                                              \"LOSS\": loss,\n",
    "                                              \"LEARNING_RATE\": 5e-3,\n",
    "                                              \"DEPTH\": 3,\n",
    "                                               \"FMAPS\": (32,32,64,64)\n",
    "                                              }\n",
    "            }\n",
    "            keywords_blacklist = [\"RESULTS_INTERPOLATED\"]\n",
    "            descriptions, predictions, gt, masks = load_data_for_comparison(base_folder, conditions, keywords_blacklist=keywords_blacklist)\n",
    "            r2 = np.zeros(len(predictions))\n",
    "            for i in range(len(predictions)):\n",
    "                r2[i] = get_weighted_average(get_r2(predictions[i], gt[i]), descriptions[i][\"DATASET_DESCRIPTION\"])\n",
    "            print('Loss: {}, CoordConv: {}, CylindricalPadding: {}, R2 = {:.3f} +/- {:.3f}'.format(loss, use_coord_conv, use_cylindrical_padding, np.mean(r2), np.std(r2)))"
   ]
  },
  {
   "cell_type": "code",
   "execution_count": null,
   "id": "c26bfbcc",
   "metadata": {},
   "outputs": [],
   "source": [
    "a = get_mse(gt[0], predictions[0], masks[0])"
   ]
  },
  {
   "cell_type": "code",
   "execution_count": null,
   "id": "58e0c615",
   "metadata": {},
   "outputs": [],
   "source": [
    "b = np.nanvar(gt[0],axis=0)"
   ]
  },
  {
   "cell_type": "code",
   "execution_count": null,
   "id": "9ee10b3e",
   "metadata": {},
   "outputs": [],
   "source": [
    "a / b"
   ]
  },
  {
   "cell_type": "markdown",
   "id": "a0d46c13",
   "metadata": {},
   "source": [
    "# Comparing different ML methods:"
   ]
  },
  {
   "cell_type": "markdown",
   "id": "7c16dac2",
   "metadata": {},
   "source": [
    "Flat grid:"
   ]
  },
  {
   "cell_type": "code",
   "execution_count": null,
   "id": "fedc591a",
   "metadata": {},
   "outputs": [],
   "source": [
    "linreg_baseline_c = {\n",
    "    \"DATASET_DESCRIPTION\": {\"GRID_TYPE\": \"Flat\",\n",
    "                            \"PREDICTOR_VARIABLES\" : {\"tsurf\": [\"tsurf\"],\n",
    "                                                     \"prec\": [\"prec\"]},\n",
    "                            \"DATASETS_NO_GAPS\": ['isotopes', 'tsurf', 'prec']},\n",
    "    \"MODEL_TRAINING_DESCRIPTION\": {\"MODEL_TYPE\": \"LinReg_Pixelwise\"}\n",
    "}\n",
    "\n",
    "randomforest_baseline_c = {\n",
    "    \"DATASET_DESCRIPTION\": {\"GRID_TYPE\": \"Flat\",\n",
    "                            \"PREDICTOR_VARIABLES\" : {\"tsurf\": [\"tsurf\"],\n",
    "                                                     \"prec\": [\"prec\"]},\n",
    "                            \"DATASETS_NO_GAPS\": ['isotopes', 'tsurf', 'prec']},\n",
    "                            \n",
    "    \"MODEL_TRAINING_DESCRIPTION\": {\"MODEL_TYPE\": \"RandomForest_Pixelwise\"}\n",
    "}\n",
    "\n",
    "pca_baseline_c = {\n",
    "    \"DATASET_DESCRIPTION\": {\"GRID_TYPE\": \"Flat\",\n",
    "                            \"PREDICTOR_VARIABLES\" : {\"tsurf\": [\"tsurf\"],\n",
    "                                                     \"prec\": [\"prec\"]},\n",
    "                            \"DATASETS_NO_GAPS\": ['isotopes', 'tsurf', 'prec']},\n",
    "    \"MODEL_TRAINING_DESCRIPTION\": {\"MODEL_TYPE\": \"PCA_Flat\",\n",
    "                                  \"REGTYPE\": \"linreg\"}\n",
    "}\n",
    "\n",
    "unet_unmodified_c = {\n",
    "    \"DATASET_DESCRIPTION\": {\"PREDICTOR_VARIABLES\" : {\"tsurf\": [\"tsurf\"],\n",
    "                                                     \"prec\": [\"prec\"]},\n",
    "                            \"DATASETS_NO_GAPS\": ['isotopes', 'tsurf', 'prec'],\n",
    "                            \"GRID_TYPE\": \"Flat\",\n",
    "                            \"PRECIP_WEIGHTING\" : False},\n",
    "    \"MODEL_TRAINING_DESCRIPTION\": {\"MODEL_TYPE\": \"UNet_Flat\",\n",
    "                                  \"USE_COORD_CONV\": False,\n",
    "                                  \"USE_CYLINDRICAL_PADDING\": False,\n",
    "                                  \"LEARNING_RATE\": 5e-3,                                   \n",
    "                                  \"LOSS\": \"Masked_MSELoss\"}\n",
    "}\n",
    "\n",
    "unet_modified_c = {\n",
    "    \"DATASET_DESCRIPTION\": {\"PREDICTOR_VARIABLES\" : {\"tsurf\": [\"tsurf\"],\n",
    "                                                     \"prec\": [\"prec\"]},\n",
    "                            \"DATASETS_NO_GAPS\": ['isotopes', 'tsurf', 'prec'],\n",
    "                            \"PRECIP_WEIGHTING\" : False,\n",
    "                            \"GRID_TYPE\": \"Flat\"\n",
    "                                       },\n",
    "    \"MODEL_TRAINING_DESCRIPTION\": {\"MODEL_TYPE\": \"UNet_Flat\",\n",
    "                                  \"USE_COORD_CONV\": True,\n",
    "                                  \"USE_CYLINDRICAL_PADDING\": True,\n",
    "                                  \"LEARNING_RATE\": 5e-3,\n",
    "                                  \"LOSS\": \"Masked_AreaWeightedMSELoss\",\n",
    "                                  \"DEPTH\": 3,\n",
    "                                  \"FMAPS\": (32,32,64,64)}\n",
    "}"
   ]
  },
  {
   "cell_type": "code",
   "execution_count": null,
   "id": "362cb82e",
   "metadata": {},
   "outputs": [],
   "source": [
    "descriptions_u_u, predictions_u_u, gt_u_u, masks_u_u = load_data_for_comparison(base_folder, unet_unmodified_c, keywords_blacklist=keywords_blacklist)\n",
    "descriptions_m_u, predictions_m_u, gt_m_u, masks_m_u = load_data_for_comparison(base_folder, unet_modified_c, keywords_blacklist=keywords_blacklist)\n",
    "descriptions_rf, predictions_rf, gt_rf, masks_rf = load_data_for_comparison(base_folder, randomforest_baseline_c, keywords_blacklist=keywords_blacklist)\n",
    "\n",
    "descriptions_lr, predictions_lr, gt_lr, masks_lr = load_data_for_comparison(base_folder, linreg_baseline_c, keywords_blacklist=keywords_blacklist)\n",
    "descriptions_pca, predictions_pca, gt_pca, masks_pca = load_data_for_comparison(base_folder, pca_baseline_c, keywords_blacklist=keywords_blacklist)\n",
    "\n",
    "\n",
    "r2_u_u = np.zeros(len(predictions_u_u))\n",
    "r2_m_u = np.zeros(len(predictions_m_u))\n",
    "r2_rf = np.zeros(len(predictions_rf))\n",
    "\n",
    "r2_lr = np.zeros(len(predictions_lr))\n",
    "r2_pca = np.zeros(len(predictions_pca))\n",
    "\n",
    "\n",
    "for i in range(len(predictions_u_u)):\n",
    "    r2_u_u[i] = get_weighted_average(get_r2(predictions_u_u[i], gt_u_u[i]), descriptions_u_u[i][\"DATASET_DESCRIPTION\"])\n",
    "\n",
    "for i in range(len(predictions_m_u)):\n",
    "    r2_m_u[i] = get_weighted_average(get_r2(predictions_m_u[i], gt_m_u[i]), descriptions_m_u[i][\"DATASET_DESCRIPTION\"])\n",
    "    \n",
    "for i in range(len(predictions_rf)):\n",
    "    r2_rf[i] = get_weighted_average(get_r2(predictions_rf[i], gt_rf[i]), descriptions_rf[i][\"DATASET_DESCRIPTION\"])\n",
    "    \n",
    "for i in range(len(predictions_lr)):\n",
    "    r2_lr[i] = get_weighted_average(get_r2(predictions_lr[i], gt_lr[i]), descriptions_lr[i][\"DATASET_DESCRIPTION\"])\n",
    "    \n",
    "for i in range(len(predictions_pca)):\n",
    "    r2_pca[i] = get_weighted_average(get_r2(predictions_pca[i], gt_pca[i]), descriptions_pca[i][\"DATASET_DESCRIPTION\"])\n",
    "\n",
    "\n",
    "print(r\"Unmodified UNet: $R2 = {:.3f} \\pm {:.3f}$\".format(np.mean(r2_u_u), np.std(r2_u_u)))\n",
    "print(r\"Modified UNet: $R2 = {:.3f} \\pm {:.3f}$\".format(np.mean(r2_m_u), np.std(r2_m_u)))\n",
    "print(r\"Random Forest: $R2 = {:.3f} \\pm {:.3f}$\".format(np.mean(r2_rf), np.std(r2_rf)))\n",
    "\n",
    "print(r\"Pixelwise Linear regression: $R2 = {:.3f} \\pm {:.3f}$\".format(np.mean(r2_lr), np.std(r2_lr)))\n",
    "print(r\"PCA Regression: $R2 = {:.3f} \\pm {:.3f}$\".format(np.mean(r2_pca), np.std(r2_pca)))"
   ]
  },
  {
   "cell_type": "markdown",
   "id": "e3963426",
   "metadata": {},
   "source": [
    "icosahedral grid:"
   ]
  },
  {
   "cell_type": "code",
   "execution_count": null,
   "id": "5cd5cbfe",
   "metadata": {},
   "outputs": [],
   "source": [
    "ico_baseline_c = {\n",
    "    \"DATASET_DESCRIPTION\": {\"GRID_TYPE\": \"Ico\",},\n",
    "    \"MODEL_TRAINING_DESCRIPTION\": {\"MODEL_TYPE\": \"PCA_Ico\",\n",
    "                                  \"REGTYPE\": \"linreg\"}\n",
    "}\n",
    "\n",
    "ico_unet_c = {\n",
    "    \"DATASET_DESCRIPTION\": {\"GRID_TYPE\": \"Ico\",\n",
    "                            \"PREDICTOR_VARIABLES\" : {\"tsurf\": [\"tsurf\"],\n",
    "                                                                 \"prec\": [\"prec\"]},\n",
    "                            \"PRECIP_WEIGHTING\" : False\n",
    "                                       },\n",
    "    \"MODEL_TRAINING_DESCRIPTION\": {\"MODEL_TYPE\": \"UNet_Ico\"}\n",
    "}"
   ]
  },
  {
   "cell_type": "code",
   "execution_count": null,
   "id": "0c21e2b5",
   "metadata": {
    "scrolled": true
   },
   "outputs": [],
   "source": [
    "descriptions_ico_unet, predictions_ico_unet, gt_ico_unet, masks_ico_unet = load_data_for_comparison(base_folder, ico_unet_c)\n",
    "descriptions_ico_bl, predictions_ico_bl, gt_ico_bl, masks_ico_bl = load_data_for_comparison(base_folder, ico_baseline_c)\n",
    "\n",
    "r2_ico_unet = np.zeros(len(predictions_ico_unet))\n",
    "r2_ico_bl = np.zeros(len(predictions_ico_bl))\n",
    "\n",
    "for i in range(len(predictions_ico_unet)):\n",
    "    r2_ico_unet[i] = np.mean(get_r2(predictions_ico_unet[i], gt_ico_unet[i]), axis=(1,2))\n",
    "\n",
    "for i in range(len(predictions_ico_bl)):\n",
    "    r2_ico_bl[i] = np.mean(get_r2(predictions_ico_bl[i], gt_ico_bl[i]), axis=(1,2))\n",
    "    \n",
    "print('Ico Unet: R2 = {:.3f} +/- {:.3f}'.format(np.mean(r2_ico_unet), np.std(r2_ico_unet)))\n",
    "print('Ico Baseline: R2 = {:.3f} +/- {:.3f}'.format(np.mean(r2_ico_bl), np.std(r2_ico_bl)))"
   ]
  },
  {
   "cell_type": "markdown",
   "id": "008ab95d",
   "metadata": {},
   "source": [
    "Flat interpolated to icosahedral grid:"
   ]
  },
  {
   "cell_type": "code",
   "execution_count": null,
   "id": "a676682c",
   "metadata": {},
   "outputs": [],
   "source": [
    "data_u_u = []\n",
    "gt_u_u = []\n",
    "\n",
    "for i in range(len(descriptions_u_u)):\n",
    "    data, gt = get_interpolated_data_and_gt(descriptions_u_u[i], predictions_u_u[i], output_folder=base_folder, \n",
    "                                            script_folder=\"Scripts/\", do_scaling=False)\n",
    "    data_u_u.append(data)\n",
    "    gt_u_u.append(gt)\n",
    "\n",
    "data_m_u = []\n",
    "gt_m_u = []\n",
    "\n",
    "for i in range(len(descriptions_m_u)):\n",
    "    data, gt = get_interpolated_data_and_gt(descriptions_m_u[i], predictions_m_u[i], output_folder=base_folder, \n",
    "                                            script_folder=\"Scripts/\", print_folder_names=True, do_scaling=False)\n",
    "    data_m_u.append(data)\n",
    "    gt_m_u.append(gt)\n",
    "    \n",
    "data_rf = []\n",
    "gt_rf = []\n",
    "\n",
    "for i in range(len(descriptions_rf)):\n",
    "    data, gt = get_interpolated_data_and_gt(descriptions_rf[i], predictions_rf[i], output_folder=base_folder, \n",
    "                                            script_folder=\"Scripts/\", print_folder_names=True, do_scaling=False)\n",
    "    data_rf.append(data)\n",
    "    gt_rf.append(gt)\n",
    "    \n",
    "data_lr = []\n",
    "gt_lr = []\n",
    "\n",
    "for i in range(len(descriptions_lr)):\n",
    "    data, gt = get_interpolated_data_and_gt(descriptions_lr[i], predictions_lr[i], output_folder=base_folder, \n",
    "                                            script_folder=\"Scripts/\", print_folder_names=True, do_scaling=False)\n",
    "    data_lr.append(data)\n",
    "    gt_lr.append(gt)\n",
    "    \n",
    "data_pca = []\n",
    "gt_pca = []\n",
    "\n",
    "for i in range(len(descriptions_pca)):\n",
    "    data, gt = get_interpolated_data_and_gt(descriptions_pca[i], predictions_pca[i], output_folder=base_folder, \n",
    "                                            script_folder=\"Scripts/\", print_folder_names=True, do_scaling=False)\n",
    "    data_pca.append(data)\n",
    "    gt_pca.append(gt)"
   ]
  },
  {
   "cell_type": "code",
   "execution_count": null,
   "id": "d600ecb7",
   "metadata": {},
   "outputs": [],
   "source": [
    "r2_u_u = np.zeros(len(data_u_u))\n",
    "r2_m_u = np.zeros(len(data_m_u))\n",
    "r2_rf = np.zeros(len(data_rf))\n",
    "\n",
    "r2_lr = np.zeros(len(data_lr))\n",
    "r2_pca = np.zeros(len(data_pca))\n",
    "\n",
    "\n",
    "for i in range(len(predictions_u_u)):\n",
    "    r2_u_u[i] = np.mean(get_r2(data_u_u[i], gt_u_u[i]), axis=(1,2))\n",
    "\n",
    "for i in range(len(predictions_m_u)):\n",
    "    r2_m_u[i] = np.mean(get_r2(data_m_u[i], gt_m_u[i]), axis=(1,2))\n",
    "    \n",
    "for i in range(len(predictions_rf)):\n",
    "    r2_rf[i] = np.mean(get_r2(data_rf[i], gt_rf[i]), axis=(1,2))\n",
    "    \n",
    "for i in range(len(predictions_lr)):\n",
    "    r2_lr[i] = np.mean(get_r2(data_lr[i], gt_lr[i]), axis=(1,2))\n",
    "    \n",
    "for i in range(len(predictions_pca)):\n",
    "    r2_pca[i] = np.mean(get_r2(data_pca[i], gt_pca[i]), axis=(1,2))\n",
    "\n",
    "\n",
    "print(r\"Unmodified UNet: $R2 = {:.3f} \\pm {:.3f}$\".format(np.mean(r2_u_u), np.std(r2_u_u)))\n",
    "print(r\"Modified UNet: $R2 = {:.3f} \\pm {:.3f}$\".format(np.mean(r2_m_u), np.std(r2_m_u)))\n",
    "print(r\"Random Forest: $R2 = {:.3f} \\pm {:.3f}$\".format(np.mean(r2_rf), np.std(r2_rf)))\n",
    "\n",
    "print(r\"Pixelwise Linear regression: $R2 = {:.3f} \\pm {:.3f}$\".format(np.mean(r2_lr), np.std(r2_lr)))\n",
    "print(r\"PCA Regression: $R2 = {:.3f} \\pm {:.3f}$\".format(np.mean(r2_pca), np.std(r2_pca)))"
   ]
  },
  {
   "cell_type": "markdown",
   "id": "5c26ae1d",
   "metadata": {},
   "source": [
    "Icosahedral interpolated to flat grid:"
   ]
  },
  {
   "cell_type": "code",
   "execution_count": null,
   "id": "42395dce",
   "metadata": {},
   "outputs": [],
   "source": [
    "data_ico_bl = []\n",
    "gt_ico_bl = []\n",
    "\n",
    "for i in range(len(descriptions_ico_bl)):\n",
    "    data, gt = get_interpolated_data_and_gt(descriptions_ico_bl[i], predictions_ico_bl[i], output_folder=base_folder, \n",
    "                                            script_folder=\"Scripts/\", do_scaling=False)\n",
    "    data_ico_bl.append(data)\n",
    "    gt_ico_bl.append(gt)\n",
    "\n",
    "data_ico_unet = []\n",
    "gt_ico_unet = []\n",
    "\n",
    "for i in range(len(descriptions_m_u)):\n",
    "    data, gt = get_interpolated_data_and_gt(descriptions_ico_unet[i], predictions_ico_unet[i], output_folder=base_folder, \n",
    "                                            script_folder=\"Scripts/\", do_scaling=False)\n",
    "    data_ico_unet.append(data)\n",
    "    gt_ico_unet.append(gt)"
   ]
  },
  {
   "cell_type": "code",
   "execution_count": null,
   "id": "6ce766be",
   "metadata": {},
   "outputs": [],
   "source": [
    "r2_ico_bl = np.zeros(len(data_ico_bl))\n",
    "r2_ico_unet = np.zeros(len(data_ico_unet))\n",
    "\n",
    "for i in range(len(data_ico_bl)):\n",
    "    r2_ico_bl[i] = get_weighted_average(get_r2(data_ico_bl[i], gt_ico_bl[i]), descriptions_lr[0][\"DATASET_DESCRIPTION\"])\n",
    "\n",
    "for i in range(len(data_ico_unet)):\n",
    "    r2_ico_unet[i] = get_weighted_average(get_r2(data_ico_unet[i], gt_ico_unet[i]), descriptions_lr[0][\"DATASET_DESCRIPTION\"])\n",
    "    \n",
    "\n",
    "print(r\"Ico baseline, flat grid: $R2 = {:.3f} \\pm {:.3f}$\".format(np.mean(r2_ico_bl), np.std(r2_ico_bl)))\n",
    "print(r\"Ico UNet, flat grid: $R2 = {:.3f} \\pm {:.3f}$\".format(np.mean(r2_ico_unet), np.std(r2_ico_unet)))"
   ]
  },
  {
   "cell_type": "markdown",
   "id": "104065a0",
   "metadata": {},
   "source": [
    "# Comparing different predictor variables"
   ]
  },
  {
   "cell_type": "code",
   "execution_count": null,
   "id": "647f58dc",
   "metadata": {},
   "outputs": [],
   "source": [
    "# predictor variables:\n",
    "conditions_tas = {\n",
    "    \"DATASET_DESCRIPTION\": {\"PREDICTOR_VARIABLES\" : {\"tsurf\": [\"tsurf\"]},\n",
    "                            \"PRECIP_WEIGHTING\" : False\n",
    "                           },\n",
    "    \"MODEL_TRAINING_DESCRIPTION\": {\"MODEL_TYPE\": \"UNet_Flat\",\n",
    "                                  \"USE_COORD_CONV\": True,\n",
    "                                  \"USE_CYLINDRICAL_PADDING\": True,\n",
    "                                  \"LOSS\": \"Masked_AreaWeightedMSELoss\",\n",
    "                                  }\n",
    "}\n",
    "\n",
    "conditions_pr = {\n",
    "    \"DATASET_DESCRIPTION\": {\"PREDICTOR_VARIABLES\" : {\"prec\": [\"prec\"]},\n",
    "                            \"PRECIP_WEIGHTING\" : False\n",
    "                           },\n",
    "    \"MODEL_TRAINING_DESCRIPTION\": {\"MODEL_TYPE\": \"UNet_Flat\",\n",
    "                                  \"USE_COORD_CONV\": True,\n",
    "                                  \"USE_CYLINDRICAL_PADDING\": True,\n",
    "                                  \"LOSS\": \"Masked_AreaWeightedMSELoss\",\n",
    "                                  }\n",
    "}\n",
    "\n",
    "\"\"\"\n",
    "# all of these are no longer used, because slp and oro are not available in all climate model data sets.\n",
    "conditions_slp = {\n",
    "    \"DATASET_DESCRIPTION\": {\"PREDICTOR_VARIABLES\" : {\"slp\": [\"p\"]},\n",
    "                            \"PRECIP_WEIGHTING\" : False\n",
    "                           },\n",
    "    \"MODEL_TRAINING_DESCRIPTION\": {\"MODEL_TYPE\": \"UNet_Flat\",\n",
    "                                  \"USE_COORD_CONV\": True,\n",
    "                                  \"USE_CYLINDRICAL_PADDING\": True,\n",
    "                                  \"LOSS\": \"Masked_AreaWeightedMSELoss\",\n",
    "                                  }\n",
    "}\n",
    "\n",
    "conditions_tps = {\n",
    "    \"DATASET_DESCRIPTION\": {\"PREDICTOR_VARIABLES\" : {\"tsurf\": [\"tsurf\"],\n",
    "                                                     \"prec\": [\"prec\"],\n",
    "                                                     \"slp\": [\"p\"]},\n",
    "                            \"PRECIP_WEIGHTING\" : False\n",
    "                           },\n",
    "    \"MODEL_TRAINING_DESCRIPTION\": {\"MODEL_TYPE\": \"UNet_Flat\",\n",
    "                                  \"USE_COORD_CONV\": True,\n",
    "                                  \"USE_CYLINDRICAL_PADDING\": True,\n",
    "                                  \"LOSS\": \"Masked_AreaWeightedMSELoss\",\n",
    "                                  \"LEARNING_RATE\": 5e-3,\n",
    "                                  \"DEPTH\": 3,\n",
    "                                   \"FMAPS\": (32,32,64,64)\n",
    "                                  }\n",
    "}\n",
    "\n",
    "conditions_tpo = {\n",
    "    \"DATASET_DESCRIPTION\": {\"PREDICTOR_VARIABLES\" : {\"tsurf\": [\"tsurf\"],\n",
    "                                                     \"prec\": [\"prec\"],\n",
    "                                                     \"oro\": [\"ht\"]},\n",
    "                            \"PRECIP_WEIGHTING\" : False\n",
    "                           },\n",
    "    \"MODEL_TRAINING_DESCRIPTION\": {\"MODEL_TYPE\": \"UNet_Flat\",\n",
    "                                  \"USE_COORD_CONV\": True,\n",
    "                                  \"USE_CYLINDRICAL_PADDING\": True,\n",
    "                                  \"LOSS\": \"Masked_AreaWeightedMSELoss\",\n",
    "                                  }\n",
    "}\n",
    "\"\"\"\n",
    "\n",
    "descriptions_tas, predictions_tas, gt_tas, masks_tas = load_data_for_comparison(base_folder, conditions_tas)\n",
    "descriptions_pr, predictions_pr, gt_pr, masks_pr = load_data_for_comparison(base_folder, conditions_pr)\n",
    "# descriptions_slp, predictions_slp, gt_slp, masks_slp = load_data_for_comparison(base_folder, conditions_slp)\n",
    "# descriptions_tps, predictions_tps, gt_tps, masks_tps = load_data_for_comparison(base_folder, conditions_tps)\n",
    "# descriptions_tpo, predictions_tpo, gt_tpo, masks_tpo = load_data_for_comparison(base_folder, conditions_tpo)\n",
    "\n",
    "r2_tas = np.zeros(len(predictions_tas))\n",
    "r2_pr = np.zeros(len(predictions_pr))\n",
    "# r2_slp = np.zeros(len(predictions_slp))\n",
    "# r2_tps = np.zeros(len(predictions_tps))\n",
    "# r2_tpo = np.zeros(len(predictions_tpo))\n",
    "\n",
    "for i in range(len(predictions_tas)):\n",
    "    r2_tas[i] = get_weighted_average(get_r2(predictions_tas[i], gt_tas[i]), descriptions_tas[i][\"DATASET_DESCRIPTION\"])\n",
    "\n",
    "for i in range(len(predictions_pr)):\n",
    "    r2_pr[i] = get_weighted_average(get_r2(predictions_pr[i], gt_pr[i]), descriptions_pr[i][\"DATASET_DESCRIPTION\"])\n",
    "    \n",
    "# for i in range(len(predictions_slp)):\n",
    "#     r2_slp[i] = get_weighted_average(get_r2(predictions_slp[i], gt_slp[i]), descriptions_slp[i][\"DATASET_DESCRIPTION\"])\n",
    "    \n",
    "# for i in range(len(predictions_tps)):\n",
    "#     r2_tps[i] = get_weighted_average(get_r2(predictions_tps[i], gt_tps[i]), descriptions_tps[i][\"DATASET_DESCRIPTION\"])\n",
    "    \n",
    "# for i in range(len(predictions_tpo)):\n",
    "#     r2_tpo[i] = get_weighted_average(get_r2(predictions_tpo[i], gt_tpo[i]), descriptions_tpo[i][\"DATASET_DESCRIPTION\"])\n",
    "    \n",
    "print('Tas: R2 = {:.3f} \\pm {:.3f}'.format(np.mean(r2_tas), np.std(r2_tas)))\n",
    "print('Precip: R2 = {:.3f} \\pm {:.3f}'.format(np.mean(r2_pr), np.std(r2_pr)))\n",
    "# print('Slp: R2 = {:.3f} \\pm {:.3f}'.format(np.mean(r2_slp), np.std(r2_slp)))\n",
    "# print('Tas, precip, slp: R2 = {:.3f} \\pm {:.3f}'.format(np.mean(r2_tps), np.std(r2_tps)))\n",
    "# print('Tas, precip, oro: R2 = {:.3f} \\pm {:.3f}'.format(np.mean(r2_tpo), np.std(r2_tpo)))"
   ]
  },
  {
   "cell_type": "markdown",
   "id": "54842bab",
   "metadata": {},
   "source": [
    "# Hyperparameter tuning"
   ]
  },
  {
   "cell_type": "code",
   "execution_count": null,
   "id": "490ecc37",
   "metadata": {},
   "outputs": [],
   "source": [
    "conditions_wider = {\n",
    "    \"DATASET_DESCRIPTION\": {\"PREDICTOR_VARIABLES\" : {\"tsurf\": [\"tsurf\"],\n",
    "                                                     \"prec\": [\"prec\"]},\n",
    "                            \"PRECIP_WEIGHTING\" : False\n",
    "                           },\n",
    "    \"MODEL_TRAINING_DESCRIPTION\": {\"MODEL_TYPE\": \"UNet_Flat\",\n",
    "                                  \"USE_COORD_CONV\": True,\n",
    "                                  \"USE_CYLINDRICAL_PADDING\": True,\n",
    "                                  \"LOSS\": \"Masked_AreaWeightedMSELoss\",\n",
    "                                  \"LEARNING_RATE\": 5e-3,\n",
    "                                  \"DEPTH\": 3,\n",
    "                                   \"FMAPS\": (64,64,128,128)\n",
    "                                  }\n",
    "}\n",
    "\n",
    "conditions_deeper = {\n",
    "    \"DATASET_DESCRIPTION\": {\"PREDICTOR_VARIABLES\" : {\"tsurf\": [\"tsurf\"],\n",
    "                                                     \"prec\": [\"prec\"]},\n",
    "                            \"PRECIP_WEIGHTING\" : False\n",
    "                           },\n",
    "    \"MODEL_TRAINING_DESCRIPTION\": {\"MODEL_TYPE\": \"UNet_Flat\",\n",
    "                                  \"USE_COORD_CONV\": True,\n",
    "                                  \"USE_CYLINDRICAL_PADDING\": True,\n",
    "                                  \"LOSS\": \"Masked_AreaWeightedMSELoss\",\n",
    "                                  \"LEARNING_RATE\": 5e-3,\n",
    "                                  \"DEPTH\": 4\n",
    "                                  }\n",
    "}\n",
    "\n",
    "descriptions_deeper, predictions_deeper, gt_deeper, masks_deeper = load_data_for_comparison(base_folder, conditions_deeper)\n",
    "descriptions_wider, predictions_wider, gt_wider, masks_wider = load_data_for_comparison(base_folder, conditions_wider)\n",
    "\n",
    "r2_deeper = np.zeros(len(predictions_deeper))\n",
    "r2_wider = np.zeros(len(predictions_wider))\n",
    "\n",
    "for i in range(len(predictions_deeper)):\n",
    "    r2_deeper[i] = get_weighted_average(get_r2(predictions_deeper[i], gt_deeper[i]), descriptions_deeper[i][\"DATASET_DESCRIPTION\"])\n",
    "\n",
    "for i in range(len(predictions_wider)):\n",
    "    r2_wider[i] = get_weighted_average(get_r2(predictions_wider[i], gt_wider[i]), descriptions_wider[i][\"DATASET_DESCRIPTION\"])\n",
    "    \n",
    "print('Deeper: R2 = {:.3f} +/- {:.3f}'.format(np.mean(r2_deeper), np.std(r2_deeper)))\n",
    "print('Wider: R2 = {:.3f} +/- {:.3f}'.format(np.mean(r2_wider), np.std(r2_wider)))"
   ]
  },
  {
   "cell_type": "markdown",
   "id": "268eacab",
   "metadata": {},
   "source": [
    "### learning rate tuning:"
   ]
  },
  {
   "cell_type": "code",
   "execution_count": null,
   "id": "6edba356",
   "metadata": {},
   "outputs": [],
   "source": [
    "conditions_lrs = {\n",
    "    \"DATASET_DESCRIPTION\": {\"PREDICTOR_VARIABLES\" : {\"tsurf\": [\"tsurf\"],\n",
    "                                                     \"prec\": [\"prec\"]},\n",
    "                            \"PRECIP_WEIGHTING\" : False,\n",
    "                            \"GRID_TYPE\": \"Flat\"\n",
    "                           },\n",
    "    \"MODEL_TRAINING_DESCRIPTION\": {\"MODEL_TYPE\": \"UNet_Flat\",\n",
    "                                  \"USE_COORD_CONV\": True,\n",
    "                                  \"USE_CYLINDRICAL_PADDING\": True,\n",
    "                                  \"LOSS\": \"Masked_AreaWeightedMSELoss\",\n",
    "                                  \"DEPTH\": 3\n",
    "                                  }\n",
    "}\n",
    "\n",
    "descriptions_lrs, predictions_lrs, gt_lrs, masks_lrs = load_data_for_comparison(base_folder, conditions_lrs, keywords_blacklist=keywords_blacklist)"
   ]
  },
  {
   "cell_type": "code",
   "execution_count": null,
   "id": "a4b19c36",
   "metadata": {},
   "outputs": [],
   "source": [
    "r2_lrs = np.zeros(len(predictions_lrs))\n",
    "\n",
    "for i in range(len(predictions_lrs)):\n",
    "    r2_lrs[i] = get_weighted_average(get_r2(predictions_lrs[i], gt_lrs[i]), descriptions_lrs[i][\"DATASET_DESCRIPTION\"])"
   ]
  },
  {
   "cell_type": "code",
   "execution_count": null,
   "id": "8e985f5e",
   "metadata": {
    "scrolled": true
   },
   "outputs": [],
   "source": [
    "import matplotlib.pyplot as plt\n",
    "lrs = [d[\"MODEL_TRAINING_DESCRIPTION\"][\"LEARNING_RATE\"] for d in descriptions_lrs]\n",
    "\n",
    "r2_lrs_mean = []\n",
    "r2_lrs_std = []\n",
    "\n",
    "ls = np.logspace(-4,-1,20)\n",
    "for i, l in enumerate(ls):\n",
    "    indices = np.where(l==lrs)[0]\n",
    "    print('lr: {} R2 = {:.3f} \\pm {:.3f}'.format(l, np.mean(r2_lrs[indices]), np.std(r2_lrs[indices])))\n",
    "    r2_lrs_mean.append(np.mean(r2_lrs[indices]))\n",
    "    r2_lrs_std.append(np.std(r2_lrs[indices]))\n",
    "    \n",
    "plt.plot(ls, r2_lrs_mean)\n",
    "plt.xscale(\"log\")\n",
    "plt.xlabel(\"Learning rate\")\n",
    "plt.ylabel(\"R2 score\")"
   ]
  },
  {
   "cell_type": "markdown",
   "id": "4683b6a5",
   "metadata": {},
   "source": [
    "# Precipitation weighting"
   ]
  },
  {
   "cell_type": "code",
   "execution_count": null,
   "id": "a6e111b5",
   "metadata": {
    "scrolled": true
   },
   "outputs": [],
   "source": [
    "conditions_pw = {\n",
    "    \"DATASET_DESCRIPTION\": {\"PRECIP_WEIGHTING\" : True},\n",
    "    \"MODEL_TRAINING_DESCRIPTION\": {}\n",
    "}\n",
    "\n",
    "conditions_no_pw = {\n",
    "    \"DATASET_DESCRIPTION\": {\"PREDICTOR_VARIABLES\" : {\"tsurf\": [\"tsurf\"],\n",
    "                                                     \"prec\": [\"prec\"]},\n",
    "                            \"PRECIP_WEIGHTING\" : False,\n",
    "                            \"GRID_TYPE\": \"Flat\"},\n",
    "    \"MODEL_TRAINING_DESCRIPTION\": {\"MODEL_TYPE\": \"UNet_Flat\",\n",
    "                                  \"USE_COORD_CONV\": True,\n",
    "                                  \"USE_CYLINDRICAL_PADDING\": True,\n",
    "                                  \"LOSS\": \"Masked_AreaWeightedMSELoss\",\n",
    "                                  \"LEARNING_RATE\": 5e-3,\n",
    "                                  \"DEPTH\": 3,\n",
    "                                  \"FMAPS\": (32,32,64,64)\n",
    "                                  }\n",
    "}\n",
    "\n",
    "descriptions_pw, predictions_pw, gt_pw, masks_pw = load_data_for_comparison(base_folder, conditions_pw)\n",
    "descriptions_no_pw, predictions_no_pw, gt_no_pw, masks_no_pw = load_data_for_comparison(base_folder, conditions_no_pw, keywords_blacklist=keywords_blacklist)\n",
    "\n",
    "r2_pw = np.zeros(len(predictions_pw))\n",
    "r2_no_pw = np.zeros(len(predictions_no_pw))\n",
    "\n",
    "for i in range(len(predictions_pw)):\n",
    "    r2_pw[i] = get_weighted_average(get_r2(predictions_pw[i], gt_pw[i]), descriptions_pw[i][\"DATASET_DESCRIPTION\"])\n",
    "\n",
    "for i in range(len(predictions_no_pw)):\n",
    "    r2_no_pw[i] = get_weighted_average(get_r2(predictions_no_pw[i], gt_no_pw[i]), descriptions_no_pw[i][\"DATASET_DESCRIPTION\"])\n",
    "    \n",
    "print('No precip weighting: R2 = {:.3f} \\pm {:.3f}'.format(np.mean(r2_no_pw), np.std(r2_no_pw)))\n",
    "print('Precip weighting: R2 = {:.3f} \\pm {:.3f}'.format(np.mean(r2_pw), np.std(r2_pw)))"
   ]
  },
  {
   "cell_type": "markdown",
   "id": "1e006b78",
   "metadata": {},
   "source": [
    "### Interpolate groundtruth Flat->Ico->Flat\n",
    "\n",
    "To demonstrate that the comparatively bad performance of the icosahedral UNet on the flat grid is mostly due to interpolation artifacts, we do the following: We interpolate the predictions of a flat UNet network to the icosahedral grid and back to the flat grid."
   ]
  },
  {
   "cell_type": "code",
   "execution_count": null,
   "id": "1fd7eac4",
   "metadata": {},
   "outputs": [],
   "source": [
    "gt_c = {\n",
    "    \"DATASET_DESCRIPTION\": {\"PREDICTOR_VARIABLES\" : {\"tsurf\": [\"tsurf\"],\n",
    "                                                     \"prec\": [\"prec\"]},\n",
    "                            \"DATASETS_NO_GAPS\": ['isotopes', 'tsurf', 'prec'],\n",
    "                            \"GRID_TYPE\": \"Flat\",\n",
    "                            \"PRECIP_WEIGHTING\" : False},\n",
    "    \"MODEL_TRAINING_DESCRIPTION\": {\"MODEL_TYPE\": \"UNet_Flat\",\n",
    "                                  \"USE_COORD_CONV\": False,\n",
    "                                  \"USE_CYLINDRICAL_PADDING\": False,\n",
    "                                  \"LEARNING_RATE\": 5e-3,                                   \n",
    "                                  \"LOSS\": \"Masked_MSELoss\"}\n",
    "}\n",
    "descriptions_flat, predictions_flat, gt_flat, masks_flat = load_data_for_comparison(base_folder, gt_c, keywords_blacklist=[\"RESULTS_INTERPOLATED\"])"
   ]
  },
  {
   "cell_type": "code",
   "execution_count": null,
   "id": "1a0c3e7f",
   "metadata": {
    "scrolled": true
   },
   "outputs": [],
   "source": [
    "data_l = []\n",
    "gt_l = []\n",
    "\n",
    "for i in range(len(descriptions_flat)):\n",
    "    data, gt = get_interpolated_data_and_gt(descriptions_flat[i], gt_flat[i], output_folder=base_folder, \n",
    "                                            script_folder=\"Scripts/\", do_scaling=False, print_folder_names=True)\n",
    "    data_l.append(data)\n",
    "    gt_l.append(gt)"
   ]
  },
  {
   "cell_type": "code",
   "execution_count": null,
   "id": "aba0520e",
   "metadata": {},
   "outputs": [],
   "source": [
    "gt_c = {\n",
    "    \"DATASET_DESCRIPTION\": {\"RESULTS_INTERPOLATED\": True,\n",
    "                            \"RESULTS_RESCALED\": False,\n",
    "                            \"GRID_TYPE\": \"Ico\"},\n",
    "    \"MODEL_TRAINING_DESCRIPTION\": {\"MODEL_TYPE\": \"UNet_Flat\",\n",
    "                                    \"USE_CYLINDRICAL_PADDING\": True\n",
    "                                  }\n",
    "}"
   ]
  },
  {
   "cell_type": "code",
   "execution_count": null,
   "id": "86abf35c",
   "metadata": {},
   "outputs": [],
   "source": [
    "descriptions_interp, predictions_interp, gt_interp, masks_interp = load_data_for_comparison(base_folder, gt_c)"
   ]
  },
  {
   "cell_type": "code",
   "execution_count": null,
   "id": "9b0091f0",
   "metadata": {},
   "outputs": [],
   "source": [
    "# do second interpolation:\n",
    "\n",
    "data_r = []\n",
    "gt_r = []\n",
    "\n",
    "for i in range(len(descriptions_interp)):\n",
    "    data, gt = get_interpolated_data_and_gt(descriptions_interp[i], predictions_interp[i], output_folder=base_folder, \n",
    "                                            script_folder=\"Scripts/\", do_scaling=False)\n",
    "    data_r.append(data)\n",
    "    gt_r.append(gt)"
   ]
  },
  {
   "cell_type": "code",
   "execution_count": null,
   "id": "cfba06c1",
   "metadata": {},
   "outputs": [],
   "source": [
    "r2_r = np.zeros(len(data_r))\n",
    "\n",
    "for i in range(len(data_r)):\n",
    "    r2_r[i] = get_weighted_average(get_r2(data_r[i], gt_r[i]), descriptions_interp[i][\"DATASET_DESCRIPTION\"])  # need a dataset description of a flat grid.\n",
    "\n",
    "    \n",
    "print('Twice interpolated: R2 = {:.3f} +/- {:.3f}'.format(np.mean(r2_r), np.std(r2_r)))"
   ]
  }
 ],
 "metadata": {
  "kernelspec": {
   "display_name": "Python 3 (ipykernel)",
   "language": "python",
   "name": "python3"
  },
  "language_info": {
   "codemirror_mode": {
    "name": "ipython",
    "version": 3
   },
   "file_extension": ".py",
   "mimetype": "text/x-python",
   "name": "python",
   "nbconvert_exporter": "python",
   "pygments_lexer": "ipython3",
   "version": "3.8.0"
  },
  "vscode": {
   "interpreter": {
    "hash": "90b409070de10f2c3c5a8c504ecede612c695480a2027d21529fbe1a33a534d8"
   }
  }
 },
 "nbformat": 4,
 "nbformat_minor": 5
}
