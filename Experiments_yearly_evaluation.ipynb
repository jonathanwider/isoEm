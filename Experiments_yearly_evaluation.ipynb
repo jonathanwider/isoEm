{
 "cells": [
  {
   "cell_type": "code",
   "execution_count": 2,
   "id": "a667537d",
   "metadata": {},
   "outputs": [],
   "source": [
    "from evaluate import *\n",
    "from interpolate import *"
   ]
  },
  {
   "cell_type": "code",
   "execution_count": 3,
   "id": "621aba20",
   "metadata": {},
   "outputs": [],
   "source": [
    "base_folder = \"Output/Reproduce_new_lr\""
   ]
  },
  {
   "cell_type": "markdown",
   "id": "123c8a1e",
   "metadata": {},
   "source": [
    "# Testing the effect of modifications to flat UNet"
   ]
  },
  {
   "cell_type": "code",
   "execution_count": 3,
   "id": "5258775b",
   "metadata": {
    "scrolled": true
   },
   "outputs": [
    {
     "name": "stdout",
     "output_type": "stream",
     "text": [
      "10 matching runs found\n",
      "Loss: Masked_MSELoss, CoordConv: True, CylindricalPadding: True, R2 = 0.375 +/- 0.005\n",
      "10 matching runs found\n",
      "Loss: Masked_MSELoss, CoordConv: True, CylindricalPadding: False, R2 = 0.367 +/- 0.010\n",
      "10 matching runs found\n",
      "Loss: Masked_MSELoss, CoordConv: False, CylindricalPadding: True, R2 = 0.357 +/- 0.015\n",
      "10 matching runs found\n",
      "Loss: Masked_MSELoss, CoordConv: False, CylindricalPadding: False, R2 = 0.352 +/- 0.015\n",
      "10 matching runs found\n",
      "Loss: Masked_AreaWeightedMSELoss, CoordConv: True, CylindricalPadding: True, R2 = 0.377 +/- 0.005\n",
      "10 matching runs found\n",
      "Loss: Masked_AreaWeightedMSELoss, CoordConv: True, CylindricalPadding: False, R2 = 0.376 +/- 0.005\n",
      "10 matching runs found\n",
      "Loss: Masked_AreaWeightedMSELoss, CoordConv: False, CylindricalPadding: True, R2 = 0.366 +/- 0.004\n",
      "10 matching runs found\n",
      "Loss: Masked_AreaWeightedMSELoss, CoordConv: False, CylindricalPadding: False, R2 = 0.365 +/- 0.005\n"
     ]
    }
   ],
   "source": [
    "for loss in [\"Masked_MSELoss\", \"Masked_AreaWeightedMSELoss\"]:\n",
    "    for use_coord_conv in [True, False]:\n",
    "        for use_cylindrical_padding in [True, False]:\n",
    "            conditions = {\n",
    "                \"DATASET_DESCRIPTION\": {\"PREDICTOR_VARIABLES\" : {\"tsurf\": [\"tsurf\"],\n",
    "                                                                 \"prec\": [\"prec\"]},\n",
    "                                        \"GRID_TYPE\": \"Flat\",\n",
    "                                        \"PRECIP_WEIGHTING\" : False\n",
    "                                       },\n",
    "                \"MODEL_TRAINING_DESCRIPTION\": {\"MODEL_TYPE\": \"UNet_Flat\",\n",
    "                                              \"USE_COORD_CONV\": use_coord_conv,\n",
    "                                              \"USE_CYLINDRICAL_PADDING\": use_cylindrical_padding,\n",
    "                                              \"LOSS\": loss,\n",
    "                                              \"LEARNING_RATE\": 1e-3,\n",
    "                                              \"DEPTH\": 3,\n",
    "                                               \"FMAPS\": (32,32,64,64)\n",
    "                                              }\n",
    "            }\n",
    "            keywords_blacklist = [\"RESULTS_INTERPOLATED\"]\n",
    "            descriptions, predictions, gt, masks = load_data_for_comparison(base_folder, conditions, keywords_blacklist=keywords_blacklist)\n",
    "            r2 = np.zeros(len(predictions))\n",
    "            for i in range(len(predictions)):\n",
    "                r2[i] = get_weighted_average(get_r2(predictions[i], gt[i]), descriptions[i][\"DATASET_DESCRIPTION\"])\n",
    "            print('Loss: {}, CoordConv: {}, CylindricalPadding: {}, R2 = {:.3f} +/- {:.3f}'.format(loss, use_coord_conv, use_cylindrical_padding, np.mean(r2), np.std(r2)))"
   ]
  },
  {
   "cell_type": "markdown",
   "id": "a0d46c13",
   "metadata": {},
   "source": [
    "# Comparing different ML methods:"
   ]
  },
  {
   "cell_type": "markdown",
   "id": "7c16dac2",
   "metadata": {},
   "source": [
    "Flat grid:"
   ]
  },
  {
   "cell_type": "code",
   "execution_count": 7,
   "id": "fedc591a",
   "metadata": {},
   "outputs": [],
   "source": [
    "linreg_baseline_c = {\n",
    "    \"DATASET_DESCRIPTION\": {\"GRID_TYPE\": \"Flat\",\n",
    "                            \"PREDICTOR_VARIABLES\" : {\"tsurf\": [\"tsurf\"],\n",
    "                                                     \"prec\": [\"prec\"]},\n",
    "                            \"DATASETS_NO_GAPS\": ['isotopes', 'tsurf', 'prec']},\n",
    "    \"MODEL_TRAINING_DESCRIPTION\": {\"MODEL_TYPE\": \"LinReg_Pixelwise\"}\n",
    "}\n",
    "\n",
    "randomforest_baseline_c = {\n",
    "    \"DATASET_DESCRIPTION\": {\"GRID_TYPE\": \"Flat\",\n",
    "                            \"PREDICTOR_VARIABLES\" : {\"tsurf\": [\"tsurf\"],\n",
    "                                                     \"prec\": [\"prec\"]},\n",
    "                            \"DATASETS_NO_GAPS\": ['isotopes', 'tsurf', 'prec']},\n",
    "                            \n",
    "    \"MODEL_TRAINING_DESCRIPTION\": {\"MODEL_TYPE\": \"RandomForest_Pixelwise\"}\n",
    "}\n",
    "\n",
    "pca_baseline_c = {\n",
    "    \"DATASET_DESCRIPTION\": {\"GRID_TYPE\": \"Flat\",\n",
    "                            \"PREDICTOR_VARIABLES\" : {\"tsurf\": [\"tsurf\"],\n",
    "                                                     \"prec\": [\"prec\"]},\n",
    "                            \"DATASETS_NO_GAPS\": ['isotopes', 'tsurf', 'prec']},\n",
    "    \"MODEL_TRAINING_DESCRIPTION\": {\"MODEL_TYPE\": \"PCA_Flat\",\n",
    "                                  \"REGTYPE\": \"linreg\"}\n",
    "}\n",
    "\n",
    "unet_unmodified_c = {\n",
    "    \"DATASET_DESCRIPTION\": {\"PREDICTOR_VARIABLES\" : {\"tsurf\": [\"tsurf\"],\n",
    "                                                     \"prec\": [\"prec\"]},\n",
    "                            \"DATASETS_NO_GAPS\": ['isotopes', 'tsurf', 'prec'],\n",
    "                            \"GRID_TYPE\": \"Flat\",\n",
    "                            \"PRECIP_WEIGHTING\" : False},\n",
    "    \"MODEL_TRAINING_DESCRIPTION\": {\"MODEL_TYPE\": \"UNet_Flat\",\n",
    "                                  \"USE_COORD_CONV\": False,\n",
    "                                  \"USE_CYLINDRICAL_PADDING\": False,\n",
    "                                  \"LEARNING_RATE\": 1e-3,                                   \n",
    "                                  \"LOSS\": \"Masked_MSELoss\"}\n",
    "}\n",
    "\n",
    "unet_modified_c = {\n",
    "    \"DATASET_DESCRIPTION\": {\"PREDICTOR_VARIABLES\" : {\"tsurf\": [\"tsurf\"],\n",
    "                                                     \"prec\": [\"prec\"]},\n",
    "                            \"DATASETS_NO_GAPS\": ['isotopes', 'tsurf', 'prec'],\n",
    "                            \"PRECIP_WEIGHTING\" : False,\n",
    "                            \"GRID_TYPE\": \"Flat\"\n",
    "                                       },\n",
    "    \"MODEL_TRAINING_DESCRIPTION\": {\"MODEL_TYPE\": \"UNet_Flat\",\n",
    "                                  \"USE_COORD_CONV\": True,\n",
    "                                  \"USE_CYLINDRICAL_PADDING\": True,\n",
    "                                  \"LEARNING_RATE\": 5e-3,\n",
    "                                  \"LOSS\": \"Masked_AreaWeightedMSELoss\",\n",
    "                                  \"DEPTH\": 3,\n",
    "                                  \"FMAPS\": (32,32,64,64)}\n",
    "}"
   ]
  },
  {
   "cell_type": "code",
   "execution_count": 8,
   "id": "362cb82e",
   "metadata": {},
   "outputs": [
    {
     "name": "stdout",
     "output_type": "stream",
     "text": [
      "10 matching runs found\n",
      "10 matching runs found\n",
      "1 matching runs found\n",
      "1 matching runs found\n",
      "1 matching runs found\n",
      "Unmodified UNet: $R2 = 0.352 \\pm 0.015$\n",
      "Modified UNet: $R2 = 0.377 \\pm 0.005$\n",
      "Random Forest: $R2 = 0.212 \\pm 0.000$\n",
      "Pixelwise Linear regression: $R2 = 0.251 \\pm 0.000$\n",
      "PCA Regression: $R2 = 0.303 \\pm 0.000$\n"
     ]
    }
   ],
   "source": [
    "descriptions_u_u, predictions_u_u, gt_u_u, masks_u_u = load_data_for_comparison(base_folder, unet_unmodified_c, keywords_blacklist=keywords_blacklist)\n",
    "descriptions_m_u, predictions_m_u, gt_m_u, masks_m_u = load_data_for_comparison(base_folder, unet_modified_c, keywords_blacklist=keywords_blacklist)\n",
    "descriptions_rf, predictions_rf, gt_rf, masks_rf = load_data_for_comparison(base_folder, randomforest_baseline_c, keywords_blacklist=keywords_blacklist)\n",
    "\n",
    "descriptions_lr, predictions_lr, gt_lr, masks_lr = load_data_for_comparison(base_folder, linreg_baseline_c, keywords_blacklist=keywords_blacklist)\n",
    "descriptions_pca, predictions_pca, gt_pca, masks_pca = load_data_for_comparison(base_folder, pca_baseline_c, keywords_blacklist=keywords_blacklist)\n",
    "\n",
    "\n",
    "r2_u_u = np.zeros(len(predictions_u_u))\n",
    "r2_m_u = np.zeros(len(predictions_m_u))\n",
    "r2_rf = np.zeros(len(predictions_rf))\n",
    "\n",
    "r2_lr = np.zeros(len(predictions_lr))\n",
    "r2_pca = np.zeros(len(predictions_pca))\n",
    "\n",
    "\n",
    "for i in range(len(predictions_u_u)):\n",
    "    r2_u_u[i] = get_weighted_average(get_r2(predictions_u_u[i], gt_u_u[i]), descriptions_u_u[i][\"DATASET_DESCRIPTION\"])\n",
    "\n",
    "for i in range(len(predictions_m_u)):\n",
    "    r2_m_u[i] = get_weighted_average(get_r2(predictions_m_u[i], gt_m_u[i]), descriptions_m_u[i][\"DATASET_DESCRIPTION\"])\n",
    "    \n",
    "for i in range(len(predictions_rf)):\n",
    "    r2_rf[i] = get_weighted_average(get_r2(predictions_rf[i], gt_rf[i]), descriptions_rf[i][\"DATASET_DESCRIPTION\"])\n",
    "    \n",
    "for i in range(len(predictions_lr)):\n",
    "    r2_lr[i] = get_weighted_average(get_r2(predictions_lr[i], gt_lr[i]), descriptions_lr[i][\"DATASET_DESCRIPTION\"])\n",
    "    \n",
    "for i in range(len(predictions_pca)):\n",
    "    r2_pca[i] = get_weighted_average(get_r2(predictions_pca[i], gt_pca[i]), descriptions_pca[i][\"DATASET_DESCRIPTION\"])\n",
    "\n",
    "\n",
    "print(r\"Unmodified UNet: $R2 = {:.3f} \\pm {:.3f}$\".format(np.mean(r2_u_u), np.std(r2_u_u)))\n",
    "print(r\"Modified UNet: $R2 = {:.3f} \\pm {:.3f}$\".format(np.mean(r2_m_u), np.std(r2_m_u)))\n",
    "print(r\"Random Forest: $R2 = {:.3f} \\pm {:.3f}$\".format(np.mean(r2_rf), np.std(r2_rf)))\n",
    "\n",
    "print(r\"Pixelwise Linear regression: $R2 = {:.3f} \\pm {:.3f}$\".format(np.mean(r2_lr), np.std(r2_lr)))\n",
    "print(r\"PCA Regression: $R2 = {:.3f} \\pm {:.3f}$\".format(np.mean(r2_pca), np.std(r2_pca)))"
   ]
  },
  {
   "cell_type": "markdown",
   "id": "e3963426",
   "metadata": {},
   "source": [
    "icosahedral grid:"
   ]
  },
  {
   "cell_type": "code",
   "execution_count": 9,
   "id": "5cd5cbfe",
   "metadata": {},
   "outputs": [],
   "source": [
    "ico_baseline_c = {\n",
    "    \"DATASET_DESCRIPTION\": {\"GRID_TYPE\": \"Ico\",},\n",
    "    \"MODEL_TRAINING_DESCRIPTION\": {\"MODEL_TYPE\": \"PCA_Ico\",\n",
    "                                  \"REGTYPE\": \"linreg\"}\n",
    "}\n",
    "\n",
    "ico_unet_c = {\n",
    "    \"DATASET_DESCRIPTION\": {\"GRID_TYPE\": \"Ico\",\n",
    "                            \"PREDICTOR_VARIABLES\" : {\"tsurf\": [\"tsurf\"],\n",
    "                                                                 \"prec\": [\"prec\"]},\n",
    "                            \"PRECIP_WEIGHTING\" : False\n",
    "                                       },\n",
    "    \"MODEL_TRAINING_DESCRIPTION\": {\"MODEL_TYPE\": \"UNet_Ico\"}\n",
    "}"
   ]
  },
  {
   "cell_type": "code",
   "execution_count": 10,
   "id": "0c21e2b5",
   "metadata": {
    "scrolled": true
   },
   "outputs": [
    {
     "name": "stdout",
     "output_type": "stream",
     "text": [
      "10 matching runs found\n",
      "1 matching runs found\n",
      "Ico Unet: R2 = 0.396 +/- 0.009\n",
      "Ico Baseline: R2 = 0.339 +/- 0.000\n"
     ]
    }
   ],
   "source": [
    "descriptions_ico_unet, predictions_ico_unet, gt_ico_unet, masks_ico_unet = load_data_for_comparison(base_folder, ico_unet_c)\n",
    "descriptions_ico_bl, predictions_ico_bl, gt_ico_bl, masks_ico_bl = load_data_for_comparison(base_folder, ico_baseline_c)\n",
    "\n",
    "r2_ico_unet = np.zeros(len(predictions_ico_unet))\n",
    "r2_ico_bl = np.zeros(len(predictions_ico_bl))\n",
    "\n",
    "for i in range(len(predictions_ico_unet)):\n",
    "    r2_ico_unet[i] = np.mean(get_r2(predictions_ico_unet[i], gt_ico_unet[i]), axis=(1,2))\n",
    "\n",
    "for i in range(len(predictions_ico_bl)):\n",
    "    r2_ico_bl[i] = np.mean(get_r2(predictions_ico_bl[i], gt_ico_bl[i]), axis=(1,2))\n",
    "    \n",
    "print('Ico Unet: R2 = {:.3f} +/- {:.3f}'.format(np.mean(r2_ico_unet), np.std(r2_ico_unet)))\n",
    "print('Ico Baseline: R2 = {:.3f} +/- {:.3f}'.format(np.mean(r2_ico_bl), np.std(r2_ico_bl)))"
   ]
  },
  {
   "cell_type": "markdown",
   "id": "008ab95d",
   "metadata": {},
   "source": [
    "Flat interpolated to icosahedral grid:"
   ]
  },
  {
   "cell_type": "code",
   "execution_count": 11,
   "id": "a676682c",
   "metadata": {},
   "outputs": [
    {
     "name": "stdout",
     "output_type": "stream",
     "text": [
      "OSError: Probably CDO is not installed. Test if we have exiting interpolated results.\n",
      "1 matching runs found\n",
      "OSError: Probably CDO is not installed. Test if we have exiting interpolated results.\n",
      "1 matching runs found\n",
      "OSError: Probably CDO is not installed. Test if we have exiting interpolated results.\n",
      "1 matching runs found\n",
      "OSError: Probably CDO is not installed. Test if we have exiting interpolated results.\n",
      "1 matching runs found\n",
      "OSError: Probably CDO is not installed. Test if we have exiting interpolated results.\n",
      "1 matching runs found\n",
      "OSError: Probably CDO is not installed. Test if we have exiting interpolated results.\n",
      "1 matching runs found\n",
      "OSError: Probably CDO is not installed. Test if we have exiting interpolated results.\n",
      "1 matching runs found\n",
      "OSError: Probably CDO is not installed. Test if we have exiting interpolated results.\n",
      "1 matching runs found\n",
      "OSError: Probably CDO is not installed. Test if we have exiting interpolated results.\n",
      "1 matching runs found\n",
      "OSError: Probably CDO is not installed. Test if we have exiting interpolated results.\n",
      "1 matching runs found\n",
      "OSError: Probably CDO is not installed. Test if we have exiting interpolated results.\n",
      "Output/Reproduce_new\\f58b0b708787c6906882857c7c3ada11d2785e8c47b247b8c98f74dfcb6d\\predictions.gz\n",
      "1 matching runs found\n",
      "OSError: Probably CDO is not installed. Test if we have exiting interpolated results.\n",
      "Output/Reproduce_new\\f58b0b708787c6906882857c7c3ada1708a5d6620bde0a91abd5bd0d4167\\predictions.gz\n",
      "1 matching runs found\n",
      "OSError: Probably CDO is not installed. Test if we have exiting interpolated results.\n",
      "Output/Reproduce_new\\f58b0b708787c6906882857c7c3ada1b331d90fb3bb8f686e60fb4694f84\\predictions.gz\n",
      "1 matching runs found\n",
      "OSError: Probably CDO is not installed. Test if we have exiting interpolated results.\n",
      "Output/Reproduce_new\\f58b0b708787c6906882857c7c3ada4c0f235c5b8790926dfac2dee1fcd4\\predictions.gz\n",
      "1 matching runs found\n",
      "OSError: Probably CDO is not installed. Test if we have exiting interpolated results.\n",
      "Output/Reproduce_new\\f58b0b708787c6906882857c7c3ada576a18f36590d3531ffca37b6de968\\predictions.gz\n",
      "1 matching runs found\n",
      "OSError: Probably CDO is not installed. Test if we have exiting interpolated results.\n",
      "Output/Reproduce_new\\f58b0b708787c6906882857c7c3ada7463a0580a1b8f672aa4e06304d509\\predictions.gz\n",
      "1 matching runs found\n",
      "OSError: Probably CDO is not installed. Test if we have exiting interpolated results.\n",
      "Output/Reproduce_new\\f58b0b708787c6906882857c7c3ada7f04ab0809263865da4a5cdc237fa9\\predictions.gz\n",
      "1 matching runs found\n",
      "OSError: Probably CDO is not installed. Test if we have exiting interpolated results.\n",
      "Output/Reproduce_new\\f58b0b708787c6906882857c7c3ada96d9124892228444d980843459fe8d\\predictions.gz\n",
      "1 matching runs found\n",
      "OSError: Probably CDO is not installed. Test if we have exiting interpolated results.\n",
      "Output/Reproduce_new\\f58b0b708787c6906882857c7c3adaaac5dd7ec5619ea3e514d8867fb915\\predictions.gz\n",
      "1 matching runs found\n",
      "OSError: Probably CDO is not installed. Test if we have exiting interpolated results.\n",
      "Output/Reproduce_new\\f58b0b708787c6906882857c7c3adac43d21071365fbd967ac53ca58c39a\\predictions.gz\n",
      "1 matching runs found\n",
      "OSError: Probably CDO is not installed. Test if we have exiting interpolated results.\n",
      "Output/Reproduce_new\\f58b0b708787c6906882857c7c3ada716c63e8186d96b82c72abbafaf658\\predictions.gz\n",
      "1 matching runs found\n",
      "OSError: Probably CDO is not installed. Test if we have exiting interpolated results.\n",
      "Output/Reproduce_new\\f58b0b708787c6906882857c7c3adaa5c975cb0fb8c5b6aad7388577b31e\\predictions.gz\n",
      "1 matching runs found\n",
      "OSError: Probably CDO is not installed. Test if we have exiting interpolated results.\n",
      "Output/Reproduce_new\\f58b0b708787c6906882857c7c3adab1797cbd05550fc1e8d0c7907fa9cd\\predictions.gz\n",
      "1 matching runs found\n"
     ]
    }
   ],
   "source": [
    "data_u_u = []\n",
    "gt_u_u = []\n",
    "\n",
    "for i in range(len(descriptions_u_u)):\n",
    "    data, gt = get_interpolated_data_and_gt(descriptions_u_u[i], predictions_u_u[i], output_folder=base_folder, \n",
    "                                            script_folder=\"Scripts/\", do_scaling=False)\n",
    "    data_u_u.append(data)\n",
    "    gt_u_u.append(gt)\n",
    "\n",
    "data_m_u = []\n",
    "gt_m_u = []\n",
    "\n",
    "for i in range(len(descriptions_m_u)):\n",
    "    data, gt = get_interpolated_data_and_gt(descriptions_m_u[i], predictions_m_u[i], output_folder=base_folder, \n",
    "                                            script_folder=\"Scripts/\", print_folder_names=True, do_scaling=False)\n",
    "    data_m_u.append(data)\n",
    "    gt_m_u.append(gt)\n",
    "    \n",
    "data_rf = []\n",
    "gt_rf = []\n",
    "\n",
    "for i in range(len(descriptions_rf)):\n",
    "    data, gt = get_interpolated_data_and_gt(descriptions_rf[i], predictions_rf[i], output_folder=base_folder, \n",
    "                                            script_folder=\"Scripts/\", print_folder_names=True, do_scaling=False)\n",
    "    data_rf.append(data)\n",
    "    gt_rf.append(gt)\n",
    "    \n",
    "data_lr = []\n",
    "gt_lr = []\n",
    "\n",
    "for i in range(len(descriptions_lr)):\n",
    "    data, gt = get_interpolated_data_and_gt(descriptions_lr[i], predictions_lr[i], output_folder=base_folder, \n",
    "                                            script_folder=\"Scripts/\", print_folder_names=True, do_scaling=False)\n",
    "    data_lr.append(data)\n",
    "    gt_lr.append(gt)\n",
    "    \n",
    "data_pca = []\n",
    "gt_pca = []\n",
    "\n",
    "for i in range(len(descriptions_pca)):\n",
    "    data, gt = get_interpolated_data_and_gt(descriptions_pca[i], predictions_pca[i], output_folder=base_folder, \n",
    "                                            script_folder=\"Scripts/\", print_folder_names=True, do_scaling=False)\n",
    "    data_pca.append(data)\n",
    "    gt_pca.append(gt)"
   ]
  },
  {
   "cell_type": "code",
   "execution_count": 12,
   "id": "d600ecb7",
   "metadata": {},
   "outputs": [
    {
     "name": "stdout",
     "output_type": "stream",
     "text": [
      "Unmodified UNet: $R2 = 0.374 \\pm 0.017$\n",
      "Modified UNet: $R2 = 0.402 \\pm 0.006$\n",
      "Random Forest: $R2 = 0.256 \\pm 0.000$\n",
      "Pixelwise Linear regression: $R2 = 0.274 \\pm 0.000$\n",
      "PCA Regression: $R2 = 0.332 \\pm 0.000$\n"
     ]
    }
   ],
   "source": [
    "r2_u_u = np.zeros(len(data_u_u))\n",
    "r2_m_u = np.zeros(len(data_m_u))\n",
    "r2_rf = np.zeros(len(data_rf))\n",
    "\n",
    "r2_lr = np.zeros(len(data_lr))\n",
    "r2_pca = np.zeros(len(data_pca))\n",
    "\n",
    "\n",
    "for i in range(len(predictions_u_u)):\n",
    "    r2_u_u[i] = np.mean(get_r2(data_u_u[i], gt_u_u[i]), axis=(1,2))\n",
    "\n",
    "for i in range(len(predictions_m_u)):\n",
    "    r2_m_u[i] = np.mean(get_r2(data_m_u[i], gt_m_u[i]), axis=(1,2))\n",
    "    \n",
    "for i in range(len(predictions_rf)):\n",
    "    r2_rf[i] = np.mean(get_r2(data_rf[i], gt_rf[i]), axis=(1,2))\n",
    "    \n",
    "for i in range(len(predictions_lr)):\n",
    "    r2_lr[i] = np.mean(get_r2(data_lr[i], gt_lr[i]), axis=(1,2))\n",
    "    \n",
    "for i in range(len(predictions_pca)):\n",
    "    r2_pca[i] = np.mean(get_r2(data_pca[i], gt_pca[i]), axis=(1,2))\n",
    "\n",
    "\n",
    "print(r\"Unmodified UNet: $R2 = {:.3f} \\pm {:.3f}$\".format(np.mean(r2_u_u), np.std(r2_u_u)))\n",
    "print(r\"Modified UNet: $R2 = {:.3f} \\pm {:.3f}$\".format(np.mean(r2_m_u), np.std(r2_m_u)))\n",
    "print(r\"Random Forest: $R2 = {:.3f} \\pm {:.3f}$\".format(np.mean(r2_rf), np.std(r2_rf)))\n",
    "\n",
    "print(r\"Pixelwise Linear regression: $R2 = {:.3f} \\pm {:.3f}$\".format(np.mean(r2_lr), np.std(r2_lr)))\n",
    "print(r\"PCA Regression: $R2 = {:.3f} \\pm {:.3f}$\".format(np.mean(r2_pca), np.std(r2_pca)))"
   ]
  },
  {
   "cell_type": "markdown",
   "id": "5c26ae1d",
   "metadata": {},
   "source": [
    "Icosahedral interpolated to flat grid:"
   ]
  },
  {
   "cell_type": "code",
   "execution_count": 13,
   "id": "42395dce",
   "metadata": {},
   "outputs": [
    {
     "name": "stdout",
     "output_type": "stream",
     "text": [
      "OSError: Probably CDO is not installed. Test if we have exiting interpolated results.\n",
      "1 matching runs found\n",
      "When interpolating to model grid, currently the iHadCM3 specifics are used.\n",
      "OSError: Probably CDO is not installed. Test if we have exiting interpolated results.\n",
      "1 matching runs found\n",
      "When interpolating to model grid, currently the iHadCM3 specifics are used.\n",
      "OSError: Probably CDO is not installed. Test if we have exiting interpolated results.\n",
      "1 matching runs found\n",
      "When interpolating to model grid, currently the iHadCM3 specifics are used.\n",
      "OSError: Probably CDO is not installed. Test if we have exiting interpolated results.\n",
      "1 matching runs found\n",
      "When interpolating to model grid, currently the iHadCM3 specifics are used.\n",
      "OSError: Probably CDO is not installed. Test if we have exiting interpolated results.\n",
      "1 matching runs found\n",
      "When interpolating to model grid, currently the iHadCM3 specifics are used.\n",
      "OSError: Probably CDO is not installed. Test if we have exiting interpolated results.\n",
      "1 matching runs found\n",
      "When interpolating to model grid, currently the iHadCM3 specifics are used.\n",
      "OSError: Probably CDO is not installed. Test if we have exiting interpolated results.\n",
      "1 matching runs found\n",
      "When interpolating to model grid, currently the iHadCM3 specifics are used.\n",
      "OSError: Probably CDO is not installed. Test if we have exiting interpolated results.\n",
      "1 matching runs found\n",
      "When interpolating to model grid, currently the iHadCM3 specifics are used.\n",
      "OSError: Probably CDO is not installed. Test if we have exiting interpolated results.\n",
      "1 matching runs found\n",
      "When interpolating to model grid, currently the iHadCM3 specifics are used.\n",
      "OSError: Probably CDO is not installed. Test if we have exiting interpolated results.\n",
      "1 matching runs found\n",
      "When interpolating to model grid, currently the iHadCM3 specifics are used.\n",
      "OSError: Probably CDO is not installed. Test if we have exiting interpolated results.\n",
      "1 matching runs found\n",
      "When interpolating to model grid, currently the iHadCM3 specifics are used.\n"
     ]
    }
   ],
   "source": [
    "data_ico_bl = []\n",
    "gt_ico_bl = []\n",
    "\n",
    "for i in range(len(descriptions_ico_bl)):\n",
    "    data, gt = get_interpolated_data_and_gt(descriptions_ico_bl[i], predictions_ico_bl[i], output_folder=base_folder, \n",
    "                                            script_folder=\"Scripts/\", do_scaling=False)\n",
    "    data_ico_bl.append(data)\n",
    "    gt_ico_bl.append(gt)\n",
    "\n",
    "data_ico_unet = []\n",
    "gt_ico_unet = []\n",
    "\n",
    "for i in range(len(descriptions_m_u)):\n",
    "    data, gt = get_interpolated_data_and_gt(descriptions_ico_unet[i], predictions_ico_unet[i], output_folder=base_folder, \n",
    "                                            script_folder=\"Scripts/\", do_scaling=False)\n",
    "    data_ico_unet.append(data)\n",
    "    gt_ico_unet.append(gt)"
   ]
  },
  {
   "cell_type": "code",
   "execution_count": 14,
   "id": "6ce766be",
   "metadata": {},
   "outputs": [
    {
     "name": "stdout",
     "output_type": "stream",
     "text": [
      "Ico baseline, flat grid: $R2 = 0.076 \\pm 0.000$\n",
      "Ico UNet, flat grid: $R2 = 0.126 \\pm 0.011$\n"
     ]
    }
   ],
   "source": [
    "r2_ico_bl = np.zeros(len(data_ico_bl))\n",
    "r2_ico_unet = np.zeros(len(data_ico_unet))\n",
    "\n",
    "for i in range(len(data_ico_bl)):\n",
    "    r2_ico_bl[i] = get_weighted_average(get_r2(data_ico_bl[i], gt_ico_bl[i]), descriptions_lr[0][\"DATASET_DESCRIPTION\"])\n",
    "\n",
    "for i in range(len(data_ico_unet)):\n",
    "    r2_ico_unet[i] = get_weighted_average(get_r2(data_ico_unet[i], gt_ico_unet[i]), descriptions_lr[0][\"DATASET_DESCRIPTION\"])\n",
    "    \n",
    "\n",
    "print(r\"Ico baseline, flat grid: $R2 = {:.3f} \\pm {:.3f}$\".format(np.mean(r2_ico_bl), np.std(r2_ico_bl)))\n",
    "print(r\"Ico UNet, flat grid: $R2 = {:.3f} \\pm {:.3f}$\".format(np.mean(r2_ico_unet), np.std(r2_ico_unet)))"
   ]
  },
  {
   "cell_type": "markdown",
   "id": "104065a0",
   "metadata": {},
   "source": [
    "# Comparing different predictor variables"
   ]
  },
  {
   "cell_type": "code",
   "execution_count": 15,
   "id": "647f58dc",
   "metadata": {},
   "outputs": [
    {
     "name": "stdout",
     "output_type": "stream",
     "text": [
      "10 matching runs found\n",
      "10 matching runs found\n",
      "Tas: R2 = 0.251 \\pm 0.004\n",
      "Precip: R2 = 0.327 \\pm 0.006\n"
     ]
    }
   ],
   "source": [
    "# predictor variables:\n",
    "conditions_tas = {\n",
    "    \"DATASET_DESCRIPTION\": {\"PREDICTOR_VARIABLES\" : {\"tsurf\": [\"tsurf\"]},\n",
    "                            \"PRECIP_WEIGHTING\" : False\n",
    "                           },\n",
    "    \"MODEL_TRAINING_DESCRIPTION\": {\"MODEL_TYPE\": \"UNet_Flat\",\n",
    "                                  \"USE_COORD_CONV\": True,\n",
    "                                  \"USE_CYLINDRICAL_PADDING\": True,\n",
    "                                  \"LOSS\": \"Masked_AreaWeightedMSELoss\",\n",
    "                                  }\n",
    "}\n",
    "\n",
    "conditions_pr = {\n",
    "    \"DATASET_DESCRIPTION\": {\"PREDICTOR_VARIABLES\" : {\"prec\": [\"prec\"]},\n",
    "                            \"PRECIP_WEIGHTING\" : False\n",
    "                           },\n",
    "    \"MODEL_TRAINING_DESCRIPTION\": {\"MODEL_TYPE\": \"UNet_Flat\",\n",
    "                                  \"USE_COORD_CONV\": True,\n",
    "                                  \"USE_CYLINDRICAL_PADDING\": True,\n",
    "                                  \"LOSS\": \"Masked_AreaWeightedMSELoss\",\n",
    "                                  }\n",
    "}\n",
    "\n",
    "\"\"\"\n",
    "# all of these are no longer used, because slp and oro are not available in all climate model data sets.\n",
    "conditions_slp = {\n",
    "    \"DATASET_DESCRIPTION\": {\"PREDICTOR_VARIABLES\" : {\"slp\": [\"p\"]},\n",
    "                            \"PRECIP_WEIGHTING\" : False\n",
    "                           },\n",
    "    \"MODEL_TRAINING_DESCRIPTION\": {\"MODEL_TYPE\": \"UNet_Flat\",\n",
    "                                  \"USE_COORD_CONV\": True,\n",
    "                                  \"USE_CYLINDRICAL_PADDING\": True,\n",
    "                                  \"LOSS\": \"Masked_AreaWeightedMSELoss\",\n",
    "                                  }\n",
    "}\n",
    "\n",
    "conditions_tps = {\n",
    "    \"DATASET_DESCRIPTION\": {\"PREDICTOR_VARIABLES\" : {\"tsurf\": [\"tsurf\"],\n",
    "                                                     \"prec\": [\"prec\"],\n",
    "                                                     \"slp\": [\"p\"]},\n",
    "                            \"PRECIP_WEIGHTING\" : False\n",
    "                           },\n",
    "    \"MODEL_TRAINING_DESCRIPTION\": {\"MODEL_TYPE\": \"UNet_Flat\",\n",
    "                                  \"USE_COORD_CONV\": True,\n",
    "                                  \"USE_CYLINDRICAL_PADDING\": True,\n",
    "                                  \"LOSS\": \"Masked_AreaWeightedMSELoss\",\n",
    "                                  \"LEARNING_RATE\": 5e-3,\n",
    "                                  \"DEPTH\": 3,\n",
    "                                   \"FMAPS\": (32,32,64,64)\n",
    "                                  }\n",
    "}\n",
    "\n",
    "conditions_tpo = {\n",
    "    \"DATASET_DESCRIPTION\": {\"PREDICTOR_VARIABLES\" : {\"tsurf\": [\"tsurf\"],\n",
    "                                                     \"prec\": [\"prec\"],\n",
    "                                                     \"oro\": [\"ht\"]},\n",
    "                            \"PRECIP_WEIGHTING\" : False\n",
    "                           },\n",
    "    \"MODEL_TRAINING_DESCRIPTION\": {\"MODEL_TYPE\": \"UNet_Flat\",\n",
    "                                  \"USE_COORD_CONV\": True,\n",
    "                                  \"USE_CYLINDRICAL_PADDING\": True,\n",
    "                                  \"LOSS\": \"Masked_AreaWeightedMSELoss\",\n",
    "                                  }\n",
    "}\n",
    "\"\"\"\n",
    "\n",
    "descriptions_tas, predictions_tas, gt_tas, masks_tas = load_data_for_comparison(base_folder, conditions_tas)\n",
    "descriptions_pr, predictions_pr, gt_pr, masks_pr = load_data_for_comparison(base_folder, conditions_pr)\n",
    "# descriptions_slp, predictions_slp, gt_slp, masks_slp = load_data_for_comparison(base_folder, conditions_slp)\n",
    "# descriptions_tps, predictions_tps, gt_tps, masks_tps = load_data_for_comparison(base_folder, conditions_tps)\n",
    "# descriptions_tpo, predictions_tpo, gt_tpo, masks_tpo = load_data_for_comparison(base_folder, conditions_tpo)\n",
    "\n",
    "r2_tas = np.zeros(len(predictions_tas))\n",
    "r2_pr = np.zeros(len(predictions_pr))\n",
    "# r2_slp = np.zeros(len(predictions_slp))\n",
    "# r2_tps = np.zeros(len(predictions_tps))\n",
    "# r2_tpo = np.zeros(len(predictions_tpo))\n",
    "\n",
    "for i in range(len(predictions_tas)):\n",
    "    r2_tas[i] = get_weighted_average(get_r2(predictions_tas[i], gt_tas[i]), descriptions_tas[i][\"DATASET_DESCRIPTION\"])\n",
    "\n",
    "for i in range(len(predictions_pr)):\n",
    "    r2_pr[i] = get_weighted_average(get_r2(predictions_pr[i], gt_pr[i]), descriptions_pr[i][\"DATASET_DESCRIPTION\"])\n",
    "    \n",
    "# for i in range(len(predictions_slp)):\n",
    "#     r2_slp[i] = get_weighted_average(get_r2(predictions_slp[i], gt_slp[i]), descriptions_slp[i][\"DATASET_DESCRIPTION\"])\n",
    "    \n",
    "# for i in range(len(predictions_tps)):\n",
    "#     r2_tps[i] = get_weighted_average(get_r2(predictions_tps[i], gt_tps[i]), descriptions_tps[i][\"DATASET_DESCRIPTION\"])\n",
    "    \n",
    "# for i in range(len(predictions_tpo)):\n",
    "#     r2_tpo[i] = get_weighted_average(get_r2(predictions_tpo[i], gt_tpo[i]), descriptions_tpo[i][\"DATASET_DESCRIPTION\"])\n",
    "    \n",
    "print('Tas: R2 = {:.3f} \\pm {:.3f}'.format(np.mean(r2_tas), np.std(r2_tas)))\n",
    "print('Precip: R2 = {:.3f} \\pm {:.3f}'.format(np.mean(r2_pr), np.std(r2_pr)))\n",
    "# print('Slp: R2 = {:.3f} \\pm {:.3f}'.format(np.mean(r2_slp), np.std(r2_slp)))\n",
    "# print('Tas, precip, slp: R2 = {:.3f} \\pm {:.3f}'.format(np.mean(r2_tps), np.std(r2_tps)))\n",
    "# print('Tas, precip, oro: R2 = {:.3f} \\pm {:.3f}'.format(np.mean(r2_tpo), np.std(r2_tpo)))"
   ]
  },
  {
   "cell_type": "markdown",
   "id": "54842bab",
   "metadata": {},
   "source": [
    "# Hyperparameter tuning"
   ]
  },
  {
   "cell_type": "code",
   "execution_count": 16,
   "id": "490ecc37",
   "metadata": {},
   "outputs": [
    {
     "name": "stdout",
     "output_type": "stream",
     "text": [
      "10 matching runs found\n",
      "10 matching runs found\n",
      "Deeper: R2 = 0.386 +/- 0.008\n",
      "Wider: R2 = 0.389 +/- 0.006\n"
     ]
    }
   ],
   "source": [
    "conditions_wider = {\n",
    "    \"DATASET_DESCRIPTION\": {\"PREDICTOR_VARIABLES\" : {\"tsurf\": [\"tsurf\"],\n",
    "                                                     \"prec\": [\"prec\"]},\n",
    "                            \"PRECIP_WEIGHTING\" : False\n",
    "                           },\n",
    "    \"MODEL_TRAINING_DESCRIPTION\": {\"MODEL_TYPE\": \"UNet_Flat\",\n",
    "                                  \"USE_COORD_CONV\": True,\n",
    "                                  \"USE_CYLINDRICAL_PADDING\": True,\n",
    "                                  \"LOSS\": \"Masked_AreaWeightedMSELoss\",\n",
    "                                  \"LEARNING_RATE\": 5e-3,\n",
    "                                  \"DEPTH\": 3,\n",
    "                                   \"FMAPS\": (64,64,128,128)\n",
    "                                  }\n",
    "}\n",
    "\n",
    "conditions_deeper = {\n",
    "    \"DATASET_DESCRIPTION\": {\"PREDICTOR_VARIABLES\" : {\"tsurf\": [\"tsurf\"],\n",
    "                                                     \"prec\": [\"prec\"]},\n",
    "                            \"PRECIP_WEIGHTING\" : False\n",
    "                           },\n",
    "    \"MODEL_TRAINING_DESCRIPTION\": {\"MODEL_TYPE\": \"UNet_Flat\",\n",
    "                                  \"USE_COORD_CONV\": True,\n",
    "                                  \"USE_CYLINDRICAL_PADDING\": True,\n",
    "                                  \"LOSS\": \"Masked_AreaWeightedMSELoss\",\n",
    "                                  \"LEARNING_RATE\": 5e-3,\n",
    "                                  \"DEPTH\": 4\n",
    "                                  }\n",
    "}\n",
    "\n",
    "descriptions_deeper, predictions_deeper, gt_deeper, masks_deeper = load_data_for_comparison(base_folder, conditions_deeper)\n",
    "descriptions_wider, predictions_wider, gt_wider, masks_wider = load_data_for_comparison(base_folder, conditions_wider)\n",
    "\n",
    "r2_deeper = np.zeros(len(predictions_deeper))\n",
    "r2_wider = np.zeros(len(predictions_wider))\n",
    "\n",
    "for i in range(len(predictions_deeper)):\n",
    "    r2_deeper[i] = get_weighted_average(get_r2(predictions_deeper[i], gt_deeper[i]), descriptions_deeper[i][\"DATASET_DESCRIPTION\"])\n",
    "\n",
    "for i in range(len(predictions_wider)):\n",
    "    r2_wider[i] = get_weighted_average(get_r2(predictions_wider[i], gt_wider[i]), descriptions_wider[i][\"DATASET_DESCRIPTION\"])\n",
    "    \n",
    "print('Deeper: R2 = {:.3f} +/- {:.3f}'.format(np.mean(r2_deeper), np.std(r2_deeper)))\n",
    "print('Wider: R2 = {:.3f} +/- {:.3f}'.format(np.mean(r2_wider), np.std(r2_wider)))"
   ]
  },
  {
   "cell_type": "markdown",
   "id": "268eacab",
   "metadata": {},
   "source": [
    "### learning rate tuning:"
   ]
  },
  {
   "cell_type": "code",
   "execution_count": 13,
   "id": "6edba356",
   "metadata": {},
   "outputs": [
    {
     "name": "stdout",
     "output_type": "stream",
     "text": [
      "6 matching runs found\n"
     ]
    }
   ],
   "source": [
    "conditions_lrs = {\n",
    "    \"DATASET_DESCRIPTION\": {\"PREDICTOR_VARIABLES\" : {\"tsurf\": [\"tsurf\"],\n",
    "                                                     \"prec\": [\"prec\"]},\n",
    "                            \"PRECIP_WEIGHTING\" : False,\n",
    "                            \"GRID_TYPE\": \"Flat\"\n",
    "                           },\n",
    "    \"MODEL_TRAINING_DESCRIPTION\": {\"MODEL_TYPE\": \"UNet_Flat\",\n",
    "                                  \"USE_COORD_CONV\": True,\n",
    "                                  \"USE_CYLINDRICAL_PADDING\": True,\n",
    "                                  \"LOSS\": \"Masked_AreaWeightedMSELoss\",\n",
    "                                  \"DEPTH\": 3\n",
    "                                  }\n",
    "}\n",
    "\n",
    "descriptions_lrs, predictions_lrs, gt_lrs, masks_lrs = load_data_for_comparison(base_folder, conditions_lrs, keywords_blacklist=keywords_blacklist)"
   ]
  },
  {
   "cell_type": "code",
   "execution_count": 14,
   "id": "a4b19c36",
   "metadata": {},
   "outputs": [],
   "source": [
    "r2_lrs = np.zeros(len(predictions_lrs))\n",
    "\n",
    "for i in range(len(predictions_lrs)):\n",
    "    r2_lrs[i] = get_weighted_average(get_r2(predictions_lrs[i], gt_lrs[i]), descriptions_lrs[i][\"DATASET_DESCRIPTION\"])"
   ]
  },
  {
   "cell_type": "code",
   "execution_count": 15,
   "id": "8e985f5e",
   "metadata": {
    "scrolled": true
   },
   "outputs": [
    {
     "name": "stdout",
     "output_type": "stream",
     "text": [
      "lr: 0.0001 R2 = 0.353 +/- 0.000\n",
      "lr: 0.00021544346900318845 R2 = 0.364 +/- 0.000\n",
      "lr: 0.00046415888336127773 R2 = 0.367 +/- 0.000\n",
      "lr: 0.001 R2 = 0.381 +/- 0.000\n",
      "lr: 0.002154434690031882 R2 = 0.392 +/- 0.000\n",
      "lr: 0.004641588833612777 R2 = 0.386 +/- 0.000\n",
      "lr: 0.01 R2 = nan +/- nan\n",
      "lr: 0.021544346900318822 R2 = nan +/- nan\n",
      "lr: 0.046415888336127774 R2 = nan +/- nan\n",
      "lr: 0.1 R2 = nan +/- nan\n"
     ]
    },
    {
     "name": "stderr",
     "output_type": "stream",
     "text": [
      "C:\\Users\\49159\\Anaconda3\\envs\\GrouPyTorch\\lib\\site-packages\\numpy\\core\\fromnumeric.py:3372: RuntimeWarning: Mean of empty slice.\n",
      "  return _methods._mean(a, axis=axis, dtype=dtype,\n",
      "C:\\Users\\49159\\Anaconda3\\envs\\GrouPyTorch\\lib\\site-packages\\numpy\\core\\_methods.py:170: RuntimeWarning: invalid value encountered in double_scalars\n",
      "  ret = ret.dtype.type(ret / rcount)\n",
      "C:\\Users\\49159\\Anaconda3\\envs\\GrouPyTorch\\lib\\site-packages\\numpy\\core\\_methods.py:233: RuntimeWarning: Degrees of freedom <= 0 for slice\n",
      "  ret = _var(a, axis=axis, dtype=dtype, out=out, ddof=ddof,\n",
      "C:\\Users\\49159\\Anaconda3\\envs\\GrouPyTorch\\lib\\site-packages\\numpy\\core\\_methods.py:194: RuntimeWarning: invalid value encountered in true_divide\n",
      "  arrmean = um.true_divide(\n",
      "C:\\Users\\49159\\Anaconda3\\envs\\GrouPyTorch\\lib\\site-packages\\numpy\\core\\_methods.py:226: RuntimeWarning: invalid value encountered in double_scalars\n",
      "  ret = ret.dtype.type(ret / rcount)\n"
     ]
    },
    {
     "data": {
      "text/plain": [
       "Text(0, 0.5, 'R2 score')"
      ]
     },
     "execution_count": 15,
     "metadata": {},
     "output_type": "execute_result"
    },
    {
     "data": {
      "image/png": "[encoded data removed]",
      "text/plain": [
       "<Figure size 432x288 with 1 Axes>"
      ]
     },
     "metadata": {
      "needs_background": "light"
     },
     "output_type": "display_data"
    }
   ],
   "source": [
    "import matplotlib.pyplot as plt\n",
    "lrs = [d[\"MODEL_TRAINING_DESCRIPTION\"][\"LEARNING_RATE\"] for d in descriptions_lrs]\n",
    "\n",
    "r2_lrs_mean = []\n",
    "r2_lrs_std = []\n",
    "\n",
    "ls = np.logspace(-4,-1,10)  # 20\n",
    "for i, l in enumerate(ls):\n",
    "    indices = np.where(l==lrs)[0]\n",
    "    print('lr: {} R2 = {:.3f} +/- {:.3f}'.format(l, np.mean(r2_lrs[indices]), np.std(r2_lrs[indices])))\n",
    "    r2_lrs_mean.append(np.mean(r2_lrs[indices]))\n",
    "    r2_lrs_std.append(np.std(r2_lrs[indices]))\n",
    "    \n",
    "plt.plot(ls, r2_lrs_mean)\n",
    "plt.xscale(\"log\")\n",
    "plt.xlabel(\"Learning rate\")\n",
    "plt.ylabel(\"R2 score\")"
   ]
  },
  {
   "cell_type": "markdown",
   "id": "4683b6a5",
   "metadata": {},
   "source": [
    "# Precipitation weighting"
   ]
  },
  {
   "cell_type": "code",
   "execution_count": 20,
   "id": "a6e111b5",
   "metadata": {
    "scrolled": true
   },
   "outputs": [
    {
     "name": "stdout",
     "output_type": "stream",
     "text": [
      "10 matching runs found\n",
      "10 matching runs found\n",
      "No precip weighting: R2 = 0.377 \\pm 0.005\n",
      "Precip weighting: R2 = 0.416 \\pm 0.004\n"
     ]
    }
   ],
   "source": [
    "conditions_pw = {\n",
    "    \"DATASET_DESCRIPTION\": {\"PRECIP_WEIGHTING\" : True},\n",
    "    \"MODEL_TRAINING_DESCRIPTION\": {}\n",
    "}\n",
    "\n",
    "conditions_no_pw = {\n",
    "    \"DATASET_DESCRIPTION\": {\"PREDICTOR_VARIABLES\" : {\"tsurf\": [\"tsurf\"],\n",
    "                                                     \"prec\": [\"prec\"]},\n",
    "                            \"PRECIP_WEIGHTING\" : False,\n",
    "                            \"GRID_TYPE\": \"Flat\"},\n",
    "    \"MODEL_TRAINING_DESCRIPTION\": {\"MODEL_TYPE\": \"UNet_Flat\",\n",
    "                                  \"USE_COORD_CONV\": True,\n",
    "                                  \"USE_CYLINDRICAL_PADDING\": True,\n",
    "                                  \"LOSS\": \"Masked_AreaWeightedMSELoss\",\n",
    "                                  \"LEARNING_RATE\": 5e-3,\n",
    "                                  \"DEPTH\": 3,\n",
    "                                  \"FMAPS\": (32,32,64,64)\n",
    "                                  }\n",
    "}\n",
    "\n",
    "descriptions_pw, predictions_pw, gt_pw, masks_pw = load_data_for_comparison(base_folder, conditions_pw)\n",
    "descriptions_no_pw, predictions_no_pw, gt_no_pw, masks_no_pw = load_data_for_comparison(base_folder, conditions_no_pw, keywords_blacklist=keywords_blacklist)\n",
    "\n",
    "r2_pw = np.zeros(len(predictions_pw))\n",
    "r2_no_pw = np.zeros(len(predictions_no_pw))\n",
    "\n",
    "for i in range(len(predictions_pw)):\n",
    "    r2_pw[i] = get_weighted_average(get_r2(predictions_pw[i], gt_pw[i]), descriptions_pw[i][\"DATASET_DESCRIPTION\"])\n",
    "\n",
    "for i in range(len(predictions_no_pw)):\n",
    "    r2_no_pw[i] = get_weighted_average(get_r2(predictions_no_pw[i], gt_no_pw[i]), descriptions_no_pw[i][\"DATASET_DESCRIPTION\"])\n",
    "    \n",
    "print('No precip weighting: R2 = {:.3f} \\pm {:.3f}'.format(np.mean(r2_no_pw), np.std(r2_no_pw)))\n",
    "print('Precip weighting: R2 = {:.3f} \\pm {:.3f}'.format(np.mean(r2_pw), np.std(r2_pw)))"
   ]
  },
  {
   "cell_type": "markdown",
   "id": "1e006b78",
   "metadata": {},
   "source": [
    "### Interpolate groundtruth Flat->Ico->Flat\n",
    "\n",
    "To demonstrate that the comparatively bad performance of the icosahedral UNet on the flat grid is mostly due to interpolation artifacts, we do the following: We interpolate the predictions of a flat UNet network to the icosahedral grid and back to the flat grid."
   ]
  },
  {
   "cell_type": "code",
   "execution_count": 21,
   "id": "1fd7eac4",
   "metadata": {},
   "outputs": [
    {
     "name": "stdout",
     "output_type": "stream",
     "text": [
      "10 matching runs found\n"
     ]
    }
   ],
   "source": [
    "gt_c = {\n",
    "    \"DATASET_DESCRIPTION\": {\"PREDICTOR_VARIABLES\" : {\"tsurf\": [\"tsurf\"],\n",
    "                                                     \"prec\": [\"prec\"]},\n",
    "                            \"DATASETS_NO_GAPS\": ['isotopes', 'tsurf', 'prec'],\n",
    "                            \"GRID_TYPE\": \"Flat\",\n",
    "                            \"PRECIP_WEIGHTING\" : False},\n",
    "    \"MODEL_TRAINING_DESCRIPTION\": {\"MODEL_TYPE\": \"UNet_Flat\",\n",
    "                                  \"USE_COORD_CONV\": False,\n",
    "                                  \"USE_CYLINDRICAL_PADDING\": False,\n",
    "                                  \"LEARNING_RATE\": 5e-3,                                   \n",
    "                                  \"LOSS\": \"Masked_MSELoss\"}\n",
    "}\n",
    "descriptions_flat, predictions_flat, gt_flat, masks_flat = load_data_for_comparison(base_folder, gt_c, keywords_blacklist=[\"RESULTS_INTERPOLATED\"])"
   ]
  },
  {
   "cell_type": "code",
   "execution_count": 22,
   "id": "1a0c3e7f",
   "metadata": {
    "scrolled": true
   },
   "outputs": [
    {
     "name": "stdout",
     "output_type": "stream",
     "text": [
      "OSError: Probably CDO is not installed. Test if we have exiting interpolated results.\n",
      "Output/Reproduce_new\\f58b0b708787c6906882857c7c3ada0cc8df3a3a2a798f0471e383386859\\predictions.gz\n",
      "1 matching runs found\n",
      "OSError: Probably CDO is not installed. Test if we have exiting interpolated results.\n",
      "Output/Reproduce_new\\f58b0b708787c6906882857c7c3ada2f1d2e4c5f4d251e3c041ae24d8712\\predictions.gz\n",
      "1 matching runs found\n",
      "OSError: Probably CDO is not installed. Test if we have exiting interpolated results.\n",
      "Output/Reproduce_new\\f58b0b708787c6906882857c7c3ada629092eb06efbfc80f4f095210d896\\predictions.gz\n",
      "1 matching runs found\n",
      "OSError: Probably CDO is not installed. Test if we have exiting interpolated results.\n",
      "Output/Reproduce_new\\f58b0b708787c6906882857c7c3ada6f13a68c321a47247432909ca13e42\\predictions.gz\n",
      "1 matching runs found\n",
      "OSError: Probably CDO is not installed. Test if we have exiting interpolated results.\n",
      "Output/Reproduce_new\\f58b0b708787c6906882857c7c3ada723b02705ae6c6b3abf404455966ee\\predictions.gz\n",
      "1 matching runs found\n",
      "OSError: Probably CDO is not installed. Test if we have exiting interpolated results.\n",
      "Output/Reproduce_new\\f58b0b708787c6906882857c7c3adab3070be62c3dc8fd8c96adfa39467f\\predictions.gz\n",
      "1 matching runs found\n",
      "OSError: Probably CDO is not installed. Test if we have exiting interpolated results.\n",
      "Output/Reproduce_new\\f58b0b708787c6906882857c7c3adabc3e063a85bda51497e2e88264709b\\predictions.gz\n",
      "1 matching runs found\n",
      "OSError: Probably CDO is not installed. Test if we have exiting interpolated results.\n",
      "Output/Reproduce_new\\f58b0b708787c6906882857c7c3adabc4eea002f3fb30fcdbc7327cc7306\\predictions.gz\n",
      "1 matching runs found\n",
      "OSError: Probably CDO is not installed. Test if we have exiting interpolated results.\n",
      "Output/Reproduce_new\\f58b0b708787c6906882857c7c3adae43f5eb16698845429d3490a534d8d\\predictions.gz\n",
      "1 matching runs found\n",
      "OSError: Probably CDO is not installed. Test if we have exiting interpolated results.\n",
      "Output/Reproduce_new\\f58b0b708787c6906882857c7c3adaf66d20ef369a881bba3c10743fe76a\\predictions.gz\n",
      "1 matching runs found\n"
     ]
    }
   ],
   "source": [
    "data_l = []\n",
    "gt_l = []\n",
    "\n",
    "for i in range(len(descriptions_flat)):\n",
    "    data, gt = get_interpolated_data_and_gt(descriptions_flat[i], gt_flat[i], output_folder=base_folder, \n",
    "                                            script_folder=\"Scripts/\", do_scaling=False, print_folder_names=True)\n",
    "    data_l.append(data)\n",
    "    gt_l.append(gt)"
   ]
  },
  {
   "cell_type": "code",
   "execution_count": 23,
   "id": "aba0520e",
   "metadata": {},
   "outputs": [],
   "source": [
    "gt_c = {\n",
    "    \"DATASET_DESCRIPTION\": {\"RESULTS_INTERPOLATED\": True,\n",
    "                            \"RESULTS_RESCALED\": False,\n",
    "                            \"GRID_TYPE\": \"Ico\"},\n",
    "    \"MODEL_TRAINING_DESCRIPTION\": {\"MODEL_TYPE\": \"UNet_Flat\",\n",
    "                                    \"USE_CYLINDRICAL_PADDING\": True\n",
    "                                  }\n",
    "}"
   ]
  },
  {
   "cell_type": "code",
   "execution_count": 24,
   "id": "86abf35c",
   "metadata": {},
   "outputs": [
    {
     "name": "stdout",
     "output_type": "stream",
     "text": [
      "10 matching runs found\n"
     ]
    }
   ],
   "source": [
    "descriptions_interp, predictions_interp, gt_interp, masks_interp = load_data_for_comparison(base_folder, gt_c)"
   ]
  },
  {
   "cell_type": "code",
   "execution_count": 25,
   "id": "9b0091f0",
   "metadata": {},
   "outputs": [
    {
     "name": "stdout",
     "output_type": "stream",
     "text": [
      "OSError: Probably CDO is not installed. Test if we have exiting interpolated results.\n",
      "1 matching runs found\n",
      "When interpolating to model grid, currently the iHadCM3 specifics are used.\n",
      "OSError: Probably CDO is not installed. Test if we have exiting interpolated results.\n",
      "1 matching runs found\n",
      "When interpolating to model grid, currently the iHadCM3 specifics are used.\n",
      "OSError: Probably CDO is not installed. Test if we have exiting interpolated results.\n",
      "1 matching runs found\n",
      "When interpolating to model grid, currently the iHadCM3 specifics are used.\n",
      "OSError: Probably CDO is not installed. Test if we have exiting interpolated results.\n",
      "1 matching runs found\n",
      "When interpolating to model grid, currently the iHadCM3 specifics are used.\n",
      "OSError: Probably CDO is not installed. Test if we have exiting interpolated results.\n",
      "1 matching runs found\n",
      "When interpolating to model grid, currently the iHadCM3 specifics are used.\n",
      "OSError: Probably CDO is not installed. Test if we have exiting interpolated results.\n",
      "1 matching runs found\n",
      "When interpolating to model grid, currently the iHadCM3 specifics are used.\n",
      "OSError: Probably CDO is not installed. Test if we have exiting interpolated results.\n",
      "1 matching runs found\n",
      "When interpolating to model grid, currently the iHadCM3 specifics are used.\n",
      "OSError: Probably CDO is not installed. Test if we have exiting interpolated results.\n",
      "1 matching runs found\n",
      "When interpolating to model grid, currently the iHadCM3 specifics are used.\n",
      "OSError: Probably CDO is not installed. Test if we have exiting interpolated results.\n",
      "1 matching runs found\n",
      "When interpolating to model grid, currently the iHadCM3 specifics are used.\n",
      "OSError: Probably CDO is not installed. Test if we have exiting interpolated results.\n",
      "1 matching runs found\n",
      "When interpolating to model grid, currently the iHadCM3 specifics are used.\n"
     ]
    }
   ],
   "source": [
    "# do second interpolation:\n",
    "\n",
    "data_r = []\n",
    "gt_r = []\n",
    "\n",
    "for i in range(len(descriptions_interp)):\n",
    "    data, gt = get_interpolated_data_and_gt(descriptions_interp[i], predictions_interp[i], output_folder=base_folder, \n",
    "                                            script_folder=\"Scripts/\", do_scaling=False)\n",
    "    data_r.append(data)\n",
    "    gt_r.append(gt)"
   ]
  },
  {
   "cell_type": "code",
   "execution_count": 26,
   "id": "cfba06c1",
   "metadata": {},
   "outputs": [
    {
     "name": "stdout",
     "output_type": "stream",
     "text": [
      "Twice interpolated: R2 = 0.130 +/- 0.011\n"
     ]
    }
   ],
   "source": [
    "r2_r = np.zeros(len(data_r))\n",
    "\n",
    "for i in range(len(data_r)):\n",
    "    r2_r[i] = get_weighted_average(get_r2(data_r[i], gt_r[i]), descriptions_interp[i][\"DATASET_DESCRIPTION\"])  # need a dataset description of a flat grid.\n",
    "\n",
    "    \n",
    "print('Twice interpolated: R2 = {:.3f} +/- {:.3f}'.format(np.mean(r2_r), np.std(r2_r)))"
   ]
  }
 ],
 "metadata": {
  "kernelspec": {
   "display_name": "Python 3 (ipykernel)",
   "language": "python",
   "name": "python3"
  },
  "language_info": {
   "codemirror_mode": {
    "name": "ipython",
    "version": 3
   },
   "file_extension": ".py",
   "mimetype": "text/x-python",
   "name": "python",
   "nbconvert_exporter": "python",
   "pygments_lexer": "ipython3",
   "version": "3.8.0"
  },
  "vscode": {
   "interpreter": {
    "hash": "90b409070de10f2c3c5a8c504ecede612c695480a2027d21529fbe1a33a534d8"
   }
  }
 },
 "nbformat": 4,
 "nbformat_minor": 5
}
