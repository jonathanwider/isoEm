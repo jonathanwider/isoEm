{
 "cells": [
  {
   "cell_type": "code",
   "execution_count": 1,
   "metadata": {},
   "outputs": [],
   "source": [
    "from evaluate import *"
   ]
  },
  {
   "cell_type": "code",
   "execution_count": 2,
   "metadata": {},
   "outputs": [],
   "source": [
    "base_folder = \"Output/Reproduce_new\""
   ]
  },
  {
   "cell_type": "markdown",
   "metadata": {},
   "source": [
    "# 4.2.1"
   ]
  },
  {
   "cell_type": "code",
   "execution_count": 4,
   "metadata": {},
   "outputs": [
    {
     "name": "stdout",
     "output_type": "stream",
     "text": [
      "0 matching runs found\n",
      "Loss: Masked_MSELoss, CoordConv: True, CylindricalPadding: True, R2 = nan +/- nan\n",
      "0 matching runs found\n",
      "Loss: Masked_MSELoss, CoordConv: True, CylindricalPadding: False, R2 = nan +/- nan\n",
      "10 matching runs found\n",
      "Loss: Masked_MSELoss, CoordConv: False, CylindricalPadding: True, R2 = 0.217 +/- 0.009\n",
      "10 matching runs found\n",
      "Loss: Masked_MSELoss, CoordConv: False, CylindricalPadding: False, R2 = 0.213 +/- 0.010\n",
      "0 matching runs found\n",
      "Loss: Masked_AreaWeightedMSELoss, CoordConv: True, CylindricalPadding: True, R2 = nan +/- nan\n",
      "0 matching runs found\n",
      "Loss: Masked_AreaWeightedMSELoss, CoordConv: True, CylindricalPadding: False, R2 = nan +/- nan\n",
      "0 matching runs found\n",
      "Loss: Masked_AreaWeightedMSELoss, CoordConv: False, CylindricalPadding: True, R2 = nan +/- nan\n",
      "0 matching runs found\n",
      "Loss: Masked_AreaWeightedMSELoss, CoordConv: False, CylindricalPadding: False, R2 = nan +/- nan\n"
     ]
    },
    {
     "name": "stderr",
     "output_type": "stream",
     "text": [
      "/home/ldap-server/firenze/venv/GrouPyTorch/lib/python3.8/site-packages/numpy/core/fromnumeric.py:3440: RuntimeWarning: Mean of empty slice.\n",
      "  return _methods._mean(a, axis=axis, dtype=dtype,\n",
      "/home/ldap-server/firenze/venv/GrouPyTorch/lib/python3.8/site-packages/numpy/core/_methods.py:189: RuntimeWarning: invalid value encountered in double_scalars\n",
      "  ret = ret.dtype.type(ret / rcount)\n",
      "/home/ldap-server/firenze/venv/GrouPyTorch/lib/python3.8/site-packages/numpy/core/_methods.py:262: RuntimeWarning: Degrees of freedom <= 0 for slice\n",
      "  ret = _var(a, axis=axis, dtype=dtype, out=out, ddof=ddof,\n",
      "/home/ldap-server/firenze/venv/GrouPyTorch/lib/python3.8/site-packages/numpy/core/_methods.py:222: RuntimeWarning: invalid value encountered in true_divide\n",
      "  arrmean = um.true_divide(arrmean, div, out=arrmean, casting='unsafe',\n",
      "/home/ldap-server/firenze/venv/GrouPyTorch/lib/python3.8/site-packages/numpy/core/_methods.py:254: RuntimeWarning: invalid value encountered in double_scalars\n",
      "  ret = ret.dtype.type(ret / rcount)\n"
     ]
    }
   ],
   "source": [
    "for loss in [\"Masked_MSELoss\", \"Masked_AreaWeightedMSELoss\"]:\n",
    "    for use_coord_conv in [True, False]:\n",
    "        for use_cylindrical_padding in [True, False]:\n",
    "            conditions = {\n",
    "                \"DATASET_DESCRIPTION\": {\"PREDICTOR_VARIABLES\" : {\"tsurf\": [\"tsurf\"],\n",
    "                                                                 \"prec\": [\"prec\"]},\n",
    "                                        \"PRECIP_WEIGHTING\" : False\n",
    "                                       },\n",
    "                \"MODEL_TRAINING_DESCRIPTION\": {\"MODEL_TYPE\": \"UNet_Flat\",\n",
    "                                              \"USE_COORD_CONV\": use_coord_conv,\n",
    "                                              \"USE_CYLINDRICAL_PADDING\": use_cylindrical_padding,\n",
    "                                              \"LOSS\": loss,\n",
    "                                              \"LEARNING_RATE\": 5e-3\n",
    "                                              }\n",
    "            }\n",
    "            descriptions, predictions, gt, masks = load_data_for_comparison(base_folder, conditions)\n",
    "            r2 = np.zeros(len(predictions))\n",
    "            for i in range(len(predictions)):\n",
    "                r2[i] = get_weighted_average(get_r2(predictions[i], gt[i]), descriptions[i][\"DATASET_DESCRIPTION\"])\n",
    "            print('Loss: {}, CoordConv: {}, CylindricalPadding: {}, R2 = {:.3f} +/- {:.3f}'.format(loss, use_coord_conv, use_cylindrical_padding, np.mean(r2), np.std(r2)))"
   ]
  },
  {
   "cell_type": "markdown",
   "metadata": {},
   "source": [
    "# 4.2.2"
   ]
  },
  {
   "cell_type": "markdown",
   "metadata": {},
   "source": [
    "TODO Interpolations: Requires cdo.\n",
    "\n",
    "Flat grid:"
   ]
  },
  {
   "cell_type": "code",
   "execution_count": 4,
   "metadata": {},
   "outputs": [],
   "source": [
    "linreg_baseline_c = {\n",
    "    \"DATASET_DESCRIPTION\": {},\n",
    "    \"MODEL_TRAINING_DESCRIPTION\": {\"MODEL_TYPE\": \"LinReg_Pixelwise\"}\n",
    "}\n",
    "\n",
    "randomforest_baseline_c = {\n",
    "    \"DATASET_DESCRIPTION\": {},\n",
    "    \"MODEL_TRAINING_DESCRIPTION\": {\"MODEL_TYPE\": \"RandomForest_Pixelwise\"}\n",
    "}\n",
    "\n",
    "pca_baseline_c = {\n",
    "    \"DATASET_DESCRIPTION\": {},\n",
    "    \"MODEL_TRAINING_DESCRIPTION\": {\"MODEL_TYPE\": \"PCA_Flat\",\n",
    "                                  \"REGTYPE\": \"linreg\"}\n",
    "}\n",
    "\n",
    "unet_unmodified_c = {\n",
    "    \"DATASET_DESCRIPTION\": {\"PREDICTOR_VARIABLES\" : {\"tsurf\": [\"tsurf\"],\n",
    "                                                                 \"prec\": [\"prec\"]},\n",
    "                                        \"PRECIP_WEIGHTING\" : False\n",
    "                                       },\n",
    "    \"MODEL_TRAINING_DESCRIPTION\": {\"MODEL_TYPE\": \"UNet_Flat\",\n",
    "                                  \"USE_COORD_CONV\": False,\n",
    "                                  \"USE_CYLINDRICAL_PADDING\": False,\n",
    "                                  \"LEARNING_RATE\": 5e-3,                                   \n",
    "                                  \"LOSS\": \"Masked_MSELoss\"}\n",
    "}\n",
    "\n",
    "unet_modified_c = {\n",
    "    \"DATASET_DESCRIPTION\": {\"PREDICTOR_VARIABLES\" : {\"tsurf\": [\"tsurf\"],\n",
    "                                                                 \"prec\": [\"prec\"]},\n",
    "                                        \"PRECIP_WEIGHTING\" : False\n",
    "                                       },\n",
    "    \"MODEL_TRAINING_DESCRIPTION\": {\"MODEL_TYPE\": \"UNet_Flat\",\n",
    "                                  \"USE_COORD_CONV\": True,\n",
    "                                  \"USE_CYLINDRICAL_PADDING\": True,\n",
    "                                  \"LEARNING_RATE\": 5e-3,\n",
    "                                  \"LOSS\": \"Masked_AreaWeightedMSELoss\"}\n",
    "}\n"
   ]
  },
  {
   "cell_type": "code",
   "execution_count": 5,
   "metadata": {},
   "outputs": [
    {
     "name": "stdout",
     "output_type": "stream",
     "text": [
      "10 matching runs found\n",
      "10 matching runs found\n",
      "1 matching runs found\n",
      "1 matching runs found\n",
      "1 matching runs found\n",
      "Unmodified UNet: $R2 = 0.214 \\pm 0.006$\n",
      "Modified UNet: $R2 = 0.228 \\pm 0.005$\n",
      "Random Forest: $R2 = 0.130 \\pm 0.000$\n",
      "Pixelwise Linear regression: $R2 = 0.150 \\pm 0.000$\n",
      "PCA Regression: $R2 = 0.178 \\pm 0.000$\n"
     ]
    }
   ],
   "source": [
    "\n",
    "descriptions_u_u, predictions_u_u, gt_u_u, masks_u_u = load_data_for_comparison(base_folder, unet_unmodified_c)\n",
    "descriptions_m_u, predictions_m_u, gt_m_u, masks_m_u = load_data_for_comparison(base_folder, unet_modified_c)\n",
    "descriptions_rf, predictions_rf, gt_rf, masks_rf = load_data_for_comparison(base_folder, randomforest_baseline_c)\n",
    "\n",
    "descriptions_lr, predictions_lr, gt_lr, masks_lr = load_data_for_comparison(base_folder, linreg_baseline_c)\n",
    "descriptions_pca, predictions_pca, gt_pca, masks_pca = load_data_for_comparison(base_folder, pca_baseline_c)\n",
    "\n",
    "\n",
    "r2_u_u = np.zeros(len(predictions_u_u))\n",
    "r2_m_u = np.zeros(len(predictions_m_u))\n",
    "r2_rf = np.zeros(len(predictions_rf))\n",
    "\n",
    "r2_lr = np.zeros(len(predictions_lr))\n",
    "r2_pca = np.zeros(len(predictions_pca))\n",
    "\n",
    "\n",
    "for i in range(len(predictions_u_u)):\n",
    "    r2_u_u[i] = get_weighted_average(get_r2(predictions_u_u[i], gt_u_u[i]), descriptions_u_u[i][\"DATASET_DESCRIPTION\"])\n",
    "\n",
    "for i in range(len(predictions_m_u)):\n",
    "    r2_m_u[i] = get_weighted_average(get_r2(predictions_m_u[i], gt_m_u[i]), descriptions_m_u[i][\"DATASET_DESCRIPTION\"])\n",
    "    \n",
    "for i in range(len(predictions_rf)):\n",
    "    r2_rf[i] = get_weighted_average(get_r2(predictions_rf[i], gt_rf[i]), descriptions_rf[i][\"DATASET_DESCRIPTION\"])\n",
    "    \n",
    "for i in range(len(predictions_lr)):\n",
    "    r2_lr[i] = get_weighted_average(get_r2(predictions_lr[i], gt_lr[i]), descriptions_lr[i][\"DATASET_DESCRIPTION\"])\n",
    "    \n",
    "for i in range(len(predictions_pca)):\n",
    "    r2_pca[i] = get_weighted_average(get_r2(predictions_pca[i], gt_pca[i]), descriptions_pca[i][\"DATASET_DESCRIPTION\"])\n",
    "\n",
    "\n",
    "print(r\"Unmodified UNet: $R2 = {:.3f} \\pm {:.3f}$\".format(np.mean(r2_u_u), np.std(r2_u_u)))\n",
    "print(r\"Modified UNet: $R2 = {:.3f} \\pm {:.3f}$\".format(np.mean(r2_m_u), np.std(r2_m_u)))\n",
    "print(r\"Random Forest: $R2 = {:.3f} \\pm {:.3f}$\".format(np.mean(r2_rf), np.std(r2_rf)))\n",
    "\n",
    "print(r\"Pixelwise Linear regression: $R2 = {:.3f} \\pm {:.3f}$\".format(np.mean(r2_lr), np.std(r2_lr)))\n",
    "print(r\"PCA Regression: $R2 = {:.3f} \\pm {:.3f}$\".format(np.mean(r2_pca), np.std(r2_pca)))"
   ]
  },
  {
   "cell_type": "markdown",
   "metadata": {},
   "source": [
    "icosahedral grid:"
   ]
  },
  {
   "cell_type": "code",
   "execution_count": 6,
   "metadata": {},
   "outputs": [],
   "source": [
    "ico_baseline_c = {\n",
    "    \"DATASET_DESCRIPTION\": {},\n",
    "    \"MODEL_TRAINING_DESCRIPTION\": {\"MODEL_TYPE\": \"PCA_Ico\",\n",
    "                                  \"REGTYPE\": \"linreg\"}\n",
    "}\n",
    "\n",
    "ico_unet_c = {\n",
    "    \"DATASET_DESCRIPTION\": {\"PREDICTOR_VARIABLES\" : {\"tsurf\": [\"tsurf\"],\n",
    "                                                                 \"prec\": [\"prec\"]},\n",
    "                                        \"PRECIP_WEIGHTING\" : False\n",
    "                                       },\n",
    "    \"MODEL_TRAINING_DESCRIPTION\": {\"MODEL_TYPE\": \"UNet_Ico\"}\n",
    "}"
   ]
  },
  {
   "cell_type": "code",
   "execution_count": 7,
   "metadata": {
    "scrolled": true
   },
   "outputs": [
    {
     "name": "stdout",
     "output_type": "stream",
     "text": [
      "1 matching runs found\n",
      "1 matching runs found\n",
      "Ico Unet: R2 = 0.238 \\pm 0.000\n",
      "Ico Baseline: R2 = 0.203 \\pm 0.000\n"
     ]
    }
   ],
   "source": [
    "descriptions_ico_unet, predictions_ico_unet, gt_ico_unet, masks_ico_unet = load_data_for_comparison(base_folder, ico_unet_c)\n",
    "descriptions_ico_bl, predictions_ico_bl, gt_ico_bl, masks_ico_bl = load_data_for_comparison(base_folder, ico_baseline_c)\n",
    "\n",
    "r2_ico_unet = np.zeros(len(predictions_ico_unet))\n",
    "r2_ico_bl = np.zeros(len(predictions_ico_bl))\n",
    "\n",
    "for i in range(len(predictions_ico_unet)):\n",
    "    r2_ico_unet[i] = np.mean(get_r2(predictions_ico_unet[i], gt_ico_unet[i]), axis=(1,2))\n",
    "\n",
    "for i in range(len(predictions_ico_bl)):\n",
    "    r2_ico_bl[i] = np.mean(get_r2(predictions_ico_bl[i], gt_ico_bl[i]), axis=(1,2))\n",
    "    \n",
    "print('Ico Unet: R2 = {:.3f} \\pm {:.3f}'.format(np.mean(r2_ico_unet), np.std(r2_ico_unet)))\n",
    "print('Ico Baseline: R2 = {:.3f} \\pm {:.3f}'.format(np.mean(r2_ico_bl), np.std(r2_ico_bl)))"
   ]
  },
  {
   "cell_type": "markdown",
   "metadata": {},
   "source": [
    "# 4.2.3"
   ]
  },
  {
   "cell_type": "code",
   "execution_count": 8,
   "metadata": {},
   "outputs": [
    {
     "name": "stdout",
     "output_type": "stream",
     "text": [
      "10 matching runs found\n",
      "10 matching runs found\n",
      "10 matching runs found\n",
      "10 matching runs found\n",
      "10 matching runs found\n",
      "Tas: R2 = 0.145 \\pm 0.003\n",
      "Precip: R2 = 0.195 \\pm 0.003\n",
      "Slp: R2 = 0.165 \\pm 0.003\n",
      "Tas, precip, slp: R2 = 0.238 \\pm 0.004\n",
      "Tas, precip, oro: R2 = 0.228 \\pm 0.002\n"
     ]
    }
   ],
   "source": [
    "# predictor variables:\n",
    "conditions_tas = {\n",
    "    \"DATASET_DESCRIPTION\": {\"PREDICTOR_VARIABLES\" : {\"tsurf\": [\"tsurf\"]},\n",
    "                            \"PRECIP_WEIGHTING\" : False\n",
    "                           },\n",
    "    \"MODEL_TRAINING_DESCRIPTION\": {\"MODEL_TYPE\": \"UNet_Flat\",\n",
    "                                  \"USE_COORD_CONV\": True,\n",
    "                                  \"USE_CYLINDRICAL_PADDING\": True,\n",
    "                                  \"LOSS\": \"Masked_AreaWeightedMSELoss\",\n",
    "                                  }\n",
    "}\n",
    "\n",
    "conditions_pr = {\n",
    "    \"DATASET_DESCRIPTION\": {\"PREDICTOR_VARIABLES\" : {\"prec\": [\"prec\"]},\n",
    "                            \"PRECIP_WEIGHTING\" : False\n",
    "                           },\n",
    "    \"MODEL_TRAINING_DESCRIPTION\": {\"MODEL_TYPE\": \"UNet_Flat\",\n",
    "                                  \"USE_COORD_CONV\": True,\n",
    "                                  \"USE_CYLINDRICAL_PADDING\": True,\n",
    "                                  \"LOSS\": \"Masked_AreaWeightedMSELoss\",\n",
    "                                  }\n",
    "}\n",
    "\n",
    "conditions_slp = {\n",
    "    \"DATASET_DESCRIPTION\": {\"PREDICTOR_VARIABLES\" : {\"slp\": [\"p\"]},\n",
    "                            \"PRECIP_WEIGHTING\" : False\n",
    "                           },\n",
    "    \"MODEL_TRAINING_DESCRIPTION\": {\"MODEL_TYPE\": \"UNet_Flat\",\n",
    "                                  \"USE_COORD_CONV\": True,\n",
    "                                  \"USE_CYLINDRICAL_PADDING\": True,\n",
    "                                  \"LOSS\": \"Masked_AreaWeightedMSELoss\",\n",
    "                                  }\n",
    "}\n",
    "\n",
    "conditions_tps = {\n",
    "    \"DATASET_DESCRIPTION\": {\"PREDICTOR_VARIABLES\" : {\"tsurf\": [\"tsurf\"],\n",
    "                                                     \"prec\": [\"prec\"],\n",
    "                                                     \"slp\": [\"p\"]},\n",
    "                            \"PRECIP_WEIGHTING\" : False\n",
    "                           },\n",
    "    \"MODEL_TRAINING_DESCRIPTION\": {\"MODEL_TYPE\": \"UNet_Flat\",\n",
    "                                  \"USE_COORD_CONV\": True,\n",
    "                                  \"USE_CYLINDRICAL_PADDING\": True,\n",
    "                                  \"LOSS\": \"Masked_AreaWeightedMSELoss\",\n",
    "                                  \"LEARNING_RATE\": 5e-3,\n",
    "                                  \"DEPTH\": 3,\n",
    "                                   \"FMAPS\": (32,32,64,64)\n",
    "                                  }\n",
    "}\n",
    "\n",
    "conditions_tpo = {\n",
    "    \"DATASET_DESCRIPTION\": {\"PREDICTOR_VARIABLES\" : {\"tsurf\": [\"tsurf\"],\n",
    "                                                     \"prec\": [\"prec\"],\n",
    "                                                     \"oro\": [\"ht\"]},\n",
    "                            \"PRECIP_WEIGHTING\" : False\n",
    "                           },\n",
    "    \"MODEL_TRAINING_DESCRIPTION\": {\"MODEL_TYPE\": \"UNet_Flat\",\n",
    "                                  \"USE_COORD_CONV\": True,\n",
    "                                  \"USE_CYLINDRICAL_PADDING\": True,\n",
    "                                  \"LOSS\": \"Masked_AreaWeightedMSELoss\",\n",
    "                                  }\n",
    "}\n",
    "\n",
    "descriptions_tas, predictions_tas, gt_tas, masks_tas = load_data_for_comparison(base_folder, conditions_tas)\n",
    "descriptions_pr, predictions_pr, gt_pr, masks_pr = load_data_for_comparison(base_folder, conditions_pr)\n",
    "descriptions_slp, predictions_slp, gt_slp, masks_slp = load_data_for_comparison(base_folder, conditions_slp)\n",
    "descriptions_tps, predictions_tps, gt_tps, masks_tps = load_data_for_comparison(base_folder, conditions_tps)\n",
    "descriptions_tpo, predictions_tpo, gt_tpo, masks_tpo = load_data_for_comparison(base_folder, conditions_tpo)\n",
    "\n",
    "r2_tas = np.zeros(len(predictions_tas))\n",
    "r2_pr = np.zeros(len(predictions_pr))\n",
    "r2_slp = np.zeros(len(predictions_slp))\n",
    "r2_tps = np.zeros(len(predictions_tps))\n",
    "r2_tpo = np.zeros(len(predictions_tpo))\n",
    "\n",
    "for i in range(len(predictions_tas)):\n",
    "    r2_tas[i] = get_weighted_average(get_r2(predictions_tas[i], gt_tas[i]), descriptions_tas[i][\"DATASET_DESCRIPTION\"])\n",
    "\n",
    "for i in range(len(predictions_pr)):\n",
    "    r2_pr[i] = get_weighted_average(get_r2(predictions_pr[i], gt_pr[i]), descriptions_pr[i][\"DATASET_DESCRIPTION\"])\n",
    "    \n",
    "for i in range(len(predictions_slp)):\n",
    "    r2_slp[i] = get_weighted_average(get_r2(predictions_slp[i], gt_slp[i]), descriptions_slp[i][\"DATASET_DESCRIPTION\"])\n",
    "    \n",
    "for i in range(len(predictions_tps)):\n",
    "    r2_tps[i] = get_weighted_average(get_r2(predictions_tps[i], gt_tps[i]), descriptions_tps[i][\"DATASET_DESCRIPTION\"])\n",
    "    \n",
    "for i in range(len(predictions_tpo)):\n",
    "    r2_tpo[i] = get_weighted_average(get_r2(predictions_tpo[i], gt_tpo[i]), descriptions_tpo[i][\"DATASET_DESCRIPTION\"])\n",
    "    \n",
    "print('Tas: R2 = {:.3f} \\pm {:.3f}'.format(np.mean(r2_tas), np.std(r2_tas)))\n",
    "print('Precip: R2 = {:.3f} \\pm {:.3f}'.format(np.mean(r2_pr), np.std(r2_pr)))\n",
    "print('Slp: R2 = {:.3f} \\pm {:.3f}'.format(np.mean(r2_slp), np.std(r2_slp)))\n",
    "print('Tas, precip, slp: R2 = {:.3f} \\pm {:.3f}'.format(np.mean(r2_tps), np.std(r2_tps)))\n",
    "print('Tas, precip, oro: R2 = {:.3f} \\pm {:.3f}'.format(np.mean(r2_tpo), np.std(r2_tpo)))"
   ]
  },
  {
   "cell_type": "markdown",
   "metadata": {},
   "source": [
    "# 4.2.4"
   ]
  },
  {
   "cell_type": "code",
   "execution_count": 9,
   "metadata": {},
   "outputs": [
    {
     "name": "stdout",
     "output_type": "stream",
     "text": [
      "0 matching runs found\n",
      "0 matching runs found\n",
      "Deeper: R2 = nan \\pm nan\n",
      "Wider: R2 = nan \\pm nan\n"
     ]
    },
    {
     "name": "stderr",
     "output_type": "stream",
     "text": [
      "C:\\Users\\49159\\Anaconda3\\envs\\GrouPyTorch\\lib\\site-packages\\numpy\\core\\fromnumeric.py:3372: RuntimeWarning: Mean of empty slice.\n",
      "  return _methods._mean(a, axis=axis, dtype=dtype,\n",
      "C:\\Users\\49159\\Anaconda3\\envs\\GrouPyTorch\\lib\\site-packages\\numpy\\core\\_methods.py:170: RuntimeWarning: invalid value encountered in double_scalars\n",
      "  ret = ret.dtype.type(ret / rcount)\n",
      "C:\\Users\\49159\\Anaconda3\\envs\\GrouPyTorch\\lib\\site-packages\\numpy\\core\\_methods.py:233: RuntimeWarning: Degrees of freedom <= 0 for slice\n",
      "  ret = _var(a, axis=axis, dtype=dtype, out=out, ddof=ddof,\n",
      "C:\\Users\\49159\\Anaconda3\\envs\\GrouPyTorch\\lib\\site-packages\\numpy\\core\\_methods.py:194: RuntimeWarning: invalid value encountered in true_divide\n",
      "  arrmean = um.true_divide(\n",
      "C:\\Users\\49159\\Anaconda3\\envs\\GrouPyTorch\\lib\\site-packages\\numpy\\core\\_methods.py:226: RuntimeWarning: invalid value encountered in double_scalars\n",
      "  ret = ret.dtype.type(ret / rcount)\n"
     ]
    }
   ],
   "source": [
    "conditions_wider = {\n",
    "    \"DATASET_DESCRIPTION\": {\"PREDICTOR_VARIABLES\" : {\"tsurf\": [\"tsurf\"],\n",
    "                                                     \"prec\": [\"prec\"],\n",
    "                                                     \"slp\": [\"p\"]},\n",
    "                            \"PRECIP_WEIGHTING\" : False\n",
    "                           },\n",
    "    \"MODEL_TRAINING_DESCRIPTION\": {\"MODEL_TYPE\": \"UNet_Flat\",\n",
    "                                  \"USE_COORD_CONV\": True,\n",
    "                                  \"USE_CYLINDRICAL_PADDING\": True,\n",
    "                                  \"LOSS\": \"Masked_AreaWeightedMSELoss\",\n",
    "                                  \"LEARNING_RATE\": 5e-3,\n",
    "                                  \"DEPTH\": 3,\n",
    "                                   \"FMAPS\": (64,64,128,128)\n",
    "                                  }\n",
    "}\n",
    "\n",
    "conditions_deeper = {\n",
    "    \"DATASET_DESCRIPTION\": {\"PREDICTOR_VARIABLES\" : {\"tsurf\": [\"tsurf\"],\n",
    "                                                     \"prec\": [\"prec\"],\n",
    "                                                     \"slp\": [\"p\"]},\n",
    "                            \"PRECIP_WEIGHTING\" : False\n",
    "                           },\n",
    "    \"MODEL_TRAINING_DESCRIPTION\": {\"MODEL_TYPE\": \"UNet_Flat\",\n",
    "                                  \"USE_COORD_CONV\": True,\n",
    "                                  \"USE_CYLINDRICAL_PADDING\": True,\n",
    "                                  \"LOSS\": \"Masked_AreaWeightedMSELoss\",\n",
    "                                  \"LEARNING_RATE\": 5e-3,\n",
    "                                  \"DEPTH\": 4\n",
    "                                  }\n",
    "}\n",
    "\n",
    "descriptions_deeper, predictions_deeper, gt_deeper, masks_deeper = load_data_for_comparison(base_folder, conditions_deeper)\n",
    "descriptions_wider, predictions_wider, gt_wider, masks_wider = load_data_for_comparison(base_folder, conditions_wider)\n",
    "\n",
    "r2_deeper = np.zeros(len(predictions_deeper))\n",
    "r2_wider = np.zeros(len(predictions_wider))\n",
    "\n",
    "for i in range(len(predictions_deeper)):\n",
    "    r2_deeper[i] = get_weighted_average(get_r2(predictions_deeper[i], gt_deeper[i]), descriptions_deeper[i][\"DATASET_DESCRIPTION\"])\n",
    "\n",
    "for i in range(len(predictions_wider)):\n",
    "    r2_wider[i] = get_weighted_average(get_r2(predictions_wider[i], gt_wider[i]), descriptions_wider[i][\"DATASET_DESCRIPTION\"])\n",
    "    \n",
    "print('Deeper: R2 = {:.3f} \\pm {:.3f}'.format(np.mean(r2_deeper), np.std(r2_deeper)))\n",
    "print('Wider: R2 = {:.3f} \\pm {:.3f}'.format(np.mean(r2_wider), np.std(r2_wider)))"
   ]
  },
  {
   "cell_type": "markdown",
   "metadata": {},
   "source": [
    "learning rate tuning:"
   ]
  },
  {
   "cell_type": "code",
   "execution_count": 10,
   "metadata": {},
   "outputs": [
    {
     "name": "stdout",
     "output_type": "stream",
     "text": [
      "10 matching runs found\n"
     ]
    }
   ],
   "source": [
    "conditions_lrs = {\n",
    "    \"DATASET_DESCRIPTION\": {\"PREDICTOR_VARIABLES\" : {\"tsurf\": [\"tsurf\"],\n",
    "                                                     \"prec\": [\"prec\"],\n",
    "                                                     \"slp\": [\"p\"]},\n",
    "                            \"PRECIP_WEIGHTING\" : False\n",
    "                           },\n",
    "    \"MODEL_TRAINING_DESCRIPTION\": {\"MODEL_TYPE\": \"UNet_Flat\",\n",
    "                                  \"USE_COORD_CONV\": True,\n",
    "                                  \"USE_CYLINDRICAL_PADDING\": True,\n",
    "                                  \"LOSS\": \"Masked_AreaWeightedMSELoss\",\n",
    "                                  \"DEPTH\": 3\n",
    "                                  }\n",
    "}\n",
    "\n",
    "descriptions_lrs, predictions_lrs, gt_lrs, masks_lrs = load_data_for_comparison(base_folder, conditions_lrs)"
   ]
  },
  {
   "cell_type": "code",
   "execution_count": 11,
   "metadata": {},
   "outputs": [],
   "source": [
    "r2_lrs = np.zeros(len(predictions_lrs))\n",
    "\n",
    "for i in range(len(predictions_lrs)):\n",
    "    r2_lrs[i] = get_weighted_average(get_r2(predictions_lrs[i], gt_lrs[i]), descriptions_lrs[i][\"DATASET_DESCRIPTION\"])"
   ]
  },
  {
   "cell_type": "code",
   "execution_count": 12,
   "metadata": {
    "scrolled": true
   },
   "outputs": [
    {
     "name": "stdout",
     "output_type": "stream",
     "text": [
      "lr: 0.0001 R2 = nan \\pm nan\n",
      "lr: 0.0001438449888287663 R2 = nan \\pm nan\n",
      "lr: 0.00020691380811147902 R2 = nan \\pm nan\n",
      "lr: 0.00029763514416313193 R2 = nan \\pm nan\n",
      "lr: 0.00042813323987193956 R2 = nan \\pm nan\n",
      "lr: 0.0006158482110660267 R2 = nan \\pm nan\n",
      "lr: 0.0008858667904100823 R2 = nan \\pm nan\n",
      "lr: 0.0012742749857031334 R2 = nan \\pm nan\n",
      "lr: 0.0018329807108324356 R2 = nan \\pm nan\n",
      "lr: 0.0026366508987303583 R2 = nan \\pm nan\n",
      "lr: 0.00379269019073225 R2 = nan \\pm nan\n",
      "lr: 0.005455594781168515 R2 = nan \\pm nan\n",
      "lr: 0.007847599703514606 R2 = nan \\pm nan\n",
      "lr: 0.011288378916846883 R2 = nan \\pm nan\n",
      "lr: 0.01623776739188721 R2 = nan \\pm nan\n",
      "lr: 0.023357214690901212 R2 = nan \\pm nan\n",
      "lr: 0.03359818286283781 R2 = nan \\pm nan\n",
      "lr: 0.04832930238571752 R2 = nan \\pm nan\n",
      "lr: 0.06951927961775606 R2 = nan \\pm nan\n",
      "lr: 0.1 R2 = nan \\pm nan\n"
     ]
    },
    {
     "name": "stderr",
     "output_type": "stream",
     "text": [
      "C:\\Users\\49159\\Anaconda3\\envs\\GrouPyTorch\\lib\\site-packages\\numpy\\core\\fromnumeric.py:3372: RuntimeWarning: Mean of empty slice.\n",
      "  return _methods._mean(a, axis=axis, dtype=dtype,\n",
      "C:\\Users\\49159\\Anaconda3\\envs\\GrouPyTorch\\lib\\site-packages\\numpy\\core\\_methods.py:170: RuntimeWarning: invalid value encountered in double_scalars\n",
      "  ret = ret.dtype.type(ret / rcount)\n",
      "C:\\Users\\49159\\Anaconda3\\envs\\GrouPyTorch\\lib\\site-packages\\numpy\\core\\_methods.py:233: RuntimeWarning: Degrees of freedom <= 0 for slice\n",
      "  ret = _var(a, axis=axis, dtype=dtype, out=out, ddof=ddof,\n",
      "C:\\Users\\49159\\Anaconda3\\envs\\GrouPyTorch\\lib\\site-packages\\numpy\\core\\_methods.py:194: RuntimeWarning: invalid value encountered in true_divide\n",
      "  arrmean = um.true_divide(\n",
      "C:\\Users\\49159\\Anaconda3\\envs\\GrouPyTorch\\lib\\site-packages\\numpy\\core\\_methods.py:226: RuntimeWarning: invalid value encountered in double_scalars\n",
      "  ret = ret.dtype.type(ret / rcount)\n"
     ]
    },
    {
     "data": {
      "text/plain": [
       "Text(0, 0.5, 'R2 score')"
      ]
     },
     "execution_count": 12,
     "metadata": {},
     "output_type": "execute_result"
    },
    {
     "data": {
      "image/png": "[encoded data removed]",
      "text/plain": [
       "<Figure size 432x288 with 1 Axes>"
      ]
     },
     "metadata": {
      "needs_background": "light"
     },
     "output_type": "display_data"
    }
   ],
   "source": [
    "import matplotlib.pyplot as plt\n",
    "lrs = [d[\"MODEL_TRAINING_DESCRIPTION\"][\"LEARNING_RATE\"] for d in descriptions_lrs]\n",
    "\n",
    "r2_lrs_mean = []\n",
    "r2_lrs_std = []\n",
    "\n",
    "ls = np.logspace(-4,-1,20)\n",
    "for i, l in enumerate(ls):\n",
    "    indices = np.where(l==lrs)[0]\n",
    "    print('lr: {} R2 = {:.3f} \\pm {:.3f}'.format(l, np.mean(r2_lrs[indices]), np.std(r2_lrs[indices])))\n",
    "    r2_lrs_mean.append(np.mean(r2_lrs[indices]))\n",
    "    r2_lrs_std.append(np.std(r2_lrs[indices]))\n",
    "    \n",
    "plt.plot(ls, r2_lrs_mean)\n",
    "plt.xscale(\"log\")\n",
    "plt.xlabel(\"Learning rate\")\n",
    "plt.ylabel(\"R2 score\")"
   ]
  },
  {
   "cell_type": "markdown",
   "metadata": {},
   "source": [
    "# A.3 Precip weighting"
   ]
  },
  {
   "cell_type": "code",
   "execution_count": 13,
   "metadata": {
    "scrolled": true
   },
   "outputs": [
    {
     "name": "stdout",
     "output_type": "stream",
     "text": [
      "0 matching runs found\n",
      "41 matching runs found\n",
      "No precip weighting: R2 = 0.227 \\pm 0.004\n",
      "Precip weighting: R2 = nan \\pm nan\n"
     ]
    },
    {
     "name": "stderr",
     "output_type": "stream",
     "text": [
      "C:\\Users\\49159\\Anaconda3\\envs\\GrouPyTorch\\lib\\site-packages\\numpy\\core\\fromnumeric.py:3372: RuntimeWarning: Mean of empty slice.\n",
      "  return _methods._mean(a, axis=axis, dtype=dtype,\n",
      "C:\\Users\\49159\\Anaconda3\\envs\\GrouPyTorch\\lib\\site-packages\\numpy\\core\\_methods.py:170: RuntimeWarning: invalid value encountered in double_scalars\n",
      "  ret = ret.dtype.type(ret / rcount)\n",
      "C:\\Users\\49159\\Anaconda3\\envs\\GrouPyTorch\\lib\\site-packages\\numpy\\core\\_methods.py:233: RuntimeWarning: Degrees of freedom <= 0 for slice\n",
      "  ret = _var(a, axis=axis, dtype=dtype, out=out, ddof=ddof,\n",
      "C:\\Users\\49159\\Anaconda3\\envs\\GrouPyTorch\\lib\\site-packages\\numpy\\core\\_methods.py:194: RuntimeWarning: invalid value encountered in true_divide\n",
      "  arrmean = um.true_divide(\n",
      "C:\\Users\\49159\\Anaconda3\\envs\\GrouPyTorch\\lib\\site-packages\\numpy\\core\\_methods.py:226: RuntimeWarning: invalid value encountered in double_scalars\n",
      "  ret = ret.dtype.type(ret / rcount)\n"
     ]
    }
   ],
   "source": [
    "conditions_pw = {\n",
    "    \"DATASET_DESCRIPTION\": {\"PRECIP_WEIGHTING\" : True},\n",
    "    \"MODEL_TRAINING_DESCRIPTION\": {}\n",
    "}\n",
    "\n",
    "conditions_no_pw = {\n",
    "    \"DATASET_DESCRIPTION\": {\"PREDICTOR_VARIABLES\" : {\"tsurf\": [\"tsurf\"],\n",
    "                                                     \"prec\": [\"prec\"]},\n",
    "                            \"PRECIP_WEIGHTING\" : False},\n",
    "    \"MODEL_TRAINING_DESCRIPTION\": {\"MODEL_TYPE\": \"UNet_Flat\",\n",
    "                                  \"USE_COORD_CONV\": True,\n",
    "                                  \"USE_CYLINDRICAL_PADDING\": True,\n",
    "                                  \"LOSS\": \"Masked_AreaWeightedMSELoss\",\n",
    "                                  \"DEPTH\": 3\n",
    "                                  }\n",
    "}\n",
    "\n",
    "descriptions_pw, predictions_pw, gt_pw, masks_pw = load_data_for_comparison(base_folder, conditions_pw)\n",
    "descriptions_no_pw, predictions_no_pw, gt_no_pw, masks_no_pw = load_data_for_comparison(base_folder, conditions_no_pw)\n",
    "\n",
    "r2_pw = np.zeros(len(predictions_pw))\n",
    "r2_no_pw = np.zeros(len(predictions_no_pw))\n",
    "\n",
    "for i in range(len(predictions_pw)):\n",
    "    r2_pw[i] = get_weighted_average(get_r2(predictions_pw[i], gt_pw[i]), descriptions_pw[i][\"DATASET_DESCRIPTION\"])\n",
    "\n",
    "for i in range(len(predictions_no_pw)):\n",
    "    r2_no_pw[i] = get_weighted_average(get_r2(predictions_no_pw[i], gt_no_pw[i]), descriptions_no_pw[i][\"DATASET_DESCRIPTION\"])\n",
    "    \n",
    "print('No precip weighting: R2 = {:.3f} \\pm {:.3f}'.format(np.mean(r2_no_pw), np.std(r2_no_pw)))\n",
    "print('Precip weighting: R2 = {:.3f} \\pm {:.3f}'.format(np.mean(r2_pw), np.std(r2_pw)))"
   ]
  },
  {
   "cell_type": "code",
   "execution_count": null,
   "metadata": {},
   "outputs": [],
   "source": []
  },
  {
   "cell_type": "code",
   "execution_count": null,
   "metadata": {},
   "outputs": [],
   "source": []
  }
 ],
 "metadata": {
  "kernelspec": {
   "display_name": "GrouPyTorch_kernel",
   "language": "python",
   "name": "groupytorch_kernel"
  },
  "language_info": {
   "codemirror_mode": {
    "name": "ipython",
    "version": 3
   },
   "file_extension": ".py",
   "mimetype": "text/x-python",
   "name": "python",
   "nbconvert_exporter": "python",
   "pygments_lexer": "ipython3",
   "version": "3.8.10"
  }
 },
 "nbformat": 4,
 "nbformat_minor": 5
}
