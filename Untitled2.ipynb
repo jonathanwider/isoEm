{
 "cells": [
  {
   "cell_type": "code",
   "execution_count": 1,
   "id": "8ee7fddb",
   "metadata": {},
   "outputs": [],
   "source": [
    "import numpy as np"
   ]
  },
  {
   "cell_type": "code",
   "execution_count": 5,
   "id": "becf8d22",
   "metadata": {},
   "outputs": [],
   "source": [
    "lat = 71\n",
    "lon = 96\n",
    "divisor = 8"
   ]
  },
  {
   "cell_type": "code",
   "execution_count": 6,
   "id": "a8963899",
   "metadata": {},
   "outputs": [
    {
     "data": {
      "text/plain": [
       "104"
      ]
     },
     "execution_count": 6,
     "metadata": {},
     "output_type": "execute_result"
    }
   ],
   "source": [
    "(lon + divisor) - (lon % divisor)"
   ]
  },
  {
   "cell_type": "code",
   "execution_count": 8,
   "id": "ac409f76",
   "metadata": {},
   "outputs": [
    {
     "data": {
      "text/plain": [
       "12"
      ]
     },
     "execution_count": 8,
     "metadata": {},
     "output_type": "execute_result"
    }
   ],
   "source": [
    "int(lon // divisor)"
   ]
  },
  {
   "cell_type": "code",
   "execution_count": 13,
   "id": "240c7fde",
   "metadata": {},
   "outputs": [
    {
     "data": {
      "text/plain": [
       "96.0"
      ]
     },
     "execution_count": 13,
     "metadata": {},
     "output_type": "execute_result"
    }
   ],
   "source": [
    "np.ceil(lon/divisor)*divisor"
   ]
  }
 ],
 "metadata": {
  "kernelspec": {
   "display_name": "Python 3 (ipykernel)",
   "language": "python",
   "name": "python3"
  },
  "language_info": {
   "codemirror_mode": {
    "name": "ipython",
    "version": 3
   },
   "file_extension": ".py",
   "mimetype": "text/x-python",
   "name": "python",
   "nbconvert_exporter": "python",
   "pygments_lexer": "ipython3",
   "version": "3.8.0"
  }
 },
 "nbformat": 4,
 "nbformat_minor": 5
}
