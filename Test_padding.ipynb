{
 "cells": [
  {
   "cell_type": "code",
   "execution_count": 1,
   "metadata": {},
   "outputs": [],
   "source": [
    "import torch\n",
    "import numpy as np\n",
    "import torch.nn.functional as F\n",
    "import matplotlib.pyplot as plt"
   ]
  },
  {
   "cell_type": "markdown",
   "metadata": {},
   "source": [
    "## General Idea for convolutions and padding\n",
    "\n",
    "At every time the charts need to be surrounded by padding (g-padding, see paper figure 4). One could achive this by using \"valid\" convolutions and then \"glue\" new padding to the output after each convolution. The better strategy I think is to use \"same\" convolution and simply overwrite the results with the g-padding. This is also what I have implemented below.\n",
    "\n",
    "In any way, we additionally will need to augment the input data to the CNN: It will probably not contain any padding and thus we will need to view() it as seperate charts, then pad each chart (can be done with zeros), then go back to view as a whole. And then we are able to apply g-padding here as well. "
   ]
  },
  {
   "cell_type": "markdown",
   "metadata": {},
   "source": [
    "# Create a sample image batch\n",
    "\n",
    "Create a typical input batch that we would encounter. First we start with a \"scalar\"/Z2 feature, later we will need to generalize this to P6 features."
   ]
  },
  {
   "cell_type": "code",
   "execution_count": 3,
   "metadata": {},
   "outputs": [],
   "source": [
    "batchsize = 5\n",
    "height_single = 8  # height of a single chart \n",
    "n_charts = 5\n",
    "n_channels = 3\n",
    "width = 2*height_single # width of the chart\n",
    "height = n_charts*height_single\n",
    "\n",
    "a_0 = np.arange(int(batchsize*n_channels*height*width/50),batchsize*n_channels*height*width+int(batchsize*n_channels*height*width/50))\n",
    "t = torch.from_numpy(a_0)\n",
    "\n",
    "\n",
    "t = t.view(batchsize, n_channels, -1, height_single, width)\n",
    "\n",
    "pad = (1,1,1,1)\n",
    "t = F.pad(t, pad, \"constant\", -50)\n",
    "\n",
    "#reshape to simulate a typical situation\n",
    "t = t.view(batchsize, n_channels, height+2*5, width+2)"
   ]
  },
  {
   "cell_type": "markdown",
   "metadata": {},
   "source": [
    "Now we are at a typical starting position. Data like this can be the output of a previous conv-layer.\n",
    "\n",
    "Develop a procedure to do the padding. First starting with the simple \"scalar/Z2\" case."
   ]
  },
  {
   "cell_type": "code",
   "execution_count": 4,
   "metadata": {},
   "outputs": [],
   "source": [
    "def g_padding(t):\n",
    "    \"\"\"\n",
    "    Do G-Padding. Assume the inputdata already has the shape \"with padding\". t should be of shape \n",
    "    (batchsize, n_channels, n_charts*(height_chart+padding), (width_chart+padding))\n",
    "    \"\"\"\n",
    "    bs = t.shape[0]\n",
    "    n_ch = t.shape[1]\n",
    "    h = int(t.shape[2]/5-2)  # true height of a single map without padding\n",
    "    w = int(t.shape[3]-2)  # true width of a single map without padding\n",
    "\n",
    "    # split the tensor into the individual charts (at least in view)\n",
    "    t_v = t.view(bs, n_ch, -1, h+2, w+2)\n",
    "\n",
    "\n",
    "    # set \"cornerpoints\" of icosahedron on the inside of the chart to zero\n",
    "    t_v[:,:,:,-2,1::h] = 0\n",
    "\n",
    "    # left edge\n",
    "    for i in range(n_charts):\n",
    "        # POSSIBLY PERMUTE\n",
    "        # depending on what type we use we might need to cyclically permute over rotation index first.\n",
    "        t_v[:,:,i,1:-1,0] = t_v[:,:,(i+1)%n_charts,1,1:h+1]\n",
    "    # upper edge\n",
    "    t_v[:,:,:,0,1] = 0 #  set single pixel to zero.\n",
    "    t_v[:,:,:,0,0] = 0 #  set single pixel to zero.\n",
    "    t_v[:,:,:,-1,0] = 0 #  set single pixel to zero.\n",
    "    t_v[:,:,:,-1,-1] = 0 #  set single pixel to zero.\n",
    "    for i in range(n_charts):\n",
    "        # POSSIBLY PERMUTE\n",
    "        # left upper edge\n",
    "        t_v[:,:,i,0,2:h+2] = t_v[: ,:, (i-1)%n_charts, 1:-1, 1]\n",
    "        # right upper edge\n",
    "        t_v[:,:,i,0,h+1:-1] = t_v[: ,:, (i-1)%n_charts, -2, 1:h+1]\n",
    "\n",
    "    # right edge\n",
    "    for i in range(n_charts):  \n",
    "        # POSSIBLY PERMUTE\n",
    "        t_v[:,:,i,0:-2,-1] = t_v[:,:,(i-1)%n_charts, -2, h+1:-1]\n",
    "\n",
    "    # lower edge\n",
    "    for i in range(n_charts):\n",
    "        # lower left edge\n",
    "        t_v[:,:,i,-1,1:h+1] = t_v[: ,:, (i+1)%n_charts, 1, h+1:-1]\n",
    "        # POSSIBLY PERMUTE\n",
    "        # lower right edge\n",
    "        t_v[:,:,i,-1,h+1:-1] = t_v[:, :, (i+1)%n_charts, 1:-1,-2]"
   ]
  },
  {
   "cell_type": "code",
   "execution_count": 5,
   "metadata": {},
   "outputs": [
    {
     "data": {
      "text/plain": [
       "<matplotlib.image.AxesImage at 0x2894c1c7fa0>"
      ]
     },
     "execution_count": 5,
     "metadata": {},
     "output_type": "execute_result"
    },
    {
     "data": {
      "image/png": "[encoded data removed]",
      "text/plain": [
       "<Figure size 360x864 with 1 Axes>"
      ]
     },
     "metadata": {
      "needs_background": "light"
     },
     "output_type": "display_data"
    }
   ],
   "source": [
    "g_padding(t)\n",
    "plt.figure(figsize=(5,12))\n",
    "plt.imshow(t[0,0,...],cmap='rainbow')\n",
    "# plt.imshow(t.view(batchsize, n_channels, height, width)[0,0,...])"
   ]
  },
  {
   "cell_type": "code",
   "execution_count": 48,
   "metadata": {},
   "outputs": [],
   "source": [
    "m = torch.nn.MaxPool2d(2, stride=2)\n",
    "ts = t.shape\n",
    "x = t.reshape(ts[0], ts[1], 1, ts[-2], ts[-1])\n",
    "x.shape\n",
    "\n",
    "xs = x.shape\n",
    "x = x.view(xs[0], xs[1], 5, -1, xs[-1])  # reshape to individual charts\n",
    "x = x[..., 1:-1, 1:-1]  # get rid of padding of the individual charts\n",
    "x = x.reshape(xs[0], xs[1], xs[-2]-2*5, xs[-1]-2)  # reshape back into original shape.\n",
    "x = x.double()\n",
    "x = m(x)\n",
    "\n",
    "# pad the downsized charts.\n",
    "xs = x.size()\n",
    "x = x.view(xs[0], xs[1], 5, -1, xs[-1])\n",
    "x = F.pad(x, (1, 1, 1, 1))  # pad the individual charts\n",
    "x = x.view(xs[0], xs[1], -1, xs[-1]+2)  # merge the charts"
   ]
  },
  {
   "cell_type": "code",
   "execution_count": 51,
   "metadata": {},
   "outputs": [
    {
     "data": {
      "image/png": "[encoded data removed]",
      "text/plain": [
       "<Figure size 360x864 with 1 Axes>"
      ]
     },
     "metadata": {
      "needs_background": "light"
     },
     "output_type": "display_data"
    },
    {
     "data": {
      "image/png": "[encoded data removed]",
      "text/plain": [
       "<Figure size 432x288 with 1 Axes>"
      ]
     },
     "metadata": {
      "needs_background": "light"
     },
     "output_type": "display_data"
    }
   ],
   "source": [
    "g_padding(t)\n",
    "plt.figure(figsize=(5,12))\n",
    "plt.imshow(t[0,0,...],cmap='rainbow')\n",
    "plt.show()\n",
    "plt.imshow(x[0,0,...],cmap='rainbow')\n",
    "plt.show()\n",
    "# plt.imshow(t.view(batchsize, n_channels, height, width)[0,0,...])"
   ]
  },
  {
   "cell_type": "markdown",
   "metadata": {},
   "source": [
    "Since this is not at all readable, recreate the one from the paper by hand. (will be figure 5)"
   ]
  },
  {
   "cell_type": "code",
   "execution_count": 21,
   "metadata": {},
   "outputs": [],
   "source": [
    "batchsize = 1\n",
    "height_single = 4  # height of a single chart \n",
    "n_charts = 5\n",
    "n_channels = 3\n",
    "width = 2*height_single # width of the chart\n",
    "height = n_charts*height_single\n",
    "\n",
    "a_0 = np.arange(int(batchsize*n_channels*height*width/50),batchsize*n_channels*height*width+int(batchsize*n_channels*height*width/50))\n",
    "t2 = torch.from_numpy(a_0)\n",
    "\n",
    "\n",
    "t2 = t2.view(batchsize, n_channels, -1, height_single, width)\n",
    "\n",
    "pad = (1,1,1,1)\n",
    "t2 = F.pad(t2, pad, \"constant\", 0)\n",
    "\n",
    "#reshape to simulate a typical situation\n",
    "t2[...,1:-2,2:-1]  = 35\n",
    "\n",
    "# set \"cornerpoints\" of icosahedron on the inside of the chart to zero\n",
    "t2[:,:,:,-2,1::height_single] = 0\n",
    "\n",
    "perm = np.random.permutation(30) + 2\n",
    "\n",
    "for i in range(5):\n",
    "    t2[...,i,1:-2,1] = perm[6*i]\n",
    "    t2[...,i,1:-2,height_single+1] = perm[6*i+1]\n",
    "    t2[...,i,-2,2:height_single+1] = perm[6*i+2]\n",
    "    t2[...,i,-2,height_single+2:-1] = perm[6*i+3]\n",
    "    \n",
    "    t2[...,i,3,2] = perm[6*i+4]\n",
    "    t2[...,i,2,3] = perm[6*i+4]\n",
    "    t2[...,i,1,4] = perm[6*i+4]\n",
    "    \n",
    "    t2[...,i,3,2+height_single] = perm[6*i+5]\n",
    "    t2[...,i,2,3+height_single] = perm[6*i+5]\n",
    "    t2[...,i,1,4+height_single] = perm[6*i+5]\n",
    "\n",
    "t2 = t2.view(batchsize, n_channels, height+2*5, width+2)"
   ]
  },
  {
   "cell_type": "code",
   "execution_count": 22,
   "metadata": {},
   "outputs": [
    {
     "data": {
      "image/png": "[encoded data removed]",
      "text/plain": [
       "<Figure size 360x864 with 1 Axes>"
      ]
     },
     "metadata": {
      "needs_background": "light"
     },
     "output_type": "display_data"
    },
    {
     "data": {
      "image/png": "[encoded data removed]",
      "text/plain": [
       "<Figure size 360x864 with 1 Axes>"
      ]
     },
     "metadata": {
      "needs_background": "light"
     },
     "output_type": "display_data"
    }
   ],
   "source": [
    "plt.figure(figsize=(5,12))\n",
    "plt.imshow(t2[0,0,...],cmap='nipy_spectral')\n",
    "plt.show()\n",
    "plt.close()\n",
    "\n",
    "\n",
    "g_padding(t2)\n",
    "plt.figure(figsize=(5,12))\n",
    "plt.imshow(t2[0,0,...],cmap='nipy_spectral')\n",
    "plt.show()\n",
    "plt.close()"
   ]
  },
  {
   "cell_type": "markdown",
   "metadata": {},
   "source": [
    "# Cyclic permutation of tensor along one axis"
   ]
  },
  {
   "cell_type": "markdown",
   "metadata": {},
   "source": [
    "In a realistic situation we don't only have scalar quantities, but the data has the shape  $(batchsize, n_{channels}, n_{inputstabilizer}, n_{charts}, height_{single}, width)$, where $n_{inputstabilizer}$ typically is 6 (for six possible rotations around hexagon).\n",
    "\n",
    "If necessary we can reshape and \"merge\" channels and stabilizer to a single axis.\n",
    "\n",
    "\n",
    "To permute we can use torch.roll(tensor, shift, dims) to shift by shift. Example [1,2,3,4,5] gets shifted to [5,1,2,3,4] when using shift = 1"
   ]
  },
  {
   "cell_type": "markdown",
   "metadata": {},
   "source": [
    "# Realistic stabilizer:\n",
    "\n",
    "We need to be really careful to apply the correct rotation. Changing on the \"stabilizer axis\" in +1 direction (eg. from 0 to 1) results in a view that is rotated by pi/6 in math. positive/counterclockwise direction. Or alternatively a coord.system that is rotated in positive direction. \n",
    "Looking at the filter expansion we see that the filter gets rotated clockwise from channel to channel (c6_z2 filter) - this is analogue to rotating the featuremap counterclockwise/math pos.\n",
    "\n",
    "Current idea (based on sketches, thoughts and what is written above): when one would need to rotate a edge counterclockwise to glue it together with the next hex, we need to roll with shift=-1, otherwise with shift=+1.\n",
    "\n",
    "## Create sample batch"
   ]
  },
  {
   "cell_type": "code",
   "execution_count": 30,
   "metadata": {},
   "outputs": [],
   "source": [
    "batchsize = 5\n",
    "height_single = 4  # height of a single chart \n",
    "n_charts = 5\n",
    "n_channels = 3\n",
    "st_size = 1\n",
    "width = 2*height_single # width of the chart\n",
    "height = n_charts*height_single\n",
    "\n",
    "a_0 = np.arange(batchsize*n_channels*height*width*st_size)\n",
    "t = torch.from_numpy(a_0)\n",
    "\n",
    "\n",
    "t = t.view(batchsize, n_channels*st_size, -1, height_single, width)\n",
    "\n",
    "pad = (1,1,1,1)\n",
    "t = F.pad(t, pad, \"constant\", -50)\n",
    "\n",
    "#reshape to simulate a typical situation\n",
    "t = t.view(batchsize, n_channels*st_size, height+2*5, width+2)"
   ]
  },
  {
   "cell_type": "code",
   "execution_count": 31,
   "metadata": {},
   "outputs": [
    {
     "data": {
      "text/plain": [
       "torch.Size([5, 3, 30, 10])"
      ]
     },
     "execution_count": 31,
     "metadata": {},
     "output_type": "execute_result"
    }
   ],
   "source": [
    "t.shape"
   ]
  },
  {
   "cell_type": "code",
   "execution_count": 32,
   "metadata": {},
   "outputs": [],
   "source": [
    "def g_padding_full(t,in_stab_size):\n",
    "    \"\"\"\n",
    "    Do G-Padding. Assume the inputdata already has the shape \"with padding\". t should be of shape \n",
    "    (batchsize, n_channels*(in_stab_size), n_charts*(height_chart+padding), (width_chart+padding))\n",
    "    \"\"\"\n",
    "    bs = t.shape[0]\n",
    "    assert in_stab_size in [1,6]  # check that the input stabilizer size is valid\n",
    "    h = int(t.shape[-2]/5-2)  # true height of a single map without padding\n",
    "    w = int(t.shape[-1]-2)  # true width of a single map without padding\n",
    "    n_charts = 5\n",
    "\n",
    "    # split the tensor into the individual charts (at least in view)\n",
    "    t_v = t.view(bs, -1, in_stab_size, 5, h+2, w+2)\n",
    "\n",
    "    t_v[...,0,1] = 0 #  set single pixel to zero.\n",
    "    t_v[...,0,0] = 0 #  set single pixel to zero.\n",
    "    t_v[...,-1,0] = 0 #  set single pixel to zero.\n",
    "    t_v[...,-1,-1] = 0 #  set single pixel to zero.\n",
    "\n",
    "    # set \"cornerpoints\" of icosahedron on the inside of the chart to zero\n",
    "    t_v[...,-2,1::h] = 0\n",
    "\n",
    "    rolled_tensor = torch.roll(t_v[...,1,1:h+1], shifts=+1, dims=-3) # pulled out of loop to make more efficient\n",
    "    for i in range(n_charts):\n",
    "        # depending on what type we use we might need to cyclically permute over rotation index first.\n",
    "        # shift by +1 bc rot of edge cw\n",
    "        t_v[...,i,1:-1,0] = rolled_tensor[...,(i+1)%n_charts,:] \n",
    "\n",
    "    # upper edge\n",
    "    rolled_tensor = torch.roll(t_v[..., 1:-1, 1] ,shifts=-1,dims=-3)\n",
    "    for i in range(5):\n",
    "        # left upper edge - shift by -1 by rot of edge ccw\n",
    "        t_v[...,i,0,2:h+2] = rolled_tensor[...,(i-1)%n_charts,:]\n",
    "        # right upper edge\n",
    "        t_v[...,i,0,h+1:-1] = t_v[..., (i-1)%n_charts, -2, 1:h+1]\n",
    "\n",
    "    # right edge\n",
    "    rolled_tensor = torch.roll(t_v[..., -2, h+1:-1], shifts=+1, dims=-3)\n",
    "    for i in range(n_charts):  \n",
    "        # shift by +1 bc rot of padded edge cw\n",
    "        t_v[...,i,0:-2,-1] = rolled_tensor[...,(i-1)%n_charts,:]\n",
    "\n",
    "    # lower edge\n",
    "    rolled_tensor = torch.roll(t_v[..., 1:-1,-2], shifts=-1, dims=-3)\n",
    "    for i in range(n_charts):\n",
    "        # lower left edge\n",
    "        t_v[...,i,-1,1:h+1] = t_v[..., (i+1)%n_charts, 1, h+1:-1]\n",
    "        # POSSIBLY PERMUTE\n",
    "        # lower right edge\n",
    "        t_v[...,i,-1,h+1:-1] = rolled_tensor[..., (i+1)%n_charts,:]    "
   ]
  },
  {
   "cell_type": "code",
   "execution_count": 33,
   "metadata": {},
   "outputs": [
    {
     "data": {
      "image/png": "[encoded data removed]",
      "text/plain": [
       "<Figure size 360x864 with 1 Axes>"
      ]
     },
     "metadata": {
      "needs_background": "light"
     },
     "output_type": "display_data"
    },
    {
     "name": "stdout",
     "output_type": "stream",
     "text": [
      "torch.Size([5, 3, 30, 10])\n"
     ]
    },
    {
     "data": {
      "image/png": "[encoded data removed]",
      "text/plain": [
       "<Figure size 360x864 with 1 Axes>"
      ]
     },
     "metadata": {
      "needs_background": "light"
     },
     "output_type": "display_data"
    }
   ],
   "source": [
    "t_plot = t.view(batchsize, n_channels, st_size, height+2*5, width+2)\n",
    "plt.figure(figsize=(5,12))\n",
    "plt.imshow(t_plot[0,0,0,...],cmap='nipy_spectral')\n",
    "plt.show()\n",
    "plt.close()\n",
    "\n",
    "\n",
    "g_padding_full(t,1)\n",
    "plt.figure(figsize=(5,12))\n",
    "plt.imshow(t_plot[0,0,0,...],cmap='nipy_spectral')\n",
    "plt.show()\n",
    "plt.close()"
   ]
  }
 ],
 "metadata": {
  "kernelspec": {
   "display_name": "Python 3",
   "language": "python",
   "name": "python3"
  },
  "language_info": {
   "codemirror_mode": {
    "name": "ipython",
    "version": 3
   },
   "file_extension": ".py",
   "mimetype": "text/x-python",
   "name": "python",
   "nbconvert_exporter": "python",
   "pygments_lexer": "ipython3",
   "version": "3.6.9"
  }
 },
 "nbformat": 4,
 "nbformat_minor": 5
}
