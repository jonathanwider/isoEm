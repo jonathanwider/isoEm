{
 "cells": [
  {
   "attachments": {},
   "cell_type": "markdown",
   "id": "2adc7e17",
   "metadata": {},
   "source": [
    "# Crossprediction experiment:\n",
    "\n",
    "first, create data sets for all climate models, then do the cross prediction."
   ]
  },
  {
   "cell_type": "code",
   "execution_count": null,
   "id": "52732d57",
   "metadata": {},
   "outputs": [],
   "source": [
    "%load_ext autoreload\n",
    "%autoreload 2\n",
    "\n",
    "from predict import *\n",
    "from datasets import *\n",
    "from train import *\n",
    "from evaluate import *"
   ]
  },
  {
   "attachments": {},
   "cell_type": "markdown",
   "id": "da67423b",
   "metadata": {},
   "source": [
    "### Create iHadCM3 dataset"
   ]
  },
  {
   "cell_type": "code",
   "execution_count": null,
   "id": "2058c878",
   "metadata": {},
   "outputs": [],
   "source": [
    "base_folder = \"Datasets\"\n",
    "output_folder = \"Output/Crossprediction\"\n",
    "\n",
    "description = {}\n",
    "\n",
    "description[\"DATASETS_USED\"] = [\"isotopes\", \n",
    "                                \"tsurf\", \n",
    "                                \"prec\"]\n",
    "\n",
    "description[\"PREDICTOR_VARIABLES\"] = {\"tsurf\": [\"tsurf\"],\n",
    "                                      \"prec\": [\"prec\"]}\n",
    "\n",
    "description[\"TARGET_VARIABLES\"] = {\"isotopes\": [\"d18O\"]}\n",
    "\n",
    "description[\"DATASETS_NO_GAPS\"] = [\"isotopes\", \n",
    "                                   \"tsurf\", \n",
    "                                   \"prec\",\n",
    "                                   ]\n",
    "\n",
    "description[\"CLIMATE_MODEL\"] = \"iHadCM3\"\n",
    "description[\"GRID_TYPE\"] = \"Flat\"\n",
    "\n",
    "description[\"START_YEAR\"] = 850\n",
    "description[\"END_YEAR\"] = 1850\n",
    "description[\"LATITUDES_SLICE\"] = [1, -1]\n",
    "\n",
    "description[\"TEST_FRACTION\"] = 0.1\n",
    "description[\"DO_SHUFFLE\"] = False\n",
    "description[\"PRECIP_WEIGHTING\"] = False\n",
    "\n",
    "\"\"\"\n",
    "description[\"RESOLUTION\"] = 5\n",
    "description[\"INTERPOLATE_CORNERS\"] = True\n",
    "description[\"INTERPOLATION\"] = \"cons1\"\n",
    "\"\"\"\n",
    "\n",
    "\n",
    "description[\"TIMESCALE\"] = \"YEARLY\""
   ]
  },
  {
   "cell_type": "code",
   "execution_count": null,
   "id": "6e50bacd",
   "metadata": {
    "scrolled": true
   },
   "outputs": [],
   "source": [
    "create_yearly_dataset(description, base_folder, output_folder)"
   ]
  },
  {
   "cell_type": "markdown",
   "id": "995553fd",
   "metadata": {},
   "source": [
    "### Create GISS dataset"
   ]
  },
  {
   "cell_type": "code",
   "execution_count": null,
   "id": "28429da9",
   "metadata": {},
   "outputs": [],
   "source": [
    "base_folder = \"Datasets\"\n",
    "output_folder = \"Output/Crossprediction\"\n",
    "\n",
    "description_GISS = {}\n",
    "\n",
    "description_GISS[\"DATASETS_USED\"] = [\"isotopes\", \n",
    "                                        \"tsurf\", \n",
    "                                        \"prec\"]\n",
    "\n",
    "description_GISS[\"PREDICTOR_VARIABLES\"] = {\"tsurf\": [\"tsurf\"],\n",
    "                                              \"prec\": [\"prec\"]}\n",
    "\n",
    "description_GISS[\"TARGET_VARIABLES\"] = {\"isotopes\": [\"d18O\"]}\n",
    "\n",
    "description_GISS[\"DATASETS_NO_GAPS\"] = [\"isotopes\", \n",
    "                                           \"tsurf\", \n",
    "                                           \"prec\",\n",
    "                                           ]\n",
    "\n",
    "description_GISS[\"CLIMATE_MODEL\"] = \"GISS\"\n",
    "description_GISS[\"GRID_TYPE\"] = \"Flat\"\n",
    "\n",
    "description_GISS[\"START_YEAR\"] = 850\n",
    "description_GISS[\"END_YEAR\"] = 1850\n",
    "description_GISS[\"LATITUDES_SLICE\"] = [1, -1]\n",
    "\n",
    "description_GISS[\"TEST_FRACTION\"] = 0.1\n",
    "description_GISS[\"DO_SHUFFLE\"] = False\n",
    "description_GISS[\"PRECIP_WEIGHTING\"] = False\n",
    "\n",
    "\"\"\"\n",
    "description_GISS[\"RESOLUTION\"] = 5\n",
    "description_GISS[\"INTERPOLATE_CORNERS\"] = True\n",
    "description_GISS[\"INTERPOLATION\"] = \"cons1\"\n",
    "\"\"\"\n",
    "\n",
    "\n",
    "description_GISS[\"TIMESCALE\"] = \"YEARLY\""
   ]
  },
  {
   "cell_type": "code",
   "execution_count": null,
   "id": "e70ea5cc",
   "metadata": {
    "scrolled": true
   },
   "outputs": [],
   "source": [
    "create_yearly_dataset(description_GISS, base_folder, output_folder)"
   ]
  },
  {
   "cell_type": "markdown",
   "id": "60f07090",
   "metadata": {},
   "source": [
    "### Create iCESM dataset"
   ]
  },
  {
   "cell_type": "code",
   "execution_count": null,
   "id": "252e892e",
   "metadata": {},
   "outputs": [],
   "source": [
    "base_folder = \"Datasets\"\n",
    "output_folder = \"Output/Crossprediction\"\n",
    "\n",
    "description_iCESM = {}\n",
    "\n",
    "description_iCESM[\"DATASETS_USED\"] = [\"isotopes\", \n",
    "                                        \"tsurf\", \n",
    "                                        \"prec\"]\n",
    "\n",
    "description_iCESM[\"PREDICTOR_VARIABLES\"] = {\"tsurf\": [\"tsurf\"],\n",
    "                                              \"prec\": [\"prec\"]}\n",
    "\n",
    "description_iCESM[\"TARGET_VARIABLES\"] = {\"isotopes\": [\"d18O\"]}\n",
    "\n",
    "description_iCESM[\"DATASETS_NO_GAPS\"] = [\"isotopes\", \n",
    "                                           \"tsurf\", \n",
    "                                           \"prec\",\n",
    "                                           ]\n",
    "\n",
    "description_iCESM[\"CLIMATE_MODEL\"] = \"iCESM\"\n",
    "description_iCESM[\"GRID_TYPE\"] = \"Flat\"\n",
    "\n",
    "description_iCESM[\"START_YEAR\"] = 850\n",
    "description_iCESM[\"END_YEAR\"] = 1850\n",
    "description_iCESM[\"LATITUDES_SLICE\"] = [1, -1]\n",
    "\n",
    "description_iCESM[\"TEST_FRACTION\"] = 0.1\n",
    "description_iCESM[\"DO_SHUFFLE\"] = False\n",
    "description_iCESM[\"PRECIP_WEIGHTING\"] = False\n",
    "\n",
    "\"\"\"\n",
    "description_iCESM[\"RESOLUTION\"] = 5\n",
    "description_iCESM[\"INTERPOLATE_CORNERS\"] = True\n",
    "description_iCESM[\"INTERPOLATION\"] = \"cons1\"\n",
    "\"\"\"\n",
    "\n",
    "\n",
    "description_iCESM[\"TIMESCALE\"] = \"YEARLY\""
   ]
  },
  {
   "cell_type": "code",
   "execution_count": null,
   "id": "32337bd7",
   "metadata": {},
   "outputs": [],
   "source": [
    "create_yearly_dataset(description_iCESM, base_folder, output_folder)"
   ]
  },
  {
   "cell_type": "markdown",
   "id": "d3600cd9",
   "metadata": {},
   "source": [
    "### Create isoGSM dataset"
   ]
  },
  {
   "cell_type": "code",
   "execution_count": null,
   "id": "196aeb13",
   "metadata": {},
   "outputs": [],
   "source": [
    "base_folder = \"Datasets\"\n",
    "output_folder = \"Output/Crossprediction\"\n",
    "\n",
    "description_isoGSM = {}\n",
    "\n",
    "description_isoGSM[\"DATASETS_USED\"] = [\"isotopes\", \n",
    "                                        \"tsurf\", \n",
    "                                        \"prec\"]\n",
    "\n",
    "description_isoGSM[\"PREDICTOR_VARIABLES\"] = {\"tsurf\": [\"tsurf\"],\n",
    "                                              \"prec\": [\"prec\"]}\n",
    "\n",
    "description_isoGSM[\"TARGET_VARIABLES\"] = {\"isotopes\": [\"d18O\"]}\n",
    "\n",
    "description_isoGSM[\"DATASETS_NO_GAPS\"] = [\"isotopes\", \n",
    "                                           \"tsurf\", \n",
    "                                           \"prec\",\n",
    "                                           ]\n",
    "\n",
    "description_isoGSM[\"CLIMATE_MODEL\"] = \"isoGSM\"\n",
    "description_isoGSM[\"GRID_TYPE\"] = \"Flat\"\n",
    "\n",
    "description_isoGSM[\"START_YEAR\"] = 850\n",
    "description_isoGSM[\"END_YEAR\"] = 1850\n",
    "description_isoGSM[\"LATITUDES_SLICE\"] = [1, -1]\n",
    "\n",
    "description_isoGSM[\"TEST_FRACTION\"] = 0.1\n",
    "description_isoGSM[\"DO_SHUFFLE\"] = False\n",
    "description_isoGSM[\"PRECIP_WEIGHTING\"] = False\n",
    "\n",
    "\"\"\"\n",
    "description_isoGSM[\"RESOLUTION\"] = 5\n",
    "description_isoGSM[\"INTERPOLATE_CORNERS\"] = True\n",
    "description_isoGSM[\"INTERPOLATION\"] = \"cons1\"\n",
    "\"\"\"\n",
    "\n",
    "\n",
    "description_isoGSM[\"TIMESCALE\"] = \"YEARLY\""
   ]
  },
  {
   "cell_type": "code",
   "execution_count": null,
   "id": "a269d66d",
   "metadata": {
    "scrolled": true
   },
   "outputs": [],
   "source": [
    "create_yearly_dataset(description_isoGSM, base_folder, output_folder)"
   ]
  },
  {
   "cell_type": "markdown",
   "id": "ae6e946c",
   "metadata": {},
   "source": [
    "### Create ECHAM5 dataset"
   ]
  },
  {
   "cell_type": "code",
   "execution_count": null,
   "id": "499c57ed",
   "metadata": {},
   "outputs": [],
   "source": [
    "base_folder = \"Datasets\"\n",
    "output_folder = \"Output/Crossprediction\"\n",
    "\n",
    "description_ECHAM5 = {}\n",
    "\n",
    "description_ECHAM5[\"DATASETS_USED\"] = [\"isotopes\", \n",
    "                                        \"tsurf\", \n",
    "                                        \"prec\"]\n",
    "\n",
    "description_ECHAM5[\"PREDICTOR_VARIABLES\"] = {\"tsurf\": [\"tsurf\"],\n",
    "                                              \"prec\": [\"prec\"]}\n",
    "\n",
    "description_ECHAM5[\"TARGET_VARIABLES\"] = {\"isotopes\": [\"d18O\"]}\n",
    "\n",
    "description_ECHAM5[\"DATASETS_NO_GAPS\"] = [\"isotopes\", \n",
    "                                           \"tsurf\", \n",
    "                                           \"prec\",\n",
    "                                           ]\n",
    "\n",
    "description_ECHAM5[\"CLIMATE_MODEL\"] = \"ECHAM5\"\n",
    "description_ECHAM5[\"GRID_TYPE\"] = \"Flat\"\n",
    "\n",
    "description_ECHAM5[\"START_YEAR\"] = 850\n",
    "description_ECHAM5[\"END_YEAR\"] = 1850\n",
    "description_ECHAM5[\"LATITUDES_SLICE\"] = [1, -1]\n",
    "\n",
    "description_ECHAM5[\"TEST_FRACTION\"] = 0.1\n",
    "description_ECHAM5[\"DO_SHUFFLE\"] = False\n",
    "description_ECHAM5[\"PRECIP_WEIGHTING\"] = False\n",
    "\n",
    "\"\"\"\n",
    "description_ECHAM5[\"RESOLUTION\"] = 5\n",
    "description_ECHAM5[\"INTERPOLATE_CORNERS\"] = True\n",
    "description_ECHAM5[\"INTERPOLATION\"] = \"cons1\"\n",
    "\"\"\"\n",
    "\n",
    "\n",
    "description_ECHAM5[\"TIMESCALE\"] = \"YEARLY\""
   ]
  },
  {
   "cell_type": "code",
   "execution_count": null,
   "id": "374da362",
   "metadata": {},
   "outputs": [],
   "source": [
    "create_yearly_dataset(description_ECHAM5, base_folder, output_folder)"
   ]
  },
  {
   "cell_type": "markdown",
   "id": "0b05f383",
   "metadata": {},
   "source": [
    "### Train UNet on iHadCM3:"
   ]
  },
  {
   "cell_type": "code",
   "execution_count": null,
   "id": "4ce0351f",
   "metadata": {
    "scrolled": true
   },
   "outputs": [],
   "source": [
    "base_folder = \"Datasets\"\n",
    "output_folder = \"Output/Crossprediction\"\n",
    "\n",
    "description = {}\n",
    "\n",
    "description[\"DATASETS_USED\"] = [\"isotopes\", \n",
    "                                \"tsurf\",\n",
    "                                \"prec\"]\n",
    "\n",
    "description[\"PREDICTOR_VARIABLES\"] = {\"tsurf\": [\"tsurf\"],\n",
    "                                      \"prec\": [\"prec\"]}\n",
    "\n",
    "description[\"TARGET_VARIABLES\"] = {\"isotopes\": [\"d18O\"]}\n",
    "\n",
    "description[\"DATASETS_NO_GAPS\"] = [\"isotopes\", \n",
    "                                   \"tsurf\", \n",
    "                                   \"prec\"]\n",
    "\n",
    "description[\"CLIMATE_MODEL\"] = \"iHadCM3\"\n",
    "description[\"GRID_TYPE\"] = \"Flat\"\n",
    "\n",
    "description[\"START_YEAR\"] = 850\n",
    "description[\"END_YEAR\"] = 1850\n",
    "description[\"LATITUDES_SLICE\"] = [1,-1]\n",
    "\n",
    "description[\"TEST_FRACTION\"] = 0.1\n",
    "description[\"DO_SHUFFLE\"] = False\n",
    "description[\"PRECIP_WEIGHTING\"] = False\n",
    "\n",
    "\n",
    "description[\"TIMESCALE\"] = \"YEARLY\"\n",
    "\n",
    "### MODEL_TRAINING ###############################################\n",
    "\n",
    "# training parameters\n",
    "model_training_description = {}\n",
    "model_training_description[\"S_MODE_PREDICTORS\"] = [\"Pixelwise\",\"Pixelwise\"] # how to standardize the given variables\n",
    "model_training_description[\"S_MODE_TARGETS\"] = [\"Pixelwise\"]\n",
    "\n",
    "model_training_description[\"DATASET_FOLDER\"] = output_folder\n",
    "\n",
    "model_training_description[\"MODEL_TYPE\"] = \"UNet_Flat\"\n",
    "model_training_description[\"CREATE_VALIDATIONSET\"] = True\n",
    "model_training_description[\"SHUFFLE_VALIDATIONSET\"] = True\n",
    "\n",
    "# model parameters\n",
    "model_training_description[\"DEPTH\"] = 4 # this changes compared to standard UNet\n",
    "model_training_description[\"NUM_EPOCHS\"] = \"early_stopping\"  # 20\n",
    "model_training_description[\"PATIENCE\"] = 5\n",
    "model_training_description[\"BATCH_SIZE\"] = 8\n",
    "model_training_description[\"LEARNING_RATE\"] = 1e-3  # 0.002637 # 5e-3  # use either this or default ADAM learning rate\n",
    "\n",
    "model_training_description[\"IN_CHANNELS\"] = len(util.flatten(description[\"PREDICTOR_VARIABLES\"].values()))\n",
    "model_training_description[\"CHANNELS_FIRST_CONV\"] = 32\n",
    "model_training_description[\"OUT_CHANNELS\"] = len(util.flatten(description[\"TARGET_VARIABLES\"].values()))\n",
    "model_training_description[\"FMAPS\"] = (32,32,64,128,128)\n",
    "\n",
    "\n",
    "\n",
    "model_training_description[\"ACTIVATION\"] = torch.nn.ReLU\n",
    "model_training_description[\"NORMALIZATION\"] = torch.nn.BatchNorm2d  # IcoBatchNorm2d \n",
    "\n",
    "\n",
    "model_training_description[\"OPTIMIZER\"] = \"Adam\"\n",
    "\n",
    "model_training_description[\"DEVICE\"] = torch.device(\"cuda:0\" if torch.cuda.is_available() else \"cpu\")\n",
    "\n",
    "model_training_description[\"USE_CYLINDRICAL_PADDING\"] = True\n",
    "model_training_description[\"USE_COORD_CONV\"] = True\n",
    "model_training_description[\"LOSS\"] = \"Masked_AreaWeightedMSELoss\""
   ]
  },
  {
   "attachments": {},
   "cell_type": "markdown",
   "id": "59c3095f",
   "metadata": {},
   "source": [
    "Do the cross prediction:"
   ]
  },
  {
   "cell_type": "code",
   "execution_count": null,
   "id": "592ba3a1",
   "metadata": {
    "scrolled": true
   },
   "outputs": [],
   "source": [
    "n_runs=10\n",
    "for i in range(n_runs):\n",
    "    model_training_description[\"RUN_NR\"] = i\n",
    "    unet = train_unet(description, model_training_description, output_folder)           \n",
    "    predict_save_unet(description, model_training_description, output_folder, unet, output_folder)\n",
    "    predict_save_unet(description_iCESM, model_training_description, output_folder, unet, output_folder)\n",
    "    predict_save_unet(description_GISS, model_training_description, output_folder, unet, output_folder)\n",
    "    predict_save_unet(description_isoGSM, model_training_description, output_folder, unet, output_folder)\n",
    "    predict_save_unet(description_ECHAM5, model_training_description, output_folder, unet, output_folder)"
   ]
  },
  {
   "attachments": {},
   "cell_type": "markdown",
   "id": "36a6bc6a",
   "metadata": {},
   "source": [
    "To assess how good the UNet crossprediction results are, we additionally have a look at the cross prediction performance of the baseline models\n",
    "\n",
    "### Crossprediction with pixelwise linear regression"
   ]
  },
  {
   "cell_type": "code",
   "execution_count": null,
   "id": "f74a446d",
   "metadata": {},
   "outputs": [],
   "source": [
    "model_training_description = {}\n",
    "model_training_description[\"S_MODE_PREDICTORS\"] = [\"Pixelwise\",\"Pixelwise\"] # how to standardize the given variables\n",
    "model_training_description[\"S_MODE_TARGETS\"] = [\"Pixelwise\"]\n",
    "\n",
    "model_training_description[\"DATASET_FOLDER\"] = output_folder\n",
    "\n",
    "model_training_description[\"MODEL_TYPE\"] = \"LinReg_Pixelwise\"\n",
    "model_training_description[\"CREATE_VALIDATIONSET\"] = False\n",
    "# model_training_description[\"SHUFFLE_VALIDATIONSET\"] = True\n",
    "\n",
    "base_folder = \"Datasets\"\n",
    "output_folder = \"Output/Crossprediction\"\n",
    "\n",
    "description = {}\n",
    "\n",
    "description[\"DATASETS_USED\"] = [\"isotopes\", \n",
    "                                \"tsurf\",\n",
    "                                \"prec\"]\n",
    "\n",
    "description[\"PREDICTOR_VARIABLES\"] = {\"tsurf\": [\"tsurf\"],\n",
    "                                      \"prec\": [\"prec\"]}\n",
    "\n",
    "description[\"TARGET_VARIABLES\"] = {\"isotopes\": [\"d18O\"]}\n",
    "\n",
    "description[\"DATASETS_NO_GAPS\"] = [\"isotopes\", \n",
    "                                   \"tsurf\", \n",
    "                                   \"prec\"]\n",
    "\n",
    "description[\"CLIMATE_MODEL\"] = \"iHadCM3\"\n",
    "description[\"GRID_TYPE\"] = \"Flat\"\n",
    "\n",
    "description[\"START_YEAR\"] = 850\n",
    "description[\"END_YEAR\"] = 1850\n",
    "description[\"LATITUDES_SLICE\"] = [1,-1]\n",
    "\n",
    "description[\"TEST_FRACTION\"] = 0.1\n",
    "description[\"DO_SHUFFLE\"] = False\n",
    "description[\"PRECIP_WEIGHTING\"] = False\n",
    "\n",
    "\n",
    "description[\"TIMESCALE\"] = \"YEARLY\""
   ]
  },
  {
   "cell_type": "code",
   "execution_count": null,
   "id": "3c325671",
   "metadata": {},
   "outputs": [],
   "source": [
    "models = train_linreg_pixelwise(description, model_training_description, output_folder)"
   ]
  },
  {
   "cell_type": "code",
   "execution_count": null,
   "id": "e31a1a79",
   "metadata": {},
   "outputs": [],
   "source": [
    "predict_save_linreg_pixelwise(description, model_training_description, output_folder, models, output_folder)\n",
    "predict_save_linreg_pixelwise(description_iCESM, model_training_description, output_folder, models, output_folder)\n",
    "predict_save_linreg_pixelwise(description_GISS, model_training_description, output_folder, models, output_folder)\n",
    "predict_save_linreg_pixelwise(description_isoGSM, model_training_description, output_folder, models, output_folder)\n",
    "predict_save_linreg_pixelwise(description_ECHAM5, model_training_description, output_folder, models, output_folder)"
   ]
  },
  {
   "attachments": {},
   "cell_type": "markdown",
   "id": "74c3a29e",
   "metadata": {},
   "source": [
    "### Crossprediction with PCA baseline"
   ]
  },
  {
   "cell_type": "code",
   "execution_count": null,
   "id": "7d37d3d0",
   "metadata": {},
   "outputs": [],
   "source": [
    "base_folder = \"Datasets\"\n",
    "output_folder = \"Output/Crossprediction\"\n",
    "\n",
    "description = {}\n",
    "\n",
    "description[\"DATASETS_USED\"] = [\"isotopes\", \n",
    "                                \"tsurf\",\n",
    "                                \"prec\"]\n",
    "\n",
    "description[\"PREDICTOR_VARIABLES\"] = {\"tsurf\": [\"tsurf\"],\n",
    "                                      \"prec\": [\"prec\"]}\n",
    "\n",
    "description[\"TARGET_VARIABLES\"] = {\"isotopes\": [\"d18O\"]}\n",
    "\n",
    "description[\"DATASETS_NO_GAPS\"] = [\"isotopes\", \n",
    "                                   \"tsurf\", \n",
    "                                   \"prec\"]\n",
    "\n",
    "description[\"CLIMATE_MODEL\"] = \"iHadCM3\"\n",
    "description[\"GRID_TYPE\"] = \"Flat\"\n",
    "\n",
    "description[\"START_YEAR\"] = 850\n",
    "description[\"END_YEAR\"] = 1850\n",
    "description[\"LATITUDES_SLICE\"] = [1,-1]\n",
    "\n",
    "description[\"TEST_FRACTION\"] = 0.1\n",
    "description[\"DO_SHUFFLE\"] = False\n",
    "description[\"PRECIP_WEIGHTING\"] = False\n",
    "\n",
    "\n",
    "description[\"TIMESCALE\"] = \"YEARLY\"\n",
    "\n",
    "model_training_description = {}\n",
    "model_training_description[\"S_MODE_PREDICTORS\"] = [\"Pixelwise\",\"Pixelwise\"] # how to standardize the given variables\n",
    "model_training_description[\"S_MODE_TARGETS\"] = [\"Pixelwise\"]\n",
    "\n",
    "model_training_description[\"DATASET_FOLDER\"] = output_folder\n",
    "\n",
    "model_training_description[\"MODEL_TYPE\"] = \"PCA_Flat\"\n",
    "model_training_description[\"CREATE_VALIDATIONSET\"] = True\n",
    "model_training_description[\"SHUFFLE_VALIDATIONSET\"] = False\n",
    "\n",
    "model_training_description[\"REGTYPE\"] = \"linreg\"\n",
    "\n",
    "n_pc_range = np.logspace(np.log10(3), np.log10(700), 20)\n",
    "n_pc_in, n_pc_out = np.meshgrid(n_pc_range, n_pc_range)\n",
    "n_pc_in = n_pc_in.flatten().astype(\"int\")\n",
    "n_pc_out = n_pc_out.flatten().astype(\"int\")"
   ]
  },
  {
   "cell_type": "code",
   "execution_count": null,
   "id": "a1f9557f",
   "metadata": {},
   "outputs": [],
   "source": [
    "from train_tune_pca import train_tune_pca\n",
    "pca, pca_targets, model = train_tune_pca(description, model_training_description, output_folder, \\\n",
    "                                                    n_pc_in=n_pc_in, n_pc_out=n_pc_out)\n"
   ]
  },
  {
   "cell_type": "code",
   "execution_count": null,
   "id": "e3c6b77c",
   "metadata": {},
   "outputs": [],
   "source": [
    "predict_save_pca(description, model_training_description, output_folder, pca, pca_targets, model, output_folder)\n",
    "predict_save_pca(description_iCESM, model_training_description, output_folder, pca, pca_targets, model, output_folder)\n",
    "predict_save_pca(description_GISS, model_training_description, output_folder, pca, pca_targets, model, output_folder)\n",
    "predict_save_pca(description_isoGSM, model_training_description, output_folder, pca, pca_targets, model, output_folder)\n",
    "predict_save_pca(description_ECHAM5, model_training_description, output_folder, pca, pca_targets, model, output_folder)"
   ]
  }
 ],
 "metadata": {
  "kernelspec": {
   "display_name": "Python 3 (ipykernel)",
   "language": "python",
   "name": "python3"
  },
  "language_info": {
   "codemirror_mode": {
    "name": "ipython",
    "version": 3
   },
   "file_extension": ".py",
   "mimetype": "text/x-python",
   "name": "python",
   "nbconvert_exporter": "python",
   "pygments_lexer": "ipython3",
   "version": "3.8.0"
  },
  "vscode": {
   "interpreter": {
    "hash": "90b409070de10f2c3c5a8c504ecede612c695480a2027d21529fbe1a33a534d8"
   }
  }
 },
 "nbformat": 4,
 "nbformat_minor": 5
}
